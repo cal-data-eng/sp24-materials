{
 "cells": [
  {
   "cell_type": "markdown",
   "id": "3efe537d-d1be-4b74-836c-1cff6c22ec1d",
   "metadata": {},
   "source": [
    "# Lecture 16: Imputation and Entity Resolution"
   ]
  },
  {
   "cell_type": "code",
   "execution_count": 1,
   "id": "72611649-0355-4860-ae39-da1365cbc2c1",
   "metadata": {},
   "outputs": [],
   "source": [
    "import numpy as np\n",
    "import pandas as pd\n",
    "import seaborn as sns\n",
    "import matplotlib.pyplot as plt\n",
    "import matplotlib as mpl\n",
    "\n",
    "import importlib\n",
    "importlib.reload(mpl); importlib.reload(plt); importlib.reload(sns)\n",
    "\n",
    "sns.reset_orig()\n",
    "sns.set(font_scale=1.5)\n",
    "%matplotlib inline\n",
    "%config SqlMagic.displaylimit = 100"
   ]
  },
  {
   "cell_type": "markdown",
   "id": "e4185fd4-20d4-403a-9088-619be1217763",
   "metadata": {},
   "source": [
    "# GNIS data"
   ]
  },
  {
   "cell_type": "markdown",
   "id": "2f8ce206-e924-42a0-8dd3-dab8c1c2541e",
   "metadata": {},
   "source": [
    "This is the GNIS dataset from the previous lecture. If you didn't load in the database, run the below cell before connecting."
   ]
  },
  {
   "cell_type": "code",
   "execution_count": 2,
   "id": "5d5a45fa-0636-4407-97fb-2d94b27df523",
   "metadata": {},
   "outputs": [
    {
     "name": "stdout",
     "output_type": "stream",
     "text": [
      " pg_terminate_backend \n",
      "----------------------\n",
      "(0 rows)\n",
      "\n",
      "DROP DATABASE\n",
      "CREATE DATABASE\n",
      "SET\n",
      "SET\n",
      "SET\n",
      "SET\n",
      "SET\n",
      " set_config \n",
      "------------\n",
      " \n",
      "(1 row)\n",
      "\n",
      "SET\n",
      "SET\n",
      "SET\n",
      "SET\n",
      "SET\n",
      "SET\n",
      "CREATE TABLE\n",
      "ALTER TABLE\n",
      "CREATE TABLE\n",
      "ALTER TABLE\n",
      "COPY 3195\n",
      "COPY 11533\n",
      "CREATE INDEX\n"
     ]
    }
   ],
   "source": [
    "!psql -h localhost -d gnis -c 'SELECT pg_terminate_backend(pg_stat_activity.pid) FROM pg_stat_activity WHERE datname = current_database() AND pid <> pg_backend_pid();'\n",
    "!psql -h localhost -c 'DROP DATABASE IF EXISTS gnis'\n",
    "!psql -h localhost -c 'CREATE DATABASE gnis' \n",
    "!psql -h localhost -d gnis -f ../lec14/data/gnis.sql"
   ]
  },
  {
   "cell_type": "code",
   "execution_count": 3,
   "id": "ca5713cc-39d6-4cda-8f6c-48e58683fd37",
   "metadata": {},
   "outputs": [
    {
     "name": "stdout",
     "output_type": "stream",
     "text": [
      "There's a new jupysql version available (0.10.10), you're running 0.10.0. To upgrade: pip install jupysql --upgrade\n",
      "Deploy Streamlit apps for free on Ploomber Cloud! Learn more: https://ploomber.io/s/signup\n"
     ]
    }
   ],
   "source": [
    "%reload_ext sql\n",
    "%sql postgresql://localhost:5432/gnis"
   ]
  },
  {
   "cell_type": "markdown",
   "id": "f8c367b2-3547-4d14-8961-0e624091b994",
   "metadata": {},
   "source": [
    "## Make a \"holey\" dataset"
   ]
  },
  {
   "cell_type": "code",
   "execution_count": 4,
   "id": "144f5ba8-713a-4f4c-b444-fb44834cdc78",
   "metadata": {},
   "outputs": [
    {
     "data": {
      "text/html": [
       "<span style=\"None\">Running query in &#x27;postgresql://localhost:5432/gnis&#x27;</span>"
      ],
      "text/plain": [
       "Running query in 'postgresql://localhost:5432/gnis'"
      ]
     },
     "metadata": {},
     "output_type": "display_data"
    },
    {
     "data": {
      "text/html": [
       "<span style=\"color: green\">1 rows affected.</span>"
      ],
      "text/plain": [
       "1 rows affected."
      ]
     },
     "metadata": {},
     "output_type": "display_data"
    },
    {
     "data": {
      "text/html": [
       "<table>\n",
       "    <thead>\n",
       "        <tr>\n",
       "            <th>setseed</th>\n",
       "        </tr>\n",
       "    </thead>\n",
       "    <tbody>\n",
       "        <tr>\n",
       "            <td></td>\n",
       "        </tr>\n",
       "    </tbody>\n",
       "</table>"
      ],
      "text/plain": [
       "+---------+\n",
       "| setseed |\n",
       "+---------+\n",
       "|         |\n",
       "+---------+"
      ]
     },
     "execution_count": 4,
     "metadata": {},
     "output_type": "execute_result"
    }
   ],
   "source": [
    "%sql SELECT setseed(0.12345);"
   ]
  },
  {
   "cell_type": "code",
   "execution_count": 5,
   "id": "4b5778e7-3493-482a-b2a1-ae9a51316221",
   "metadata": {},
   "outputs": [
    {
     "data": {
      "text/html": [
       "<span style=\"None\">Running query in &#x27;postgresql://localhost:5432/gnis&#x27;</span>"
      ],
      "text/plain": [
       "Running query in 'postgresql://localhost:5432/gnis'"
      ]
     },
     "metadata": {},
     "output_type": "display_data"
    },
    {
     "data": {
      "text/html": [
       "<span style=\"color: green\">11533 rows affected.</span>"
      ],
      "text/plain": [
       "11533 rows affected."
      ]
     },
     "metadata": {},
     "output_type": "display_data"
    },
    {
     "data": {
      "text/html": [
       "<span style=\"color: green\">1 rows affected.</span>"
      ],
      "text/plain": [
       "1 rows affected."
      ]
     },
     "metadata": {},
     "output_type": "display_data"
    },
    {
     "data": {
      "text/html": [
       "<table>\n",
       "    <thead>\n",
       "        <tr>\n",
       "            <th>?column?</th>\n",
       "        </tr>\n",
       "    </thead>\n",
       "    <tbody>\n",
       "        <tr>\n",
       "            <td>0.8755744385675887</td>\n",
       "        </tr>\n",
       "    </tbody>\n",
       "</table>"
      ],
      "text/plain": [
       "+--------------------+\n",
       "|      ?column?      |\n",
       "+--------------------+\n",
       "| 0.8755744385675887 |\n",
       "+--------------------+"
      ]
     },
     "execution_count": 5,
     "metadata": {},
     "output_type": "execute_result"
    }
   ],
   "source": [
    "%%sql\n",
    "DROP TABLE IF EXISTS holey CASCADE;\n",
    "CREATE TABLE holey AS \n",
    "SELECT feature_id, feature_name, feature_class, state_alpha, county_name, \n",
    "       prim_lat_dec, prim_long_dec, \n",
    "       CASE WHEN random() > 0.9 THEN NULL\n",
    "            ELSE elev_in_m\n",
    "        END AS elev_in_m\n",
    "  FROM national;\n",
    "SELECT count(elev_in_m)::float / count(*) FROM holey;"
   ]
  },
  {
   "cell_type": "code",
   "execution_count": 6,
   "id": "ff9602d3-7e71-45e4-8609-caa5192bbed3",
   "metadata": {},
   "outputs": [
    {
     "data": {
      "text/html": [
       "<span style=\"None\">Running query in &#x27;postgresql://localhost:5432/gnis&#x27;</span>"
      ],
      "text/plain": [
       "Running query in 'postgresql://localhost:5432/gnis'"
      ]
     },
     "metadata": {},
     "output_type": "display_data"
    },
    {
     "data": {
      "text/html": [
       "<span style=\"color: green\">11 rows affected.</span>"
      ],
      "text/plain": [
       "11 rows affected."
      ]
     },
     "metadata": {},
     "output_type": "display_data"
    },
    {
     "data": {
      "text/html": [
       "<table>\n",
       "    <thead>\n",
       "        <tr>\n",
       "            <th>feature_id</th>\n",
       "            <th>feature_name</th>\n",
       "            <th>feature_class</th>\n",
       "            <th>state_alpha</th>\n",
       "            <th>county_name</th>\n",
       "            <th>prim_lat_dec</th>\n",
       "            <th>prim_long_dec</th>\n",
       "            <th>elev_in_m</th>\n",
       "        </tr>\n",
       "    </thead>\n",
       "    <tbody>\n",
       "        <tr>\n",
       "            <td>322312</td>\n",
       "            <td>Saint Stephens Church</td>\n",
       "            <td>Church</td>\n",
       "            <td>GA</td>\n",
       "            <td>Lee</td>\n",
       "            <td>31.6590624</td>\n",
       "            <td>-84.0793506</td>\n",
       "            <td>None</td>\n",
       "        </tr>\n",
       "        <tr>\n",
       "            <td>343973</td>\n",
       "            <td>Hopewell Cemetery</td>\n",
       "            <td>Cemetery</td>\n",
       "            <td>GA</td>\n",
       "            <td>Colquitt</td>\n",
       "            <td>31.1069208</td>\n",
       "            <td>-83.7225542</td>\n",
       "            <td>84.0</td>\n",
       "        </tr>\n",
       "        <tr>\n",
       "            <td>810480</td>\n",
       "            <td>03S44E03ACA_01 Well</td>\n",
       "            <td>Well</td>\n",
       "            <td>MT</td>\n",
       "            <td>Rosebud</td>\n",
       "            <td>45.6083332</td>\n",
       "            <td>-106.2822366</td>\n",
       "            <td>None</td>\n",
       "        </tr>\n",
       "        <tr>\n",
       "            <td>814008</td>\n",
       "            <td>04N02E18ACAC01 Well</td>\n",
       "            <td>Well</td>\n",
       "            <td>MT</td>\n",
       "            <td>Broadwater</td>\n",
       "            <td>46.1021509</td>\n",
       "            <td>-111.5238582</td>\n",
       "            <td>None</td>\n",
       "        </tr>\n",
       "        <tr>\n",
       "            <td>976346</td>\n",
       "            <td>Glasby Creek</td>\n",
       "            <td>Stream</td>\n",
       "            <td>NY</td>\n",
       "            <td>St. Lawrence</td>\n",
       "            <td>44.0764516</td>\n",
       "            <td>-74.9201867</td>\n",
       "            <td>485.0</td>\n",
       "        </tr>\n",
       "        <tr>\n",
       "            <td>1138211</td>\n",
       "            <td>Black Rock</td>\n",
       "            <td>Lava</td>\n",
       "            <td>OR</td>\n",
       "            <td>Klamath</td>\n",
       "            <td>43.5162352</td>\n",
       "            <td>-121.8083604</td>\n",
       "            <td>1454.0</td>\n",
       "        </tr>\n",
       "        <tr>\n",
       "            <td>1517973</td>\n",
       "            <td>Columbia</td>\n",
       "            <td>Populated Place</td>\n",
       "            <td>WA</td>\n",
       "            <td>Whatcom</td>\n",
       "            <td>48.9670667</td>\n",
       "            <td>-122.162928</td>\n",
       "            <td>169.0</td>\n",
       "        </tr>\n",
       "        <tr>\n",
       "            <td>1564259</td>\n",
       "            <td>Eagle Rock</td>\n",
       "            <td>Pillar</td>\n",
       "            <td>WI</td>\n",
       "            <td>Vernon</td>\n",
       "            <td>43.4285876</td>\n",
       "            <td>-90.7787408</td>\n",
       "            <td>337.0</td>\n",
       "        </tr>\n",
       "        <tr>\n",
       "            <td>1896578</td>\n",
       "            <td>Shakes Village</td>\n",
       "            <td>Locale</td>\n",
       "            <td>AK</td>\n",
       "            <td>Wrangell</td>\n",
       "            <td>55.9666667</td>\n",
       "            <td>-132.2166667</td>\n",
       "            <td>372.0</td>\n",
       "        </tr>\n",
       "        <tr>\n",
       "            <td>1995508</td>\n",
       "            <td>Lozier Post Office (historical)</td>\n",
       "            <td>Post Office</td>\n",
       "            <td>IA</td>\n",
       "            <td>Woodbury</td>\n",
       "            <td>42.5472121</td>\n",
       "            <td>-95.9002918</td>\n",
       "            <td>405.0</td>\n",
       "        </tr>\n",
       "        <tr>\n",
       "            <td>2063124</td>\n",
       "            <td>Clark Hall</td>\n",
       "            <td>Building</td>\n",
       "            <td>DC</td>\n",
       "            <td>District of Columbia</td>\n",
       "            <td>38.9353888</td>\n",
       "            <td>-77.0894225</td>\n",
       "            <td>118.0</td>\n",
       "        </tr>\n",
       "    </tbody>\n",
       "</table>"
      ],
      "text/plain": [
       "+------------+---------------------------------+-----------------+-------------+----------------------+--------------+---------------+-----------+\n",
       "| feature_id |           feature_name          |  feature_class  | state_alpha |     county_name      | prim_lat_dec | prim_long_dec | elev_in_m |\n",
       "+------------+---------------------------------+-----------------+-------------+----------------------+--------------+---------------+-----------+\n",
       "|   322312   |      Saint Stephens Church      |      Church     |      GA     |         Lee          |  31.6590624  |  -84.0793506  |    None   |\n",
       "|   343973   |        Hopewell Cemetery        |     Cemetery    |      GA     |       Colquitt       |  31.1069208  |  -83.7225542  |    84.0   |\n",
       "|   810480   |       03S44E03ACA_01 Well       |       Well      |      MT     |       Rosebud        |  45.6083332  |  -106.2822366 |    None   |\n",
       "|   814008   |       04N02E18ACAC01 Well       |       Well      |      MT     |      Broadwater      |  46.1021509  |  -111.5238582 |    None   |\n",
       "|   976346   |           Glasby Creek          |      Stream     |      NY     |     St. Lawrence     |  44.0764516  |  -74.9201867  |   485.0   |\n",
       "|  1138211   |            Black Rock           |       Lava      |      OR     |       Klamath        |  43.5162352  |  -121.8083604 |   1454.0  |\n",
       "|  1517973   |             Columbia            | Populated Place |      WA     |       Whatcom        |  48.9670667  |  -122.162928  |   169.0   |\n",
       "|  1564259   |            Eagle Rock           |      Pillar     |      WI     |        Vernon        |  43.4285876  |  -90.7787408  |   337.0   |\n",
       "|  1896578   |          Shakes Village         |      Locale     |      AK     |       Wrangell       |  55.9666667  |  -132.2166667 |   372.0   |\n",
       "|  1995508   | Lozier Post Office (historical) |   Post Office   |      IA     |       Woodbury       |  42.5472121  |  -95.9002918  |   405.0   |\n",
       "|  2063124   |            Clark Hall           |     Building    |      DC     | District of Columbia |  38.9353888  |  -77.0894225  |   118.0   |\n",
       "+------------+---------------------------------+-----------------+-------------+----------------------+--------------+---------------+-----------+"
      ]
     },
     "execution_count": 6,
     "metadata": {},
     "output_type": "execute_result"
    }
   ],
   "source": [
    "%%sql\n",
    "SELECT * FROM holey TABLESAMPLE BERNOULLI(.1);"
   ]
  },
  {
   "cell_type": "markdown",
   "id": "d6767106-6a79-4518-9f91-54e7d1b248c5",
   "metadata": {},
   "source": [
    "## Schema 1. Default Value Imputation with SQL"
   ]
  },
  {
   "cell_type": "code",
   "execution_count": 7,
   "id": "98e4c278-19fc-4ada-ad3c-9f9793ce034b",
   "metadata": {},
   "outputs": [
    {
     "data": {
      "text/html": [
       "<span style=\"None\">Running query in &#x27;postgresql://localhost:5432/gnis&#x27;</span>"
      ],
      "text/plain": [
       "Running query in 'postgresql://localhost:5432/gnis'"
      ]
     },
     "metadata": {},
     "output_type": "display_data"
    },
    {
     "data": {
      "text/html": [
       "<span style=\"color: green\">10 rows affected.</span>"
      ],
      "text/plain": [
       "10 rows affected."
      ]
     },
     "metadata": {},
     "output_type": "display_data"
    },
    {
     "data": {
      "text/html": [
       "<table>\n",
       "    <thead>\n",
       "        <tr>\n",
       "            <th>feature_id</th>\n",
       "            <th>feature_name</th>\n",
       "            <th>feature_class</th>\n",
       "            <th>state_alpha</th>\n",
       "            <th>county_name</th>\n",
       "            <th>prim_lat_dec</th>\n",
       "            <th>prim_long_dec</th>\n",
       "            <th>elev_in_m</th>\n",
       "            <th>imputed_elev_in_m</th>\n",
       "        </tr>\n",
       "    </thead>\n",
       "    <tbody>\n",
       "        <tr>\n",
       "            <td>1230</td>\n",
       "            <td>Belmont Mountains</td>\n",
       "            <td>Range</td>\n",
       "            <td>AZ</td>\n",
       "            <td>Maricopa</td>\n",
       "            <td>33.642258</td>\n",
       "            <td>-112.9010129</td>\n",
       "            <td>931.0</td>\n",
       "            <td>931</td>\n",
       "        </tr>\n",
       "        <tr>\n",
       "            <td>1839</td>\n",
       "            <td>Bootlegger Saddle</td>\n",
       "            <td>Gap</td>\n",
       "            <td>AZ</td>\n",
       "            <td>Cochise</td>\n",
       "            <td>31.8931474</td>\n",
       "            <td>-109.2831176</td>\n",
       "            <td>2707.0</td>\n",
       "            <td>2707</td>\n",
       "        </tr>\n",
       "        <tr>\n",
       "            <td>2336</td>\n",
       "            <td>Cabeza Prieta Game Range</td>\n",
       "            <td>Park</td>\n",
       "            <td>AZ</td>\n",
       "            <td>Yuma</td>\n",
       "            <td>32.250056</td>\n",
       "            <td>-113.45074</td>\n",
       "            <td>275.0</td>\n",
       "            <td>275</td>\n",
       "        </tr>\n",
       "        <tr>\n",
       "            <td>2750</td>\n",
       "            <td>Chandler Springs</td>\n",
       "            <td>Spring</td>\n",
       "            <td>AZ</td>\n",
       "            <td>Navajo</td>\n",
       "            <td>35.3766788</td>\n",
       "            <td>-110.4754096</td>\n",
       "            <td>1685.0</td>\n",
       "            <td>1685</td>\n",
       "        </tr>\n",
       "        <tr>\n",
       "            <td>3032</td>\n",
       "            <td>Cline Well</td>\n",
       "            <td>Well</td>\n",
       "            <td>AZ</td>\n",
       "            <td>Cochise</td>\n",
       "            <td>31.9000849</td>\n",
       "            <td>-110.3428525</td>\n",
       "            <td>None</td>\n",
       "            <td>484</td>\n",
       "        </tr>\n",
       "        <tr>\n",
       "            <td>3039</td>\n",
       "            <td>Clover Tank</td>\n",
       "            <td>Reservoir</td>\n",
       "            <td>AZ</td>\n",
       "            <td>Gila</td>\n",
       "            <td>33.8509816</td>\n",
       "            <td>-110.2577249</td>\n",
       "            <td>1563.0</td>\n",
       "            <td>1563</td>\n",
       "        </tr>\n",
       "        <tr>\n",
       "            <td>3060</td>\n",
       "            <td>Coat Spring</td>\n",
       "            <td>Spring</td>\n",
       "            <td>AZ</td>\n",
       "            <td>Navajo</td>\n",
       "            <td>36.12678</td>\n",
       "            <td>-110.3330424</td>\n",
       "            <td>1926.0</td>\n",
       "            <td>1926</td>\n",
       "        </tr>\n",
       "        <tr>\n",
       "            <td>3143</td>\n",
       "            <td>Comar Spring</td>\n",
       "            <td>Spring</td>\n",
       "            <td>AZ</td>\n",
       "            <td>Navajo</td>\n",
       "            <td>35.5308428</td>\n",
       "            <td>-110.4162424</td>\n",
       "            <td>1732.0</td>\n",
       "            <td>1732</td>\n",
       "        </tr>\n",
       "        <tr>\n",
       "            <td>3333</td>\n",
       "            <td>Cottonwood Creek</td>\n",
       "            <td>Stream</td>\n",
       "            <td>AZ</td>\n",
       "            <td>Coconino</td>\n",
       "            <td>36.050817</td>\n",
       "            <td>-111.9865535</td>\n",
       "            <td>800.0</td>\n",
       "            <td>800</td>\n",
       "        </tr>\n",
       "        <tr>\n",
       "            <td>3342</td>\n",
       "            <td>Cottonwood Creek</td>\n",
       "            <td>Stream</td>\n",
       "            <td>AZ</td>\n",
       "            <td>Mohave</td>\n",
       "            <td>36.901931</td>\n",
       "            <td>-112.5632547</td>\n",
       "            <td>1389.0</td>\n",
       "            <td>1389</td>\n",
       "        </tr>\n",
       "    </tbody>\n",
       "</table>"
      ],
      "text/plain": [
       "+------------+--------------------------+---------------+-------------+-------------+--------------+---------------+-----------+-------------------+\n",
       "| feature_id |       feature_name       | feature_class | state_alpha | county_name | prim_lat_dec | prim_long_dec | elev_in_m | imputed_elev_in_m |\n",
       "+------------+--------------------------+---------------+-------------+-------------+--------------+---------------+-----------+-------------------+\n",
       "|    1230    |    Belmont Mountains     |     Range     |      AZ     |   Maricopa  |  33.642258   |  -112.9010129 |   931.0   |        931        |\n",
       "|    1839    |    Bootlegger Saddle     |      Gap      |      AZ     |   Cochise   |  31.8931474  |  -109.2831176 |   2707.0  |        2707       |\n",
       "|    2336    | Cabeza Prieta Game Range |      Park     |      AZ     |     Yuma    |  32.250056   |   -113.45074  |   275.0   |        275        |\n",
       "|    2750    |     Chandler Springs     |     Spring    |      AZ     |    Navajo   |  35.3766788  |  -110.4754096 |   1685.0  |        1685       |\n",
       "|    3032    |        Cline Well        |      Well     |      AZ     |   Cochise   |  31.9000849  |  -110.3428525 |    None   |        484        |\n",
       "|    3039    |       Clover Tank        |   Reservoir   |      AZ     |     Gila    |  33.8509816  |  -110.2577249 |   1563.0  |        1563       |\n",
       "|    3060    |       Coat Spring        |     Spring    |      AZ     |    Navajo   |   36.12678   |  -110.3330424 |   1926.0  |        1926       |\n",
       "|    3143    |       Comar Spring       |     Spring    |      AZ     |    Navajo   |  35.5308428  |  -110.4162424 |   1732.0  |        1732       |\n",
       "|    3333    |     Cottonwood Creek     |     Stream    |      AZ     |   Coconino  |  36.050817   |  -111.9865535 |   800.0   |        800        |\n",
       "|    3342    |     Cottonwood Creek     |     Stream    |      AZ     |    Mohave   |  36.901931   |  -112.5632547 |   1389.0  |        1389       |\n",
       "+------------+--------------------------+---------------+-------------+-------------+--------------+---------------+-----------+-------------------+"
      ]
     },
     "execution_count": 7,
     "metadata": {},
     "output_type": "execute_result"
    }
   ],
   "source": [
    "%%sql\n",
    "WITH elevavg AS (SELECT avg(elev_in_m) AS av_elev FROM holey)\n",
    "SELECT h.*, \n",
    "       CASE WHEN h.elev_in_m IS NOT NULL THEN h.elev_in_m::integer\n",
    "            ELSE e.av_elev::integer\n",
    "        END AS imputed_elev_in_m\n",
    "  FROM holey h, elevavg e\n",
    "LIMIT 10;"
   ]
  },
  {
   "cell_type": "markdown",
   "id": "a5a98ebd-2894-4442-ae2d-98a20b13a8e8",
   "metadata": {},
   "source": [
    "## Scheme 2. Correlation across columns"
   ]
  },
  {
   "cell_type": "code",
   "execution_count": 8,
   "id": "b4bade8c-1de4-42e8-a2e8-c3bede9cd04e",
   "metadata": {},
   "outputs": [
    {
     "data": {
      "text/html": [
       "<span style=\"None\">Running query in &#x27;postgresql://localhost:5432/gnis&#x27;</span>"
      ],
      "text/plain": [
       "Running query in 'postgresql://localhost:5432/gnis'"
      ]
     },
     "metadata": {},
     "output_type": "display_data"
    },
    {
     "data": {
      "text/html": [
       "<span style=\"color: green\">1 rows affected.</span>"
      ],
      "text/plain": [
       "1 rows affected."
      ]
     },
     "metadata": {},
     "output_type": "display_data"
    },
    {
     "data": {
      "text/plain": [
       "(-10.314179001097786, -477.9603219322606)"
      ]
     },
     "execution_count": 8,
     "metadata": {},
     "output_type": "execute_result"
    }
   ],
   "source": [
    "# Training is an aggregate function\n",
    "# Here we'll train the model in SQL just for fun\n",
    "result = %sql SELECT regr_slope(elev_in_m, prim_long_dec), \\\n",
    "               regr_intercept(elev_in_m, prim_long_dec) FROM holey\n",
    "slope, intercept = result[0]\n",
    "slope, intercept"
   ]
  },
  {
   "cell_type": "code",
   "execution_count": 9,
   "id": "7400ba87-2c1e-4de6-9e15-1191d395c0c6",
   "metadata": {},
   "outputs": [
    {
     "data": {
      "text/html": [
       "<span style=\"None\">Running query in &#x27;postgresql://localhost:5432/gnis&#x27;</span>"
      ],
      "text/plain": [
       "Running query in 'postgresql://localhost:5432/gnis'"
      ]
     },
     "metadata": {},
     "output_type": "display_data"
    },
    {
     "data": {
      "text/html": [
       "<span style=\"color: green\">10834 rows affected.</span>"
      ],
      "text/plain": [
       "10834 rows affected."
      ]
     },
     "metadata": {},
     "output_type": "display_data"
    },
    {
     "data": {
      "text/html": [
       "<table>\n",
       "    <thead>\n",
       "        <tr>\n",
       "            <th>prim_long_dec</th>\n",
       "            <th>elev_in_m</th>\n",
       "        </tr>\n",
       "    </thead>\n",
       "    <tbody>\n",
       "        <tr>\n",
       "            <td>-121.8142546</td>\n",
       "            <td>469.0</td>\n",
       "        </tr>\n",
       "        <tr>\n",
       "            <td>-121.8099602</td>\n",
       "            <td>None</td>\n",
       "        </tr>\n",
       "        <tr>\n",
       "            <td>-121.8083604</td>\n",
       "            <td>1454.0</td>\n",
       "        </tr>\n",
       "        <tr>\n",
       "            <td>-121.8056805</td>\n",
       "            <td>None</td>\n",
       "        </tr>\n",
       "        <tr>\n",
       "            <td>-121.803556</td>\n",
       "            <td>1614.0</td>\n",
       "        </tr>\n",
       "        <tr>\n",
       "            <td>-121.7974945</td>\n",
       "            <td>1264.0</td>\n",
       "        </tr>\n",
       "        <tr>\n",
       "            <td>-121.7960906</td>\n",
       "            <td>219.0</td>\n",
       "        </tr>\n",
       "        <tr>\n",
       "            <td>-121.784236</td>\n",
       "            <td>1684.0</td>\n",
       "        </tr>\n",
       "        <tr>\n",
       "            <td>-121.7832846</td>\n",
       "            <td>2.0</td>\n",
       "        </tr>\n",
       "        <tr>\n",
       "            <td>-121.7785678</td>\n",
       "            <td>46.0</td>\n",
       "        </tr>\n",
       "        <tr>\n",
       "            <td>-121.7732801</td>\n",
       "            <td>824.0</td>\n",
       "        </tr>\n",
       "        <tr>\n",
       "            <td>-121.7657954</td>\n",
       "            <td>None</td>\n",
       "        </tr>\n",
       "        <tr>\n",
       "            <td>-121.7621726</td>\n",
       "            <td>12.0</td>\n",
       "        </tr>\n",
       "        <tr>\n",
       "            <td>-121.7586496</td>\n",
       "            <td>1270.0</td>\n",
       "        </tr>\n",
       "        <tr>\n",
       "            <td>-121.7462534</td>\n",
       "            <td>None</td>\n",
       "        </tr>\n",
       "        <tr>\n",
       "            <td>-121.7443169</td>\n",
       "            <td>1246.0</td>\n",
       "        </tr>\n",
       "        <tr>\n",
       "            <td>-121.7407828</td>\n",
       "            <td>16.0</td>\n",
       "        </tr>\n",
       "        <tr>\n",
       "            <td>-121.7278619</td>\n",
       "            <td>10.0</td>\n",
       "        </tr>\n",
       "        <tr>\n",
       "            <td>-121.7193396</td>\n",
       "            <td>1105.0</td>\n",
       "        </tr>\n",
       "        <tr>\n",
       "            <td>-121.7138302</td>\n",
       "            <td>955.0</td>\n",
       "        </tr>\n",
       "        <tr>\n",
       "            <td>-121.7077308</td>\n",
       "            <td>29.0</td>\n",
       "        </tr>\n",
       "        <tr>\n",
       "            <td>-121.6927307</td>\n",
       "            <td>22.0</td>\n",
       "        </tr>\n",
       "        <tr>\n",
       "            <td>-121.6925695</td>\n",
       "            <td>None</td>\n",
       "        </tr>\n",
       "        <tr>\n",
       "            <td>-121.6765179</td>\n",
       "            <td>139.0</td>\n",
       "        </tr>\n",
       "        <tr>\n",
       "            <td>-121.6610813</td>\n",
       "            <td>24.0</td>\n",
       "        </tr>\n",
       "        <tr>\n",
       "            <td>-121.655634</td>\n",
       "            <td>23.0</td>\n",
       "        </tr>\n",
       "        <tr>\n",
       "            <td>-121.6475753</td>\n",
       "            <td>1529.0</td>\n",
       "        </tr>\n",
       "        <tr>\n",
       "            <td>-121.646142</td>\n",
       "            <td>17.0</td>\n",
       "        </tr>\n",
       "        <tr>\n",
       "            <td>-121.6345434</td>\n",
       "            <td>922.0</td>\n",
       "        </tr>\n",
       "        <tr>\n",
       "            <td>-121.6306457</td>\n",
       "            <td>732.0</td>\n",
       "        </tr>\n",
       "        <tr>\n",
       "            <td>-121.6277622</td>\n",
       "            <td>1583.0</td>\n",
       "        </tr>\n",
       "        <tr>\n",
       "            <td>-121.6206122</td>\n",
       "            <td>827.0</td>\n",
       "        </tr>\n",
       "        <tr>\n",
       "            <td>-121.6169931</td>\n",
       "            <td>2100.0</td>\n",
       "        </tr>\n",
       "        <tr>\n",
       "            <td>-121.6138336</td>\n",
       "            <td>33.0</td>\n",
       "        </tr>\n",
       "        <tr>\n",
       "            <td>-121.6070447</td>\n",
       "            <td>437.0</td>\n",
       "        </tr>\n",
       "        <tr>\n",
       "            <td>-121.6057768</td>\n",
       "            <td>None</td>\n",
       "        </tr>\n",
       "        <tr>\n",
       "            <td>-121.5972783</td>\n",
       "            <td>1329.0</td>\n",
       "        </tr>\n",
       "        <tr>\n",
       "            <td>-121.5918903</td>\n",
       "            <td>751.0</td>\n",
       "        </tr>\n",
       "        <tr>\n",
       "            <td>-121.5869579</td>\n",
       "            <td>74.0</td>\n",
       "        </tr>\n",
       "        <tr>\n",
       "            <td>-121.5816841</td>\n",
       "            <td>1295.0</td>\n",
       "        </tr>\n",
       "        <tr>\n",
       "            <td>-121.569942</td>\n",
       "            <td>70.0</td>\n",
       "        </tr>\n",
       "        <tr>\n",
       "            <td>-121.5628896</td>\n",
       "            <td>64.0</td>\n",
       "        </tr>\n",
       "        <tr>\n",
       "            <td>-121.5595339</td>\n",
       "            <td>717.0</td>\n",
       "        </tr>\n",
       "        <tr>\n",
       "            <td>-121.5594774</td>\n",
       "            <td>1492.0</td>\n",
       "        </tr>\n",
       "        <tr>\n",
       "            <td>-121.5384738</td>\n",
       "            <td>1365.0</td>\n",
       "        </tr>\n",
       "        <tr>\n",
       "            <td>-121.5352196</td>\n",
       "            <td>70.0</td>\n",
       "        </tr>\n",
       "        <tr>\n",
       "            <td>-121.5321743</td>\n",
       "            <td>0.0</td>\n",
       "        </tr>\n",
       "        <tr>\n",
       "            <td>-121.5310673</td>\n",
       "            <td>7.0</td>\n",
       "        </tr>\n",
       "        <tr>\n",
       "            <td>-121.5291277</td>\n",
       "            <td>1311.0</td>\n",
       "        </tr>\n",
       "        <tr>\n",
       "            <td>-121.5277915</td>\n",
       "            <td>171.0</td>\n",
       "        </tr>\n",
       "        <tr>\n",
       "            <td>-121.5199681</td>\n",
       "            <td>585.0</td>\n",
       "        </tr>\n",
       "        <tr>\n",
       "            <td>-121.5194366</td>\n",
       "            <td>1234.0</td>\n",
       "        </tr>\n",
       "        <tr>\n",
       "            <td>-121.4947951</td>\n",
       "            <td>1391.0</td>\n",
       "        </tr>\n",
       "        <tr>\n",
       "            <td>-121.4941036</td>\n",
       "            <td>636.0</td>\n",
       "        </tr>\n",
       "        <tr>\n",
       "            <td>-121.4872953</td>\n",
       "            <td>None</td>\n",
       "        </tr>\n",
       "        <tr>\n",
       "            <td>-121.470876</td>\n",
       "            <td>1867.0</td>\n",
       "        </tr>\n",
       "        <tr>\n",
       "            <td>-121.4677456</td>\n",
       "            <td>275.0</td>\n",
       "        </tr>\n",
       "        <tr>\n",
       "            <td>-121.467718</td>\n",
       "            <td>1926.0</td>\n",
       "        </tr>\n",
       "        <tr>\n",
       "            <td>-121.4643985</td>\n",
       "            <td>5.0</td>\n",
       "        </tr>\n",
       "        <tr>\n",
       "            <td>-121.4560946</td>\n",
       "            <td>2240.0</td>\n",
       "        </tr>\n",
       "        <tr>\n",
       "            <td>-121.4521764</td>\n",
       "            <td>9.0</td>\n",
       "        </tr>\n",
       "        <tr>\n",
       "            <td>-121.4457872</td>\n",
       "            <td>8.0</td>\n",
       "        </tr>\n",
       "        <tr>\n",
       "            <td>-121.4439994</td>\n",
       "            <td>756.0</td>\n",
       "        </tr>\n",
       "        <tr>\n",
       "            <td>-121.4399537</td>\n",
       "            <td>11.0</td>\n",
       "        </tr>\n",
       "        <tr>\n",
       "            <td>-121.4374418</td>\n",
       "            <td>None</td>\n",
       "        </tr>\n",
       "        <tr>\n",
       "            <td>-121.4333533</td>\n",
       "            <td>7.0</td>\n",
       "        </tr>\n",
       "        <tr>\n",
       "            <td>-121.432851</td>\n",
       "            <td>1412.0</td>\n",
       "        </tr>\n",
       "        <tr>\n",
       "            <td>-121.4297958</td>\n",
       "            <td>849.0</td>\n",
       "        </tr>\n",
       "        <tr>\n",
       "            <td>-121.4282363</td>\n",
       "            <td>1668.0</td>\n",
       "        </tr>\n",
       "        <tr>\n",
       "            <td>-121.4261207</td>\n",
       "            <td>13.0</td>\n",
       "        </tr>\n",
       "        <tr>\n",
       "            <td>-121.4229713</td>\n",
       "            <td>8.0</td>\n",
       "        </tr>\n",
       "        <tr>\n",
       "            <td>-121.3968582</td>\n",
       "            <td>86.0</td>\n",
       "        </tr>\n",
       "        <tr>\n",
       "            <td>-121.3899612</td>\n",
       "            <td>275.0</td>\n",
       "        </tr>\n",
       "        <tr>\n",
       "            <td>-121.3894342</td>\n",
       "            <td>1339.0</td>\n",
       "        </tr>\n",
       "        <tr>\n",
       "            <td>-121.3852306</td>\n",
       "            <td>35.0</td>\n",
       "        </tr>\n",
       "        <tr>\n",
       "            <td>-121.3843939</td>\n",
       "            <td>4.0</td>\n",
       "        </tr>\n",
       "        <tr>\n",
       "            <td>-121.3824023</td>\n",
       "            <td>None</td>\n",
       "        </tr>\n",
       "        <tr>\n",
       "            <td>-121.3513615</td>\n",
       "            <td>None</td>\n",
       "        </tr>\n",
       "        <tr>\n",
       "            <td>-121.3511009</td>\n",
       "            <td>1266.0</td>\n",
       "        </tr>\n",
       "        <tr>\n",
       "            <td>-121.3476626</td>\n",
       "            <td>96.0</td>\n",
       "        </tr>\n",
       "        <tr>\n",
       "            <td>-121.3428565</td>\n",
       "            <td>None</td>\n",
       "        </tr>\n",
       "        <tr>\n",
       "            <td>-121.3313889</td>\n",
       "            <td>15.0</td>\n",
       "        </tr>\n",
       "        <tr>\n",
       "            <td>-121.3238398</td>\n",
       "            <td>None</td>\n",
       "        </tr>\n",
       "        <tr>\n",
       "            <td>-121.318205</td>\n",
       "            <td>4.0</td>\n",
       "        </tr>\n",
       "        <tr>\n",
       "            <td>-121.3137741</td>\n",
       "            <td>620.0</td>\n",
       "        </tr>\n",
       "        <tr>\n",
       "            <td>-121.312725</td>\n",
       "            <td>4.0</td>\n",
       "        </tr>\n",
       "        <tr>\n",
       "            <td>-121.3060614</td>\n",
       "            <td>28.0</td>\n",
       "        </tr>\n",
       "        <tr>\n",
       "            <td>-121.3020481</td>\n",
       "            <td>536.0</td>\n",
       "        </tr>\n",
       "        <tr>\n",
       "            <td>-121.2991363</td>\n",
       "            <td>None</td>\n",
       "        </tr>\n",
       "        <tr>\n",
       "            <td>-121.2991171</td>\n",
       "            <td>50.0</td>\n",
       "        </tr>\n",
       "        <tr>\n",
       "            <td>-121.292065</td>\n",
       "            <td>13.0</td>\n",
       "        </tr>\n",
       "        <tr>\n",
       "            <td>-121.2920342</td>\n",
       "            <td>None</td>\n",
       "        </tr>\n",
       "        <tr>\n",
       "            <td>-121.2909558</td>\n",
       "            <td>51.0</td>\n",
       "        </tr>\n",
       "        <tr>\n",
       "            <td>-121.2891124</td>\n",
       "            <td>4.0</td>\n",
       "        </tr>\n",
       "        <tr>\n",
       "            <td>-121.2868943</td>\n",
       "            <td>30.0</td>\n",
       "        </tr>\n",
       "        <tr>\n",
       "            <td>-121.2771714</td>\n",
       "            <td>30.0</td>\n",
       "        </tr>\n",
       "        <tr>\n",
       "            <td>-121.2747134</td>\n",
       "            <td>None</td>\n",
       "        </tr>\n",
       "        <tr>\n",
       "            <td>-121.2721479</td>\n",
       "            <td>115.0</td>\n",
       "        </tr>\n",
       "        <tr>\n",
       "            <td>-121.2697945</td>\n",
       "            <td>36.0</td>\n",
       "        </tr>\n",
       "        <tr>\n",
       "            <td>-121.2659149</td>\n",
       "            <td>928.0</td>\n",
       "        </tr>\n",
       "    </tbody>\n",
       "</table>\n",
       "<span style=\"font-style:italic;text-align:center;\">Truncated to <a href=\"https://jupysql.ploomber.io/en/latest/api/configuration.html#displaylimit\">displaylimit</a> of 100.</span>"
      ],
      "text/plain": [
       "+---------------+-----------+\n",
       "| prim_long_dec | elev_in_m |\n",
       "+---------------+-----------+\n",
       "|  -121.8142546 |   469.0   |\n",
       "|  -121.8099602 |    None   |\n",
       "|  -121.8083604 |   1454.0  |\n",
       "|  -121.8056805 |    None   |\n",
       "|  -121.803556  |   1614.0  |\n",
       "|  -121.7974945 |   1264.0  |\n",
       "|  -121.7960906 |   219.0   |\n",
       "|  -121.784236  |   1684.0  |\n",
       "|  -121.7832846 |    2.0    |\n",
       "|  -121.7785678 |    46.0   |\n",
       "|  -121.7732801 |   824.0   |\n",
       "|  -121.7657954 |    None   |\n",
       "|  -121.7621726 |    12.0   |\n",
       "|  -121.7586496 |   1270.0  |\n",
       "|  -121.7462534 |    None   |\n",
       "|  -121.7443169 |   1246.0  |\n",
       "|  -121.7407828 |    16.0   |\n",
       "|  -121.7278619 |    10.0   |\n",
       "|  -121.7193396 |   1105.0  |\n",
       "|  -121.7138302 |   955.0   |\n",
       "|  -121.7077308 |    29.0   |\n",
       "|  -121.6927307 |    22.0   |\n",
       "|  -121.6925695 |    None   |\n",
       "|  -121.6765179 |   139.0   |\n",
       "|  -121.6610813 |    24.0   |\n",
       "|  -121.655634  |    23.0   |\n",
       "|  -121.6475753 |   1529.0  |\n",
       "|  -121.646142  |    17.0   |\n",
       "|  -121.6345434 |   922.0   |\n",
       "|  -121.6306457 |   732.0   |\n",
       "|  -121.6277622 |   1583.0  |\n",
       "|  -121.6206122 |   827.0   |\n",
       "|  -121.6169931 |   2100.0  |\n",
       "|  -121.6138336 |    33.0   |\n",
       "|  -121.6070447 |   437.0   |\n",
       "|  -121.6057768 |    None   |\n",
       "|  -121.5972783 |   1329.0  |\n",
       "|  -121.5918903 |   751.0   |\n",
       "|  -121.5869579 |    74.0   |\n",
       "|  -121.5816841 |   1295.0  |\n",
       "|  -121.569942  |    70.0   |\n",
       "|  -121.5628896 |    64.0   |\n",
       "|  -121.5595339 |   717.0   |\n",
       "|  -121.5594774 |   1492.0  |\n",
       "|  -121.5384738 |   1365.0  |\n",
       "|  -121.5352196 |    70.0   |\n",
       "|  -121.5321743 |    0.0    |\n",
       "|  -121.5310673 |    7.0    |\n",
       "|  -121.5291277 |   1311.0  |\n",
       "|  -121.5277915 |   171.0   |\n",
       "|  -121.5199681 |   585.0   |\n",
       "|  -121.5194366 |   1234.0  |\n",
       "|  -121.4947951 |   1391.0  |\n",
       "|  -121.4941036 |   636.0   |\n",
       "|  -121.4872953 |    None   |\n",
       "|  -121.470876  |   1867.0  |\n",
       "|  -121.4677456 |   275.0   |\n",
       "|  -121.467718  |   1926.0  |\n",
       "|  -121.4643985 |    5.0    |\n",
       "|  -121.4560946 |   2240.0  |\n",
       "|  -121.4521764 |    9.0    |\n",
       "|  -121.4457872 |    8.0    |\n",
       "|  -121.4439994 |   756.0   |\n",
       "|  -121.4399537 |    11.0   |\n",
       "|  -121.4374418 |    None   |\n",
       "|  -121.4333533 |    7.0    |\n",
       "|  -121.432851  |   1412.0  |\n",
       "|  -121.4297958 |   849.0   |\n",
       "|  -121.4282363 |   1668.0  |\n",
       "|  -121.4261207 |    13.0   |\n",
       "|  -121.4229713 |    8.0    |\n",
       "|  -121.3968582 |    86.0   |\n",
       "|  -121.3899612 |   275.0   |\n",
       "|  -121.3894342 |   1339.0  |\n",
       "|  -121.3852306 |    35.0   |\n",
       "|  -121.3843939 |    4.0    |\n",
       "|  -121.3824023 |    None   |\n",
       "|  -121.3513615 |    None   |\n",
       "|  -121.3511009 |   1266.0  |\n",
       "|  -121.3476626 |    96.0   |\n",
       "|  -121.3428565 |    None   |\n",
       "|  -121.3313889 |    15.0   |\n",
       "|  -121.3238398 |    None   |\n",
       "|  -121.318205  |    4.0    |\n",
       "|  -121.3137741 |   620.0   |\n",
       "|  -121.312725  |    4.0    |\n",
       "|  -121.3060614 |    28.0   |\n",
       "|  -121.3020481 |   536.0   |\n",
       "|  -121.2991363 |    None   |\n",
       "|  -121.2991171 |    50.0   |\n",
       "|  -121.292065  |    13.0   |\n",
       "|  -121.2920342 |    None   |\n",
       "|  -121.2909558 |    51.0   |\n",
       "|  -121.2891124 |    4.0    |\n",
       "|  -121.2868943 |    30.0   |\n",
       "|  -121.2771714 |    30.0   |\n",
       "|  -121.2747134 |    None   |\n",
       "|  -121.2721479 |   115.0   |\n",
       "|  -121.2697945 |    36.0   |\n",
       "|  -121.2659149 |   928.0   |\n",
       "+---------------+-----------+\n",
       "Truncated to displaylimit of 100."
      ]
     },
     "execution_count": 9,
     "metadata": {},
     "output_type": "execute_result"
    }
   ],
   "source": [
    "%%sql\n",
    "SELECT prim_long_dec, elev_in_m\n",
    "FROM holey\n",
    "WHERE prim_long_dec >= -122\n",
    "ORDER BY prim_long_dec\n",
    "OFFSET 40;"
   ]
  },
  {
   "cell_type": "code",
   "execution_count": 10,
   "id": "6f4ab5f6-2668-48a8-bac3-d9b472b9f111",
   "metadata": {},
   "outputs": [
    {
     "data": {
      "text/html": [
       "<span style=\"None\">Running query in &#x27;postgresql://localhost:5432/gnis&#x27;</span>"
      ],
      "text/plain": [
       "Running query in 'postgresql://localhost:5432/gnis'"
      ]
     },
     "metadata": {},
     "output_type": "display_data"
    },
    {
     "data": {
      "text/html": [
       "<span style=\"color: green\">10 rows affected.</span>"
      ],
      "text/plain": [
       "10 rows affected."
      ]
     },
     "metadata": {},
     "output_type": "display_data"
    },
    {
     "data": {
      "text/html": [
       "<table>\n",
       "    <thead>\n",
       "        <tr>\n",
       "            <th>feature_id</th>\n",
       "            <th>feature_name</th>\n",
       "            <th>feature_class</th>\n",
       "            <th>state_alpha</th>\n",
       "            <th>county_name</th>\n",
       "            <th>prim_lat_dec</th>\n",
       "            <th>prim_long_dec</th>\n",
       "            <th>elev_in_m</th>\n",
       "            <th>imputed_elev_in_m</th>\n",
       "        </tr>\n",
       "    </thead>\n",
       "    <tbody>\n",
       "        <tr>\n",
       "            <td>1230</td>\n",
       "            <td>Belmont Mountains</td>\n",
       "            <td>Range</td>\n",
       "            <td>AZ</td>\n",
       "            <td>Maricopa</td>\n",
       "            <td>33.642258</td>\n",
       "            <td>-112.9010129</td>\n",
       "            <td>931.0</td>\n",
       "            <td>931</td>\n",
       "        </tr>\n",
       "        <tr>\n",
       "            <td>1839</td>\n",
       "            <td>Bootlegger Saddle</td>\n",
       "            <td>Gap</td>\n",
       "            <td>AZ</td>\n",
       "            <td>Cochise</td>\n",
       "            <td>31.8931474</td>\n",
       "            <td>-109.2831176</td>\n",
       "            <td>2707.0</td>\n",
       "            <td>2707</td>\n",
       "        </tr>\n",
       "        <tr>\n",
       "            <td>2336</td>\n",
       "            <td>Cabeza Prieta Game Range</td>\n",
       "            <td>Park</td>\n",
       "            <td>AZ</td>\n",
       "            <td>Yuma</td>\n",
       "            <td>32.250056</td>\n",
       "            <td>-113.45074</td>\n",
       "            <td>275.0</td>\n",
       "            <td>275</td>\n",
       "        </tr>\n",
       "        <tr>\n",
       "            <td>2750</td>\n",
       "            <td>Chandler Springs</td>\n",
       "            <td>Spring</td>\n",
       "            <td>AZ</td>\n",
       "            <td>Navajo</td>\n",
       "            <td>35.3766788</td>\n",
       "            <td>-110.4754096</td>\n",
       "            <td>1685.0</td>\n",
       "            <td>1685</td>\n",
       "        </tr>\n",
       "        <tr>\n",
       "            <td>3032</td>\n",
       "            <td>Cline Well</td>\n",
       "            <td>Well</td>\n",
       "            <td>AZ</td>\n",
       "            <td>Cochise</td>\n",
       "            <td>31.9000849</td>\n",
       "            <td>-110.3428525</td>\n",
       "            <td>None</td>\n",
       "            <td>660</td>\n",
       "        </tr>\n",
       "        <tr>\n",
       "            <td>3039</td>\n",
       "            <td>Clover Tank</td>\n",
       "            <td>Reservoir</td>\n",
       "            <td>AZ</td>\n",
       "            <td>Gila</td>\n",
       "            <td>33.8509816</td>\n",
       "            <td>-110.2577249</td>\n",
       "            <td>1563.0</td>\n",
       "            <td>1563</td>\n",
       "        </tr>\n",
       "        <tr>\n",
       "            <td>3060</td>\n",
       "            <td>Coat Spring</td>\n",
       "            <td>Spring</td>\n",
       "            <td>AZ</td>\n",
       "            <td>Navajo</td>\n",
       "            <td>36.12678</td>\n",
       "            <td>-110.3330424</td>\n",
       "            <td>1926.0</td>\n",
       "            <td>1926</td>\n",
       "        </tr>\n",
       "        <tr>\n",
       "            <td>3143</td>\n",
       "            <td>Comar Spring</td>\n",
       "            <td>Spring</td>\n",
       "            <td>AZ</td>\n",
       "            <td>Navajo</td>\n",
       "            <td>35.5308428</td>\n",
       "            <td>-110.4162424</td>\n",
       "            <td>1732.0</td>\n",
       "            <td>1732</td>\n",
       "        </tr>\n",
       "        <tr>\n",
       "            <td>3333</td>\n",
       "            <td>Cottonwood Creek</td>\n",
       "            <td>Stream</td>\n",
       "            <td>AZ</td>\n",
       "            <td>Coconino</td>\n",
       "            <td>36.050817</td>\n",
       "            <td>-111.9865535</td>\n",
       "            <td>800.0</td>\n",
       "            <td>800</td>\n",
       "        </tr>\n",
       "        <tr>\n",
       "            <td>3342</td>\n",
       "            <td>Cottonwood Creek</td>\n",
       "            <td>Stream</td>\n",
       "            <td>AZ</td>\n",
       "            <td>Mohave</td>\n",
       "            <td>36.901931</td>\n",
       "            <td>-112.5632547</td>\n",
       "            <td>1389.0</td>\n",
       "            <td>1389</td>\n",
       "        </tr>\n",
       "    </tbody>\n",
       "</table>"
      ],
      "text/plain": [
       "+------------+--------------------------+---------------+-------------+-------------+--------------+---------------+-----------+-------------------+\n",
       "| feature_id |       feature_name       | feature_class | state_alpha | county_name | prim_lat_dec | prim_long_dec | elev_in_m | imputed_elev_in_m |\n",
       "+------------+--------------------------+---------------+-------------+-------------+--------------+---------------+-----------+-------------------+\n",
       "|    1230    |    Belmont Mountains     |     Range     |      AZ     |   Maricopa  |  33.642258   |  -112.9010129 |   931.0   |        931        |\n",
       "|    1839    |    Bootlegger Saddle     |      Gap      |      AZ     |   Cochise   |  31.8931474  |  -109.2831176 |   2707.0  |        2707       |\n",
       "|    2336    | Cabeza Prieta Game Range |      Park     |      AZ     |     Yuma    |  32.250056   |   -113.45074  |   275.0   |        275        |\n",
       "|    2750    |     Chandler Springs     |     Spring    |      AZ     |    Navajo   |  35.3766788  |  -110.4754096 |   1685.0  |        1685       |\n",
       "|    3032    |        Cline Well        |      Well     |      AZ     |   Cochise   |  31.9000849  |  -110.3428525 |    None   |        660        |\n",
       "|    3039    |       Clover Tank        |   Reservoir   |      AZ     |     Gila    |  33.8509816  |  -110.2577249 |   1563.0  |        1563       |\n",
       "|    3060    |       Coat Spring        |     Spring    |      AZ     |    Navajo   |   36.12678   |  -110.3330424 |   1926.0  |        1926       |\n",
       "|    3143    |       Comar Spring       |     Spring    |      AZ     |    Navajo   |  35.5308428  |  -110.4162424 |   1732.0  |        1732       |\n",
       "|    3333    |     Cottonwood Creek     |     Stream    |      AZ     |   Coconino  |  36.050817   |  -111.9865535 |   800.0   |        800        |\n",
       "|    3342    |     Cottonwood Creek     |     Stream    |      AZ     |    Mohave   |  36.901931   |  -112.5632547 |   1389.0  |        1389       |\n",
       "+------------+--------------------------+---------------+-------------+-------------+--------------+---------------+-----------+-------------------+"
      ]
     },
     "execution_count": 10,
     "metadata": {},
     "output_type": "execute_result"
    }
   ],
   "source": [
    "%%sql\n",
    "SELECT *, \n",
    "       CASE WHEN elev_in_m IS NOT NULL THEN elev_in_m::integer\n",
    "            ELSE ({{slope}}*prim_long_dec + {{intercept}})::integer\n",
    "        END AS imputed_elev_in_m\n",
    "  FROM holey\n",
    "LIMIT 10;"
   ]
  },
  {
   "cell_type": "markdown",
   "id": "4066fbd1-901e-4188-8c22-f2fd8fdb4bd5",
   "metadata": {},
   "source": [
    "## Scheme 3. General model-based interpolation\n",
    "\n",
    "We won't show the demo; check slides for the general idea."
   ]
  },
  {
   "cell_type": "markdown",
   "id": "0094baa7-3d6f-47f7-a956-7c024a0dad4b",
   "metadata": {},
   "source": [
    "## Scheme 4. [simple] Correlation across ordered rows"
   ]
  },
  {
   "cell_type": "code",
   "execution_count": 11,
   "id": "9380c86b-88dd-4a7f-be40-2e053e85635b",
   "metadata": {},
   "outputs": [
    {
     "data": {
      "text/html": [
       "<span style=\"None\">Running query in &#x27;postgresql://localhost:5432/gnis&#x27;</span>"
      ],
      "text/plain": [
       "Running query in 'postgresql://localhost:5432/gnis'"
      ]
     },
     "metadata": {},
     "output_type": "display_data"
    },
    {
     "data": {
      "text/html": [
       "<span style=\"color: green\">12 rows affected.</span>"
      ],
      "text/plain": [
       "12 rows affected."
      ]
     },
     "metadata": {},
     "output_type": "display_data"
    },
    {
     "data": {
      "text/html": [
       "<table>\n",
       "    <thead>\n",
       "        <tr>\n",
       "            <th>feature_id</th>\n",
       "            <th>elev_in_m</th>\n",
       "            <th>imputed_elev_in_m</th>\n",
       "        </tr>\n",
       "    </thead>\n",
       "    <tbody>\n",
       "        <tr>\n",
       "            <td>48638</td>\n",
       "            <td>46.0</td>\n",
       "            <td>46.0</td>\n",
       "        </tr>\n",
       "        <tr>\n",
       "            <td>49192</td>\n",
       "            <td>401.0</td>\n",
       "            <td>401.0</td>\n",
       "        </tr>\n",
       "        <tr>\n",
       "            <td>49214</td>\n",
       "            <td>194.0</td>\n",
       "            <td>194.0</td>\n",
       "        </tr>\n",
       "        <tr>\n",
       "            <td>49350</td>\n",
       "            <td>None</td>\n",
       "            <td>194.0</td>\n",
       "        </tr>\n",
       "        <tr>\n",
       "            <td>49578</td>\n",
       "            <td>None</td>\n",
       "            <td>None</td>\n",
       "        </tr>\n",
       "        <tr>\n",
       "            <td>49802</td>\n",
       "            <td>47.0</td>\n",
       "            <td>47.0</td>\n",
       "        </tr>\n",
       "        <tr>\n",
       "            <td>49925</td>\n",
       "            <td>111.0</td>\n",
       "            <td>111.0</td>\n",
       "        </tr>\n",
       "        <tr>\n",
       "            <td>50059</td>\n",
       "            <td>71.0</td>\n",
       "            <td>71.0</td>\n",
       "        </tr>\n",
       "        <tr>\n",
       "            <td>50309</td>\n",
       "            <td>None</td>\n",
       "            <td>71.0</td>\n",
       "        </tr>\n",
       "        <tr>\n",
       "            <td>50661</td>\n",
       "            <td>26.0</td>\n",
       "            <td>26.0</td>\n",
       "        </tr>\n",
       "        <tr>\n",
       "            <td>50948</td>\n",
       "            <td>222.0</td>\n",
       "            <td>222.0</td>\n",
       "        </tr>\n",
       "        <tr>\n",
       "            <td>51021</td>\n",
       "            <td>70.0</td>\n",
       "            <td>70.0</td>\n",
       "        </tr>\n",
       "    </tbody>\n",
       "</table>"
      ],
      "text/plain": [
       "+------------+-----------+-------------------+\n",
       "| feature_id | elev_in_m | imputed_elev_in_m |\n",
       "+------------+-----------+-------------------+\n",
       "|   48638    |    46.0   |        46.0       |\n",
       "|   49192    |   401.0   |       401.0       |\n",
       "|   49214    |   194.0   |       194.0       |\n",
       "|   49350    |    None   |       194.0       |\n",
       "|   49578    |    None   |        None       |\n",
       "|   49802    |    47.0   |        47.0       |\n",
       "|   49925    |   111.0   |       111.0       |\n",
       "|   50059    |    71.0   |        71.0       |\n",
       "|   50309    |    None   |        71.0       |\n",
       "|   50661    |    26.0   |        26.0       |\n",
       "|   50948    |   222.0   |       222.0       |\n",
       "|   51021    |    70.0   |        70.0       |\n",
       "+------------+-----------+-------------------+"
      ]
     },
     "execution_count": 11,
     "metadata": {},
     "output_type": "execute_result"
    }
   ],
   "source": [
    "%%sql\n",
    "-- The following does not work in PostgreSQL!\n",
    "WITH buggy AS (\n",
    "SELECT *,\n",
    "       CASE WHEN elev_in_m IS NOT NULL THEN elev_in_m\n",
    "            ELSE lag(elev_in_m, 1)\n",
    "                 OVER (ORDER BY feature_id)\n",
    "        END AS imputed_elev_in_m\n",
    "  FROM holey\n",
    ")\n",
    "SELECT feature_id, elev_in_m, imputed_elev_in_m FROM buggy ORDER BY feature_id ASC LIMIT 12 OFFSET 183;"
   ]
  },
  {
   "cell_type": "code",
   "execution_count": 12,
   "id": "bb2818af-5af3-4486-bfe3-404bd5c6fa5a",
   "metadata": {},
   "outputs": [
    {
     "data": {
      "text/html": [
       "<span style=\"None\">Running query in &#x27;postgresql://localhost:5432/gnis&#x27;</span>"
      ],
      "text/plain": [
       "Running query in 'postgresql://localhost:5432/gnis'"
      ]
     },
     "metadata": {},
     "output_type": "display_data"
    },
    {
     "data": {
      "text/html": [
       "<table>\n",
       "    <thead>\n",
       "        <tr>\n",
       "        </tr>\n",
       "    </thead>\n",
       "    <tbody>\n",
       "    </tbody>\n",
       "</table>"
      ],
      "text/plain": [
       "++\n",
       "||\n",
       "++\n",
       "++"
      ]
     },
     "execution_count": 12,
     "metadata": {},
     "output_type": "execute_result"
    }
   ],
   "source": [
    "%%sql\n",
    "-- Here's a UDA fix from\n",
    "-- https://stackoverflow.com/questions/18987791/how-do-i-efficiently-select-the-previous-non-null-value\n",
    "CREATE OR REPLACE FUNCTION coalesce_agg_sfunc(state anyelement, value anyelement) RETURNS anyelement AS\n",
    "$$\n",
    "    SELECT coalesce(value, state);\n",
    "$$ LANGUAGE SQL;\n",
    "\n",
    "CREATE OR REPLACE AGGREGATE coalesce_agg(anyelement) (\n",
    "    SFUNC = coalesce_agg_sfunc,\n",
    "    STYPE  = anyelement);"
   ]
  },
  {
   "cell_type": "code",
   "execution_count": 13,
   "id": "02619b1e-d2e4-4494-af32-90b0ced598f7",
   "metadata": {},
   "outputs": [
    {
     "data": {
      "text/html": [
       "<span style=\"None\">Running query in &#x27;postgresql://localhost:5432/gnis&#x27;</span>"
      ],
      "text/plain": [
       "Running query in 'postgresql://localhost:5432/gnis'"
      ]
     },
     "metadata": {},
     "output_type": "display_data"
    },
    {
     "data": {
      "text/html": [
       "<span style=\"color: green\">12 rows affected.</span>"
      ],
      "text/plain": [
       "12 rows affected."
      ]
     },
     "metadata": {},
     "output_type": "display_data"
    },
    {
     "data": {
      "text/html": [
       "<table>\n",
       "    <thead>\n",
       "        <tr>\n",
       "            <th>feature_id</th>\n",
       "            <th>elev_in_m</th>\n",
       "            <th>imputed_elev_in_m</th>\n",
       "        </tr>\n",
       "    </thead>\n",
       "    <tbody>\n",
       "        <tr>\n",
       "            <td>48638</td>\n",
       "            <td>46.0</td>\n",
       "            <td>46.0</td>\n",
       "        </tr>\n",
       "        <tr>\n",
       "            <td>49192</td>\n",
       "            <td>401.0</td>\n",
       "            <td>401.0</td>\n",
       "        </tr>\n",
       "        <tr>\n",
       "            <td>49214</td>\n",
       "            <td>194.0</td>\n",
       "            <td>194.0</td>\n",
       "        </tr>\n",
       "        <tr>\n",
       "            <td>49350</td>\n",
       "            <td>None</td>\n",
       "            <td>194.0</td>\n",
       "        </tr>\n",
       "        <tr>\n",
       "            <td>49578</td>\n",
       "            <td>None</td>\n",
       "            <td>194.0</td>\n",
       "        </tr>\n",
       "        <tr>\n",
       "            <td>49802</td>\n",
       "            <td>47.0</td>\n",
       "            <td>47.0</td>\n",
       "        </tr>\n",
       "        <tr>\n",
       "            <td>49925</td>\n",
       "            <td>111.0</td>\n",
       "            <td>111.0</td>\n",
       "        </tr>\n",
       "        <tr>\n",
       "            <td>50059</td>\n",
       "            <td>71.0</td>\n",
       "            <td>71.0</td>\n",
       "        </tr>\n",
       "        <tr>\n",
       "            <td>50309</td>\n",
       "            <td>None</td>\n",
       "            <td>71.0</td>\n",
       "        </tr>\n",
       "        <tr>\n",
       "            <td>50661</td>\n",
       "            <td>26.0</td>\n",
       "            <td>26.0</td>\n",
       "        </tr>\n",
       "        <tr>\n",
       "            <td>50948</td>\n",
       "            <td>222.0</td>\n",
       "            <td>222.0</td>\n",
       "        </tr>\n",
       "        <tr>\n",
       "            <td>51021</td>\n",
       "            <td>70.0</td>\n",
       "            <td>70.0</td>\n",
       "        </tr>\n",
       "    </tbody>\n",
       "</table>"
      ],
      "text/plain": [
       "+------------+-----------+-------------------+\n",
       "| feature_id | elev_in_m | imputed_elev_in_m |\n",
       "+------------+-----------+-------------------+\n",
       "|   48638    |    46.0   |        46.0       |\n",
       "|   49192    |   401.0   |       401.0       |\n",
       "|   49214    |   194.0   |       194.0       |\n",
       "|   49350    |    None   |       194.0       |\n",
       "|   49578    |    None   |       194.0       |\n",
       "|   49802    |    47.0   |        47.0       |\n",
       "|   49925    |   111.0   |       111.0       |\n",
       "|   50059    |    71.0   |        71.0       |\n",
       "|   50309    |    None   |        71.0       |\n",
       "|   50661    |    26.0   |        26.0       |\n",
       "|   50948    |   222.0   |       222.0       |\n",
       "|   51021    |    70.0   |        70.0       |\n",
       "+------------+-----------+-------------------+"
      ]
     },
     "execution_count": 13,
     "metadata": {},
     "output_type": "execute_result"
    }
   ],
   "source": [
    "%%sql\n",
    "-- Fixed to handle repeated NULLs\n",
    "WITH fixed AS (\n",
    "SELECT *,\n",
    "       coalesce_agg(elev_in_m) OVER (order by feature_id) AS imputed_elev_in_m\n",
    "  FROM holey\n",
    ")\n",
    "SELECT feature_id, elev_in_m, imputed_elev_in_m FROM fixed ORDER BY feature_id ASC LIMIT 12 OFFSET 183;"
   ]
  },
  {
   "cell_type": "markdown",
   "id": "252caa8d-706b-4fab-b340-08e6f322f635",
   "metadata": {},
   "source": [
    "## Generalized interpolation across rows"
   ]
  },
  {
   "cell_type": "markdown",
   "id": "75e42911-d86e-4e9b-b02f-8bb1d0b7b486",
   "metadata": {},
   "source": [
    "Forward pass"
   ]
  },
  {
   "cell_type": "code",
   "execution_count": 14,
   "id": "d75bd183-ff21-40b4-8e2e-8b210be3c986",
   "metadata": {},
   "outputs": [
    {
     "data": {
      "text/html": [
       "<span style=\"None\">Running query in &#x27;postgresql://localhost:5432/gnis&#x27;</span>"
      ],
      "text/plain": [
       "Running query in 'postgresql://localhost:5432/gnis'"
      ]
     },
     "metadata": {},
     "output_type": "display_data"
    },
    {
     "data": {
      "text/html": [
       "<span style=\"color: green\">12 rows affected.</span>"
      ],
      "text/plain": [
       "12 rows affected."
      ]
     },
     "metadata": {},
     "output_type": "display_data"
    },
    {
     "data": {
      "text/html": [
       "<table>\n",
       "    <thead>\n",
       "        <tr>\n",
       "            <th>feature_id</th>\n",
       "            <th>elev_in_m</th>\n",
       "            <th>run</th>\n",
       "            <th>run_start</th>\n",
       "            <th>nextval</th>\n",
       "        </tr>\n",
       "    </thead>\n",
       "    <tbody>\n",
       "        <tr>\n",
       "            <td>48638</td>\n",
       "            <td>46.0</td>\n",
       "            <td>168</td>\n",
       "            <td>46.0</td>\n",
       "            <td>None</td>\n",
       "        </tr>\n",
       "        <tr>\n",
       "            <td>49192</td>\n",
       "            <td>401.0</td>\n",
       "            <td>169</td>\n",
       "            <td>401.0</td>\n",
       "            <td>None</td>\n",
       "        </tr>\n",
       "        <tr>\n",
       "            <td>49214</td>\n",
       "            <td>194.0</td>\n",
       "            <td>170</td>\n",
       "            <td>194.0</td>\n",
       "            <td>None</td>\n",
       "        </tr>\n",
       "        <tr>\n",
       "            <td>49350</td>\n",
       "            <td>None</td>\n",
       "            <td>170</td>\n",
       "            <td>194.0</td>\n",
       "            <td>None</td>\n",
       "        </tr>\n",
       "        <tr>\n",
       "            <td>49578</td>\n",
       "            <td>None</td>\n",
       "            <td>170</td>\n",
       "            <td>194.0</td>\n",
       "            <td>47.0</td>\n",
       "        </tr>\n",
       "        <tr>\n",
       "            <td>49802</td>\n",
       "            <td>47.0</td>\n",
       "            <td>171</td>\n",
       "            <td>47.0</td>\n",
       "            <td>None</td>\n",
       "        </tr>\n",
       "        <tr>\n",
       "            <td>49925</td>\n",
       "            <td>111.0</td>\n",
       "            <td>172</td>\n",
       "            <td>111.0</td>\n",
       "            <td>None</td>\n",
       "        </tr>\n",
       "        <tr>\n",
       "            <td>50059</td>\n",
       "            <td>71.0</td>\n",
       "            <td>173</td>\n",
       "            <td>71.0</td>\n",
       "            <td>None</td>\n",
       "        </tr>\n",
       "        <tr>\n",
       "            <td>50309</td>\n",
       "            <td>None</td>\n",
       "            <td>173</td>\n",
       "            <td>71.0</td>\n",
       "            <td>26.0</td>\n",
       "        </tr>\n",
       "        <tr>\n",
       "            <td>50661</td>\n",
       "            <td>26.0</td>\n",
       "            <td>174</td>\n",
       "            <td>26.0</td>\n",
       "            <td>None</td>\n",
       "        </tr>\n",
       "        <tr>\n",
       "            <td>50948</td>\n",
       "            <td>222.0</td>\n",
       "            <td>175</td>\n",
       "            <td>222.0</td>\n",
       "            <td>None</td>\n",
       "        </tr>\n",
       "        <tr>\n",
       "            <td>51021</td>\n",
       "            <td>70.0</td>\n",
       "            <td>176</td>\n",
       "            <td>70.0</td>\n",
       "            <td>None</td>\n",
       "        </tr>\n",
       "    </tbody>\n",
       "</table>"
      ],
      "text/plain": [
       "+------------+-----------+-----+-----------+---------+\n",
       "| feature_id | elev_in_m | run | run_start | nextval |\n",
       "+------------+-----------+-----+-----------+---------+\n",
       "|   48638    |    46.0   | 168 |    46.0   |   None  |\n",
       "|   49192    |   401.0   | 169 |   401.0   |   None  |\n",
       "|   49214    |   194.0   | 170 |   194.0   |   None  |\n",
       "|   49350    |    None   | 170 |   194.0   |   None  |\n",
       "|   49578    |    None   | 170 |   194.0   |   47.0  |\n",
       "|   49802    |    47.0   | 171 |    47.0   |   None  |\n",
       "|   49925    |   111.0   | 172 |   111.0   |   None  |\n",
       "|   50059    |    71.0   | 173 |    71.0   |   None  |\n",
       "|   50309    |    None   | 173 |    71.0   |   26.0  |\n",
       "|   50661    |    26.0   | 174 |    26.0   |   None  |\n",
       "|   50948    |   222.0   | 175 |   222.0   |   None  |\n",
       "|   51021    |    70.0   | 176 |    70.0   |   None  |\n",
       "+------------+-----------+-----+-----------+---------+"
      ]
     },
     "execution_count": 14,
     "metadata": {},
     "output_type": "execute_result"
    }
   ],
   "source": [
    "%%sql\n",
    "-- 1. Forward assign run numbers to rows, propagate val, get nextval\n",
    "CREATE OR REPLACE VIEW forward AS\n",
    "SELECT feature_id, elev_in_m,\n",
    "       SUM(CASE WHEN elev_in_m IS NULL THEN 0 ELSE 1 END) \n",
    "         OVER (ORDER BY feature_id) AS run,\n",
    "       coalesce_agg(elev_in_m) OVER (ORDER BY feature_id) AS run_start,\n",
    "       CASE WHEN elev_in_m IS NULL \n",
    "              THEN lead(elev_in_m, 1) OVER (ORDER BY feature_id)\n",
    "            ELSE NULL\n",
    "             END AS nextval\n",
    "  FROM holey;\n",
    "SELECT * FROM forward ORDER BY feature_id ASC LIMIT 12 OFFSET 183;"
   ]
  },
  {
   "cell_type": "markdown",
   "id": "41b29369-c990-45cd-b7d3-b77560a0c93b",
   "metadata": {},
   "source": [
    "Backward pass"
   ]
  },
  {
   "cell_type": "code",
   "execution_count": 15,
   "id": "2b045872-f90d-4558-b09d-11b8bc263366",
   "metadata": {},
   "outputs": [
    {
     "data": {
      "text/html": [
       "<span style=\"None\">Running query in &#x27;postgresql://localhost:5432/gnis&#x27;</span>"
      ],
      "text/plain": [
       "Running query in 'postgresql://localhost:5432/gnis'"
      ]
     },
     "metadata": {},
     "output_type": "display_data"
    },
    {
     "data": {
      "text/html": [
       "<span style=\"color: green\">12 rows affected.</span>"
      ],
      "text/plain": [
       "12 rows affected."
      ]
     },
     "metadata": {},
     "output_type": "display_data"
    },
    {
     "data": {
      "text/html": [
       "<table>\n",
       "    <thead>\n",
       "        <tr>\n",
       "            <th>feature_id</th>\n",
       "            <th>elev_in_m</th>\n",
       "            <th>run</th>\n",
       "            <th>run_start</th>\n",
       "            <th>nextval</th>\n",
       "            <th>run_end</th>\n",
       "            <th>run_size</th>\n",
       "            <th>run_rank</th>\n",
       "        </tr>\n",
       "    </thead>\n",
       "    <tbody>\n",
       "        <tr>\n",
       "            <td>48638</td>\n",
       "            <td>46.0</td>\n",
       "            <td>168</td>\n",
       "            <td>46.0</td>\n",
       "            <td>None</td>\n",
       "            <td>46.0</td>\n",
       "            <td>1</td>\n",
       "            <td>0</td>\n",
       "        </tr>\n",
       "        <tr>\n",
       "            <td>49192</td>\n",
       "            <td>401.0</td>\n",
       "            <td>169</td>\n",
       "            <td>401.0</td>\n",
       "            <td>None</td>\n",
       "            <td>401.0</td>\n",
       "            <td>1</td>\n",
       "            <td>0</td>\n",
       "        </tr>\n",
       "        <tr>\n",
       "            <td>49214</td>\n",
       "            <td>194.0</td>\n",
       "            <td>170</td>\n",
       "            <td>194.0</td>\n",
       "            <td>None</td>\n",
       "            <td>194.0</td>\n",
       "            <td>3</td>\n",
       "            <td>0</td>\n",
       "        </tr>\n",
       "        <tr>\n",
       "            <td>49350</td>\n",
       "            <td>None</td>\n",
       "            <td>170</td>\n",
       "            <td>194.0</td>\n",
       "            <td>None</td>\n",
       "            <td>47.0</td>\n",
       "            <td>3</td>\n",
       "            <td>1</td>\n",
       "        </tr>\n",
       "        <tr>\n",
       "            <td>49578</td>\n",
       "            <td>None</td>\n",
       "            <td>170</td>\n",
       "            <td>194.0</td>\n",
       "            <td>47.0</td>\n",
       "            <td>47.0</td>\n",
       "            <td>3</td>\n",
       "            <td>2</td>\n",
       "        </tr>\n",
       "        <tr>\n",
       "            <td>49802</td>\n",
       "            <td>47.0</td>\n",
       "            <td>171</td>\n",
       "            <td>47.0</td>\n",
       "            <td>None</td>\n",
       "            <td>47.0</td>\n",
       "            <td>1</td>\n",
       "            <td>0</td>\n",
       "        </tr>\n",
       "        <tr>\n",
       "            <td>49925</td>\n",
       "            <td>111.0</td>\n",
       "            <td>172</td>\n",
       "            <td>111.0</td>\n",
       "            <td>None</td>\n",
       "            <td>111.0</td>\n",
       "            <td>1</td>\n",
       "            <td>0</td>\n",
       "        </tr>\n",
       "        <tr>\n",
       "            <td>50059</td>\n",
       "            <td>71.0</td>\n",
       "            <td>173</td>\n",
       "            <td>71.0</td>\n",
       "            <td>None</td>\n",
       "            <td>71.0</td>\n",
       "            <td>2</td>\n",
       "            <td>0</td>\n",
       "        </tr>\n",
       "        <tr>\n",
       "            <td>50309</td>\n",
       "            <td>None</td>\n",
       "            <td>173</td>\n",
       "            <td>71.0</td>\n",
       "            <td>26.0</td>\n",
       "            <td>26.0</td>\n",
       "            <td>2</td>\n",
       "            <td>1</td>\n",
       "        </tr>\n",
       "        <tr>\n",
       "            <td>50661</td>\n",
       "            <td>26.0</td>\n",
       "            <td>174</td>\n",
       "            <td>26.0</td>\n",
       "            <td>None</td>\n",
       "            <td>26.0</td>\n",
       "            <td>1</td>\n",
       "            <td>0</td>\n",
       "        </tr>\n",
       "        <tr>\n",
       "            <td>50948</td>\n",
       "            <td>222.0</td>\n",
       "            <td>175</td>\n",
       "            <td>222.0</td>\n",
       "            <td>None</td>\n",
       "            <td>222.0</td>\n",
       "            <td>1</td>\n",
       "            <td>0</td>\n",
       "        </tr>\n",
       "        <tr>\n",
       "            <td>51021</td>\n",
       "            <td>70.0</td>\n",
       "            <td>176</td>\n",
       "            <td>70.0</td>\n",
       "            <td>None</td>\n",
       "            <td>70.0</td>\n",
       "            <td>1</td>\n",
       "            <td>0</td>\n",
       "        </tr>\n",
       "    </tbody>\n",
       "</table>"
      ],
      "text/plain": [
       "+------------+-----------+-----+-----------+---------+---------+----------+----------+\n",
       "| feature_id | elev_in_m | run | run_start | nextval | run_end | run_size | run_rank |\n",
       "+------------+-----------+-----+-----------+---------+---------+----------+----------+\n",
       "|   48638    |    46.0   | 168 |    46.0   |   None  |   46.0  |    1     |    0     |\n",
       "|   49192    |   401.0   | 169 |   401.0   |   None  |  401.0  |    1     |    0     |\n",
       "|   49214    |   194.0   | 170 |   194.0   |   None  |  194.0  |    3     |    0     |\n",
       "|   49350    |    None   | 170 |   194.0   |   None  |   47.0  |    3     |    1     |\n",
       "|   49578    |    None   | 170 |   194.0   |   47.0  |   47.0  |    3     |    2     |\n",
       "|   49802    |    47.0   | 171 |    47.0   |   None  |   47.0  |    1     |    0     |\n",
       "|   49925    |   111.0   | 172 |   111.0   |   None  |  111.0  |    1     |    0     |\n",
       "|   50059    |    71.0   | 173 |    71.0   |   None  |   71.0  |    2     |    0     |\n",
       "|   50309    |    None   | 173 |    71.0   |   26.0  |   26.0  |    2     |    1     |\n",
       "|   50661    |    26.0   | 174 |    26.0   |   None  |   26.0  |    1     |    0     |\n",
       "|   50948    |   222.0   | 175 |   222.0   |   None  |  222.0  |    1     |    0     |\n",
       "|   51021    |    70.0   | 176 |    70.0   |   None  |   70.0  |    1     |    0     |\n",
       "+------------+-----------+-----+-----------+---------+---------+----------+----------+"
      ]
     },
     "execution_count": 15,
     "metadata": {},
     "output_type": "execute_result"
    }
   ],
   "source": [
    "%%sql\n",
    "-- 2. Backward: assign run_end, run_size, run_rank\n",
    "CREATE OR REPLACE VIEW backward AS\n",
    "SELECT *,\n",
    "       CASE WHEN elev_in_m IS NOT NULL THEN elev_in_m\n",
    "            ELSE coalesce_agg(nextval) OVER (PARTITION BY run ORDER BY feature_id DESC)\n",
    "        END AS run_end,\n",
    "       count(*) OVER (PARTITION BY run) AS run_size,\n",
    "       -1 + (RANK() OVER (PARTITION BY run ORDER BY feature_id)) AS run_rank\n",
    "  FROM forward;\n",
    "SELECT * FROM backward ORDER BY feature_id ASC LIMIT 12 OFFSET 183;"
   ]
  },
  {
   "cell_type": "markdown",
   "id": "b9e70e71-90fb-4740-9a80-4ec30bb824e8",
   "metadata": {},
   "source": [
    "Scalar function pass"
   ]
  },
  {
   "cell_type": "code",
   "execution_count": 16,
   "id": "f69f017a-8280-4310-a750-dd68a3de50c8",
   "metadata": {},
   "outputs": [
    {
     "data": {
      "text/html": [
       "<span style=\"None\">Running query in &#x27;postgresql://localhost:5432/gnis&#x27;</span>"
      ],
      "text/plain": [
       "Running query in 'postgresql://localhost:5432/gnis'"
      ]
     },
     "metadata": {},
     "output_type": "display_data"
    },
    {
     "data": {
      "text/html": [
       "<span style=\"color: green\">12 rows affected.</span>"
      ],
      "text/plain": [
       "12 rows affected."
      ]
     },
     "metadata": {},
     "output_type": "display_data"
    },
    {
     "data": {
      "text/html": [
       "<table>\n",
       "    <thead>\n",
       "        <tr>\n",
       "            <th>feature_id</th>\n",
       "            <th>elev_in_m</th>\n",
       "            <th>run</th>\n",
       "            <th>run_start</th>\n",
       "            <th>nextval</th>\n",
       "            <th>run_end</th>\n",
       "            <th>run_size</th>\n",
       "            <th>run_rank</th>\n",
       "            <th>interpolated</th>\n",
       "        </tr>\n",
       "    </thead>\n",
       "    <tbody>\n",
       "        <tr>\n",
       "            <td>48638</td>\n",
       "            <td>46.0</td>\n",
       "            <td>168</td>\n",
       "            <td>46.0</td>\n",
       "            <td>None</td>\n",
       "            <td>46.0</td>\n",
       "            <td>1</td>\n",
       "            <td>0</td>\n",
       "            <td>46.0</td>\n",
       "        </tr>\n",
       "        <tr>\n",
       "            <td>49192</td>\n",
       "            <td>401.0</td>\n",
       "            <td>169</td>\n",
       "            <td>401.0</td>\n",
       "            <td>None</td>\n",
       "            <td>401.0</td>\n",
       "            <td>1</td>\n",
       "            <td>0</td>\n",
       "            <td>401.0</td>\n",
       "        </tr>\n",
       "        <tr>\n",
       "            <td>49214</td>\n",
       "            <td>194.0</td>\n",
       "            <td>170</td>\n",
       "            <td>194.0</td>\n",
       "            <td>None</td>\n",
       "            <td>194.0</td>\n",
       "            <td>3</td>\n",
       "            <td>0</td>\n",
       "            <td>194.0</td>\n",
       "        </tr>\n",
       "        <tr>\n",
       "            <td>49350</td>\n",
       "            <td>None</td>\n",
       "            <td>170</td>\n",
       "            <td>194.0</td>\n",
       "            <td>None</td>\n",
       "            <td>47.0</td>\n",
       "            <td>3</td>\n",
       "            <td>1</td>\n",
       "            <td>145.0</td>\n",
       "        </tr>\n",
       "        <tr>\n",
       "            <td>49578</td>\n",
       "            <td>None</td>\n",
       "            <td>170</td>\n",
       "            <td>194.0</td>\n",
       "            <td>47.0</td>\n",
       "            <td>47.0</td>\n",
       "            <td>3</td>\n",
       "            <td>2</td>\n",
       "            <td>96.0</td>\n",
       "        </tr>\n",
       "        <tr>\n",
       "            <td>49802</td>\n",
       "            <td>47.0</td>\n",
       "            <td>171</td>\n",
       "            <td>47.0</td>\n",
       "            <td>None</td>\n",
       "            <td>47.0</td>\n",
       "            <td>1</td>\n",
       "            <td>0</td>\n",
       "            <td>47.0</td>\n",
       "        </tr>\n",
       "        <tr>\n",
       "            <td>49925</td>\n",
       "            <td>111.0</td>\n",
       "            <td>172</td>\n",
       "            <td>111.0</td>\n",
       "            <td>None</td>\n",
       "            <td>111.0</td>\n",
       "            <td>1</td>\n",
       "            <td>0</td>\n",
       "            <td>111.0</td>\n",
       "        </tr>\n",
       "        <tr>\n",
       "            <td>50059</td>\n",
       "            <td>71.0</td>\n",
       "            <td>173</td>\n",
       "            <td>71.0</td>\n",
       "            <td>None</td>\n",
       "            <td>71.0</td>\n",
       "            <td>2</td>\n",
       "            <td>0</td>\n",
       "            <td>71.0</td>\n",
       "        </tr>\n",
       "        <tr>\n",
       "            <td>50309</td>\n",
       "            <td>None</td>\n",
       "            <td>173</td>\n",
       "            <td>71.0</td>\n",
       "            <td>26.0</td>\n",
       "            <td>26.0</td>\n",
       "            <td>2</td>\n",
       "            <td>1</td>\n",
       "            <td>48.5</td>\n",
       "        </tr>\n",
       "        <tr>\n",
       "            <td>50661</td>\n",
       "            <td>26.0</td>\n",
       "            <td>174</td>\n",
       "            <td>26.0</td>\n",
       "            <td>None</td>\n",
       "            <td>26.0</td>\n",
       "            <td>1</td>\n",
       "            <td>0</td>\n",
       "            <td>26.0</td>\n",
       "        </tr>\n",
       "        <tr>\n",
       "            <td>50948</td>\n",
       "            <td>222.0</td>\n",
       "            <td>175</td>\n",
       "            <td>222.0</td>\n",
       "            <td>None</td>\n",
       "            <td>222.0</td>\n",
       "            <td>1</td>\n",
       "            <td>0</td>\n",
       "            <td>222.0</td>\n",
       "        </tr>\n",
       "        <tr>\n",
       "            <td>51021</td>\n",
       "            <td>70.0</td>\n",
       "            <td>176</td>\n",
       "            <td>70.0</td>\n",
       "            <td>None</td>\n",
       "            <td>70.0</td>\n",
       "            <td>1</td>\n",
       "            <td>0</td>\n",
       "            <td>70.0</td>\n",
       "        </tr>\n",
       "    </tbody>\n",
       "</table>"
      ],
      "text/plain": [
       "+------------+-----------+-----+-----------+---------+---------+----------+----------+--------------+\n",
       "| feature_id | elev_in_m | run | run_start | nextval | run_end | run_size | run_rank | interpolated |\n",
       "+------------+-----------+-----+-----------+---------+---------+----------+----------+--------------+\n",
       "|   48638    |    46.0   | 168 |    46.0   |   None  |   46.0  |    1     |    0     |     46.0     |\n",
       "|   49192    |   401.0   | 169 |   401.0   |   None  |  401.0  |    1     |    0     |    401.0     |\n",
       "|   49214    |   194.0   | 170 |   194.0   |   None  |  194.0  |    3     |    0     |    194.0     |\n",
       "|   49350    |    None   | 170 |   194.0   |   None  |   47.0  |    3     |    1     |    145.0     |\n",
       "|   49578    |    None   | 170 |   194.0   |   47.0  |   47.0  |    3     |    2     |     96.0     |\n",
       "|   49802    |    47.0   | 171 |    47.0   |   None  |   47.0  |    1     |    0     |     47.0     |\n",
       "|   49925    |   111.0   | 172 |   111.0   |   None  |  111.0  |    1     |    0     |    111.0     |\n",
       "|   50059    |    71.0   | 173 |    71.0   |   None  |   71.0  |    2     |    0     |     71.0     |\n",
       "|   50309    |    None   | 173 |    71.0   |   26.0  |   26.0  |    2     |    1     |     48.5     |\n",
       "|   50661    |    26.0   | 174 |    26.0   |   None  |   26.0  |    1     |    0     |     26.0     |\n",
       "|   50948    |   222.0   | 175 |   222.0   |   None  |  222.0  |    1     |    0     |    222.0     |\n",
       "|   51021    |    70.0   | 176 |    70.0   |   None  |   70.0  |    1     |    0     |     70.0     |\n",
       "+------------+-----------+-----+-----------+---------+---------+----------+----------+--------------+"
      ]
     },
     "execution_count": 16,
     "metadata": {},
     "output_type": "execute_result"
    }
   ],
   "source": [
    "%%sql\n",
    "-- 3. Simple scalar pass\n",
    "CREATE OR REPLACE VIEW final AS\n",
    "SELECT *, \n",
    "       run_start + run_rank*((run_end-run_start)/(run_size))\n",
    "         AS interpolated\n",
    "  FROM backward;\n",
    "SELECT * FROM final  ORDER BY feature_id ASC LIMIT 12 OFFSET 183;"
   ]
  },
  {
   "cell_type": "code",
   "execution_count": 17,
   "id": "52d91e67-9eb5-4722-941d-f5bd14e316de",
   "metadata": {},
   "outputs": [
    {
     "data": {
      "text/html": [
       "<span style=\"None\">Running query in &#x27;postgresql://localhost:5432/gnis&#x27;</span>"
      ],
      "text/plain": [
       "Running query in 'postgresql://localhost:5432/gnis'"
      ]
     },
     "metadata": {},
     "output_type": "display_data"
    },
    {
     "data": {
      "text/html": [
       "<span style=\"color: green\">20 rows affected.</span>"
      ],
      "text/plain": [
       "20 rows affected."
      ]
     },
     "metadata": {},
     "output_type": "display_data"
    },
    {
     "data": {
      "text/html": [
       "<table>\n",
       "    <thead>\n",
       "        <tr>\n",
       "            <th>QUERY PLAN</th>\n",
       "        </tr>\n",
       "    </thead>\n",
       "    <tbody>\n",
       "        <tr>\n",
       "            <td>Limit  (cost=2196.29..2267.30 rows=500 width=72) (actual time=28.726..30.276 rows=500 loops=1)</td>\n",
       "        </tr>\n",
       "        <tr>\n",
       "            <td>&nbsp;&nbsp;->  Subquery Scan on backward  (cost=2196.29..3834.15 rows=11533 width=72) (actual time=28.724..30.244 rows=500 loops=1)</td>\n",
       "        </tr>\n",
       "        <tr>\n",
       "            <td>&nbsp;&nbsp;&nbsp;&nbsp;&nbsp;&nbsp;&nbsp;&nbsp;->  WindowAgg  (cost=2196.29..3545.82 rows=11533 width=64) (actual time=28.722..30.179 rows=500 loops=1)</td>\n",
       "        </tr>\n",
       "        <tr>\n",
       "            <td>&nbsp;&nbsp;&nbsp;&nbsp;&nbsp;&nbsp;&nbsp;&nbsp;&nbsp;&nbsp;&nbsp;&nbsp;&nbsp;&nbsp;->  WindowAgg  (cost=2196.29..3344.00 rows=11533 width=56) (actual time=28.716..29.878 rows=501 loops=1)</td>\n",
       "        </tr>\n",
       "        <tr>\n",
       "            <td>&nbsp;&nbsp;&nbsp;&nbsp;&nbsp;&nbsp;&nbsp;&nbsp;&nbsp;&nbsp;&nbsp;&nbsp;&nbsp;&nbsp;&nbsp;&nbsp;&nbsp;&nbsp;&nbsp;&nbsp;->  Incremental Sort  (cost=2196.29..3142.17 rows=11533 width=48) (actual time=28.713..29.627 rows=502 loops=1)</td>\n",
       "        </tr>\n",
       "        <tr>\n",
       "            <td>&nbsp;&nbsp;&nbsp;&nbsp;&nbsp;&nbsp;&nbsp;&nbsp;&nbsp;&nbsp;&nbsp;&nbsp;&nbsp;&nbsp;&nbsp;&nbsp;&nbsp;&nbsp;&nbsp;&nbsp;&nbsp;&nbsp;&nbsp;&nbsp;&nbsp;&nbsp;Sort Key: forward.run, forward.feature_id</td>\n",
       "        </tr>\n",
       "        <tr>\n",
       "            <td>&nbsp;&nbsp;&nbsp;&nbsp;&nbsp;&nbsp;&nbsp;&nbsp;&nbsp;&nbsp;&nbsp;&nbsp;&nbsp;&nbsp;&nbsp;&nbsp;&nbsp;&nbsp;&nbsp;&nbsp;&nbsp;&nbsp;&nbsp;&nbsp;&nbsp;&nbsp;Presorted Key: forward.run</td>\n",
       "        </tr>\n",
       "        <tr>\n",
       "            <td>&nbsp;&nbsp;&nbsp;&nbsp;&nbsp;&nbsp;&nbsp;&nbsp;&nbsp;&nbsp;&nbsp;&nbsp;&nbsp;&nbsp;&nbsp;&nbsp;&nbsp;&nbsp;&nbsp;&nbsp;&nbsp;&nbsp;&nbsp;&nbsp;&nbsp;&nbsp;Full-sort Groups: 16  Sort Method: quicksort  Average Memory: 27kB  Peak Memory: 27kB</td>\n",
       "        </tr>\n",
       "        <tr>\n",
       "            <td>&nbsp;&nbsp;&nbsp;&nbsp;&nbsp;&nbsp;&nbsp;&nbsp;&nbsp;&nbsp;&nbsp;&nbsp;&nbsp;&nbsp;&nbsp;&nbsp;&nbsp;&nbsp;&nbsp;&nbsp;&nbsp;&nbsp;&nbsp;&nbsp;&nbsp;&nbsp;->  WindowAgg  (cost=2192.36..2423.02 rows=11533 width=48) (actual time=28.644..29.500 rows=514 loops=1)</td>\n",
       "        </tr>\n",
       "        <tr>\n",
       "            <td>&nbsp;&nbsp;&nbsp;&nbsp;&nbsp;&nbsp;&nbsp;&nbsp;&nbsp;&nbsp;&nbsp;&nbsp;&nbsp;&nbsp;&nbsp;&nbsp;&nbsp;&nbsp;&nbsp;&nbsp;&nbsp;&nbsp;&nbsp;&nbsp;&nbsp;&nbsp;&nbsp;&nbsp;&nbsp;&nbsp;&nbsp;&nbsp;->  Sort  (cost=2192.36..2221.19 rows=11533 width=40) (actual time=28.580..28.615 rows=515 loops=1)</td>\n",
       "        </tr>\n",
       "        <tr>\n",
       "            <td>&nbsp;&nbsp;&nbsp;&nbsp;&nbsp;&nbsp;&nbsp;&nbsp;&nbsp;&nbsp;&nbsp;&nbsp;&nbsp;&nbsp;&nbsp;&nbsp;&nbsp;&nbsp;&nbsp;&nbsp;&nbsp;&nbsp;&nbsp;&nbsp;&nbsp;&nbsp;&nbsp;&nbsp;&nbsp;&nbsp;&nbsp;&nbsp;&nbsp;&nbsp;&nbsp;&nbsp;&nbsp;&nbsp;Sort Key: forward.run, forward.feature_id DESC</td>\n",
       "        </tr>\n",
       "        <tr>\n",
       "            <td>&nbsp;&nbsp;&nbsp;&nbsp;&nbsp;&nbsp;&nbsp;&nbsp;&nbsp;&nbsp;&nbsp;&nbsp;&nbsp;&nbsp;&nbsp;&nbsp;&nbsp;&nbsp;&nbsp;&nbsp;&nbsp;&nbsp;&nbsp;&nbsp;&nbsp;&nbsp;&nbsp;&nbsp;&nbsp;&nbsp;&nbsp;&nbsp;&nbsp;&nbsp;&nbsp;&nbsp;&nbsp;&nbsp;Sort Method: quicksort  Memory: 1286kB</td>\n",
       "        </tr>\n",
       "        <tr>\n",
       "            <td>&nbsp;&nbsp;&nbsp;&nbsp;&nbsp;&nbsp;&nbsp;&nbsp;&nbsp;&nbsp;&nbsp;&nbsp;&nbsp;&nbsp;&nbsp;&nbsp;&nbsp;&nbsp;&nbsp;&nbsp;&nbsp;&nbsp;&nbsp;&nbsp;&nbsp;&nbsp;&nbsp;&nbsp;&nbsp;&nbsp;&nbsp;&nbsp;&nbsp;&nbsp;&nbsp;&nbsp;&nbsp;&nbsp;->  Subquery Scan on forward  (cost=1039.43..1414.25 rows=11533 width=40) (actual time=3.883..25.196 rows=11533 loops=1)</td>\n",
       "        </tr>\n",
       "        <tr>\n",
       "            <td>&nbsp;&nbsp;&nbsp;&nbsp;&nbsp;&nbsp;&nbsp;&nbsp;&nbsp;&nbsp;&nbsp;&nbsp;&nbsp;&nbsp;&nbsp;&nbsp;&nbsp;&nbsp;&nbsp;&nbsp;&nbsp;&nbsp;&nbsp;&nbsp;&nbsp;&nbsp;&nbsp;&nbsp;&nbsp;&nbsp;&nbsp;&nbsp;&nbsp;&nbsp;&nbsp;&nbsp;&nbsp;&nbsp;&nbsp;&nbsp;&nbsp;&nbsp;&nbsp;&nbsp;->  WindowAgg  (cost=1039.43..1298.92 rows=11533 width=40) (actual time=3.882..24.075 rows=11533 loops=1)</td>\n",
       "        </tr>\n",
       "        <tr>\n",
       "            <td>&nbsp;&nbsp;&nbsp;&nbsp;&nbsp;&nbsp;&nbsp;&nbsp;&nbsp;&nbsp;&nbsp;&nbsp;&nbsp;&nbsp;&nbsp;&nbsp;&nbsp;&nbsp;&nbsp;&nbsp;&nbsp;&nbsp;&nbsp;&nbsp;&nbsp;&nbsp;&nbsp;&nbsp;&nbsp;&nbsp;&nbsp;&nbsp;&nbsp;&nbsp;&nbsp;&nbsp;&nbsp;&nbsp;&nbsp;&nbsp;&nbsp;&nbsp;&nbsp;&nbsp;&nbsp;&nbsp;&nbsp;&nbsp;&nbsp;&nbsp;->  Sort  (cost=1039.43..1068.26 rows=11533 width=16) (actual time=3.783..4.406 rows=11533 loops=1)</td>\n",
       "        </tr>\n",
       "        <tr>\n",
       "            <td>&nbsp;&nbsp;&nbsp;&nbsp;&nbsp;&nbsp;&nbsp;&nbsp;&nbsp;&nbsp;&nbsp;&nbsp;&nbsp;&nbsp;&nbsp;&nbsp;&nbsp;&nbsp;&nbsp;&nbsp;&nbsp;&nbsp;&nbsp;&nbsp;&nbsp;&nbsp;&nbsp;&nbsp;&nbsp;&nbsp;&nbsp;&nbsp;&nbsp;&nbsp;&nbsp;&nbsp;&nbsp;&nbsp;&nbsp;&nbsp;&nbsp;&nbsp;&nbsp;&nbsp;&nbsp;&nbsp;&nbsp;&nbsp;&nbsp;&nbsp;&nbsp;&nbsp;&nbsp;&nbsp;&nbsp;&nbsp;Sort Key: holey.feature_id</td>\n",
       "        </tr>\n",
       "        <tr>\n",
       "            <td>&nbsp;&nbsp;&nbsp;&nbsp;&nbsp;&nbsp;&nbsp;&nbsp;&nbsp;&nbsp;&nbsp;&nbsp;&nbsp;&nbsp;&nbsp;&nbsp;&nbsp;&nbsp;&nbsp;&nbsp;&nbsp;&nbsp;&nbsp;&nbsp;&nbsp;&nbsp;&nbsp;&nbsp;&nbsp;&nbsp;&nbsp;&nbsp;&nbsp;&nbsp;&nbsp;&nbsp;&nbsp;&nbsp;&nbsp;&nbsp;&nbsp;&nbsp;&nbsp;&nbsp;&nbsp;&nbsp;&nbsp;&nbsp;&nbsp;&nbsp;&nbsp;&nbsp;&nbsp;&nbsp;&nbsp;&nbsp;Sort Method: quicksort  Memory: 925kB</td>\n",
       "        </tr>\n",
       "        <tr>\n",
       "            <td>&nbsp;&nbsp;&nbsp;&nbsp;&nbsp;&nbsp;&nbsp;&nbsp;&nbsp;&nbsp;&nbsp;&nbsp;&nbsp;&nbsp;&nbsp;&nbsp;&nbsp;&nbsp;&nbsp;&nbsp;&nbsp;&nbsp;&nbsp;&nbsp;&nbsp;&nbsp;&nbsp;&nbsp;&nbsp;&nbsp;&nbsp;&nbsp;&nbsp;&nbsp;&nbsp;&nbsp;&nbsp;&nbsp;&nbsp;&nbsp;&nbsp;&nbsp;&nbsp;&nbsp;&nbsp;&nbsp;&nbsp;&nbsp;&nbsp;&nbsp;&nbsp;&nbsp;&nbsp;&nbsp;&nbsp;&nbsp;->  Seq Scan on holey  (cost=0.00..261.33 rows=11533 width=16) (actual time=0.009..1.494 rows=11533 loops=1)</td>\n",
       "        </tr>\n",
       "        <tr>\n",
       "            <td>Planning Time: 0.144 ms</td>\n",
       "        </tr>\n",
       "        <tr>\n",
       "            <td>Execution Time: 30.477 ms</td>\n",
       "        </tr>\n",
       "    </tbody>\n",
       "</table>"
      ],
      "text/plain": [
       "+----------------------------------------------------------------------------------------------------------------------------------------------------------------------+\n",
       "|                                                                              QUERY PLAN                                                                              |\n",
       "+----------------------------------------------------------------------------------------------------------------------------------------------------------------------+\n",
       "|                                    Limit  (cost=2196.29..2267.30 rows=500 width=72) (actual time=28.726..30.276 rows=500 loops=1)                                    |\n",
       "|                        ->  Subquery Scan on backward  (cost=2196.29..3834.15 rows=11533 width=72) (actual time=28.724..30.244 rows=500 loops=1)                      |\n",
       "|                                   ->  WindowAgg  (cost=2196.29..3545.82 rows=11533 width=64) (actual time=28.722..30.179 rows=500 loops=1)                           |\n",
       "|                                      ->  WindowAgg  (cost=2196.29..3344.00 rows=11533 width=56) (actual time=28.716..29.878 rows=501 loops=1)                        |\n",
       "|                                     ->  Incremental Sort  (cost=2196.29..3142.17 rows=11533 width=48) (actual time=28.713..29.627 rows=502 loops=1)                  |\n",
       "|                                                                           Sort Key: forward.run, forward.feature_id                                                  |\n",
       "|                                                                                   Presorted Key: forward.run                                                         |\n",
       "|                                                     Full-sort Groups: 16  Sort Method: quicksort  Average Memory: 27kB  Peak Memory: 27kB                            |\n",
       "|                                            ->  WindowAgg  (cost=2192.36..2423.02 rows=11533 width=48) (actual time=28.644..29.500 rows=514 loops=1)                  |\n",
       "|                                                 ->  Sort  (cost=2192.36..2221.19 rows=11533 width=40) (actual time=28.580..28.615 rows=515 loops=1)                  |\n",
       "|                                                                               Sort Key: forward.run, forward.feature_id DESC                                         |\n",
       "|                                                                                   Sort Method: quicksort  Memory: 1286kB                                             |\n",
       "|                                          ->  Subquery Scan on forward  (cost=1039.43..1414.25 rows=11533 width=40) (actual time=3.883..25.196 rows=11533 loops=1)    |\n",
       "|                                                    ->  WindowAgg  (cost=1039.43..1298.92 rows=11533 width=40) (actual time=3.882..24.075 rows=11533 loops=1)         |\n",
       "|                                                          ->  Sort  (cost=1039.43..1068.26 rows=11533 width=16) (actual time=3.783..4.406 rows=11533 loops=1)         |\n",
       "|                                                                                                  Sort Key: holey.feature_id                                          |\n",
       "|                                                                                            Sort Method: quicksort  Memory: 925kB                                     |\n",
       "|                                                         ->  Seq Scan on holey  (cost=0.00..261.33 rows=11533 width=16) (actual time=0.009..1.494 rows=11533 loops=1) |\n",
       "|                                                                       Planning Time: 0.144 ms                                                                        |\n",
       "|                                                                      Execution Time: 30.477 ms                                                                       |\n",
       "+----------------------------------------------------------------------------------------------------------------------------------------------------------------------+"
      ]
     },
     "execution_count": 17,
     "metadata": {},
     "output_type": "execute_result"
    }
   ],
   "source": [
    "%sql EXPLAIN Analyze SELECT * from final LIMIT 500;"
   ]
  },
  {
   "cell_type": "markdown",
   "id": "877eced2-e485-4af5-abf3-fcdc6b3309b6",
   "metadata": {},
   "source": [
    "# String distance"
   ]
  },
  {
   "cell_type": "code",
   "execution_count": 18,
   "id": "94256cbc-9c15-4310-981f-23f347d9aebf",
   "metadata": {},
   "outputs": [
    {
     "data": {
      "text/html": [
       "<span style=\"None\">Connecting and switching to connection postgresql://localhost:5432/postgres</span>"
      ],
      "text/plain": [
       "Connecting and switching to connection postgresql://localhost:5432/postgres"
      ]
     },
     "metadata": {},
     "output_type": "display_data"
    }
   ],
   "source": [
    "%reload_ext sql\n",
    "%sql postgresql://localhost:5432/postgres"
   ]
  },
  {
   "cell_type": "code",
   "execution_count": 19,
   "id": "384807b1-fa1e-4c26-a3bd-a49c29150172",
   "metadata": {},
   "outputs": [
    {
     "data": {
      "text/html": [
       "<span style=\"None\">Running query in &#x27;postgresql://localhost:5432/postgres&#x27;</span>"
      ],
      "text/plain": [
       "Running query in 'postgresql://localhost:5432/postgres'"
      ]
     },
     "metadata": {},
     "output_type": "display_data"
    },
    {
     "data": {
      "text/html": [
       "<table>\n",
       "    <thead>\n",
       "        <tr>\n",
       "        </tr>\n",
       "    </thead>\n",
       "    <tbody>\n",
       "    </tbody>\n",
       "</table>"
      ],
      "text/plain": [
       "++\n",
       "||\n",
       "++\n",
       "++"
      ]
     },
     "execution_count": 19,
     "metadata": {},
     "output_type": "execute_result"
    }
   ],
   "source": [
    "%sql CREATE EXTENSION IF NOT EXISTS fuzzystrmatch;"
   ]
  },
  {
   "cell_type": "code",
   "execution_count": 20,
   "id": "c4bfffed-8e76-440b-ba85-76f25d14daf0",
   "metadata": {},
   "outputs": [
    {
     "data": {
      "text/html": [
       "<span style=\"None\">Running query in &#x27;postgresql://localhost:5432/postgres&#x27;</span>"
      ],
      "text/plain": [
       "Running query in 'postgresql://localhost:5432/postgres'"
      ]
     },
     "metadata": {},
     "output_type": "display_data"
    },
    {
     "data": {
      "text/html": [
       "<span style=\"color: green\">3 rows affected.</span>"
      ],
      "text/plain": [
       "3 rows affected."
      ]
     },
     "metadata": {},
     "output_type": "display_data"
    },
    {
     "data": {
      "text/html": [
       "<table>\n",
       "    <thead>\n",
       "        <tr>\n",
       "        </tr>\n",
       "    </thead>\n",
       "    <tbody>\n",
       "    </tbody>\n",
       "</table>"
      ],
      "text/plain": [
       "++\n",
       "||\n",
       "++\n",
       "++"
      ]
     },
     "execution_count": 20,
     "metadata": {},
     "output_type": "execute_result"
    }
   ],
   "source": [
    "%%sql\n",
    "DROP TABLE IF EXISTS Strings;\n",
    "CREATE TABLE Strings (str1 TEXT, str2 TEXT);\n",
    "INSERT INTO Strings VALUES\n",
    " ('Lisa', 'List'),\n",
    " ('Lisa', 'License'),\n",
    " ('Joe', 'Noel');"
   ]
  },
  {
   "cell_type": "code",
   "execution_count": 21,
   "id": "1d178d20-68fe-4bb9-9c77-f96503e76e20",
   "metadata": {},
   "outputs": [
    {
     "data": {
      "text/html": [
       "<span style=\"None\">Running query in &#x27;postgresql://localhost:5432/postgres&#x27;</span>"
      ],
      "text/plain": [
       "Running query in 'postgresql://localhost:5432/postgres'"
      ]
     },
     "metadata": {},
     "output_type": "display_data"
    },
    {
     "data": {
      "text/html": [
       "<span style=\"color: green\">3 rows affected.</span>"
      ],
      "text/plain": [
       "3 rows affected."
      ]
     },
     "metadata": {},
     "output_type": "display_data"
    },
    {
     "data": {
      "text/html": [
       "<table>\n",
       "    <thead>\n",
       "        <tr>\n",
       "            <th>str1</th>\n",
       "            <th>str2</th>\n",
       "            <th>levenshtein</th>\n",
       "            <th>soundex1</th>\n",
       "            <th>soundex2</th>\n",
       "            <th>dmetaphone1</th>\n",
       "            <th>dmetaphone2</th>\n",
       "            <th>dmetaphone_alt1</th>\n",
       "            <th>dmetaphone_alt2</th>\n",
       "        </tr>\n",
       "    </thead>\n",
       "    <tbody>\n",
       "        <tr>\n",
       "            <td>Lisa</td>\n",
       "            <td>List</td>\n",
       "            <td>1</td>\n",
       "            <td>L200</td>\n",
       "            <td>L230</td>\n",
       "            <td>LS</td>\n",
       "            <td>LST</td>\n",
       "            <td>LS</td>\n",
       "            <td>LST</td>\n",
       "        </tr>\n",
       "        <tr>\n",
       "            <td>Lisa</td>\n",
       "            <td>License</td>\n",
       "            <td>4</td>\n",
       "            <td>L200</td>\n",
       "            <td>L252</td>\n",
       "            <td>LS</td>\n",
       "            <td>LSNS</td>\n",
       "            <td>LS</td>\n",
       "            <td>LSNS</td>\n",
       "        </tr>\n",
       "        <tr>\n",
       "            <td>Joe</td>\n",
       "            <td>Noel</td>\n",
       "            <td>2</td>\n",
       "            <td>J000</td>\n",
       "            <td>N400</td>\n",
       "            <td>J</td>\n",
       "            <td>NL</td>\n",
       "            <td>A</td>\n",
       "            <td>NL</td>\n",
       "        </tr>\n",
       "    </tbody>\n",
       "</table>"
      ],
      "text/plain": [
       "+------+---------+-------------+----------+----------+-------------+-------------+-----------------+-----------------+\n",
       "| str1 |   str2  | levenshtein | soundex1 | soundex2 | dmetaphone1 | dmetaphone2 | dmetaphone_alt1 | dmetaphone_alt2 |\n",
       "+------+---------+-------------+----------+----------+-------------+-------------+-----------------+-----------------+\n",
       "| Lisa |   List  |      1      |   L200   |   L230   |      LS     |     LST     |        LS       |       LST       |\n",
       "| Lisa | License |      4      |   L200   |   L252   |      LS     |     LSNS    |        LS       |       LSNS      |\n",
       "| Joe  |   Noel  |      2      |   J000   |   N400   |      J      |      NL     |        A        |        NL       |\n",
       "+------+---------+-------------+----------+----------+-------------+-------------+-----------------+-----------------+"
      ]
     },
     "execution_count": 21,
     "metadata": {},
     "output_type": "execute_result"
    }
   ],
   "source": [
    "%%sql\n",
    "SELECT *,\n",
    "       levenshtein(str1, str2),\n",
    "       soundex(str1) as soundex1,\n",
    "       soundex(str2) as soundex2,\n",
    "       dmetaphone(str1) AS dmetaphone1,\n",
    "       dmetaphone(str2) AS dmetaphone2,\n",
    "       dmetaphone_alt(str1) AS dmetaphone_alt1,\n",
    "       dmetaphone_alt(str2) AS dmetaphone_alt2\n",
    "FROM Strings;"
   ]
  }
 ],
 "metadata": {
  "kernelspec": {
   "display_name": "Python 3 (ipykernel)",
   "language": "python",
   "name": "python3"
  },
  "language_info": {
   "codemirror_mode": {
    "name": "ipython",
    "version": 3
   },
   "file_extension": ".py",
   "mimetype": "text/x-python",
   "name": "python",
   "nbconvert_exporter": "python",
   "pygments_lexer": "ipython3",
   "version": "3.11.0"
  }
 },
 "nbformat": 4,
 "nbformat_minor": 5
}
