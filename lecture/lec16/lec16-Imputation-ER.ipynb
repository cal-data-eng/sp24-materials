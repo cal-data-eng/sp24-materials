{
 "cells": [
  {
   "cell_type": "markdown",
   "id": "3efe537d-d1be-4b74-836c-1cff6c22ec1d",
   "metadata": {},
   "source": [
    "# Lecture 16: Imputation and Entity Resolution"
   ]
  },
  {
   "cell_type": "code",
   "execution_count": null,
   "id": "72611649-0355-4860-ae39-da1365cbc2c1",
   "metadata": {},
   "outputs": [],
   "source": [
    "import numpy as np\n",
    "import pandas as pd\n",
    "import seaborn as sns\n",
    "import matplotlib.pyplot as plt\n",
    "import matplotlib as mpl\n",
    "\n",
    "import importlib\n",
    "importlib.reload(mpl); importlib.reload(plt); importlib.reload(sns)\n",
    "\n",
    "sns.reset_orig()\n",
    "sns.set(font_scale=1.5)\n",
    "%matplotlib inline"
   ]
  },
  {
   "cell_type": "markdown",
   "id": "e4185fd4-20d4-403a-9088-619be1217763",
   "metadata": {},
   "source": [
    "# GNIS data"
   ]
  },
  {
   "cell_type": "markdown",
   "id": "2f8ce206-e924-42a0-8dd3-dab8c1c2541e",
   "metadata": {},
   "source": [
    "This is the GNIS dataset from the previous lecture. If you didn't load in the database, run the below cell before connecting."
   ]
  },
  {
   "cell_type": "code",
   "execution_count": null,
   "id": "5d5a45fa-0636-4407-97fb-2d94b27df523",
   "metadata": {},
   "outputs": [],
   "source": [
    "!psql -h localhost -d gnis -c 'SELECT pg_terminate_backend(pg_stat_activity.pid) FROM pg_stat_activity WHERE datname = current_database() AND pid <> pg_backend_pid();'\n",
    "!psql -h localhost -c 'DROP DATABASE IF EXISTS gnis'\n",
    "!psql -h localhost -c 'CREATE DATABASE gnis' \n",
    "!psql -h localhost -d gnis -f ../lec13/data/gnis.sql"
   ]
  },
  {
   "cell_type": "code",
   "execution_count": null,
   "id": "ca5713cc-39d6-4cda-8f6c-48e58683fd37",
   "metadata": {},
   "outputs": [],
   "source": [
    "%reload_ext sql\n",
    "%sql postgresql://localhost:5432/gnis"
   ]
  },
  {
   "cell_type": "markdown",
   "id": "f8c367b2-3547-4d14-8961-0e624091b994",
   "metadata": {},
   "source": [
    "## Make a \"holey\" dataset"
   ]
  },
  {
   "cell_type": "code",
   "execution_count": null,
   "id": "144f5ba8-713a-4f4c-b444-fb44834cdc78",
   "metadata": {},
   "outputs": [],
   "source": [
    "%sql SELECT setseed(0.12345);"
   ]
  },
  {
   "cell_type": "code",
   "execution_count": null,
   "id": "4b5778e7-3493-482a-b2a1-ae9a51316221",
   "metadata": {},
   "outputs": [],
   "source": [
    "%%sql\n",
    "DROP TABLE IF EXISTS holey CASCADE;\n",
    "CREATE TABLE holey AS \n",
    "SELECT feature_id, feature_name, feature_class, state_alpha, county_name, \n",
    "       prim_lat_dec, prim_long_dec, \n",
    "       CASE WHEN random() > 0.9 THEN NULL\n",
    "            ELSE elev_in_m\n",
    "        END AS elev_in_m\n",
    "  FROM national;\n",
    "SELECT count(elev_in_m)::float / count(*) FROM holey;"
   ]
  },
  {
   "cell_type": "code",
   "execution_count": null,
   "id": "ff9602d3-7e71-45e4-8609-caa5192bbed3",
   "metadata": {},
   "outputs": [],
   "source": [
    "%%sql\n",
    "SELECT * FROM holey TABLESAMPLE BERNOULLI(.1);"
   ]
  },
  {
   "cell_type": "markdown",
   "id": "d6767106-6a79-4518-9f91-54e7d1b248c5",
   "metadata": {},
   "source": [
    "## Schema 1. Default Value Imputation with SQL"
   ]
  },
  {
   "cell_type": "code",
   "execution_count": null,
   "id": "98e4c278-19fc-4ada-ad3c-9f9793ce034b",
   "metadata": {},
   "outputs": [],
   "source": [
    "%%sql\n",
    "WITH elevavg AS (SELECT avg(elev_in_m) FROM holey)\n",
    "SELECT h.*, \n",
    "       CASE WHEN h.elev_in_m IS NOT NULL THEN h.elev_in_m\n",
    "            ELSE e.avg\n",
    "        END AS imputed_elev_in_m\n",
    "  FROM holey h, elevavg e\n",
    "LIMIT 10;"
   ]
  },
  {
   "cell_type": "markdown",
   "id": "a5a98ebd-2894-4442-ae2d-98a20b13a8e8",
   "metadata": {},
   "source": [
    "## Scheme 2. Correlation across columns"
   ]
  },
  {
   "cell_type": "code",
   "execution_count": null,
   "id": "b4bade8c-1de4-42e8-a2e8-c3bede9cd04e",
   "metadata": {},
   "outputs": [],
   "source": [
    "# Training is an aggregate function\n",
    "# Here we'll train the model in SQL just for fun\n",
    "result = %sql SELECT regr_slope(elev_in_m, prim_long_dec), \\\n",
    "               regr_intercept(elev_in_m, prim_long_dec) FROM holey\n",
    "slope, intercept = result[0]\n",
    "slope, intercept"
   ]
  },
  {
   "cell_type": "code",
   "execution_count": null,
   "id": "7400ba87-2c1e-4de6-9e15-1191d395c0c6",
   "metadata": {},
   "outputs": [],
   "source": [
    "%%sql\n",
    "SELECT prim_long_dec, elev_in_m\n",
    "FROM holey\n",
    "WHERE prim_long_dec >= -122\n",
    "ORDER BY prim_long_dec\n",
    "OFFSET 40;"
   ]
  },
  {
   "cell_type": "code",
   "execution_count": null,
   "id": "6f4ab5f6-2668-48a8-bac3-d9b472b9f111",
   "metadata": {},
   "outputs": [],
   "source": [
    "%%sql\n",
    "SELECT *, \n",
    "       CASE WHEN elev_in_m IS NOT NULL THEN elev_in_m\n",
    "            ELSE {{slope}}*prim_long_dec + {{intercept}}\n",
    "        END AS imputed_elev_in_m\n",
    "  FROM holey\n",
    "LIMIT 10;"
   ]
  },
  {
   "cell_type": "markdown",
   "id": "4066fbd1-901e-4188-8c22-f2fd8fdb4bd5",
   "metadata": {},
   "source": [
    "## Scheme 3. General model-based interpolation\n",
    "\n",
    "We won't show the demo; check slides for the general idea."
   ]
  },
  {
   "cell_type": "code",
   "execution_count": null,
   "id": "2633ebfa-327d-43af-a4cc-21fc829de9a5",
   "metadata": {},
   "outputs": [],
   "source": [
    "%reload_ext sql\n",
    "%sql postgresql://localhost:5432/gnis\n",
    "%config SqlMagic.displaylimit = 100"
   ]
  },
  {
   "cell_type": "markdown",
   "id": "0094baa7-3d6f-47f7-a956-7c024a0dad4b",
   "metadata": {},
   "source": [
    "## Scheme 4. [simple] Correlation across ordered rows"
   ]
  },
  {
   "cell_type": "code",
   "execution_count": null,
   "id": "9380c86b-88dd-4a7f-be40-2e053e85635b",
   "metadata": {},
   "outputs": [],
   "source": [
    "%%sql\n",
    "-- The following does not work in PostgreSQL!\n",
    "WITH buggy AS (\n",
    "SELECT *,\n",
    "       CASE WHEN elev_in_m IS NOT NULL THEN elev_in_m\n",
    "            ELSE lag(elev_in_m, 1)\n",
    "                 OVER (ORDER BY feature_id)\n",
    "        END AS imputed_elev_in_m\n",
    "  FROM holey\n",
    ")\n",
    "SELECT feature_id, elev_in_m, imputed_elev_in_m FROM buggy ORDER BY feature_id ASC LIMIT 12 OFFSET 183;"
   ]
  },
  {
   "cell_type": "code",
   "execution_count": null,
   "id": "bb2818af-5af3-4486-bfe3-404bd5c6fa5a",
   "metadata": {},
   "outputs": [],
   "source": [
    "%%sql\n",
    "-- Here's a UDA fix from\n",
    "-- https://stackoverflow.com/questions/18987791/how-do-i-efficiently-select-the-previous-non-null-value\n",
    "CREATE OR REPLACE FUNCTION coalesce_agg_sfunc(state anyelement, value anyelement) RETURNS anyelement AS\n",
    "$$\n",
    "    SELECT coalesce(value, state);\n",
    "$$ LANGUAGE SQL;\n",
    "\n",
    "CREATE OR REPLACE AGGREGATE coalesce_agg(anyelement) (\n",
    "    SFUNC = coalesce_agg_sfunc,\n",
    "    STYPE  = anyelement);"
   ]
  },
  {
   "cell_type": "code",
   "execution_count": null,
   "id": "02619b1e-d2e4-4494-af32-90b0ced598f7",
   "metadata": {},
   "outputs": [],
   "source": [
    "%%sql\n",
    "-- Fixed to handle repeated NULLs\n",
    "WITH fixed AS (\n",
    "SELECT *,\n",
    "       coalesce_agg(elev_in_m) OVER (order by feature_id) AS imputed_elev_in_m\n",
    "  FROM holey\n",
    ")\n",
    "SELECT feature_id, elev_in_m, imputed_elev_in_m FROM fixed ORDER BY feature_id ASC LIMIT 12 OFFSET 183;"
   ]
  },
  {
   "cell_type": "markdown",
   "id": "252caa8d-706b-4fab-b340-08e6f322f635",
   "metadata": {},
   "source": [
    "## Generalized interpolation across rows"
   ]
  },
  {
   "cell_type": "markdown",
   "id": "75e42911-d86e-4e9b-b02f-8bb1d0b7b486",
   "metadata": {},
   "source": [
    "Forward pass"
   ]
  },
  {
   "cell_type": "code",
   "execution_count": null,
   "id": "d75bd183-ff21-40b4-8e2e-8b210be3c986",
   "metadata": {},
   "outputs": [],
   "source": [
    "%%sql\n",
    "-- 1. Forward assign run numbers to rows, propagate val, get nextval\n",
    "CREATE OR REPLACE VIEW forward AS\n",
    "SELECT *,\n",
    "       SUM(CASE WHEN elev_in_m IS NULL THEN 0 ELSE 1 END) \n",
    "         OVER (ORDER BY feature_id) AS run,\n",
    "       coalesce_agg(elev_in_m) OVER (ORDER BY feature_id) AS run_start,\n",
    "       CASE WHEN elev_in_m IS NULL \n",
    "              THEN lead(elev_in_m, 1) OVER (ORDER BY feature_id)\n",
    "            ELSE NULL\n",
    "             END AS nextval\n",
    "  FROM holey;\n",
    "SELECT * FROM forward ORDER BY feature_id ASC LIMIT 12 OFFSET 183;"
   ]
  },
  {
   "cell_type": "markdown",
   "id": "41b29369-c990-45cd-b7d3-b77560a0c93b",
   "metadata": {},
   "source": [
    "Backward pass"
   ]
  },
  {
   "cell_type": "code",
   "execution_count": null,
   "id": "2b045872-f90d-4558-b09d-11b8bc263366",
   "metadata": {},
   "outputs": [],
   "source": [
    "%%sql\n",
    "-- 2. Backward: assign run_end, run_size, run_rank\n",
    "CREATE OR REPLACE VIEW backward AS\n",
    "SELECT *,\n",
    "       CASE WHEN elev_in_m IS NOT NULL THEN elev_in_m\n",
    "            ELSE coalesce_agg(nextval) OVER (PARTITION BY run ORDER BY feature_id DESC)\n",
    "        END AS run_end,\n",
    "       count(*) OVER (PARTITION BY run) AS run_size,\n",
    "       -1 + (RANK() OVER (PARTITION BY run ORDER BY feature_id)) AS run_rank\n",
    "  FROM forward;\n",
    "SELECT * FROM backward ORDER BY feature_id ASC LIMIT 12 OFFSET 183;"
   ]
  },
  {
   "cell_type": "markdown",
   "id": "b9e70e71-90fb-4740-9a80-4ec30bb824e8",
   "metadata": {},
   "source": [
    "Scalar function pass"
   ]
  },
  {
   "cell_type": "code",
   "execution_count": null,
   "id": "f69f017a-8280-4310-a750-dd68a3de50c8",
   "metadata": {},
   "outputs": [],
   "source": [
    "%%sql\n",
    "-- 3. Simple scalar pass\n",
    "CREATE OR REPLACE VIEW final AS\n",
    "SELECT *, \n",
    "       run_start + (run_rank-1)*((run_end-run_start)/(run_size))\n",
    "         AS interpolated\n",
    "  FROM backward;\n",
    "SELECT * FROM final  ORDER BY feature_id ASC LIMIT 12 OFFSET 183;"
   ]
  },
  {
   "cell_type": "code",
   "execution_count": null,
   "id": "52d91e67-9eb5-4722-941d-f5bd14e316de",
   "metadata": {},
   "outputs": [],
   "source": [
    "%sql EXPLAIN Analyze SELECT * from final LIMIT 500;"
   ]
  },
  {
   "cell_type": "markdown",
   "id": "877eced2-e485-4af5-abf3-fcdc6b3309b6",
   "metadata": {},
   "source": [
    "# String distance"
   ]
  },
  {
   "cell_type": "code",
   "execution_count": null,
   "id": "94256cbc-9c15-4310-981f-23f347d9aebf",
   "metadata": {},
   "outputs": [],
   "source": [
    "%reload_ext sql\n",
    "%sql postgresql://localhost:5432/postgres"
   ]
  },
  {
   "cell_type": "code",
   "execution_count": null,
   "id": "384807b1-fa1e-4c26-a3bd-a49c29150172",
   "metadata": {},
   "outputs": [],
   "source": [
    "%sql CREATE EXTENSION IF NOT EXISTS fuzzystrmatch;"
   ]
  },
  {
   "cell_type": "code",
   "execution_count": null,
   "id": "c4bfffed-8e76-440b-ba85-76f25d14daf0",
   "metadata": {},
   "outputs": [],
   "source": [
    "%%sql\n",
    "DROP TABLE IF EXISTS Strings;\n",
    "CREATE TABLE Strings (str1 TEXT, str2 TEXT);\n",
    "INSERT INTO Strings VALUES\n",
    " ('Lisa', 'List'),\n",
    " ('Lisa', 'License'),\n",
    " ('Joe', 'Noel');"
   ]
  },
  {
   "cell_type": "code",
   "execution_count": null,
   "id": "1d178d20-68fe-4bb9-9c77-f96503e76e20",
   "metadata": {},
   "outputs": [],
   "source": [
    "%%sql\n",
    "SELECT *,\n",
    "       levenshtein(str1, str2),\n",
    "       soundex(str1) as soundex1,\n",
    "       soundex(str2) as soundex2,\n",
    "       dmetaphone(str1) AS dmetaphone1,\n",
    "       dmetaphone(str2) AS dmetaphone2,\n",
    "       dmetaphone_alt(str1) AS dmetaphone_alt1,\n",
    "       dmetaphone_alt(str2) AS dmetaphone_alt2\n",
    "FROM Strings;"
   ]
  }
 ],
 "metadata": {
  "kernelspec": {
   "display_name": "Python 3 (ipykernel)",
   "language": "python",
   "name": "python3"
  },
  "language_info": {
   "codemirror_mode": {
    "name": "ipython",
    "version": 3
   },
   "file_extension": ".py",
   "mimetype": "text/x-python",
   "name": "python",
   "nbconvert_exporter": "python",
   "pygments_lexer": "ipython3",
   "version": "3.11.0"
  }
 },
 "nbformat": 4,
 "nbformat_minor": 5
}
