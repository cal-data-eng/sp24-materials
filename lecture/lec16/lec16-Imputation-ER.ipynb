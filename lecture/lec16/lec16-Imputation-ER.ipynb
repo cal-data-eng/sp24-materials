{
 "cells": [
  {
   "cell_type": "markdown",
   "id": "3efe537d-d1be-4b74-836c-1cff6c22ec1d",
   "metadata": {},
   "source": [
    "# Lecture 16: Imputation and Entity Resolution"
   ]
  },
  {
   "cell_type": "code",
   "execution_count": 16,
   "id": "72611649-0355-4860-ae39-da1365cbc2c1",
   "metadata": {},
   "outputs": [],
   "source": [
    "import numpy as np\n",
    "import pandas as pd\n",
    "import seaborn as sns\n",
    "import matplotlib.pyplot as plt\n",
    "import matplotlib as mpl\n",
    "\n",
    "import importlib\n",
    "importlib.reload(mpl); importlib.reload(plt); importlib.reload(sns)\n",
    "\n",
    "sns.reset_orig()\n",
    "sns.set(font_scale=1.5)\n",
    "%matplotlib inline\n",
    "%config SqlMagic.displaylimit = 100"
   ]
  },
  {
   "cell_type": "markdown",
   "id": "e4185fd4-20d4-403a-9088-619be1217763",
   "metadata": {},
   "source": [
    "# GNIS data"
   ]
  },
  {
   "cell_type": "markdown",
   "id": "2f8ce206-e924-42a0-8dd3-dab8c1c2541e",
   "metadata": {},
   "source": [
    "This is the GNIS dataset from the previous lecture. If you didn't load in the database, run the below cell before connecting."
   ]
  },
  {
   "cell_type": "code",
   "execution_count": 3,
   "id": "5d5a45fa-0636-4407-97fb-2d94b27df523",
   "metadata": {},
   "outputs": [
    {
     "name": "stdout",
     "output_type": "stream",
     "text": [
      " pg_terminate_backend \n",
      "----------------------\n",
      "(0 rows)\n",
      "\n",
      "DROP DATABASE\n",
      "CREATE DATABASE\n",
      "SET\n",
      "SET\n",
      "SET\n",
      "SET\n",
      "SET\n",
      " set_config \n",
      "------------\n",
      " \n",
      "(1 row)\n",
      "\n",
      "SET\n",
      "SET\n",
      "SET\n",
      "SET\n",
      "SET\n",
      "SET\n",
      "CREATE TABLE\n",
      "ALTER TABLE\n",
      "CREATE TABLE\n",
      "ALTER TABLE\n",
      "COPY 3195\n",
      "COPY 11533\n",
      "CREATE INDEX\n"
     ]
    }
   ],
   "source": [
    "!psql -h localhost -d gnis -c 'SELECT pg_terminate_backend(pg_stat_activity.pid) FROM pg_stat_activity WHERE datname = current_database() AND pid <> pg_backend_pid();'\n",
    "!psql -h localhost -c 'DROP DATABASE IF EXISTS gnis'\n",
    "!psql -h localhost -c 'CREATE DATABASE gnis' \n",
    "!psql -h localhost -d gnis -f ../lec14/data/gnis.sql"
   ]
  },
  {
   "cell_type": "code",
   "execution_count": 4,
   "id": "ca5713cc-39d6-4cda-8f6c-48e58683fd37",
   "metadata": {},
   "outputs": [],
   "source": [
    "%reload_ext sql\n",
    "%sql postgresql://localhost:5432/gnis"
   ]
  },
  {
   "cell_type": "markdown",
   "id": "f8c367b2-3547-4d14-8961-0e624091b994",
   "metadata": {},
   "source": [
    "## Make a \"holey\" dataset"
   ]
  },
  {
   "cell_type": "code",
   "execution_count": 5,
   "id": "144f5ba8-713a-4f4c-b444-fb44834cdc78",
   "metadata": {},
   "outputs": [
    {
     "data": {
      "text/html": [
       "<span style=\"None\">Running query in &#x27;postgresql://localhost:5432/gnis&#x27;</span>"
      ],
      "text/plain": [
       "Running query in 'postgresql://localhost:5432/gnis'"
      ]
     },
     "metadata": {},
     "output_type": "display_data"
    },
    {
     "data": {
      "text/html": [
       "<span style=\"color: green\">1 rows affected.</span>"
      ],
      "text/plain": [
       "1 rows affected."
      ]
     },
     "metadata": {},
     "output_type": "display_data"
    },
    {
     "data": {
      "text/html": [
       "<table>\n",
       "    <thead>\n",
       "        <tr>\n",
       "            <th>setseed</th>\n",
       "        </tr>\n",
       "    </thead>\n",
       "    <tbody>\n",
       "        <tr>\n",
       "            <td></td>\n",
       "        </tr>\n",
       "    </tbody>\n",
       "</table>"
      ],
      "text/plain": [
       "+---------+\n",
       "| setseed |\n",
       "+---------+\n",
       "|         |\n",
       "+---------+"
      ]
     },
     "execution_count": 5,
     "metadata": {},
     "output_type": "execute_result"
    }
   ],
   "source": [
    "%sql SELECT setseed(0.12345);"
   ]
  },
  {
   "cell_type": "code",
   "execution_count": 6,
   "id": "4b5778e7-3493-482a-b2a1-ae9a51316221",
   "metadata": {},
   "outputs": [
    {
     "data": {
      "text/html": [
       "<span style=\"None\">Running query in &#x27;postgresql://localhost:5432/gnis&#x27;</span>"
      ],
      "text/plain": [
       "Running query in 'postgresql://localhost:5432/gnis'"
      ]
     },
     "metadata": {},
     "output_type": "display_data"
    },
    {
     "data": {
      "text/html": [
       "<span style=\"color: green\">11533 rows affected.</span>"
      ],
      "text/plain": [
       "11533 rows affected."
      ]
     },
     "metadata": {},
     "output_type": "display_data"
    },
    {
     "data": {
      "text/html": [
       "<span style=\"color: green\">1 rows affected.</span>"
      ],
      "text/plain": [
       "1 rows affected."
      ]
     },
     "metadata": {},
     "output_type": "display_data"
    },
    {
     "data": {
      "text/html": [
       "<table>\n",
       "    <thead>\n",
       "        <tr>\n",
       "            <th>?column?</th>\n",
       "        </tr>\n",
       "    </thead>\n",
       "    <tbody>\n",
       "        <tr>\n",
       "            <td>0.8755744385675887</td>\n",
       "        </tr>\n",
       "    </tbody>\n",
       "</table>"
      ],
      "text/plain": [
       "+--------------------+\n",
       "|      ?column?      |\n",
       "+--------------------+\n",
       "| 0.8755744385675887 |\n",
       "+--------------------+"
      ]
     },
     "execution_count": 6,
     "metadata": {},
     "output_type": "execute_result"
    }
   ],
   "source": [
    "%%sql\n",
    "DROP TABLE IF EXISTS holey CASCADE;\n",
    "CREATE TABLE holey AS \n",
    "SELECT feature_id, feature_name, feature_class, state_alpha, county_name, \n",
    "       prim_lat_dec, prim_long_dec, \n",
    "       CASE WHEN random() > 0.9 THEN NULL\n",
    "            ELSE elev_in_m\n",
    "        END AS elev_in_m\n",
    "  FROM national;\n",
    "SELECT count(elev_in_m)::float / count(*) FROM holey;"
   ]
  },
  {
   "cell_type": "code",
   "execution_count": 9,
   "id": "ff9602d3-7e71-45e4-8609-caa5192bbed3",
   "metadata": {},
   "outputs": [
    {
     "data": {
      "text/html": [
       "<span style=\"None\">Running query in &#x27;postgresql://localhost:5432/gnis&#x27;</span>"
      ],
      "text/plain": [
       "Running query in 'postgresql://localhost:5432/gnis'"
      ]
     },
     "metadata": {},
     "output_type": "display_data"
    },
    {
     "data": {
      "text/html": [
       "<span style=\"color: green\">11 rows affected.</span>"
      ],
      "text/plain": [
       "11 rows affected."
      ]
     },
     "metadata": {},
     "output_type": "display_data"
    },
    {
     "data": {
      "text/html": [
       "<table>\n",
       "    <thead>\n",
       "        <tr>\n",
       "            <th>feature_id</th>\n",
       "            <th>feature_name</th>\n",
       "            <th>feature_class</th>\n",
       "            <th>state_alpha</th>\n",
       "            <th>county_name</th>\n",
       "            <th>prim_lat_dec</th>\n",
       "            <th>prim_long_dec</th>\n",
       "            <th>elev_in_m</th>\n",
       "        </tr>\n",
       "    </thead>\n",
       "    <tbody>\n",
       "        <tr>\n",
       "            <td>196400</td>\n",
       "            <td>New Raymer</td>\n",
       "            <td>Populated Place</td>\n",
       "            <td>CO</td>\n",
       "            <td>Weld</td>\n",
       "            <td>40.606653</td>\n",
       "            <td>-103.843839</td>\n",
       "            <td>1455.0</td>\n",
       "        </tr>\n",
       "        <tr>\n",
       "            <td>398390</td>\n",
       "            <td>Yellow Dog Creek</td>\n",
       "            <td>Stream</td>\n",
       "            <td>ID</td>\n",
       "            <td>Shoshone</td>\n",
       "            <td>47.7760326</td>\n",
       "            <td>-116.0498955</td>\n",
       "            <td>798.0</td>\n",
       "        </tr>\n",
       "        <tr>\n",
       "            <td>664037</td>\n",
       "            <td>Township of Echo</td>\n",
       "            <td>Civil</td>\n",
       "            <td>MN</td>\n",
       "            <td>Yellow Medicine</td>\n",
       "            <td>44.5850389</td>\n",
       "            <td>-95.4217358</td>\n",
       "            <td>327.0</td>\n",
       "        </tr>\n",
       "        <tr>\n",
       "            <td>868651</td>\n",
       "            <td>Mud Pond</td>\n",
       "            <td>Lake</td>\n",
       "            <td>NH</td>\n",
       "            <td>Coos</td>\n",
       "            <td>45.0831989</td>\n",
       "            <td>-71.3776686</td>\n",
       "            <td>461.0</td>\n",
       "        </tr>\n",
       "        <tr>\n",
       "            <td>1194009</td>\n",
       "            <td>Schneiders Field (historical)</td>\n",
       "            <td>Airport</td>\n",
       "            <td>PA</td>\n",
       "            <td>Bucks</td>\n",
       "            <td>41.5237</td>\n",
       "            <td>-75.1704512</td>\n",
       "            <td>None</td>\n",
       "        </tr>\n",
       "        <tr>\n",
       "            <td>1242213</td>\n",
       "            <td>Sweetbriar</td>\n",
       "            <td>Populated Place</td>\n",
       "            <td>SC</td>\n",
       "            <td>Florence</td>\n",
       "            <td>34.1726558</td>\n",
       "            <td>-79.8000635</td>\n",
       "            <td>35.0</td>\n",
       "        </tr>\n",
       "        <tr>\n",
       "            <td>1778400</td>\n",
       "            <td>240 Plaza Shopping Center</td>\n",
       "            <td>Locale</td>\n",
       "            <td>OK</td>\n",
       "            <td>Oklahoma</td>\n",
       "            <td>35.3889508</td>\n",
       "            <td>-97.5292046</td>\n",
       "            <td>379.0</td>\n",
       "        </tr>\n",
       "        <tr>\n",
       "            <td>1954752</td>\n",
       "            <td>Church of God (historical)</td>\n",
       "            <td>Church</td>\n",
       "            <td>NC</td>\n",
       "            <td>Rowan</td>\n",
       "            <td>35.6770837</td>\n",
       "            <td>-80.4447806</td>\n",
       "            <td>229.0</td>\n",
       "        </tr>\n",
       "        <tr>\n",
       "            <td>2075888</td>\n",
       "            <td>East Quogue School</td>\n",
       "            <td>School</td>\n",
       "            <td>NY</td>\n",
       "            <td>Suffolk</td>\n",
       "            <td>40.8436111</td>\n",
       "            <td>-72.5797222</td>\n",
       "            <td>None</td>\n",
       "        </tr>\n",
       "        <tr>\n",
       "            <td>2597891</td>\n",
       "            <td>Cherry Valley Assembly of God</td>\n",
       "            <td>Church</td>\n",
       "            <td>NY</td>\n",
       "            <td>Otsego</td>\n",
       "            <td>42.7946894</td>\n",
       "            <td>-74.7563427</td>\n",
       "            <td>402.0</td>\n",
       "        </tr>\n",
       "    </tbody>\n",
       "</table>\n",
       "<span style=\"font-style:italic;text-align:center;\">Truncated to <a href=\"https://jupysql.ploomber.io/en/latest/api/configuration.html#displaylimit\">displaylimit</a> of 10.</span>"
      ],
      "text/plain": [
       "+------------+-------------------------------+-----------------+-------------+-----------------+--------------+---------------+-----------+\n",
       "| feature_id |          feature_name         |  feature_class  | state_alpha |   county_name   | prim_lat_dec | prim_long_dec | elev_in_m |\n",
       "+------------+-------------------------------+-----------------+-------------+-----------------+--------------+---------------+-----------+\n",
       "|   196400   |           New Raymer          | Populated Place |      CO     |       Weld      |  40.606653   |  -103.843839  |   1455.0  |\n",
       "|   398390   |        Yellow Dog Creek       |      Stream     |      ID     |     Shoshone    |  47.7760326  |  -116.0498955 |   798.0   |\n",
       "|   664037   |        Township of Echo       |      Civil      |      MN     | Yellow Medicine |  44.5850389  |  -95.4217358  |   327.0   |\n",
       "|   868651   |            Mud Pond           |       Lake      |      NH     |       Coos      |  45.0831989  |  -71.3776686  |   461.0   |\n",
       "|  1194009   | Schneiders Field (historical) |     Airport     |      PA     |      Bucks      |   41.5237    |  -75.1704512  |    None   |\n",
       "|  1242213   |           Sweetbriar          | Populated Place |      SC     |     Florence    |  34.1726558  |  -79.8000635  |    35.0   |\n",
       "|  1778400   |   240 Plaza Shopping Center   |      Locale     |      OK     |     Oklahoma    |  35.3889508  |  -97.5292046  |   379.0   |\n",
       "|  1954752   |   Church of God (historical)  |      Church     |      NC     |      Rowan      |  35.6770837  |  -80.4447806  |   229.0   |\n",
       "|  2075888   |       East Quogue School      |      School     |      NY     |     Suffolk     |  40.8436111  |  -72.5797222  |    None   |\n",
       "|  2597891   | Cherry Valley Assembly of God |      Church     |      NY     |      Otsego     |  42.7946894  |  -74.7563427  |   402.0   |\n",
       "+------------+-------------------------------+-----------------+-------------+-----------------+--------------+---------------+-----------+\n",
       "Truncated to displaylimit of 10."
      ]
     },
     "execution_count": 9,
     "metadata": {},
     "output_type": "execute_result"
    }
   ],
   "source": [
    "%%sql\n",
    "SELECT * FROM holey TABLESAMPLE BERNOULLI(.1);"
   ]
  },
  {
   "cell_type": "markdown",
   "id": "d6767106-6a79-4518-9f91-54e7d1b248c5",
   "metadata": {},
   "source": [
    "## Schema 1. Default Value Imputation with SQL"
   ]
  },
  {
   "cell_type": "code",
   "execution_count": 11,
   "id": "98e4c278-19fc-4ada-ad3c-9f9793ce034b",
   "metadata": {},
   "outputs": [
    {
     "data": {
      "text/html": [
       "<span style=\"None\">Running query in &#x27;postgresql://localhost:5432/gnis&#x27;</span>"
      ],
      "text/plain": [
       "Running query in 'postgresql://localhost:5432/gnis'"
      ]
     },
     "metadata": {},
     "output_type": "display_data"
    },
    {
     "data": {
      "text/html": [
       "<span style=\"color: green\">10 rows affected.</span>"
      ],
      "text/plain": [
       "10 rows affected."
      ]
     },
     "metadata": {},
     "output_type": "display_data"
    },
    {
     "data": {
      "text/html": [
       "<table>\n",
       "    <thead>\n",
       "        <tr>\n",
       "            <th>feature_id</th>\n",
       "            <th>feature_name</th>\n",
       "            <th>feature_class</th>\n",
       "            <th>state_alpha</th>\n",
       "            <th>county_name</th>\n",
       "            <th>prim_lat_dec</th>\n",
       "            <th>prim_long_dec</th>\n",
       "            <th>elev_in_m</th>\n",
       "            <th>imputed_elev_in_m</th>\n",
       "        </tr>\n",
       "    </thead>\n",
       "    <tbody>\n",
       "        <tr>\n",
       "            <td>1230</td>\n",
       "            <td>Belmont Mountains</td>\n",
       "            <td>Range</td>\n",
       "            <td>AZ</td>\n",
       "            <td>Maricopa</td>\n",
       "            <td>33.642258</td>\n",
       "            <td>-112.9010129</td>\n",
       "            <td>931.0</td>\n",
       "            <td>931</td>\n",
       "        </tr>\n",
       "        <tr>\n",
       "            <td>1839</td>\n",
       "            <td>Bootlegger Saddle</td>\n",
       "            <td>Gap</td>\n",
       "            <td>AZ</td>\n",
       "            <td>Cochise</td>\n",
       "            <td>31.8931474</td>\n",
       "            <td>-109.2831176</td>\n",
       "            <td>2707.0</td>\n",
       "            <td>2707</td>\n",
       "        </tr>\n",
       "        <tr>\n",
       "            <td>2336</td>\n",
       "            <td>Cabeza Prieta Game Range</td>\n",
       "            <td>Park</td>\n",
       "            <td>AZ</td>\n",
       "            <td>Yuma</td>\n",
       "            <td>32.250056</td>\n",
       "            <td>-113.45074</td>\n",
       "            <td>275.0</td>\n",
       "            <td>275</td>\n",
       "        </tr>\n",
       "        <tr>\n",
       "            <td>2750</td>\n",
       "            <td>Chandler Springs</td>\n",
       "            <td>Spring</td>\n",
       "            <td>AZ</td>\n",
       "            <td>Navajo</td>\n",
       "            <td>35.3766788</td>\n",
       "            <td>-110.4754096</td>\n",
       "            <td>1685.0</td>\n",
       "            <td>1685</td>\n",
       "        </tr>\n",
       "        <tr>\n",
       "            <td>3032</td>\n",
       "            <td>Cline Well</td>\n",
       "            <td>Well</td>\n",
       "            <td>AZ</td>\n",
       "            <td>Cochise</td>\n",
       "            <td>31.9000849</td>\n",
       "            <td>-110.3428525</td>\n",
       "            <td>None</td>\n",
       "            <td>484</td>\n",
       "        </tr>\n",
       "        <tr>\n",
       "            <td>3039</td>\n",
       "            <td>Clover Tank</td>\n",
       "            <td>Reservoir</td>\n",
       "            <td>AZ</td>\n",
       "            <td>Gila</td>\n",
       "            <td>33.8509816</td>\n",
       "            <td>-110.2577249</td>\n",
       "            <td>1563.0</td>\n",
       "            <td>1563</td>\n",
       "        </tr>\n",
       "        <tr>\n",
       "            <td>3060</td>\n",
       "            <td>Coat Spring</td>\n",
       "            <td>Spring</td>\n",
       "            <td>AZ</td>\n",
       "            <td>Navajo</td>\n",
       "            <td>36.12678</td>\n",
       "            <td>-110.3330424</td>\n",
       "            <td>1926.0</td>\n",
       "            <td>1926</td>\n",
       "        </tr>\n",
       "        <tr>\n",
       "            <td>3143</td>\n",
       "            <td>Comar Spring</td>\n",
       "            <td>Spring</td>\n",
       "            <td>AZ</td>\n",
       "            <td>Navajo</td>\n",
       "            <td>35.5308428</td>\n",
       "            <td>-110.4162424</td>\n",
       "            <td>1732.0</td>\n",
       "            <td>1732</td>\n",
       "        </tr>\n",
       "        <tr>\n",
       "            <td>3333</td>\n",
       "            <td>Cottonwood Creek</td>\n",
       "            <td>Stream</td>\n",
       "            <td>AZ</td>\n",
       "            <td>Coconino</td>\n",
       "            <td>36.050817</td>\n",
       "            <td>-111.9865535</td>\n",
       "            <td>800.0</td>\n",
       "            <td>800</td>\n",
       "        </tr>\n",
       "        <tr>\n",
       "            <td>3342</td>\n",
       "            <td>Cottonwood Creek</td>\n",
       "            <td>Stream</td>\n",
       "            <td>AZ</td>\n",
       "            <td>Mohave</td>\n",
       "            <td>36.901931</td>\n",
       "            <td>-112.5632547</td>\n",
       "            <td>1389.0</td>\n",
       "            <td>1389</td>\n",
       "        </tr>\n",
       "    </tbody>\n",
       "</table>\n",
       "<span style=\"font-style:italic;text-align:center;\">Truncated to <a href=\"https://jupysql.ploomber.io/en/latest/api/configuration.html#displaylimit\">displaylimit</a> of 10.</span>"
      ],
      "text/plain": [
       "+------------+--------------------------+---------------+-------------+-------------+--------------+---------------+-----------+-------------------+\n",
       "| feature_id |       feature_name       | feature_class | state_alpha | county_name | prim_lat_dec | prim_long_dec | elev_in_m | imputed_elev_in_m |\n",
       "+------------+--------------------------+---------------+-------------+-------------+--------------+---------------+-----------+-------------------+\n",
       "|    1230    |    Belmont Mountains     |     Range     |      AZ     |   Maricopa  |  33.642258   |  -112.9010129 |   931.0   |        931        |\n",
       "|    1839    |    Bootlegger Saddle     |      Gap      |      AZ     |   Cochise   |  31.8931474  |  -109.2831176 |   2707.0  |        2707       |\n",
       "|    2336    | Cabeza Prieta Game Range |      Park     |      AZ     |     Yuma    |  32.250056   |   -113.45074  |   275.0   |        275        |\n",
       "|    2750    |     Chandler Springs     |     Spring    |      AZ     |    Navajo   |  35.3766788  |  -110.4754096 |   1685.0  |        1685       |\n",
       "|    3032    |        Cline Well        |      Well     |      AZ     |   Cochise   |  31.9000849  |  -110.3428525 |    None   |        484        |\n",
       "|    3039    |       Clover Tank        |   Reservoir   |      AZ     |     Gila    |  33.8509816  |  -110.2577249 |   1563.0  |        1563       |\n",
       "|    3060    |       Coat Spring        |     Spring    |      AZ     |    Navajo   |   36.12678   |  -110.3330424 |   1926.0  |        1926       |\n",
       "|    3143    |       Comar Spring       |     Spring    |      AZ     |    Navajo   |  35.5308428  |  -110.4162424 |   1732.0  |        1732       |\n",
       "|    3333    |     Cottonwood Creek     |     Stream    |      AZ     |   Coconino  |  36.050817   |  -111.9865535 |   800.0   |        800        |\n",
       "|    3342    |     Cottonwood Creek     |     Stream    |      AZ     |    Mohave   |  36.901931   |  -112.5632547 |   1389.0  |        1389       |\n",
       "+------------+--------------------------+---------------+-------------+-------------+--------------+---------------+-----------+-------------------+\n",
       "Truncated to displaylimit of 10."
      ]
     },
     "execution_count": 11,
     "metadata": {},
     "output_type": "execute_result"
    }
   ],
   "source": [
    "%%sql\n",
    "WITH elevavg AS (SELECT avg(elev_in_m) AS av_elev FROM holey)\n",
    "SELECT h.*, \n",
    "       CASE WHEN h.elev_in_m IS NOT NULL THEN h.elev_in_m::integer\n",
    "            ELSE e.av_elev::integer\n",
    "        END AS imputed_elev_in_m\n",
    "  FROM holey h, elevavg e\n",
    "LIMIT 10;"
   ]
  },
  {
   "cell_type": "markdown",
   "id": "a5a98ebd-2894-4442-ae2d-98a20b13a8e8",
   "metadata": {},
   "source": [
    "## Scheme 2. Correlation across columns"
   ]
  },
  {
   "cell_type": "code",
   "execution_count": 12,
   "id": "b4bade8c-1de4-42e8-a2e8-c3bede9cd04e",
   "metadata": {},
   "outputs": [
    {
     "data": {
      "text/html": [
       "<span style=\"None\">Running query in &#x27;postgresql://localhost:5432/gnis&#x27;</span>"
      ],
      "text/plain": [
       "Running query in 'postgresql://localhost:5432/gnis'"
      ]
     },
     "metadata": {},
     "output_type": "display_data"
    },
    {
     "data": {
      "text/html": [
       "<span style=\"color: green\">1 rows affected.</span>"
      ],
      "text/plain": [
       "1 rows affected."
      ]
     },
     "metadata": {},
     "output_type": "display_data"
    },
    {
     "data": {
      "text/plain": [
       "(-10.314179001097786, -477.9603219322606)"
      ]
     },
     "execution_count": 12,
     "metadata": {},
     "output_type": "execute_result"
    }
   ],
   "source": [
    "# Training is an aggregate function\n",
    "# Here we'll train the model in SQL just for fun\n",
    "result = %sql SELECT regr_slope(elev_in_m, prim_long_dec), \\\n",
    "               regr_intercept(elev_in_m, prim_long_dec) FROM holey\n",
    "slope, intercept = result[0]\n",
    "slope, intercept"
   ]
  },
  {
   "cell_type": "code",
   "execution_count": 13,
   "id": "7400ba87-2c1e-4de6-9e15-1191d395c0c6",
   "metadata": {},
   "outputs": [
    {
     "data": {
      "text/html": [
       "<span style=\"None\">Running query in &#x27;postgresql://localhost:5432/gnis&#x27;</span>"
      ],
      "text/plain": [
       "Running query in 'postgresql://localhost:5432/gnis'"
      ]
     },
     "metadata": {},
     "output_type": "display_data"
    },
    {
     "data": {
      "text/html": [
       "<span style=\"color: green\">10834 rows affected.</span>"
      ],
      "text/plain": [
       "10834 rows affected."
      ]
     },
     "metadata": {},
     "output_type": "display_data"
    },
    {
     "data": {
      "text/html": [
       "<table>\n",
       "    <thead>\n",
       "        <tr>\n",
       "            <th>prim_long_dec</th>\n",
       "            <th>elev_in_m</th>\n",
       "        </tr>\n",
       "    </thead>\n",
       "    <tbody>\n",
       "        <tr>\n",
       "            <td>-121.8142546</td>\n",
       "            <td>469.0</td>\n",
       "        </tr>\n",
       "        <tr>\n",
       "            <td>-121.8099602</td>\n",
       "            <td>None</td>\n",
       "        </tr>\n",
       "        <tr>\n",
       "            <td>-121.8083604</td>\n",
       "            <td>1454.0</td>\n",
       "        </tr>\n",
       "        <tr>\n",
       "            <td>-121.8056805</td>\n",
       "            <td>None</td>\n",
       "        </tr>\n",
       "        <tr>\n",
       "            <td>-121.803556</td>\n",
       "            <td>1614.0</td>\n",
       "        </tr>\n",
       "        <tr>\n",
       "            <td>-121.7974945</td>\n",
       "            <td>1264.0</td>\n",
       "        </tr>\n",
       "        <tr>\n",
       "            <td>-121.7960906</td>\n",
       "            <td>219.0</td>\n",
       "        </tr>\n",
       "        <tr>\n",
       "            <td>-121.784236</td>\n",
       "            <td>1684.0</td>\n",
       "        </tr>\n",
       "        <tr>\n",
       "            <td>-121.7832846</td>\n",
       "            <td>2.0</td>\n",
       "        </tr>\n",
       "        <tr>\n",
       "            <td>-121.7785678</td>\n",
       "            <td>46.0</td>\n",
       "        </tr>\n",
       "    </tbody>\n",
       "</table>\n",
       "<span style=\"font-style:italic;text-align:center;\">Truncated to <a href=\"https://jupysql.ploomber.io/en/latest/api/configuration.html#displaylimit\">displaylimit</a> of 10.</span>"
      ],
      "text/plain": [
       "+---------------+-----------+\n",
       "| prim_long_dec | elev_in_m |\n",
       "+---------------+-----------+\n",
       "|  -121.8142546 |   469.0   |\n",
       "|  -121.8099602 |    None   |\n",
       "|  -121.8083604 |   1454.0  |\n",
       "|  -121.8056805 |    None   |\n",
       "|  -121.803556  |   1614.0  |\n",
       "|  -121.7974945 |   1264.0  |\n",
       "|  -121.7960906 |   219.0   |\n",
       "|  -121.784236  |   1684.0  |\n",
       "|  -121.7832846 |    2.0    |\n",
       "|  -121.7785678 |    46.0   |\n",
       "+---------------+-----------+\n",
       "Truncated to displaylimit of 10."
      ]
     },
     "execution_count": 13,
     "metadata": {},
     "output_type": "execute_result"
    }
   ],
   "source": [
    "%%sql\n",
    "SELECT prim_long_dec, elev_in_m\n",
    "FROM holey\n",
    "WHERE prim_long_dec >= -122\n",
    "ORDER BY prim_long_dec\n",
    "OFFSET 40;"
   ]
  },
  {
   "cell_type": "code",
   "execution_count": 15,
   "id": "6f4ab5f6-2668-48a8-bac3-d9b472b9f111",
   "metadata": {},
   "outputs": [
    {
     "data": {
      "text/html": [
       "<span style=\"None\">Running query in &#x27;postgresql://localhost:5432/gnis&#x27;</span>"
      ],
      "text/plain": [
       "Running query in 'postgresql://localhost:5432/gnis'"
      ]
     },
     "metadata": {},
     "output_type": "display_data"
    },
    {
     "data": {
      "text/html": [
       "<span style=\"color: green\">10 rows affected.</span>"
      ],
      "text/plain": [
       "10 rows affected."
      ]
     },
     "metadata": {},
     "output_type": "display_data"
    },
    {
     "data": {
      "text/html": [
       "<table>\n",
       "    <thead>\n",
       "        <tr>\n",
       "            <th>feature_id</th>\n",
       "            <th>feature_name</th>\n",
       "            <th>feature_class</th>\n",
       "            <th>state_alpha</th>\n",
       "            <th>county_name</th>\n",
       "            <th>prim_lat_dec</th>\n",
       "            <th>prim_long_dec</th>\n",
       "            <th>elev_in_m</th>\n",
       "            <th>imputed_elev_in_m</th>\n",
       "        </tr>\n",
       "    </thead>\n",
       "    <tbody>\n",
       "        <tr>\n",
       "            <td>1230</td>\n",
       "            <td>Belmont Mountains</td>\n",
       "            <td>Range</td>\n",
       "            <td>AZ</td>\n",
       "            <td>Maricopa</td>\n",
       "            <td>33.642258</td>\n",
       "            <td>-112.9010129</td>\n",
       "            <td>931.0</td>\n",
       "            <td>931</td>\n",
       "        </tr>\n",
       "        <tr>\n",
       "            <td>1839</td>\n",
       "            <td>Bootlegger Saddle</td>\n",
       "            <td>Gap</td>\n",
       "            <td>AZ</td>\n",
       "            <td>Cochise</td>\n",
       "            <td>31.8931474</td>\n",
       "            <td>-109.2831176</td>\n",
       "            <td>2707.0</td>\n",
       "            <td>2707</td>\n",
       "        </tr>\n",
       "        <tr>\n",
       "            <td>2336</td>\n",
       "            <td>Cabeza Prieta Game Range</td>\n",
       "            <td>Park</td>\n",
       "            <td>AZ</td>\n",
       "            <td>Yuma</td>\n",
       "            <td>32.250056</td>\n",
       "            <td>-113.45074</td>\n",
       "            <td>275.0</td>\n",
       "            <td>275</td>\n",
       "        </tr>\n",
       "        <tr>\n",
       "            <td>2750</td>\n",
       "            <td>Chandler Springs</td>\n",
       "            <td>Spring</td>\n",
       "            <td>AZ</td>\n",
       "            <td>Navajo</td>\n",
       "            <td>35.3766788</td>\n",
       "            <td>-110.4754096</td>\n",
       "            <td>1685.0</td>\n",
       "            <td>1685</td>\n",
       "        </tr>\n",
       "        <tr>\n",
       "            <td>3032</td>\n",
       "            <td>Cline Well</td>\n",
       "            <td>Well</td>\n",
       "            <td>AZ</td>\n",
       "            <td>Cochise</td>\n",
       "            <td>31.9000849</td>\n",
       "            <td>-110.3428525</td>\n",
       "            <td>None</td>\n",
       "            <td>660</td>\n",
       "        </tr>\n",
       "        <tr>\n",
       "            <td>3039</td>\n",
       "            <td>Clover Tank</td>\n",
       "            <td>Reservoir</td>\n",
       "            <td>AZ</td>\n",
       "            <td>Gila</td>\n",
       "            <td>33.8509816</td>\n",
       "            <td>-110.2577249</td>\n",
       "            <td>1563.0</td>\n",
       "            <td>1563</td>\n",
       "        </tr>\n",
       "        <tr>\n",
       "            <td>3060</td>\n",
       "            <td>Coat Spring</td>\n",
       "            <td>Spring</td>\n",
       "            <td>AZ</td>\n",
       "            <td>Navajo</td>\n",
       "            <td>36.12678</td>\n",
       "            <td>-110.3330424</td>\n",
       "            <td>1926.0</td>\n",
       "            <td>1926</td>\n",
       "        </tr>\n",
       "        <tr>\n",
       "            <td>3143</td>\n",
       "            <td>Comar Spring</td>\n",
       "            <td>Spring</td>\n",
       "            <td>AZ</td>\n",
       "            <td>Navajo</td>\n",
       "            <td>35.5308428</td>\n",
       "            <td>-110.4162424</td>\n",
       "            <td>1732.0</td>\n",
       "            <td>1732</td>\n",
       "        </tr>\n",
       "        <tr>\n",
       "            <td>3333</td>\n",
       "            <td>Cottonwood Creek</td>\n",
       "            <td>Stream</td>\n",
       "            <td>AZ</td>\n",
       "            <td>Coconino</td>\n",
       "            <td>36.050817</td>\n",
       "            <td>-111.9865535</td>\n",
       "            <td>800.0</td>\n",
       "            <td>800</td>\n",
       "        </tr>\n",
       "        <tr>\n",
       "            <td>3342</td>\n",
       "            <td>Cottonwood Creek</td>\n",
       "            <td>Stream</td>\n",
       "            <td>AZ</td>\n",
       "            <td>Mohave</td>\n",
       "            <td>36.901931</td>\n",
       "            <td>-112.5632547</td>\n",
       "            <td>1389.0</td>\n",
       "            <td>1389</td>\n",
       "        </tr>\n",
       "    </tbody>\n",
       "</table>\n",
       "<span style=\"font-style:italic;text-align:center;\">Truncated to <a href=\"https://jupysql.ploomber.io/en/latest/api/configuration.html#displaylimit\">displaylimit</a> of 10.</span>"
      ],
      "text/plain": [
       "+------------+--------------------------+---------------+-------------+-------------+--------------+---------------+-----------+-------------------+\n",
       "| feature_id |       feature_name       | feature_class | state_alpha | county_name | prim_lat_dec | prim_long_dec | elev_in_m | imputed_elev_in_m |\n",
       "+------------+--------------------------+---------------+-------------+-------------+--------------+---------------+-----------+-------------------+\n",
       "|    1230    |    Belmont Mountains     |     Range     |      AZ     |   Maricopa  |  33.642258   |  -112.9010129 |   931.0   |        931        |\n",
       "|    1839    |    Bootlegger Saddle     |      Gap      |      AZ     |   Cochise   |  31.8931474  |  -109.2831176 |   2707.0  |        2707       |\n",
       "|    2336    | Cabeza Prieta Game Range |      Park     |      AZ     |     Yuma    |  32.250056   |   -113.45074  |   275.0   |        275        |\n",
       "|    2750    |     Chandler Springs     |     Spring    |      AZ     |    Navajo   |  35.3766788  |  -110.4754096 |   1685.0  |        1685       |\n",
       "|    3032    |        Cline Well        |      Well     |      AZ     |   Cochise   |  31.9000849  |  -110.3428525 |    None   |        660        |\n",
       "|    3039    |       Clover Tank        |   Reservoir   |      AZ     |     Gila    |  33.8509816  |  -110.2577249 |   1563.0  |        1563       |\n",
       "|    3060    |       Coat Spring        |     Spring    |      AZ     |    Navajo   |   36.12678   |  -110.3330424 |   1926.0  |        1926       |\n",
       "|    3143    |       Comar Spring       |     Spring    |      AZ     |    Navajo   |  35.5308428  |  -110.4162424 |   1732.0  |        1732       |\n",
       "|    3333    |     Cottonwood Creek     |     Stream    |      AZ     |   Coconino  |  36.050817   |  -111.9865535 |   800.0   |        800        |\n",
       "|    3342    |     Cottonwood Creek     |     Stream    |      AZ     |    Mohave   |  36.901931   |  -112.5632547 |   1389.0  |        1389       |\n",
       "+------------+--------------------------+---------------+-------------+-------------+--------------+---------------+-----------+-------------------+\n",
       "Truncated to displaylimit of 10."
      ]
     },
     "execution_count": 15,
     "metadata": {},
     "output_type": "execute_result"
    }
   ],
   "source": [
    "%%sql\n",
    "SELECT *, \n",
    "       CASE WHEN elev_in_m IS NOT NULL THEN elev_in_m::integer\n",
    "            ELSE ({{slope}}*prim_long_dec + {{intercept}})::integer\n",
    "        END AS imputed_elev_in_m\n",
    "  FROM holey\n",
    "LIMIT 10;"
   ]
  },
  {
   "cell_type": "markdown",
   "id": "4066fbd1-901e-4188-8c22-f2fd8fdb4bd5",
   "metadata": {},
   "source": [
    "## Scheme 3. General model-based interpolation\n",
    "\n",
    "We won't show the demo; check slides for the general idea."
   ]
  },
  {
   "cell_type": "markdown",
   "id": "0094baa7-3d6f-47f7-a956-7c024a0dad4b",
   "metadata": {},
   "source": [
    "## Scheme 4. [simple] Correlation across ordered rows"
   ]
  },
  {
   "cell_type": "code",
   "execution_count": 17,
   "id": "9380c86b-88dd-4a7f-be40-2e053e85635b",
   "metadata": {},
   "outputs": [
    {
     "data": {
      "text/html": [
       "<span style=\"None\">Running query in &#x27;postgresql://localhost:5432/gnis&#x27;</span>"
      ],
      "text/plain": [
       "Running query in 'postgresql://localhost:5432/gnis'"
      ]
     },
     "metadata": {},
     "output_type": "display_data"
    },
    {
     "data": {
      "text/html": [
       "<span style=\"color: green\">12 rows affected.</span>"
      ],
      "text/plain": [
       "12 rows affected."
      ]
     },
     "metadata": {},
     "output_type": "display_data"
    },
    {
     "data": {
      "text/html": [
       "<table>\n",
       "    <thead>\n",
       "        <tr>\n",
       "            <th>feature_id</th>\n",
       "            <th>elev_in_m</th>\n",
       "            <th>imputed_elev_in_m</th>\n",
       "        </tr>\n",
       "    </thead>\n",
       "    <tbody>\n",
       "        <tr>\n",
       "            <td>48638</td>\n",
       "            <td>46.0</td>\n",
       "            <td>46.0</td>\n",
       "        </tr>\n",
       "        <tr>\n",
       "            <td>49192</td>\n",
       "            <td>401.0</td>\n",
       "            <td>401.0</td>\n",
       "        </tr>\n",
       "        <tr>\n",
       "            <td>49214</td>\n",
       "            <td>194.0</td>\n",
       "            <td>194.0</td>\n",
       "        </tr>\n",
       "        <tr>\n",
       "            <td>49350</td>\n",
       "            <td>None</td>\n",
       "            <td>194.0</td>\n",
       "        </tr>\n",
       "        <tr>\n",
       "            <td>49578</td>\n",
       "            <td>None</td>\n",
       "            <td>None</td>\n",
       "        </tr>\n",
       "        <tr>\n",
       "            <td>49802</td>\n",
       "            <td>47.0</td>\n",
       "            <td>47.0</td>\n",
       "        </tr>\n",
       "        <tr>\n",
       "            <td>49925</td>\n",
       "            <td>111.0</td>\n",
       "            <td>111.0</td>\n",
       "        </tr>\n",
       "        <tr>\n",
       "            <td>50059</td>\n",
       "            <td>71.0</td>\n",
       "            <td>71.0</td>\n",
       "        </tr>\n",
       "        <tr>\n",
       "            <td>50309</td>\n",
       "            <td>None</td>\n",
       "            <td>71.0</td>\n",
       "        </tr>\n",
       "        <tr>\n",
       "            <td>50661</td>\n",
       "            <td>26.0</td>\n",
       "            <td>26.0</td>\n",
       "        </tr>\n",
       "        <tr>\n",
       "            <td>50948</td>\n",
       "            <td>222.0</td>\n",
       "            <td>222.0</td>\n",
       "        </tr>\n",
       "        <tr>\n",
       "            <td>51021</td>\n",
       "            <td>70.0</td>\n",
       "            <td>70.0</td>\n",
       "        </tr>\n",
       "    </tbody>\n",
       "</table>"
      ],
      "text/plain": [
       "+------------+-----------+-------------------+\n",
       "| feature_id | elev_in_m | imputed_elev_in_m |\n",
       "+------------+-----------+-------------------+\n",
       "|   48638    |    46.0   |        46.0       |\n",
       "|   49192    |   401.0   |       401.0       |\n",
       "|   49214    |   194.0   |       194.0       |\n",
       "|   49350    |    None   |       194.0       |\n",
       "|   49578    |    None   |        None       |\n",
       "|   49802    |    47.0   |        47.0       |\n",
       "|   49925    |   111.0   |       111.0       |\n",
       "|   50059    |    71.0   |        71.0       |\n",
       "|   50309    |    None   |        71.0       |\n",
       "|   50661    |    26.0   |        26.0       |\n",
       "|   50948    |   222.0   |       222.0       |\n",
       "|   51021    |    70.0   |        70.0       |\n",
       "+------------+-----------+-------------------+"
      ]
     },
     "execution_count": 17,
     "metadata": {},
     "output_type": "execute_result"
    }
   ],
   "source": [
    "%%sql\n",
    "-- The following does not work in PostgreSQL!\n",
    "WITH buggy AS (\n",
    "SELECT *,\n",
    "       CASE WHEN elev_in_m IS NOT NULL THEN elev_in_m\n",
    "            ELSE lag(elev_in_m, 1)\n",
    "                 OVER (ORDER BY feature_id)\n",
    "        END AS imputed_elev_in_m\n",
    "  FROM holey\n",
    ")\n",
    "SELECT feature_id, elev_in_m, imputed_elev_in_m FROM buggy ORDER BY feature_id ASC LIMIT 12 OFFSET 183;"
   ]
  },
  {
   "cell_type": "code",
   "execution_count": 18,
   "id": "bb2818af-5af3-4486-bfe3-404bd5c6fa5a",
   "metadata": {},
   "outputs": [
    {
     "data": {
      "text/html": [
       "<span style=\"None\">Running query in &#x27;postgresql://localhost:5432/gnis&#x27;</span>"
      ],
      "text/plain": [
       "Running query in 'postgresql://localhost:5432/gnis'"
      ]
     },
     "metadata": {},
     "output_type": "display_data"
    },
    {
     "data": {
      "text/html": [
       "<table>\n",
       "    <thead>\n",
       "        <tr>\n",
       "        </tr>\n",
       "    </thead>\n",
       "    <tbody>\n",
       "    </tbody>\n",
       "</table>"
      ],
      "text/plain": [
       "++\n",
       "||\n",
       "++\n",
       "++"
      ]
     },
     "execution_count": 18,
     "metadata": {},
     "output_type": "execute_result"
    }
   ],
   "source": [
    "%%sql\n",
    "-- Here's a UDA fix from\n",
    "-- https://stackoverflow.com/questions/18987791/how-do-i-efficiently-select-the-previous-non-null-value\n",
    "CREATE OR REPLACE FUNCTION coalesce_agg_sfunc(state anyelement, value anyelement) RETURNS anyelement AS\n",
    "$$\n",
    "    SELECT coalesce(value, state);\n",
    "$$ LANGUAGE SQL;\n",
    "\n",
    "CREATE OR REPLACE AGGREGATE coalesce_agg(anyelement) (\n",
    "    SFUNC = coalesce_agg_sfunc,\n",
    "    STYPE  = anyelement);"
   ]
  },
  {
   "cell_type": "code",
   "execution_count": 19,
   "id": "02619b1e-d2e4-4494-af32-90b0ced598f7",
   "metadata": {},
   "outputs": [
    {
     "data": {
      "text/html": [
       "<span style=\"None\">Running query in &#x27;postgresql://localhost:5432/gnis&#x27;</span>"
      ],
      "text/plain": [
       "Running query in 'postgresql://localhost:5432/gnis'"
      ]
     },
     "metadata": {},
     "output_type": "display_data"
    },
    {
     "data": {
      "text/html": [
       "<span style=\"color: green\">12 rows affected.</span>"
      ],
      "text/plain": [
       "12 rows affected."
      ]
     },
     "metadata": {},
     "output_type": "display_data"
    },
    {
     "data": {
      "text/html": [
       "<table>\n",
       "    <thead>\n",
       "        <tr>\n",
       "            <th>feature_id</th>\n",
       "            <th>elev_in_m</th>\n",
       "            <th>imputed_elev_in_m</th>\n",
       "        </tr>\n",
       "    </thead>\n",
       "    <tbody>\n",
       "        <tr>\n",
       "            <td>48638</td>\n",
       "            <td>46.0</td>\n",
       "            <td>46.0</td>\n",
       "        </tr>\n",
       "        <tr>\n",
       "            <td>49192</td>\n",
       "            <td>401.0</td>\n",
       "            <td>401.0</td>\n",
       "        </tr>\n",
       "        <tr>\n",
       "            <td>49214</td>\n",
       "            <td>194.0</td>\n",
       "            <td>194.0</td>\n",
       "        </tr>\n",
       "        <tr>\n",
       "            <td>49350</td>\n",
       "            <td>None</td>\n",
       "            <td>194.0</td>\n",
       "        </tr>\n",
       "        <tr>\n",
       "            <td>49578</td>\n",
       "            <td>None</td>\n",
       "            <td>194.0</td>\n",
       "        </tr>\n",
       "        <tr>\n",
       "            <td>49802</td>\n",
       "            <td>47.0</td>\n",
       "            <td>47.0</td>\n",
       "        </tr>\n",
       "        <tr>\n",
       "            <td>49925</td>\n",
       "            <td>111.0</td>\n",
       "            <td>111.0</td>\n",
       "        </tr>\n",
       "        <tr>\n",
       "            <td>50059</td>\n",
       "            <td>71.0</td>\n",
       "            <td>71.0</td>\n",
       "        </tr>\n",
       "        <tr>\n",
       "            <td>50309</td>\n",
       "            <td>None</td>\n",
       "            <td>71.0</td>\n",
       "        </tr>\n",
       "        <tr>\n",
       "            <td>50661</td>\n",
       "            <td>26.0</td>\n",
       "            <td>26.0</td>\n",
       "        </tr>\n",
       "        <tr>\n",
       "            <td>50948</td>\n",
       "            <td>222.0</td>\n",
       "            <td>222.0</td>\n",
       "        </tr>\n",
       "        <tr>\n",
       "            <td>51021</td>\n",
       "            <td>70.0</td>\n",
       "            <td>70.0</td>\n",
       "        </tr>\n",
       "    </tbody>\n",
       "</table>"
      ],
      "text/plain": [
       "+------------+-----------+-------------------+\n",
       "| feature_id | elev_in_m | imputed_elev_in_m |\n",
       "+------------+-----------+-------------------+\n",
       "|   48638    |    46.0   |        46.0       |\n",
       "|   49192    |   401.0   |       401.0       |\n",
       "|   49214    |   194.0   |       194.0       |\n",
       "|   49350    |    None   |       194.0       |\n",
       "|   49578    |    None   |       194.0       |\n",
       "|   49802    |    47.0   |        47.0       |\n",
       "|   49925    |   111.0   |       111.0       |\n",
       "|   50059    |    71.0   |        71.0       |\n",
       "|   50309    |    None   |        71.0       |\n",
       "|   50661    |    26.0   |        26.0       |\n",
       "|   50948    |   222.0   |       222.0       |\n",
       "|   51021    |    70.0   |        70.0       |\n",
       "+------------+-----------+-------------------+"
      ]
     },
     "execution_count": 19,
     "metadata": {},
     "output_type": "execute_result"
    }
   ],
   "source": [
    "%%sql\n",
    "-- Fixed to handle repeated NULLs\n",
    "WITH fixed AS (\n",
    "SELECT *,\n",
    "       coalesce_agg(elev_in_m) OVER (order by feature_id) AS imputed_elev_in_m\n",
    "  FROM holey\n",
    ")\n",
    "SELECT feature_id, elev_in_m, imputed_elev_in_m FROM fixed ORDER BY feature_id ASC LIMIT 12 OFFSET 183;"
   ]
  },
  {
   "cell_type": "markdown",
   "id": "252caa8d-706b-4fab-b340-08e6f322f635",
   "metadata": {},
   "source": [
    "## Generalized interpolation across rows"
   ]
  },
  {
   "cell_type": "markdown",
   "id": "75e42911-d86e-4e9b-b02f-8bb1d0b7b486",
   "metadata": {},
   "source": [
    "Forward pass"
   ]
  },
  {
   "cell_type": "code",
   "execution_count": 23,
   "id": "d75bd183-ff21-40b4-8e2e-8b210be3c986",
   "metadata": {},
   "outputs": [
    {
     "data": {
      "text/html": [
       "<span style=\"None\">Running query in &#x27;postgresql://localhost:5432/gnis&#x27;</span>"
      ],
      "text/plain": [
       "Running query in 'postgresql://localhost:5432/gnis'"
      ]
     },
     "metadata": {},
     "output_type": "display_data"
    },
    {
     "data": {
      "text/html": [
       "<span style=\"color: green\">12 rows affected.</span>"
      ],
      "text/plain": [
       "12 rows affected."
      ]
     },
     "metadata": {},
     "output_type": "display_data"
    },
    {
     "data": {
      "text/html": [
       "<table>\n",
       "    <thead>\n",
       "        <tr>\n",
       "            <th>feature_id</th>\n",
       "            <th>elev_in_m</th>\n",
       "            <th>run</th>\n",
       "            <th>run_start</th>\n",
       "            <th>nextval</th>\n",
       "        </tr>\n",
       "    </thead>\n",
       "    <tbody>\n",
       "        <tr>\n",
       "            <td>48638</td>\n",
       "            <td>46.0</td>\n",
       "            <td>168</td>\n",
       "            <td>46.0</td>\n",
       "            <td>None</td>\n",
       "        </tr>\n",
       "        <tr>\n",
       "            <td>49192</td>\n",
       "            <td>401.0</td>\n",
       "            <td>169</td>\n",
       "            <td>401.0</td>\n",
       "            <td>None</td>\n",
       "        </tr>\n",
       "        <tr>\n",
       "            <td>49214</td>\n",
       "            <td>194.0</td>\n",
       "            <td>170</td>\n",
       "            <td>194.0</td>\n",
       "            <td>None</td>\n",
       "        </tr>\n",
       "        <tr>\n",
       "            <td>49350</td>\n",
       "            <td>None</td>\n",
       "            <td>170</td>\n",
       "            <td>194.0</td>\n",
       "            <td>None</td>\n",
       "        </tr>\n",
       "        <tr>\n",
       "            <td>49578</td>\n",
       "            <td>None</td>\n",
       "            <td>170</td>\n",
       "            <td>194.0</td>\n",
       "            <td>47.0</td>\n",
       "        </tr>\n",
       "        <tr>\n",
       "            <td>49802</td>\n",
       "            <td>47.0</td>\n",
       "            <td>171</td>\n",
       "            <td>47.0</td>\n",
       "            <td>None</td>\n",
       "        </tr>\n",
       "        <tr>\n",
       "            <td>49925</td>\n",
       "            <td>111.0</td>\n",
       "            <td>172</td>\n",
       "            <td>111.0</td>\n",
       "            <td>None</td>\n",
       "        </tr>\n",
       "        <tr>\n",
       "            <td>50059</td>\n",
       "            <td>71.0</td>\n",
       "            <td>173</td>\n",
       "            <td>71.0</td>\n",
       "            <td>None</td>\n",
       "        </tr>\n",
       "        <tr>\n",
       "            <td>50309</td>\n",
       "            <td>None</td>\n",
       "            <td>173</td>\n",
       "            <td>71.0</td>\n",
       "            <td>26.0</td>\n",
       "        </tr>\n",
       "        <tr>\n",
       "            <td>50661</td>\n",
       "            <td>26.0</td>\n",
       "            <td>174</td>\n",
       "            <td>26.0</td>\n",
       "            <td>None</td>\n",
       "        </tr>\n",
       "        <tr>\n",
       "            <td>50948</td>\n",
       "            <td>222.0</td>\n",
       "            <td>175</td>\n",
       "            <td>222.0</td>\n",
       "            <td>None</td>\n",
       "        </tr>\n",
       "        <tr>\n",
       "            <td>51021</td>\n",
       "            <td>70.0</td>\n",
       "            <td>176</td>\n",
       "            <td>70.0</td>\n",
       "            <td>None</td>\n",
       "        </tr>\n",
       "    </tbody>\n",
       "</table>"
      ],
      "text/plain": [
       "+------------+-----------+-----+-----------+---------+\n",
       "| feature_id | elev_in_m | run | run_start | nextval |\n",
       "+------------+-----------+-----+-----------+---------+\n",
       "|   48638    |    46.0   | 168 |    46.0   |   None  |\n",
       "|   49192    |   401.0   | 169 |   401.0   |   None  |\n",
       "|   49214    |   194.0   | 170 |   194.0   |   None  |\n",
       "|   49350    |    None   | 170 |   194.0   |   None  |\n",
       "|   49578    |    None   | 170 |   194.0   |   47.0  |\n",
       "|   49802    |    47.0   | 171 |    47.0   |   None  |\n",
       "|   49925    |   111.0   | 172 |   111.0   |   None  |\n",
       "|   50059    |    71.0   | 173 |    71.0   |   None  |\n",
       "|   50309    |    None   | 173 |    71.0   |   26.0  |\n",
       "|   50661    |    26.0   | 174 |    26.0   |   None  |\n",
       "|   50948    |   222.0   | 175 |   222.0   |   None  |\n",
       "|   51021    |    70.0   | 176 |    70.0   |   None  |\n",
       "+------------+-----------+-----+-----------+---------+"
      ]
     },
     "execution_count": 23,
     "metadata": {},
     "output_type": "execute_result"
    }
   ],
   "source": [
    "%%sql\n",
    "-- 1. Forward assign run numbers to rows, propagate val, get nextval\n",
    "CREATE OR REPLACE VIEW forward AS\n",
    "SELECT feature_id, elev_in_m,\n",
    "       SUM(CASE WHEN elev_in_m IS NULL THEN 0 ELSE 1 END) \n",
    "         OVER (ORDER BY feature_id) AS run,\n",
    "       coalesce_agg(elev_in_m) OVER (ORDER BY feature_id) AS run_start,\n",
    "       CASE WHEN elev_in_m IS NULL \n",
    "              THEN lead(elev_in_m, 1) OVER (ORDER BY feature_id)\n",
    "            ELSE NULL\n",
    "             END AS nextval\n",
    "  FROM holey;\n",
    "SELECT * FROM forward ORDER BY feature_id ASC LIMIT 12 OFFSET 183;"
   ]
  },
  {
   "cell_type": "markdown",
   "id": "41b29369-c990-45cd-b7d3-b77560a0c93b",
   "metadata": {},
   "source": [
    "Backward pass"
   ]
  },
  {
   "cell_type": "code",
   "execution_count": 24,
   "id": "2b045872-f90d-4558-b09d-11b8bc263366",
   "metadata": {},
   "outputs": [
    {
     "data": {
      "text/html": [
       "<span style=\"None\">Running query in &#x27;postgresql://localhost:5432/gnis&#x27;</span>"
      ],
      "text/plain": [
       "Running query in 'postgresql://localhost:5432/gnis'"
      ]
     },
     "metadata": {},
     "output_type": "display_data"
    },
    {
     "data": {
      "text/html": [
       "<span style=\"color: green\">12 rows affected.</span>"
      ],
      "text/plain": [
       "12 rows affected."
      ]
     },
     "metadata": {},
     "output_type": "display_data"
    },
    {
     "data": {
      "text/html": [
       "<table>\n",
       "    <thead>\n",
       "        <tr>\n",
       "            <th>feature_id</th>\n",
       "            <th>elev_in_m</th>\n",
       "            <th>run</th>\n",
       "            <th>run_start</th>\n",
       "            <th>nextval</th>\n",
       "            <th>run_end</th>\n",
       "            <th>run_size</th>\n",
       "            <th>run_rank</th>\n",
       "        </tr>\n",
       "    </thead>\n",
       "    <tbody>\n",
       "        <tr>\n",
       "            <td>48638</td>\n",
       "            <td>46.0</td>\n",
       "            <td>168</td>\n",
       "            <td>46.0</td>\n",
       "            <td>None</td>\n",
       "            <td>46.0</td>\n",
       "            <td>1</td>\n",
       "            <td>0</td>\n",
       "        </tr>\n",
       "        <tr>\n",
       "            <td>49192</td>\n",
       "            <td>401.0</td>\n",
       "            <td>169</td>\n",
       "            <td>401.0</td>\n",
       "            <td>None</td>\n",
       "            <td>401.0</td>\n",
       "            <td>1</td>\n",
       "            <td>0</td>\n",
       "        </tr>\n",
       "        <tr>\n",
       "            <td>49214</td>\n",
       "            <td>194.0</td>\n",
       "            <td>170</td>\n",
       "            <td>194.0</td>\n",
       "            <td>None</td>\n",
       "            <td>194.0</td>\n",
       "            <td>3</td>\n",
       "            <td>0</td>\n",
       "        </tr>\n",
       "        <tr>\n",
       "            <td>49350</td>\n",
       "            <td>None</td>\n",
       "            <td>170</td>\n",
       "            <td>194.0</td>\n",
       "            <td>None</td>\n",
       "            <td>47.0</td>\n",
       "            <td>3</td>\n",
       "            <td>1</td>\n",
       "        </tr>\n",
       "        <tr>\n",
       "            <td>49578</td>\n",
       "            <td>None</td>\n",
       "            <td>170</td>\n",
       "            <td>194.0</td>\n",
       "            <td>47.0</td>\n",
       "            <td>47.0</td>\n",
       "            <td>3</td>\n",
       "            <td>2</td>\n",
       "        </tr>\n",
       "        <tr>\n",
       "            <td>49802</td>\n",
       "            <td>47.0</td>\n",
       "            <td>171</td>\n",
       "            <td>47.0</td>\n",
       "            <td>None</td>\n",
       "            <td>47.0</td>\n",
       "            <td>1</td>\n",
       "            <td>0</td>\n",
       "        </tr>\n",
       "        <tr>\n",
       "            <td>49925</td>\n",
       "            <td>111.0</td>\n",
       "            <td>172</td>\n",
       "            <td>111.0</td>\n",
       "            <td>None</td>\n",
       "            <td>111.0</td>\n",
       "            <td>1</td>\n",
       "            <td>0</td>\n",
       "        </tr>\n",
       "        <tr>\n",
       "            <td>50059</td>\n",
       "            <td>71.0</td>\n",
       "            <td>173</td>\n",
       "            <td>71.0</td>\n",
       "            <td>None</td>\n",
       "            <td>71.0</td>\n",
       "            <td>2</td>\n",
       "            <td>0</td>\n",
       "        </tr>\n",
       "        <tr>\n",
       "            <td>50309</td>\n",
       "            <td>None</td>\n",
       "            <td>173</td>\n",
       "            <td>71.0</td>\n",
       "            <td>26.0</td>\n",
       "            <td>26.0</td>\n",
       "            <td>2</td>\n",
       "            <td>1</td>\n",
       "        </tr>\n",
       "        <tr>\n",
       "            <td>50661</td>\n",
       "            <td>26.0</td>\n",
       "            <td>174</td>\n",
       "            <td>26.0</td>\n",
       "            <td>None</td>\n",
       "            <td>26.0</td>\n",
       "            <td>1</td>\n",
       "            <td>0</td>\n",
       "        </tr>\n",
       "        <tr>\n",
       "            <td>50948</td>\n",
       "            <td>222.0</td>\n",
       "            <td>175</td>\n",
       "            <td>222.0</td>\n",
       "            <td>None</td>\n",
       "            <td>222.0</td>\n",
       "            <td>1</td>\n",
       "            <td>0</td>\n",
       "        </tr>\n",
       "        <tr>\n",
       "            <td>51021</td>\n",
       "            <td>70.0</td>\n",
       "            <td>176</td>\n",
       "            <td>70.0</td>\n",
       "            <td>None</td>\n",
       "            <td>70.0</td>\n",
       "            <td>1</td>\n",
       "            <td>0</td>\n",
       "        </tr>\n",
       "    </tbody>\n",
       "</table>"
      ],
      "text/plain": [
       "+------------+-----------+-----+-----------+---------+---------+----------+----------+\n",
       "| feature_id | elev_in_m | run | run_start | nextval | run_end | run_size | run_rank |\n",
       "+------------+-----------+-----+-----------+---------+---------+----------+----------+\n",
       "|   48638    |    46.0   | 168 |    46.0   |   None  |   46.0  |    1     |    0     |\n",
       "|   49192    |   401.0   | 169 |   401.0   |   None  |  401.0  |    1     |    0     |\n",
       "|   49214    |   194.0   | 170 |   194.0   |   None  |  194.0  |    3     |    0     |\n",
       "|   49350    |    None   | 170 |   194.0   |   None  |   47.0  |    3     |    1     |\n",
       "|   49578    |    None   | 170 |   194.0   |   47.0  |   47.0  |    3     |    2     |\n",
       "|   49802    |    47.0   | 171 |    47.0   |   None  |   47.0  |    1     |    0     |\n",
       "|   49925    |   111.0   | 172 |   111.0   |   None  |  111.0  |    1     |    0     |\n",
       "|   50059    |    71.0   | 173 |    71.0   |   None  |   71.0  |    2     |    0     |\n",
       "|   50309    |    None   | 173 |    71.0   |   26.0  |   26.0  |    2     |    1     |\n",
       "|   50661    |    26.0   | 174 |    26.0   |   None  |   26.0  |    1     |    0     |\n",
       "|   50948    |   222.0   | 175 |   222.0   |   None  |  222.0  |    1     |    0     |\n",
       "|   51021    |    70.0   | 176 |    70.0   |   None  |   70.0  |    1     |    0     |\n",
       "+------------+-----------+-----+-----------+---------+---------+----------+----------+"
      ]
     },
     "execution_count": 24,
     "metadata": {},
     "output_type": "execute_result"
    }
   ],
   "source": [
    "%%sql\n",
    "-- 2. Backward: assign run_end, run_size, run_rank\n",
    "CREATE OR REPLACE VIEW backward AS\n",
    "SELECT *,\n",
    "       CASE WHEN elev_in_m IS NOT NULL THEN elev_in_m\n",
    "            ELSE coalesce_agg(nextval) OVER (PARTITION BY run ORDER BY feature_id DESC)\n",
    "        END AS run_end,\n",
    "       count(*) OVER (PARTITION BY run) AS run_size,\n",
    "       -1 + (RANK() OVER (PARTITION BY run ORDER BY feature_id)) AS run_rank\n",
    "  FROM forward;\n",
    "SELECT * FROM backward ORDER BY feature_id ASC LIMIT 12 OFFSET 183;"
   ]
  },
  {
   "cell_type": "markdown",
   "id": "b9e70e71-90fb-4740-9a80-4ec30bb824e8",
   "metadata": {},
   "source": [
    "Scalar function pass"
   ]
  },
  {
   "cell_type": "code",
   "execution_count": 25,
   "id": "f69f017a-8280-4310-a750-dd68a3de50c8",
   "metadata": {},
   "outputs": [
    {
     "data": {
      "text/html": [
       "<span style=\"None\">Running query in &#x27;postgresql://localhost:5432/gnis&#x27;</span>"
      ],
      "text/plain": [
       "Running query in 'postgresql://localhost:5432/gnis'"
      ]
     },
     "metadata": {},
     "output_type": "display_data"
    },
    {
     "data": {
      "text/html": [
       "<span style=\"color: green\">12 rows affected.</span>"
      ],
      "text/plain": [
       "12 rows affected."
      ]
     },
     "metadata": {},
     "output_type": "display_data"
    },
    {
     "data": {
      "text/html": [
       "<table>\n",
       "    <thead>\n",
       "        <tr>\n",
       "            <th>feature_id</th>\n",
       "            <th>elev_in_m</th>\n",
       "            <th>run</th>\n",
       "            <th>run_start</th>\n",
       "            <th>nextval</th>\n",
       "            <th>run_end</th>\n",
       "            <th>run_size</th>\n",
       "            <th>run_rank</th>\n",
       "            <th>interpolated</th>\n",
       "        </tr>\n",
       "    </thead>\n",
       "    <tbody>\n",
       "        <tr>\n",
       "            <td>48638</td>\n",
       "            <td>46.0</td>\n",
       "            <td>168</td>\n",
       "            <td>46.0</td>\n",
       "            <td>None</td>\n",
       "            <td>46.0</td>\n",
       "            <td>1</td>\n",
       "            <td>0</td>\n",
       "            <td>46.0</td>\n",
       "        </tr>\n",
       "        <tr>\n",
       "            <td>49192</td>\n",
       "            <td>401.0</td>\n",
       "            <td>169</td>\n",
       "            <td>401.0</td>\n",
       "            <td>None</td>\n",
       "            <td>401.0</td>\n",
       "            <td>1</td>\n",
       "            <td>0</td>\n",
       "            <td>401.0</td>\n",
       "        </tr>\n",
       "        <tr>\n",
       "            <td>49214</td>\n",
       "            <td>194.0</td>\n",
       "            <td>170</td>\n",
       "            <td>194.0</td>\n",
       "            <td>None</td>\n",
       "            <td>194.0</td>\n",
       "            <td>3</td>\n",
       "            <td>0</td>\n",
       "            <td>194.0</td>\n",
       "        </tr>\n",
       "        <tr>\n",
       "            <td>49350</td>\n",
       "            <td>None</td>\n",
       "            <td>170</td>\n",
       "            <td>194.0</td>\n",
       "            <td>None</td>\n",
       "            <td>47.0</td>\n",
       "            <td>3</td>\n",
       "            <td>1</td>\n",
       "            <td>194.0</td>\n",
       "        </tr>\n",
       "        <tr>\n",
       "            <td>49578</td>\n",
       "            <td>None</td>\n",
       "            <td>170</td>\n",
       "            <td>194.0</td>\n",
       "            <td>47.0</td>\n",
       "            <td>47.0</td>\n",
       "            <td>3</td>\n",
       "            <td>2</td>\n",
       "            <td>145.0</td>\n",
       "        </tr>\n",
       "        <tr>\n",
       "            <td>49802</td>\n",
       "            <td>47.0</td>\n",
       "            <td>171</td>\n",
       "            <td>47.0</td>\n",
       "            <td>None</td>\n",
       "            <td>47.0</td>\n",
       "            <td>1</td>\n",
       "            <td>0</td>\n",
       "            <td>47.0</td>\n",
       "        </tr>\n",
       "        <tr>\n",
       "            <td>49925</td>\n",
       "            <td>111.0</td>\n",
       "            <td>172</td>\n",
       "            <td>111.0</td>\n",
       "            <td>None</td>\n",
       "            <td>111.0</td>\n",
       "            <td>1</td>\n",
       "            <td>0</td>\n",
       "            <td>111.0</td>\n",
       "        </tr>\n",
       "        <tr>\n",
       "            <td>50059</td>\n",
       "            <td>71.0</td>\n",
       "            <td>173</td>\n",
       "            <td>71.0</td>\n",
       "            <td>None</td>\n",
       "            <td>71.0</td>\n",
       "            <td>2</td>\n",
       "            <td>0</td>\n",
       "            <td>71.0</td>\n",
       "        </tr>\n",
       "        <tr>\n",
       "            <td>50309</td>\n",
       "            <td>None</td>\n",
       "            <td>173</td>\n",
       "            <td>71.0</td>\n",
       "            <td>26.0</td>\n",
       "            <td>26.0</td>\n",
       "            <td>2</td>\n",
       "            <td>1</td>\n",
       "            <td>71.0</td>\n",
       "        </tr>\n",
       "        <tr>\n",
       "            <td>50661</td>\n",
       "            <td>26.0</td>\n",
       "            <td>174</td>\n",
       "            <td>26.0</td>\n",
       "            <td>None</td>\n",
       "            <td>26.0</td>\n",
       "            <td>1</td>\n",
       "            <td>0</td>\n",
       "            <td>26.0</td>\n",
       "        </tr>\n",
       "        <tr>\n",
       "            <td>50948</td>\n",
       "            <td>222.0</td>\n",
       "            <td>175</td>\n",
       "            <td>222.0</td>\n",
       "            <td>None</td>\n",
       "            <td>222.0</td>\n",
       "            <td>1</td>\n",
       "            <td>0</td>\n",
       "            <td>222.0</td>\n",
       "        </tr>\n",
       "        <tr>\n",
       "            <td>51021</td>\n",
       "            <td>70.0</td>\n",
       "            <td>176</td>\n",
       "            <td>70.0</td>\n",
       "            <td>None</td>\n",
       "            <td>70.0</td>\n",
       "            <td>1</td>\n",
       "            <td>0</td>\n",
       "            <td>70.0</td>\n",
       "        </tr>\n",
       "    </tbody>\n",
       "</table>"
      ],
      "text/plain": [
       "+------------+-----------+-----+-----------+---------+---------+----------+----------+--------------+\n",
       "| feature_id | elev_in_m | run | run_start | nextval | run_end | run_size | run_rank | interpolated |\n",
       "+------------+-----------+-----+-----------+---------+---------+----------+----------+--------------+\n",
       "|   48638    |    46.0   | 168 |    46.0   |   None  |   46.0  |    1     |    0     |     46.0     |\n",
       "|   49192    |   401.0   | 169 |   401.0   |   None  |  401.0  |    1     |    0     |    401.0     |\n",
       "|   49214    |   194.0   | 170 |   194.0   |   None  |  194.0  |    3     |    0     |    194.0     |\n",
       "|   49350    |    None   | 170 |   194.0   |   None  |   47.0  |    3     |    1     |    194.0     |\n",
       "|   49578    |    None   | 170 |   194.0   |   47.0  |   47.0  |    3     |    2     |    145.0     |\n",
       "|   49802    |    47.0   | 171 |    47.0   |   None  |   47.0  |    1     |    0     |     47.0     |\n",
       "|   49925    |   111.0   | 172 |   111.0   |   None  |  111.0  |    1     |    0     |    111.0     |\n",
       "|   50059    |    71.0   | 173 |    71.0   |   None  |   71.0  |    2     |    0     |     71.0     |\n",
       "|   50309    |    None   | 173 |    71.0   |   26.0  |   26.0  |    2     |    1     |     71.0     |\n",
       "|   50661    |    26.0   | 174 |    26.0   |   None  |   26.0  |    1     |    0     |     26.0     |\n",
       "|   50948    |   222.0   | 175 |   222.0   |   None  |  222.0  |    1     |    0     |    222.0     |\n",
       "|   51021    |    70.0   | 176 |    70.0   |   None  |   70.0  |    1     |    0     |     70.0     |\n",
       "+------------+-----------+-----+-----------+---------+---------+----------+----------+--------------+"
      ]
     },
     "execution_count": 25,
     "metadata": {},
     "output_type": "execute_result"
    }
   ],
   "source": [
    "%%sql\n",
    "-- 3. Simple scalar pass\n",
    "CREATE OR REPLACE VIEW final AS\n",
    "SELECT *, \n",
    "       run_start + (run_rank-1)*((run_end-run_start)/(run_size))\n",
    "         AS interpolated\n",
    "  FROM backward;\n",
    "SELECT * FROM final  ORDER BY feature_id ASC LIMIT 12 OFFSET 183;"
   ]
  },
  {
   "cell_type": "code",
   "execution_count": 26,
   "id": "52d91e67-9eb5-4722-941d-f5bd14e316de",
   "metadata": {},
   "outputs": [
    {
     "data": {
      "text/html": [
       "<span style=\"None\">Running query in &#x27;postgresql://localhost:5432/gnis&#x27;</span>"
      ],
      "text/plain": [
       "Running query in 'postgresql://localhost:5432/gnis'"
      ]
     },
     "metadata": {},
     "output_type": "display_data"
    },
    {
     "data": {
      "text/html": [
       "<span style=\"color: green\">20 rows affected.</span>"
      ],
      "text/plain": [
       "20 rows affected."
      ]
     },
     "metadata": {},
     "output_type": "display_data"
    },
    {
     "data": {
      "text/html": [
       "<table>\n",
       "    <thead>\n",
       "        <tr>\n",
       "            <th>QUERY PLAN</th>\n",
       "        </tr>\n",
       "    </thead>\n",
       "    <tbody>\n",
       "        <tr>\n",
       "            <td>Limit  (cost=2196.29..2268.55 rows=500 width=72) (actual time=30.184..31.850 rows=500 loops=1)</td>\n",
       "        </tr>\n",
       "        <tr>\n",
       "            <td>&nbsp;&nbsp;->  Subquery Scan on backward  (cost=2196.29..3862.98 rows=11533 width=72) (actual time=30.183..31.817 rows=500 loops=1)</td>\n",
       "        </tr>\n",
       "        <tr>\n",
       "            <td>&nbsp;&nbsp;&nbsp;&nbsp;&nbsp;&nbsp;&nbsp;&nbsp;->  WindowAgg  (cost=2196.29..3545.82 rows=11533 width=64) (actual time=30.179..31.747 rows=500 loops=1)</td>\n",
       "        </tr>\n",
       "        <tr>\n",
       "            <td>&nbsp;&nbsp;&nbsp;&nbsp;&nbsp;&nbsp;&nbsp;&nbsp;&nbsp;&nbsp;&nbsp;&nbsp;&nbsp;&nbsp;->  WindowAgg  (cost=2196.29..3344.00 rows=11533 width=56) (actual time=30.173..31.441 rows=501 loops=1)</td>\n",
       "        </tr>\n",
       "        <tr>\n",
       "            <td>&nbsp;&nbsp;&nbsp;&nbsp;&nbsp;&nbsp;&nbsp;&nbsp;&nbsp;&nbsp;&nbsp;&nbsp;&nbsp;&nbsp;&nbsp;&nbsp;&nbsp;&nbsp;&nbsp;&nbsp;->  Incremental Sort  (cost=2196.29..3142.17 rows=11533 width=48) (actual time=30.168..31.135 rows=502 loops=1)</td>\n",
       "        </tr>\n",
       "        <tr>\n",
       "            <td>&nbsp;&nbsp;&nbsp;&nbsp;&nbsp;&nbsp;&nbsp;&nbsp;&nbsp;&nbsp;&nbsp;&nbsp;&nbsp;&nbsp;&nbsp;&nbsp;&nbsp;&nbsp;&nbsp;&nbsp;&nbsp;&nbsp;&nbsp;&nbsp;&nbsp;&nbsp;Sort Key: forward.run, forward.feature_id</td>\n",
       "        </tr>\n",
       "        <tr>\n",
       "            <td>&nbsp;&nbsp;&nbsp;&nbsp;&nbsp;&nbsp;&nbsp;&nbsp;&nbsp;&nbsp;&nbsp;&nbsp;&nbsp;&nbsp;&nbsp;&nbsp;&nbsp;&nbsp;&nbsp;&nbsp;&nbsp;&nbsp;&nbsp;&nbsp;&nbsp;&nbsp;Presorted Key: forward.run</td>\n",
       "        </tr>\n",
       "        <tr>\n",
       "            <td>&nbsp;&nbsp;&nbsp;&nbsp;&nbsp;&nbsp;&nbsp;&nbsp;&nbsp;&nbsp;&nbsp;&nbsp;&nbsp;&nbsp;&nbsp;&nbsp;&nbsp;&nbsp;&nbsp;&nbsp;&nbsp;&nbsp;&nbsp;&nbsp;&nbsp;&nbsp;Full-sort Groups: 16  Sort Method: quicksort  Average Memory: 27kB  Peak Memory: 27kB</td>\n",
       "        </tr>\n",
       "        <tr>\n",
       "            <td>&nbsp;&nbsp;&nbsp;&nbsp;&nbsp;&nbsp;&nbsp;&nbsp;&nbsp;&nbsp;&nbsp;&nbsp;&nbsp;&nbsp;&nbsp;&nbsp;&nbsp;&nbsp;&nbsp;&nbsp;&nbsp;&nbsp;&nbsp;&nbsp;&nbsp;&nbsp;->  WindowAgg  (cost=2192.36..2423.02 rows=11533 width=48) (actual time=30.091..30.995 rows=514 loops=1)</td>\n",
       "        </tr>\n",
       "        <tr>\n",
       "            <td>&nbsp;&nbsp;&nbsp;&nbsp;&nbsp;&nbsp;&nbsp;&nbsp;&nbsp;&nbsp;&nbsp;&nbsp;&nbsp;&nbsp;&nbsp;&nbsp;&nbsp;&nbsp;&nbsp;&nbsp;&nbsp;&nbsp;&nbsp;&nbsp;&nbsp;&nbsp;&nbsp;&nbsp;&nbsp;&nbsp;&nbsp;&nbsp;->  Sort  (cost=2192.36..2221.19 rows=11533 width=40) (actual time=30.020..30.050 rows=515 loops=1)</td>\n",
       "        </tr>\n",
       "        <tr>\n",
       "            <td>&nbsp;&nbsp;&nbsp;&nbsp;&nbsp;&nbsp;&nbsp;&nbsp;&nbsp;&nbsp;&nbsp;&nbsp;&nbsp;&nbsp;&nbsp;&nbsp;&nbsp;&nbsp;&nbsp;&nbsp;&nbsp;&nbsp;&nbsp;&nbsp;&nbsp;&nbsp;&nbsp;&nbsp;&nbsp;&nbsp;&nbsp;&nbsp;&nbsp;&nbsp;&nbsp;&nbsp;&nbsp;&nbsp;Sort Key: forward.run, forward.feature_id DESC</td>\n",
       "        </tr>\n",
       "        <tr>\n",
       "            <td>&nbsp;&nbsp;&nbsp;&nbsp;&nbsp;&nbsp;&nbsp;&nbsp;&nbsp;&nbsp;&nbsp;&nbsp;&nbsp;&nbsp;&nbsp;&nbsp;&nbsp;&nbsp;&nbsp;&nbsp;&nbsp;&nbsp;&nbsp;&nbsp;&nbsp;&nbsp;&nbsp;&nbsp;&nbsp;&nbsp;&nbsp;&nbsp;&nbsp;&nbsp;&nbsp;&nbsp;&nbsp;&nbsp;Sort Method: quicksort  Memory: 1286kB</td>\n",
       "        </tr>\n",
       "        <tr>\n",
       "            <td>&nbsp;&nbsp;&nbsp;&nbsp;&nbsp;&nbsp;&nbsp;&nbsp;&nbsp;&nbsp;&nbsp;&nbsp;&nbsp;&nbsp;&nbsp;&nbsp;&nbsp;&nbsp;&nbsp;&nbsp;&nbsp;&nbsp;&nbsp;&nbsp;&nbsp;&nbsp;&nbsp;&nbsp;&nbsp;&nbsp;&nbsp;&nbsp;&nbsp;&nbsp;&nbsp;&nbsp;&nbsp;&nbsp;->  Subquery Scan on forward  (cost=1039.43..1414.25 rows=11533 width=40) (actual time=3.366..26.387 rows=11533 loops=1)</td>\n",
       "        </tr>\n",
       "        <tr>\n",
       "            <td>&nbsp;&nbsp;&nbsp;&nbsp;&nbsp;&nbsp;&nbsp;&nbsp;&nbsp;&nbsp;&nbsp;&nbsp;&nbsp;&nbsp;&nbsp;&nbsp;&nbsp;&nbsp;&nbsp;&nbsp;&nbsp;&nbsp;&nbsp;&nbsp;&nbsp;&nbsp;&nbsp;&nbsp;&nbsp;&nbsp;&nbsp;&nbsp;&nbsp;&nbsp;&nbsp;&nbsp;&nbsp;&nbsp;&nbsp;&nbsp;&nbsp;&nbsp;&nbsp;&nbsp;->  WindowAgg  (cost=1039.43..1298.92 rows=11533 width=40) (actual time=3.365..25.296 rows=11533 loops=1)</td>\n",
       "        </tr>\n",
       "        <tr>\n",
       "            <td>&nbsp;&nbsp;&nbsp;&nbsp;&nbsp;&nbsp;&nbsp;&nbsp;&nbsp;&nbsp;&nbsp;&nbsp;&nbsp;&nbsp;&nbsp;&nbsp;&nbsp;&nbsp;&nbsp;&nbsp;&nbsp;&nbsp;&nbsp;&nbsp;&nbsp;&nbsp;&nbsp;&nbsp;&nbsp;&nbsp;&nbsp;&nbsp;&nbsp;&nbsp;&nbsp;&nbsp;&nbsp;&nbsp;&nbsp;&nbsp;&nbsp;&nbsp;&nbsp;&nbsp;&nbsp;&nbsp;&nbsp;&nbsp;&nbsp;&nbsp;->  Sort  (cost=1039.43..1068.26 rows=11533 width=16) (actual time=3.291..3.930 rows=11533 loops=1)</td>\n",
       "        </tr>\n",
       "        <tr>\n",
       "            <td>&nbsp;&nbsp;&nbsp;&nbsp;&nbsp;&nbsp;&nbsp;&nbsp;&nbsp;&nbsp;&nbsp;&nbsp;&nbsp;&nbsp;&nbsp;&nbsp;&nbsp;&nbsp;&nbsp;&nbsp;&nbsp;&nbsp;&nbsp;&nbsp;&nbsp;&nbsp;&nbsp;&nbsp;&nbsp;&nbsp;&nbsp;&nbsp;&nbsp;&nbsp;&nbsp;&nbsp;&nbsp;&nbsp;&nbsp;&nbsp;&nbsp;&nbsp;&nbsp;&nbsp;&nbsp;&nbsp;&nbsp;&nbsp;&nbsp;&nbsp;&nbsp;&nbsp;&nbsp;&nbsp;&nbsp;&nbsp;Sort Key: holey.feature_id</td>\n",
       "        </tr>\n",
       "        <tr>\n",
       "            <td>&nbsp;&nbsp;&nbsp;&nbsp;&nbsp;&nbsp;&nbsp;&nbsp;&nbsp;&nbsp;&nbsp;&nbsp;&nbsp;&nbsp;&nbsp;&nbsp;&nbsp;&nbsp;&nbsp;&nbsp;&nbsp;&nbsp;&nbsp;&nbsp;&nbsp;&nbsp;&nbsp;&nbsp;&nbsp;&nbsp;&nbsp;&nbsp;&nbsp;&nbsp;&nbsp;&nbsp;&nbsp;&nbsp;&nbsp;&nbsp;&nbsp;&nbsp;&nbsp;&nbsp;&nbsp;&nbsp;&nbsp;&nbsp;&nbsp;&nbsp;&nbsp;&nbsp;&nbsp;&nbsp;&nbsp;&nbsp;Sort Method: quicksort  Memory: 925kB</td>\n",
       "        </tr>\n",
       "        <tr>\n",
       "            <td>&nbsp;&nbsp;&nbsp;&nbsp;&nbsp;&nbsp;&nbsp;&nbsp;&nbsp;&nbsp;&nbsp;&nbsp;&nbsp;&nbsp;&nbsp;&nbsp;&nbsp;&nbsp;&nbsp;&nbsp;&nbsp;&nbsp;&nbsp;&nbsp;&nbsp;&nbsp;&nbsp;&nbsp;&nbsp;&nbsp;&nbsp;&nbsp;&nbsp;&nbsp;&nbsp;&nbsp;&nbsp;&nbsp;&nbsp;&nbsp;&nbsp;&nbsp;&nbsp;&nbsp;&nbsp;&nbsp;&nbsp;&nbsp;&nbsp;&nbsp;&nbsp;&nbsp;&nbsp;&nbsp;&nbsp;&nbsp;->  Seq Scan on holey  (cost=0.00..261.33 rows=11533 width=16) (actual time=0.008..1.490 rows=11533 loops=1)</td>\n",
       "        </tr>\n",
       "        <tr>\n",
       "            <td>Planning Time: 0.141 ms</td>\n",
       "        </tr>\n",
       "        <tr>\n",
       "            <td>Execution Time: 32.051 ms</td>\n",
       "        </tr>\n",
       "    </tbody>\n",
       "</table>"
      ],
      "text/plain": [
       "+----------------------------------------------------------------------------------------------------------------------------------------------------------------------+\n",
       "|                                                                              QUERY PLAN                                                                              |\n",
       "+----------------------------------------------------------------------------------------------------------------------------------------------------------------------+\n",
       "|                                    Limit  (cost=2196.29..2268.55 rows=500 width=72) (actual time=30.184..31.850 rows=500 loops=1)                                    |\n",
       "|                        ->  Subquery Scan on backward  (cost=2196.29..3862.98 rows=11533 width=72) (actual time=30.183..31.817 rows=500 loops=1)                      |\n",
       "|                                   ->  WindowAgg  (cost=2196.29..3545.82 rows=11533 width=64) (actual time=30.179..31.747 rows=500 loops=1)                           |\n",
       "|                                      ->  WindowAgg  (cost=2196.29..3344.00 rows=11533 width=56) (actual time=30.173..31.441 rows=501 loops=1)                        |\n",
       "|                                     ->  Incremental Sort  (cost=2196.29..3142.17 rows=11533 width=48) (actual time=30.168..31.135 rows=502 loops=1)                  |\n",
       "|                                                                           Sort Key: forward.run, forward.feature_id                                                  |\n",
       "|                                                                                   Presorted Key: forward.run                                                         |\n",
       "|                                                     Full-sort Groups: 16  Sort Method: quicksort  Average Memory: 27kB  Peak Memory: 27kB                            |\n",
       "|                                            ->  WindowAgg  (cost=2192.36..2423.02 rows=11533 width=48) (actual time=30.091..30.995 rows=514 loops=1)                  |\n",
       "|                                                 ->  Sort  (cost=2192.36..2221.19 rows=11533 width=40) (actual time=30.020..30.050 rows=515 loops=1)                  |\n",
       "|                                                                               Sort Key: forward.run, forward.feature_id DESC                                         |\n",
       "|                                                                                   Sort Method: quicksort  Memory: 1286kB                                             |\n",
       "|                                          ->  Subquery Scan on forward  (cost=1039.43..1414.25 rows=11533 width=40) (actual time=3.366..26.387 rows=11533 loops=1)    |\n",
       "|                                                    ->  WindowAgg  (cost=1039.43..1298.92 rows=11533 width=40) (actual time=3.365..25.296 rows=11533 loops=1)         |\n",
       "|                                                          ->  Sort  (cost=1039.43..1068.26 rows=11533 width=16) (actual time=3.291..3.930 rows=11533 loops=1)         |\n",
       "|                                                                                                  Sort Key: holey.feature_id                                          |\n",
       "|                                                                                            Sort Method: quicksort  Memory: 925kB                                     |\n",
       "|                                                         ->  Seq Scan on holey  (cost=0.00..261.33 rows=11533 width=16) (actual time=0.008..1.490 rows=11533 loops=1) |\n",
       "|                                                                       Planning Time: 0.141 ms                                                                        |\n",
       "|                                                                      Execution Time: 32.051 ms                                                                       |\n",
       "+----------------------------------------------------------------------------------------------------------------------------------------------------------------------+"
      ]
     },
     "execution_count": 26,
     "metadata": {},
     "output_type": "execute_result"
    }
   ],
   "source": [
    "%sql EXPLAIN Analyze SELECT * from final LIMIT 500;"
   ]
  },
  {
   "cell_type": "markdown",
   "id": "877eced2-e485-4af5-abf3-fcdc6b3309b6",
   "metadata": {},
   "source": [
    "# String distance"
   ]
  },
  {
   "cell_type": "code",
   "execution_count": 27,
   "id": "94256cbc-9c15-4310-981f-23f347d9aebf",
   "metadata": {},
   "outputs": [
    {
     "data": {
      "text/html": [
       "<span style=\"None\">Connecting and switching to connection postgresql://localhost:5432/postgres</span>"
      ],
      "text/plain": [
       "Connecting and switching to connection postgresql://localhost:5432/postgres"
      ]
     },
     "metadata": {},
     "output_type": "display_data"
    }
   ],
   "source": [
    "%reload_ext sql\n",
    "%sql postgresql://localhost:5432/postgres"
   ]
  },
  {
   "cell_type": "code",
   "execution_count": 28,
   "id": "384807b1-fa1e-4c26-a3bd-a49c29150172",
   "metadata": {},
   "outputs": [
    {
     "data": {
      "text/html": [
       "<span style=\"None\">Running query in &#x27;postgresql://localhost:5432/postgres&#x27;</span>"
      ],
      "text/plain": [
       "Running query in 'postgresql://localhost:5432/postgres'"
      ]
     },
     "metadata": {},
     "output_type": "display_data"
    },
    {
     "data": {
      "text/html": [
       "<table>\n",
       "    <thead>\n",
       "        <tr>\n",
       "        </tr>\n",
       "    </thead>\n",
       "    <tbody>\n",
       "    </tbody>\n",
       "</table>"
      ],
      "text/plain": [
       "++\n",
       "||\n",
       "++\n",
       "++"
      ]
     },
     "execution_count": 28,
     "metadata": {},
     "output_type": "execute_result"
    }
   ],
   "source": [
    "%sql CREATE EXTENSION IF NOT EXISTS fuzzystrmatch;"
   ]
  },
  {
   "cell_type": "code",
   "execution_count": 29,
   "id": "c4bfffed-8e76-440b-ba85-76f25d14daf0",
   "metadata": {},
   "outputs": [
    {
     "data": {
      "text/html": [
       "<span style=\"None\">Running query in &#x27;postgresql://localhost:5432/postgres&#x27;</span>"
      ],
      "text/plain": [
       "Running query in 'postgresql://localhost:5432/postgres'"
      ]
     },
     "metadata": {},
     "output_type": "display_data"
    },
    {
     "data": {
      "text/html": [
       "<span style=\"color: green\">3 rows affected.</span>"
      ],
      "text/plain": [
       "3 rows affected."
      ]
     },
     "metadata": {},
     "output_type": "display_data"
    },
    {
     "data": {
      "text/html": [
       "<table>\n",
       "    <thead>\n",
       "        <tr>\n",
       "        </tr>\n",
       "    </thead>\n",
       "    <tbody>\n",
       "    </tbody>\n",
       "</table>"
      ],
      "text/plain": [
       "++\n",
       "||\n",
       "++\n",
       "++"
      ]
     },
     "execution_count": 29,
     "metadata": {},
     "output_type": "execute_result"
    }
   ],
   "source": [
    "%%sql\n",
    "DROP TABLE IF EXISTS Strings;\n",
    "CREATE TABLE Strings (str1 TEXT, str2 TEXT);\n",
    "INSERT INTO Strings VALUES\n",
    " ('Lisa', 'List'),\n",
    " ('Lisa', 'License'),\n",
    " ('Joe', 'Noel');"
   ]
  },
  {
   "cell_type": "code",
   "execution_count": 30,
   "id": "1d178d20-68fe-4bb9-9c77-f96503e76e20",
   "metadata": {},
   "outputs": [
    {
     "data": {
      "text/html": [
       "<span style=\"None\">Running query in &#x27;postgresql://localhost:5432/postgres&#x27;</span>"
      ],
      "text/plain": [
       "Running query in 'postgresql://localhost:5432/postgres'"
      ]
     },
     "metadata": {},
     "output_type": "display_data"
    },
    {
     "data": {
      "text/html": [
       "<span style=\"color: green\">3 rows affected.</span>"
      ],
      "text/plain": [
       "3 rows affected."
      ]
     },
     "metadata": {},
     "output_type": "display_data"
    },
    {
     "data": {
      "text/html": [
       "<table>\n",
       "    <thead>\n",
       "        <tr>\n",
       "            <th>str1</th>\n",
       "            <th>str2</th>\n",
       "            <th>levenshtein</th>\n",
       "            <th>soundex1</th>\n",
       "            <th>soundex2</th>\n",
       "            <th>dmetaphone1</th>\n",
       "            <th>dmetaphone2</th>\n",
       "            <th>dmetaphone_alt1</th>\n",
       "            <th>dmetaphone_alt2</th>\n",
       "        </tr>\n",
       "    </thead>\n",
       "    <tbody>\n",
       "        <tr>\n",
       "            <td>Lisa</td>\n",
       "            <td>List</td>\n",
       "            <td>1</td>\n",
       "            <td>L200</td>\n",
       "            <td>L230</td>\n",
       "            <td>LS</td>\n",
       "            <td>LST</td>\n",
       "            <td>LS</td>\n",
       "            <td>LST</td>\n",
       "        </tr>\n",
       "        <tr>\n",
       "            <td>Lisa</td>\n",
       "            <td>License</td>\n",
       "            <td>4</td>\n",
       "            <td>L200</td>\n",
       "            <td>L252</td>\n",
       "            <td>LS</td>\n",
       "            <td>LSNS</td>\n",
       "            <td>LS</td>\n",
       "            <td>LSNS</td>\n",
       "        </tr>\n",
       "        <tr>\n",
       "            <td>Joe</td>\n",
       "            <td>Noel</td>\n",
       "            <td>2</td>\n",
       "            <td>J000</td>\n",
       "            <td>N400</td>\n",
       "            <td>J</td>\n",
       "            <td>NL</td>\n",
       "            <td>A</td>\n",
       "            <td>NL</td>\n",
       "        </tr>\n",
       "    </tbody>\n",
       "</table>"
      ],
      "text/plain": [
       "+------+---------+-------------+----------+----------+-------------+-------------+-----------------+-----------------+\n",
       "| str1 |   str2  | levenshtein | soundex1 | soundex2 | dmetaphone1 | dmetaphone2 | dmetaphone_alt1 | dmetaphone_alt2 |\n",
       "+------+---------+-------------+----------+----------+-------------+-------------+-----------------+-----------------+\n",
       "| Lisa |   List  |      1      |   L200   |   L230   |      LS     |     LST     |        LS       |       LST       |\n",
       "| Lisa | License |      4      |   L200   |   L252   |      LS     |     LSNS    |        LS       |       LSNS      |\n",
       "| Joe  |   Noel  |      2      |   J000   |   N400   |      J      |      NL     |        A        |        NL       |\n",
       "+------+---------+-------------+----------+----------+-------------+-------------+-----------------+-----------------+"
      ]
     },
     "execution_count": 30,
     "metadata": {},
     "output_type": "execute_result"
    }
   ],
   "source": [
    "%%sql\n",
    "SELECT *,\n",
    "       levenshtein(str1, str2),\n",
    "       soundex(str1) as soundex1,\n",
    "       soundex(str2) as soundex2,\n",
    "       dmetaphone(str1) AS dmetaphone1,\n",
    "       dmetaphone(str2) AS dmetaphone2,\n",
    "       dmetaphone_alt(str1) AS dmetaphone_alt1,\n",
    "       dmetaphone_alt(str2) AS dmetaphone_alt2\n",
    "FROM Strings;"
   ]
  }
 ],
 "metadata": {
  "kernelspec": {
   "display_name": "Python 3 (ipykernel)",
   "language": "python",
   "name": "python3"
  },
  "language_info": {
   "codemirror_mode": {
    "name": "ipython",
    "version": 3
   },
   "file_extension": ".py",
   "mimetype": "text/x-python",
   "name": "python",
   "nbconvert_exporter": "python",
   "pygments_lexer": "ipython3",
   "version": "3.11.0"
  }
 },
 "nbformat": 4,
 "nbformat_minor": 5
}
