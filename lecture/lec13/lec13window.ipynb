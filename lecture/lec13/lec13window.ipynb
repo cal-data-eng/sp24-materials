{
 "cells": [
  {
   "cell_type": "markdown",
   "id": "326b8b44-0db5-4f9c-98a6-6f5fc1e819df",
   "metadata": {},
   "source": [
    "# Lecture 13: [On your own] Window Functions"
   ]
  },
  {
   "cell_type": "code",
   "execution_count": 1,
   "id": "f85820d1-1720-4185-82f5-eafabf425739",
   "metadata": {},
   "outputs": [
    {
     "name": "stdout",
     "output_type": "stream",
     "text": [
      "There's a new jupysql version available (0.10.10), you're running 0.10.0. To upgrade: pip install jupysql --upgrade\n",
      "Deploy Panel apps for free on Ploomber Cloud! Learn more: https://ploomber.io/s/signup\n"
     ]
    }
   ],
   "source": [
    "%reload_ext sql"
   ]
  },
  {
   "cell_type": "code",
   "execution_count": 2,
   "id": "7abe875b-f05b-45d0-9c9b-98aa1fe2f118",
   "metadata": {},
   "outputs": [],
   "source": [
    "%sql postgresql://127.0.0.1:5432/imdb_lecture"
   ]
  },
  {
   "cell_type": "markdown",
   "id": "65a93d84-89d1-4627-ae99-f5ff434e1fd3",
   "metadata": {},
   "source": [
    "Make a temporary table"
   ]
  },
  {
   "cell_type": "code",
   "execution_count": 3,
   "id": "fd506938-4926-4fe0-b5e3-a466dc894157",
   "metadata": {},
   "outputs": [
    {
     "data": {
      "text/html": [
       "<span style=\"None\">Running query in &#x27;postgresql://127.0.0.1:5432/imdb_lecture&#x27;</span>"
      ],
      "text/plain": [
       "Running query in 'postgresql://127.0.0.1:5432/imdb_lecture'"
      ]
     },
     "metadata": {},
     "output_type": "display_data"
    },
    {
     "data": {
      "text/html": [
       "<span style=\"color: green\">3171 rows affected.</span>"
      ],
      "text/plain": [
       "3171 rows affected."
      ]
     },
     "metadata": {},
     "output_type": "display_data"
    },
    {
     "data": {
      "text/html": [
       "<table>\n",
       "    <thead>\n",
       "        <tr>\n",
       "        </tr>\n",
       "    </thead>\n",
       "    <tbody>\n",
       "    </tbody>\n",
       "</table>"
      ],
      "text/plain": [
       "++\n",
       "||\n",
       "++\n",
       "++"
      ]
     },
     "execution_count": 3,
     "metadata": {},
     "output_type": "execute_result"
    }
   ],
   "source": [
    "%%sql\n",
    "DROP TABLE IF EXISTS actor_title;\n",
    "CREATE TABLE actor_title AS (\n",
    "    SELECT t1.primary_title AS title, t1.title_id, a1.name\n",
    "    FROM titles t1, people a1, crew c1\n",
    "    WHERE t1.title_id = c1.title_id AND a1.person_id = c1.person_id\n",
    ");"
   ]
  },
  {
   "cell_type": "code",
   "execution_count": 4,
   "id": "90f9fc3c-6b98-4f58-ac3b-564f7e83a991",
   "metadata": {},
   "outputs": [
    {
     "data": {
      "text/html": [
       "<span style=\"None\">Running query in &#x27;postgresql://127.0.0.1:5432/imdb_lecture&#x27;</span>"
      ],
      "text/plain": [
       "Running query in 'postgresql://127.0.0.1:5432/imdb_lecture'"
      ]
     },
     "metadata": {},
     "output_type": "display_data"
    },
    {
     "data": {
      "text/html": [
       "<span style=\"color: green\">148 rows affected.</span>"
      ],
      "text/plain": [
       "148 rows affected."
      ]
     },
     "metadata": {},
     "output_type": "display_data"
    },
    {
     "data": {
      "text/html": [
       "<table>\n",
       "    <thead>\n",
       "        <tr>\n",
       "            <th>title</th>\n",
       "            <th>title_id</th>\n",
       "            <th>name</th>\n",
       "        </tr>\n",
       "    </thead>\n",
       "    <tbody>\n",
       "        <tr>\n",
       "            <td>What Three Men Wanted</td>\n",
       "            <td>tt0015483</td>\n",
       "            <td>Paul Burns</td>\n",
       "        </tr>\n",
       "        <tr>\n",
       "            <td>Double Harness</td>\n",
       "            <td>tt0023960</td>\n",
       "            <td>Ann Harding</td>\n",
       "        </tr>\n",
       "        <tr>\n",
       "            <td>My Family</td>\n",
       "            <td>tt0089075</td>\n",
       "            <td>Richard Ng</td>\n",
       "        </tr>\n",
       "        <tr>\n",
       "            <td>Business as Usual</td>\n",
       "            <td>tt0092711</td>\n",
       "            <td>Lezli-An Barrett</td>\n",
       "        </tr>\n",
       "        <tr>\n",
       "            <td>Business as Usual</td>\n",
       "            <td>tt0092711</td>\n",
       "            <td>Eithne Browne</td>\n",
       "        </tr>\n",
       "        <tr>\n",
       "            <td>Yes, Madam!</td>\n",
       "            <td>tt0093229</td>\n",
       "            <td>Michelle Yeoh</td>\n",
       "        </tr>\n",
       "        <tr>\n",
       "            <td>The Country Mouse and the City Mouse Adventures</td>\n",
       "            <td>tt0126149</td>\n",
       "            <td>Saba Cottle</td>\n",
       "        </tr>\n",
       "        <tr>\n",
       "            <td>Shades of Passion</td>\n",
       "            <td>tt0191431</td>\n",
       "            <td>Gabriel Pontello</td>\n",
       "        </tr>\n",
       "        <tr>\n",
       "            <td>Fu gui fu yun</td>\n",
       "            <td>tt0193178</td>\n",
       "            <td>Tin-Ng Koo</td>\n",
       "        </tr>\n",
       "        <tr>\n",
       "            <td>Y B Normal?</td>\n",
       "            <td>tt0207282</td>\n",
       "            <td>Matthiew Klinck</td>\n",
       "        </tr>\n",
       "    </tbody>\n",
       "</table>\n",
       "<span style=\"font-style:italic;text-align:center;\">Truncated to <a href=\"https://jupysql.ploomber.io/en/latest/api/configuration.html#displaylimit\">displaylimit</a> of 10.</span>"
      ],
      "text/plain": [
       "+-------------------------------------------------+-----------+------------------+\n",
       "|                      title                      |  title_id |       name       |\n",
       "+-------------------------------------------------+-----------+------------------+\n",
       "|              What Three Men Wanted              | tt0015483 |    Paul Burns    |\n",
       "|                  Double Harness                 | tt0023960 |   Ann Harding    |\n",
       "|                    My Family                    | tt0089075 |    Richard Ng    |\n",
       "|                Business as Usual                | tt0092711 | Lezli-An Barrett |\n",
       "|                Business as Usual                | tt0092711 |  Eithne Browne   |\n",
       "|                   Yes, Madam!                   | tt0093229 |  Michelle Yeoh   |\n",
       "| The Country Mouse and the City Mouse Adventures | tt0126149 |   Saba Cottle    |\n",
       "|                Shades of Passion                | tt0191431 | Gabriel Pontello |\n",
       "|                  Fu gui fu yun                  | tt0193178 |    Tin-Ng Koo    |\n",
       "|                   Y B Normal?                   | tt0207282 | Matthiew Klinck  |\n",
       "+-------------------------------------------------+-----------+------------------+\n",
       "Truncated to displaylimit of 10."
      ]
     },
     "execution_count": 4,
     "metadata": {},
     "output_type": "execute_result"
    }
   ],
   "source": [
    "%%sql\n",
    "SELECT *\n",
    "FROM actor_title\n",
    "TABLESAMPLE BERNOULLI (5);"
   ]
  },
  {
   "cell_type": "markdown",
   "id": "a948295b-a4a8-48ad-bb24-9fd96fc8948f",
   "metadata": {},
   "source": [
    "Choice A"
   ]
  },
  {
   "cell_type": "code",
   "execution_count": 6,
   "id": "08b9e0e8-2476-4e35-98e2-3671a71f1e79",
   "metadata": {},
   "outputs": [
    {
     "data": {
      "text/html": [
       "<span style=\"None\">Running query in &#x27;postgresql://127.0.0.1:5432/imdb_lecture&#x27;</span>"
      ],
      "text/plain": [
       "Running query in 'postgresql://127.0.0.1:5432/imdb_lecture'"
      ]
     },
     "metadata": {},
     "output_type": "display_data"
    },
    {
     "data": {
      "text/html": [
       "<span style=\"color: green\">208 rows affected.</span>"
      ],
      "text/plain": [
       "208 rows affected."
      ]
     },
     "metadata": {},
     "output_type": "display_data"
    },
    {
     "data": {
      "text/html": [
       "<table>\n",
       "    <thead>\n",
       "        <tr>\n",
       "            <th>title_id</th>\n",
       "            <th>name</th>\n",
       "            <th>title</th>\n",
       "            <th>avg_name_length</th>\n",
       "        </tr>\n",
       "    </thead>\n",
       "    <tbody>\n",
       "        <tr>\n",
       "            <td>tt0471382</td>\n",
       "            <td>Morgan Freeman</td>\n",
       "            <td>The 8th Shanghai International Film Festival</td>\n",
       "            <td>14.0000000000000000</td>\n",
       "        </tr>\n",
       "        <tr>\n",
       "            <td>tt2260116</td>\n",
       "            <td>Samantha Gutstadt</td>\n",
       "            <td>The Adventures of Amber & Crystal</td>\n",
       "            <td>17.0000000000000000</td>\n",
       "        </tr>\n",
       "        <tr>\n",
       "            <td>tt1681370</td>\n",
       "            <td>Harry Lennix</td>\n",
       "            <td>The Algerian</td>\n",
       "            <td>11.5000000000000000</td>\n",
       "        </tr>\n",
       "        <tr>\n",
       "            <td>tt1681370</td>\n",
       "            <td>Anil Babbar</td>\n",
       "            <td>The Algerian</td>\n",
       "            <td>11.5000000000000000</td>\n",
       "        </tr>\n",
       "        <tr>\n",
       "            <td>tt0082025</td>\n",
       "            <td>Lindsey C. Vickers</td>\n",
       "            <td>The Appointment</td>\n",
       "            <td>18.0000000000000000</td>\n",
       "        </tr>\n",
       "        <tr>\n",
       "            <td>tt1023624</td>\n",
       "            <td>Morgan Freeman</td>\n",
       "            <td>The Ark, the Animals and 'Evan Almighty'</td>\n",
       "            <td>14.0000000000000000</td>\n",
       "        </tr>\n",
       "        <tr>\n",
       "            <td>tt10075836</td>\n",
       "            <td>Stellan Skarsgård</td>\n",
       "            <td>The Avengers Assemble Premiere</td>\n",
       "            <td>15.7500000000000000</td>\n",
       "        </tr>\n",
       "        <tr>\n",
       "            <td>tt10075836</td>\n",
       "            <td>Chris Hemsworth</td>\n",
       "            <td>The Avengers Assemble Premiere</td>\n",
       "            <td>15.7500000000000000</td>\n",
       "        </tr>\n",
       "        <tr>\n",
       "            <td>tt10075836</td>\n",
       "            <td>Tom Hiddleston</td>\n",
       "            <td>The Avengers Assemble Premiere</td>\n",
       "            <td>15.7500000000000000</td>\n",
       "        </tr>\n",
       "        <tr>\n",
       "            <td>tt10075836</td>\n",
       "            <td>Samuel L. Jackson</td>\n",
       "            <td>The Avengers Assemble Premiere</td>\n",
       "            <td>15.7500000000000000</td>\n",
       "        </tr>\n",
       "    </tbody>\n",
       "</table>\n",
       "<span style=\"font-style:italic;text-align:center;\">Truncated to <a href=\"https://jupysql.ploomber.io/en/latest/api/configuration.html#displaylimit\">displaylimit</a> of 10.</span>"
      ],
      "text/plain": [
       "+------------+--------------------+----------------------------------------------+---------------------+\n",
       "|  title_id  |        name        |                    title                     |   avg_name_length   |\n",
       "+------------+--------------------+----------------------------------------------+---------------------+\n",
       "| tt0471382  |   Morgan Freeman   | The 8th Shanghai International Film Festival | 14.0000000000000000 |\n",
       "| tt2260116  | Samantha Gutstadt  |      The Adventures of Amber & Crystal       | 17.0000000000000000 |\n",
       "| tt1681370  |    Harry Lennix    |                 The Algerian                 | 11.5000000000000000 |\n",
       "| tt1681370  |    Anil Babbar     |                 The Algerian                 | 11.5000000000000000 |\n",
       "| tt0082025  | Lindsey C. Vickers |               The Appointment                | 18.0000000000000000 |\n",
       "| tt1023624  |   Morgan Freeman   |   The Ark, the Animals and 'Evan Almighty'   | 14.0000000000000000 |\n",
       "| tt10075836 | Stellan Skarsgård  |        The Avengers Assemble Premiere        | 15.7500000000000000 |\n",
       "| tt10075836 |  Chris Hemsworth   |        The Avengers Assemble Premiere        | 15.7500000000000000 |\n",
       "| tt10075836 |   Tom Hiddleston   |        The Avengers Assemble Premiere        | 15.7500000000000000 |\n",
       "| tt10075836 | Samuel L. Jackson  |        The Avengers Assemble Premiere        | 15.7500000000000000 |\n",
       "+------------+--------------------+----------------------------------------------+---------------------+\n",
       "Truncated to displaylimit of 10."
      ]
     },
     "execution_count": 6,
     "metadata": {},
     "output_type": "execute_result"
    }
   ],
   "source": [
    "%%sql\n",
    "SELECT title_id, name, title,\n",
    "       AVG(LENGTH(name)) OVER (PARTITION BY title)\n",
    "         AS avg_name_length\n",
    "FROM actor_title\n",
    "WHERE title LIKE 'The %'\n",
    "ORDER BY title;"
   ]
  },
  {
   "cell_type": "markdown",
   "id": "ce65e3cc-f74b-4ab9-855b-3cad976f5660",
   "metadata": {},
   "source": [
    "Choice B"
   ]
  },
  {
   "cell_type": "code",
   "execution_count": 7,
   "id": "b3ebc19d-b0aa-483c-94de-02315538bcb2",
   "metadata": {},
   "outputs": [
    {
     "data": {
      "text/html": [
       "<span style=\"None\">Running query in &#x27;postgresql://127.0.0.1:5432/imdb_lecture&#x27;</span>"
      ],
      "text/plain": [
       "Running query in 'postgresql://127.0.0.1:5432/imdb_lecture'"
      ]
     },
     "metadata": {},
     "output_type": "display_data"
    },
    {
     "data": {
      "text/html": [
       "<span style=\"color: green\">208 rows affected.</span>"
      ],
      "text/plain": [
       "208 rows affected."
      ]
     },
     "metadata": {},
     "output_type": "display_data"
    },
    {
     "data": {
      "text/html": [
       "<table>\n",
       "    <thead>\n",
       "        <tr>\n",
       "            <th>title_id</th>\n",
       "            <th>name</th>\n",
       "            <th>title</th>\n",
       "            <th>avg_name_length</th>\n",
       "        </tr>\n",
       "    </thead>\n",
       "    <tbody>\n",
       "        <tr>\n",
       "            <td>tt0471382</td>\n",
       "            <td>Morgan Freeman</td>\n",
       "            <td>The 8th Shanghai International Film Festival</td>\n",
       "            <td>14</td>\n",
       "        </tr>\n",
       "        <tr>\n",
       "            <td>tt2260116</td>\n",
       "            <td>Samantha Gutstadt</td>\n",
       "            <td>The Adventures of Amber & Crystal</td>\n",
       "            <td>17</td>\n",
       "        </tr>\n",
       "        <tr>\n",
       "            <td>tt1681370</td>\n",
       "            <td>Harry Lennix</td>\n",
       "            <td>The Algerian</td>\n",
       "            <td>12</td>\n",
       "        </tr>\n",
       "        <tr>\n",
       "            <td>tt1681370</td>\n",
       "            <td>Anil Babbar</td>\n",
       "            <td>The Algerian</td>\n",
       "            <td>12</td>\n",
       "        </tr>\n",
       "        <tr>\n",
       "            <td>tt0082025</td>\n",
       "            <td>Lindsey C. Vickers</td>\n",
       "            <td>The Appointment</td>\n",
       "            <td>18</td>\n",
       "        </tr>\n",
       "        <tr>\n",
       "            <td>tt1023624</td>\n",
       "            <td>Morgan Freeman</td>\n",
       "            <td>The Ark, the Animals and 'Evan Almighty'</td>\n",
       "            <td>14</td>\n",
       "        </tr>\n",
       "        <tr>\n",
       "            <td>tt10075836</td>\n",
       "            <td>Stellan Skarsgård</td>\n",
       "            <td>The Avengers Assemble Premiere</td>\n",
       "            <td>16</td>\n",
       "        </tr>\n",
       "        <tr>\n",
       "            <td>tt10075836</td>\n",
       "            <td>Chris Hemsworth</td>\n",
       "            <td>The Avengers Assemble Premiere</td>\n",
       "            <td>16</td>\n",
       "        </tr>\n",
       "        <tr>\n",
       "            <td>tt10075836</td>\n",
       "            <td>Tom Hiddleston</td>\n",
       "            <td>The Avengers Assemble Premiere</td>\n",
       "            <td>16</td>\n",
       "        </tr>\n",
       "        <tr>\n",
       "            <td>tt10075836</td>\n",
       "            <td>Samuel L. Jackson</td>\n",
       "            <td>The Avengers Assemble Premiere</td>\n",
       "            <td>16</td>\n",
       "        </tr>\n",
       "    </tbody>\n",
       "</table>\n",
       "<span style=\"font-style:italic;text-align:center;\">Truncated to <a href=\"https://jupysql.ploomber.io/en/latest/api/configuration.html#displaylimit\">displaylimit</a> of 10.</span>"
      ],
      "text/plain": [
       "+------------+--------------------+----------------------------------------------+-----------------+\n",
       "|  title_id  |        name        |                    title                     | avg_name_length |\n",
       "+------------+--------------------+----------------------------------------------+-----------------+\n",
       "| tt0471382  |   Morgan Freeman   | The 8th Shanghai International Film Festival |        14       |\n",
       "| tt2260116  | Samantha Gutstadt  |      The Adventures of Amber & Crystal       |        17       |\n",
       "| tt1681370  |    Harry Lennix    |                 The Algerian                 |        12       |\n",
       "| tt1681370  |    Anil Babbar     |                 The Algerian                 |        12       |\n",
       "| tt0082025  | Lindsey C. Vickers |               The Appointment                |        18       |\n",
       "| tt1023624  |   Morgan Freeman   |   The Ark, the Animals and 'Evan Almighty'   |        14       |\n",
       "| tt10075836 | Stellan Skarsgård  |        The Avengers Assemble Premiere        |        16       |\n",
       "| tt10075836 |  Chris Hemsworth   |        The Avengers Assemble Premiere        |        16       |\n",
       "| tt10075836 |   Tom Hiddleston   |        The Avengers Assemble Premiere        |        16       |\n",
       "| tt10075836 | Samuel L. Jackson  |        The Avengers Assemble Premiere        |        16       |\n",
       "+------------+--------------------+----------------------------------------------+-----------------+\n",
       "Truncated to displaylimit of 10."
      ]
     },
     "execution_count": 7,
     "metadata": {},
     "output_type": "execute_result"
    }
   ],
   "source": [
    "%%sql\n",
    "SELECT title_id, name, title,\n",
    "       CAST(AVG(LENGTH(name)) OVER (PARTITION BY title)\n",
    "            AS INTEGER)\n",
    "         AS avg_name_length\n",
    "FROM actor_title\n",
    "WHERE title LIKE 'The %'\n",
    "ORDER BY title;"
   ]
  },
  {
   "cell_type": "markdown",
   "id": "c3f0d05f-bb4d-40f1-b25e-cbb01c33d691",
   "metadata": {},
   "source": [
    "Choice C"
   ]
  },
  {
   "cell_type": "code",
   "execution_count": 8,
   "id": "0a4a5629-4e35-476f-80bc-d8e112390ac8",
   "metadata": {},
   "outputs": [
    {
     "data": {
      "text/html": [
       "<span style=\"None\">Running query in &#x27;postgresql://127.0.0.1:5432/imdb_lecture&#x27;</span>"
      ],
      "text/plain": [
       "Running query in 'postgresql://127.0.0.1:5432/imdb_lecture'"
      ]
     },
     "metadata": {},
     "output_type": "display_data"
    },
    {
     "data": {
      "text/html": [
       "<span style=\"color: green\">29 rows affected.</span>"
      ],
      "text/plain": [
       "29 rows affected."
      ]
     },
     "metadata": {},
     "output_type": "display_data"
    },
    {
     "data": {
      "text/html": [
       "<table>\n",
       "    <thead>\n",
       "        <tr>\n",
       "            <th>title_id</th>\n",
       "            <th>name</th>\n",
       "            <th>title</th>\n",
       "            <th>length</th>\n",
       "            <th>name_rank</th>\n",
       "        </tr>\n",
       "    </thead>\n",
       "    <tbody>\n",
       "        <tr>\n",
       "            <td>tt1622089</td>\n",
       "            <td>Chris Boiling</td>\n",
       "            <td>A Child Called Moon</td>\n",
       "            <td>13</td>\n",
       "            <td>1</td>\n",
       "        </tr>\n",
       "        <tr>\n",
       "            <td>tt0931480</td>\n",
       "            <td>Alan Oppenheimer</td>\n",
       "            <td>A Date with Eddie</td>\n",
       "            <td>16</td>\n",
       "            <td>1</td>\n",
       "        </tr>\n",
       "        <tr>\n",
       "            <td>tt0931480</td>\n",
       "            <td>Ronnie Schell</td>\n",
       "            <td>A Date with Eddie</td>\n",
       "            <td>13</td>\n",
       "            <td>2</td>\n",
       "        </tr>\n",
       "        <tr>\n",
       "            <td>tt2611968</td>\n",
       "            <td>Chris Evans</td>\n",
       "            <td>A Girl's Affair</td>\n",
       "            <td>11</td>\n",
       "            <td>1</td>\n",
       "        </tr>\n",
       "        <tr>\n",
       "            <td>tt0236585</td>\n",
       "            <td>Takis Davlopoulos</td>\n",
       "            <td>A Hail of Bullets</td>\n",
       "            <td>17</td>\n",
       "            <td>1</td>\n",
       "        </tr>\n",
       "        <tr>\n",
       "            <td>tt14777134</td>\n",
       "            <td>Leah Remini</td>\n",
       "            <td>A Hot Minute</td>\n",
       "            <td>11</td>\n",
       "            <td>1</td>\n",
       "        </tr>\n",
       "        <tr>\n",
       "            <td>tt9174960</td>\n",
       "            <td>Alexander Fernandez</td>\n",
       "            <td>A killer p.o.v.</td>\n",
       "            <td>19</td>\n",
       "            <td>1</td>\n",
       "        </tr>\n",
       "        <tr>\n",
       "            <td>tt0528326</td>\n",
       "            <td>M. Pam Blumenthal</td>\n",
       "            <td>A Love Story</td>\n",
       "            <td>17</td>\n",
       "            <td>1</td>\n",
       "        </tr>\n",
       "        <tr>\n",
       "            <td>tt0528326</td>\n",
       "            <td>Lorenzo Music</td>\n",
       "            <td>A Love Story</td>\n",
       "            <td>13</td>\n",
       "            <td>2</td>\n",
       "        </tr>\n",
       "        <tr>\n",
       "            <td>tt0528326</td>\n",
       "            <td>Peter Bonerz</td>\n",
       "            <td>A Love Story</td>\n",
       "            <td>12</td>\n",
       "            <td>3</td>\n",
       "        </tr>\n",
       "    </tbody>\n",
       "</table>\n",
       "<span style=\"font-style:italic;text-align:center;\">Truncated to <a href=\"https://jupysql.ploomber.io/en/latest/api/configuration.html#displaylimit\">displaylimit</a> of 10.</span>"
      ],
      "text/plain": [
       "+------------+---------------------+---------------------+--------+-----------+\n",
       "|  title_id  |         name        |        title        | length | name_rank |\n",
       "+------------+---------------------+---------------------+--------+-----------+\n",
       "| tt1622089  |    Chris Boiling    | A Child Called Moon |   13   |     1     |\n",
       "| tt0931480  |   Alan Oppenheimer  |  A Date with Eddie  |   16   |     1     |\n",
       "| tt0931480  |    Ronnie Schell    |  A Date with Eddie  |   13   |     2     |\n",
       "| tt2611968  |     Chris Evans     |   A Girl's Affair   |   11   |     1     |\n",
       "| tt0236585  |  Takis Davlopoulos  |  A Hail of Bullets  |   17   |     1     |\n",
       "| tt14777134 |     Leah Remini     |     A Hot Minute    |   11   |     1     |\n",
       "| tt9174960  | Alexander Fernandez |   A killer p.o.v.   |   19   |     1     |\n",
       "| tt0528326  |  M. Pam Blumenthal  |     A Love Story    |   17   |     1     |\n",
       "| tt0528326  |    Lorenzo Music    |     A Love Story    |   13   |     2     |\n",
       "| tt0528326  |     Peter Bonerz    |     A Love Story    |   12   |     3     |\n",
       "+------------+---------------------+---------------------+--------+-----------+\n",
       "Truncated to displaylimit of 10."
      ]
     },
     "execution_count": 8,
     "metadata": {},
     "output_type": "execute_result"
    }
   ],
   "source": [
    "%%sql\n",
    "SELECT title_id, name, title,\n",
    "       LENGTH(name),\n",
    "       RANK() OVER (PARTITION BY title ORDER BY LENGTH(name) DESC)\n",
    "         AS name_rank\n",
    "FROM actor_title\n",
    "WHERE title LIKE 'A %'\n",
    "ORDER BY title, name_rank;"
   ]
  }
 ],
 "metadata": {
  "kernelspec": {
   "display_name": "Python 3 (ipykernel)",
   "language": "python",
   "name": "python3"
  },
  "language_info": {
   "codemirror_mode": {
    "name": "ipython",
    "version": 3
   },
   "file_extension": ".py",
   "mimetype": "text/x-python",
   "name": "python",
   "nbconvert_exporter": "python",
   "pygments_lexer": "ipython3",
   "version": "3.11.0"
  }
 },
 "nbformat": 4,
 "nbformat_minor": 5
}
