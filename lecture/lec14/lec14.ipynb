{
 "cells": [
  {
   "cell_type": "markdown",
   "id": "6f4dc967-c97c-449d-b983-837def50668c",
   "metadata": {},
   "source": [
    "# Lecture 14: GNIS"
   ]
  },
  {
   "cell_type": "code",
   "execution_count": 1,
   "id": "eebaaefa-68c6-49a7-a947-05c1288bdaec",
   "metadata": {},
   "outputs": [],
   "source": [
    "import numpy as np\n",
    "import pandas as pd"
   ]
  },
  {
   "cell_type": "markdown",
   "id": "69e550c4-4f67-4213-bd4c-a96d12ac2059",
   "metadata": {},
   "source": [
    "Load the baseball database if you need to"
   ]
  },
  {
   "cell_type": "code",
   "execution_count": 2,
   "id": "73464278-9900-4f37-89b7-43034927c5fa",
   "metadata": {},
   "outputs": [
    {
     "name": "stdout",
     "output_type": "stream",
     "text": [
      "Archive:  ../../proj/proj2/data/baseball.zip\n",
      " pg_terminate_backend \n",
      "----------------------\n",
      "(0 rows)\n",
      "\n",
      "DROP DATABASE\n",
      "CREATE DATABASE\n",
      "SET\n",
      "SET\n",
      "SET\n",
      "SET\n",
      "SET\n",
      " set_config \n",
      "------------\n",
      " \n",
      "(1 row)\n",
      "\n",
      "SET\n",
      "SET\n",
      "SET\n",
      "SET\n",
      "SET\n",
      "SET\n",
      "CREATE TABLE\n",
      "ALTER TABLE\n",
      "CREATE TABLE\n",
      "ALTER TABLE\n",
      "CREATE TABLE\n",
      "ALTER TABLE\n",
      "CREATE TABLE\n",
      "ALTER TABLE\n",
      "CREATE TABLE\n",
      "ALTER TABLE\n",
      "CREATE TABLE\n",
      "ALTER TABLE\n",
      "CREATE TABLE\n",
      "ALTER TABLE\n",
      "CREATE TABLE\n",
      "ALTER TABLE\n",
      "CREATE TABLE\n",
      "ALTER TABLE\n",
      "CREATE TABLE\n",
      "ALTER TABLE\n",
      "CREATE TABLE\n",
      "ALTER TABLE\n",
      "CREATE TABLE\n",
      "ALTER TABLE\n",
      "CREATE TABLE\n",
      "ALTER TABLE\n",
      "CREATE TABLE\n",
      "ALTER TABLE\n",
      "CREATE TABLE\n",
      "ALTER TABLE\n",
      "CREATE TABLE\n",
      "ALTER TABLE\n",
      "CREATE TABLE\n",
      "ALTER TABLE\n",
      "CREATE TABLE\n",
      "ALTER TABLE\n",
      "CREATE TABLE\n",
      "ALTER TABLE\n",
      "CREATE TABLE\n",
      "ALTER TABLE\n",
      "CREATE TABLE\n",
      "ALTER TABLE\n",
      "CREATE TABLE\n",
      "ALTER TABLE\n",
      "CREATE TABLE\n",
      "ALTER TABLE\n",
      "CREATE TABLE\n",
      "ALTER TABLE\n",
      "CREATE TABLE\n",
      "ALTER TABLE\n",
      "CREATE TABLE\n",
      "ALTER TABLE\n",
      "CREATE TABLE\n",
      "ALTER TABLE\n",
      "COPY 5219\n",
      "COPY 104256\n",
      "COPY 179\n",
      "COPY 6236\n",
      "COPY 425\n",
      "COPY 6879\n",
      "COPY 104324\n",
      "COPY 13943\n",
      "COPY 17350\n",
      "COPY 138838\n",
      "COPY 12028\n",
      "COPY 31955\n",
      "COPY 13110\n",
      "COPY 4191\n",
      "COPY 3040\n",
      "COPY 3469\n",
      "COPY 93\n",
      "COPY 252\n",
      "COPY 19370\n",
      "COPY 45806\n",
      "COPY 5445\n",
      "COPY 26428\n",
      "COPY 1207\n",
      "COPY 325\n",
      "COPY 2865\n",
      "COPY 120\n",
      "COPY 52\n",
      "ALTER TABLE\n",
      "ALTER TABLE\n",
      "ALTER TABLE\n",
      "ALTER TABLE\n",
      "ALTER TABLE\n",
      "ALTER TABLE\n",
      "ALTER TABLE\n",
      "ALTER TABLE\n",
      "ALTER TABLE\n",
      "ALTER TABLE\n",
      "ALTER TABLE\n",
      "ALTER TABLE\n",
      "ALTER TABLE\n",
      "ALTER TABLE\n",
      "ALTER TABLE\n",
      "ALTER TABLE\n",
      "ALTER TABLE\n",
      "ALTER TABLE\n",
      "ALTER TABLE\n",
      "ALTER TABLE\n",
      "ALTER TABLE\n",
      "ALTER TABLE\n",
      "ALTER TABLE\n",
      "ALTER TABLE\n",
      "ALTER TABLE\n",
      "ALTER TABLE\n",
      "SET\n"
     ]
    }
   ],
   "source": [
    "!unzip -u ../../proj/proj2/data/baseball.zip -d data/\n",
    "!psql postgresql://jovyan@127.0.0.1:5432/baseball -c 'SELECT pg_terminate_backend(pg_stat_activity.pid) FROM pg_stat_activity WHERE datname = current_database()  AND pid <> pg_backend_pid();'\n",
    "!psql -h localhost -c 'DROP DATABASE IF EXISTS baseball'\n",
    "!psql -h localhost -c 'CREATE DATABASE baseball'\n",
    "!psql -h localhost -d baseball -f data/baseball.sql\n",
    "!psql -h localhost -c 'SET max_parallel_workers_per_gather = 0;'"
   ]
  },
  {
   "cell_type": "markdown",
   "id": "c96c86c3-32e7-4d18-99b8-59e64cfcc9b7",
   "metadata": {},
   "source": [
    "---\n",
    "\n",
    "# Scalar Functions and Query Plans"
   ]
  },
  {
   "cell_type": "code",
   "execution_count": 3,
   "id": "4e2bd0d6-d390-45c9-bb8f-198e9045903d",
   "metadata": {},
   "outputs": [
    {
     "name": "stdout",
     "output_type": "stream",
     "text": [
      "Deploy Streamlit apps for free on Ploomber Cloud! Learn more: https://ploomber.io/s/signup\n"
     ]
    }
   ],
   "source": [
    "## we'll use the Lahman baseball database in our examples today.\n",
    "## replace the database connection with a database of your own!\n",
    "%reload_ext sql\n",
    "%sql postgresql://localhost:5432/baseball\n",
    "%config SqlMagic.displaylimit = 20"
   ]
  },
  {
   "cell_type": "code",
   "execution_count": 4,
   "id": "5e15b5e7-6f42-4d79-991a-8620d2f22bd4",
   "metadata": {},
   "outputs": [
    {
     "data": {
      "text/html": [
       "<span style=\"None\">Running query in &#x27;postgresql://localhost:5432/baseball&#x27;</span>"
      ],
      "text/plain": [
       "Running query in 'postgresql://localhost:5432/baseball'"
      ]
     },
     "metadata": {},
     "output_type": "display_data"
    },
    {
     "data": {
      "text/html": [
       "<span style=\"color: green\">5 rows affected.</span>"
      ],
      "text/plain": [
       "5 rows affected."
      ]
     },
     "metadata": {},
     "output_type": "display_data"
    },
    {
     "data": {
      "text/html": [
       "<table>\n",
       "    <thead>\n",
       "        <tr>\n",
       "            <th>yearid</th>\n",
       "            <th>year</th>\n",
       "        </tr>\n",
       "    </thead>\n",
       "    <tbody>\n",
       "        <tr>\n",
       "            <td>1871</td>\n",
       "            <td>'71</td>\n",
       "        </tr>\n",
       "        <tr>\n",
       "            <td>1871</td>\n",
       "            <td>'71</td>\n",
       "        </tr>\n",
       "        <tr>\n",
       "            <td>1871</td>\n",
       "            <td>'71</td>\n",
       "        </tr>\n",
       "        <tr>\n",
       "            <td>1871</td>\n",
       "            <td>'71</td>\n",
       "        </tr>\n",
       "        <tr>\n",
       "            <td>1871</td>\n",
       "            <td>'71</td>\n",
       "        </tr>\n",
       "    </tbody>\n",
       "</table>"
      ],
      "text/plain": [
       "+--------+------+\n",
       "| yearid | year |\n",
       "+--------+------+\n",
       "|  1871  | '71  |\n",
       "|  1871  | '71  |\n",
       "|  1871  | '71  |\n",
       "|  1871  | '71  |\n",
       "|  1871  | '71  |\n",
       "+--------+------+"
      ]
     },
     "execution_count": 4,
     "metadata": {},
     "output_type": "execute_result"
    }
   ],
   "source": [
    "%%sql\n",
    "WITH yearnum AS\n",
    "  (SELECT yearid, (yearid % 100) as year\n",
    "     FROM batting\n",
    "  )\n",
    "SELECT yearid, CONCAT('''', LPAD(year::text, 2, '0')) as year\n",
    "  FROM yearnum\n",
    " LIMIT 5;"
   ]
  },
  {
   "cell_type": "markdown",
   "id": "a88f1cb4-5dd8-480d-8bf7-a3f2e0a2fe84",
   "metadata": {},
   "source": [
    "Let's analyze the below query (we've flattened it for convenience):"
   ]
  },
  {
   "cell_type": "code",
   "execution_count": 5,
   "id": "d472387b-b9b4-4264-bfa4-159dfed000d9",
   "metadata": {},
   "outputs": [
    {
     "data": {
      "text/html": [
       "<span style=\"None\">Running query in &#x27;postgresql://localhost:5432/baseball&#x27;</span>"
      ],
      "text/plain": [
       "Running query in 'postgresql://localhost:5432/baseball'"
      ]
     },
     "metadata": {},
     "output_type": "display_data"
    },
    {
     "data": {
      "text/html": [
       "<span style=\"color: green\">2 rows affected.</span>"
      ],
      "text/plain": [
       "2 rows affected."
      ]
     },
     "metadata": {},
     "output_type": "display_data"
    },
    {
     "data": {
      "text/html": [
       "<table>\n",
       "    <thead>\n",
       "        <tr>\n",
       "            <th>QUERY PLAN</th>\n",
       "        </tr>\n",
       "    </thead>\n",
       "    <tbody>\n",
       "        <tr>\n",
       "            <td>Seq Scan on public.batting  (cost=0.00..3927.29 rows=104324 width=36)</td>\n",
       "        </tr>\n",
       "        <tr>\n",
       "            <td>&nbsp;&nbsp;Output: yearid, concat('''', lpad(((yearid % 100))::text, 2, '0'::text))</td>\n",
       "        </tr>\n",
       "    </tbody>\n",
       "</table>"
      ],
      "text/plain": [
       "+----------------------------------------------------------------------------+\n",
       "|                                 QUERY PLAN                                 |\n",
       "+----------------------------------------------------------------------------+\n",
       "|   Seq Scan on public.batting  (cost=0.00..3927.29 rows=104324 width=36)    |\n",
       "|   Output: yearid, concat('''', lpad(((yearid % 100))::text, 2, '0'::text)) |\n",
       "+----------------------------------------------------------------------------+"
      ]
     },
     "execution_count": 5,
     "metadata": {},
     "output_type": "execute_result"
    }
   ],
   "source": [
    "%%sql\n",
    "EXPLAIN (VERBOSE true)\n",
    "SELECT yearid,\n",
    "       CONCAT('''', LPAD((yearid % 100)::text, 2, '0')) AS year\n",
    "FROM batting;\n"
   ]
  },
  {
   "cell_type": "markdown",
   "id": "2f11053d-e442-4a23-b2c0-ab5d8d858359",
   "metadata": {},
   "source": [
    "What if scalar functions mention multiple tables?\n",
    "\n",
    "The below query computes an arbitrary statistic for pitchers:\n",
    "* 1 point for every strikeout they throw as pitcher\n",
    "* –1 for every point they themselves struck out as batter\n",
    "\n",
    "If the notebook-like output is hard to read, try out the query in `psql`. Note that notebooks don't preserve whitespace when displaying dataframes."
   ]
  },
  {
   "cell_type": "code",
   "execution_count": 6,
   "id": "76122e53-5bd6-4f79-93be-d9bf79685f0d",
   "metadata": {},
   "outputs": [
    {
     "data": {
      "text/html": [
       "<span style=\"None\">Running query in &#x27;postgresql://localhost:5432/baseball&#x27;</span>"
      ],
      "text/plain": [
       "Running query in 'postgresql://localhost:5432/baseball'"
      ]
     },
     "metadata": {},
     "output_type": "display_data"
    },
    {
     "data": {
      "text/html": [
       "<span style=\"color: green\">11 rows affected.</span>"
      ],
      "text/plain": [
       "11 rows affected."
      ]
     },
     "metadata": {},
     "output_type": "display_data"
    },
    {
     "data": {
      "text/html": [
       "<table>\n",
       "    <thead>\n",
       "        <tr>\n",
       "            <th>QUERY PLAN</th>\n",
       "        </tr>\n",
       "    </thead>\n",
       "    <tbody>\n",
       "        <tr>\n",
       "            <td>Nested Loop  (cost=0.43..12951.83 rows=340604 width=13)</td>\n",
       "        </tr>\n",
       "        <tr>\n",
       "            <td>&nbsp;&nbsp;Output: p.playerid, (p.so - b.so)</td>\n",
       "        </tr>\n",
       "        <tr>\n",
       "            <td>&nbsp;&nbsp;->  Seq Scan on public.pitching p  (cost=0.00..1374.06 rows=45806 width=13)</td>\n",
       "        </tr>\n",
       "        <tr>\n",
       "            <td>&nbsp;&nbsp;&nbsp;&nbsp;&nbsp;&nbsp;&nbsp;&nbsp;Output: p.playerid, p.yearid, p.stint, p.teamid, p.lgid, p.w, p.l, p.g, p.gs, p.cg, p.sho, p.sv, p.ipouts, p.h, p.er, p.hr, p.bb, p.so, p.baopp, p.era, p.ibb, p.wp, p.hbp, p.bk, p.bfp, p.gf, p.r, p.sh, p.sf, p.gidp</td>\n",
       "        </tr>\n",
       "        <tr>\n",
       "            <td>&nbsp;&nbsp;->  Memoize  (cost=0.43..0.73 rows=7 width=13)</td>\n",
       "        </tr>\n",
       "        <tr>\n",
       "            <td>&nbsp;&nbsp;&nbsp;&nbsp;&nbsp;&nbsp;&nbsp;&nbsp;Output: b.so, b.playerid</td>\n",
       "        </tr>\n",
       "        <tr>\n",
       "            <td>&nbsp;&nbsp;&nbsp;&nbsp;&nbsp;&nbsp;&nbsp;&nbsp;Cache Key: p.playerid</td>\n",
       "        </tr>\n",
       "        <tr>\n",
       "            <td>&nbsp;&nbsp;&nbsp;&nbsp;&nbsp;&nbsp;&nbsp;&nbsp;Cache Mode: logical</td>\n",
       "        </tr>\n",
       "        <tr>\n",
       "            <td>&nbsp;&nbsp;&nbsp;&nbsp;&nbsp;&nbsp;&nbsp;&nbsp;->  Index Scan using batting_pkey on public.batting b  (cost=0.42..0.72 rows=7 width=13)</td>\n",
       "        </tr>\n",
       "        <tr>\n",
       "            <td>&nbsp;&nbsp;&nbsp;&nbsp;&nbsp;&nbsp;&nbsp;&nbsp;&nbsp;&nbsp;&nbsp;&nbsp;&nbsp;&nbsp;Output: b.so, b.playerid</td>\n",
       "        </tr>\n",
       "        <tr>\n",
       "            <td>&nbsp;&nbsp;&nbsp;&nbsp;&nbsp;&nbsp;&nbsp;&nbsp;&nbsp;&nbsp;&nbsp;&nbsp;&nbsp;&nbsp;Index Cond: ((b.playerid)::text = (p.playerid)::text)</td>\n",
       "        </tr>\n",
       "    </tbody>\n",
       "</table>"
      ],
      "text/plain": [
       "+--------------------------------------------------------------------------------------------------------------------------------------------------------------------------------------------------------------------------------+\n",
       "|                                                                                                           QUERY PLAN                                                                                                           |\n",
       "+--------------------------------------------------------------------------------------------------------------------------------------------------------------------------------------------------------------------------------+\n",
       "|                                                                                    Nested Loop  (cost=0.43..12951.83 rows=340604 width=13)                                                                                     |\n",
       "|                                                                                                Output: p.playerid, (p.so - b.so)                                                                                               |\n",
       "|                                                                           ->  Seq Scan on public.pitching p  (cost=0.00..1374.06 rows=45806 width=13)                                                                          |\n",
       "|         Output: p.playerid, p.yearid, p.stint, p.teamid, p.lgid, p.w, p.l, p.g, p.gs, p.cg, p.sho, p.sv, p.ipouts, p.h, p.er, p.hr, p.bb, p.so, p.baopp, p.era, p.ibb, p.wp, p.hbp, p.bk, p.bfp, p.gf, p.r, p.sh, p.sf, p.gidp |\n",
       "|                                                                                          ->  Memoize  (cost=0.43..0.73 rows=7 width=13)                                                                                        |\n",
       "|                                                                                                        Output: b.so, b.playerid                                                                                                |\n",
       "|                                                                                                         Cache Key: p.playerid                                                                                                  |\n",
       "|                                                                                                          Cache Mode: logical                                                                                                   |\n",
       "|                                                                        ->  Index Scan using batting_pkey on public.batting b  (cost=0.42..0.72 rows=7 width=13)                                                                |\n",
       "|                                                                                                           Output: b.so, b.playerid                                                                                             |\n",
       "|                                                                                            Index Cond: ((b.playerid)::text = (p.playerid)::text)                                                                               |\n",
       "+--------------------------------------------------------------------------------------------------------------------------------------------------------------------------------------------------------------------------------+"
      ]
     },
     "execution_count": 6,
     "metadata": {},
     "output_type": "execute_result"
    }
   ],
   "source": [
    "%%sql\n",
    "EXPLAIN (VERBOSE true)\n",
    "SELECT p.playerid, p.so - b.so\n",
    "  FROM pitching p\n",
    "  INNER JOIN batting b\n",
    "  ON p.playerid=b.playerid;"
   ]
  },
  {
   "cell_type": "markdown",
   "id": "98faa532-b8b4-4ef4-8ef7-51868bc1f804",
   "metadata": {},
   "source": [
    "### Window Functions"
   ]
  },
  {
   "cell_type": "code",
   "execution_count": 7,
   "id": "a7ee3734-e509-43a5-914e-d194f9a324e3",
   "metadata": {},
   "outputs": [
    {
     "data": {
      "text/html": [
       "<span style=\"None\">Running query in &#x27;postgresql://localhost:5432/baseball&#x27;</span>"
      ],
      "text/plain": [
       "Running query in 'postgresql://localhost:5432/baseball'"
      ]
     },
     "metadata": {},
     "output_type": "display_data"
    },
    {
     "data": {
      "text/html": [
       "<span style=\"color: green\">10 rows affected.</span>"
      ],
      "text/plain": [
       "10 rows affected."
      ]
     },
     "metadata": {},
     "output_type": "display_data"
    },
    {
     "data": {
      "text/html": [
       "<table>\n",
       "    <thead>\n",
       "        <tr>\n",
       "            <th>namefirst</th>\n",
       "            <th>namelast</th>\n",
       "            <th>yearid</th>\n",
       "            <th>hr</th>\n",
       "            <th>rank</th>\n",
       "            <th>avg_3yr</th>\n",
       "            <th>previous</th>\n",
       "            <th>lag2</th>\n",
       "        </tr>\n",
       "    </thead>\n",
       "    <tbody>\n",
       "        <tr>\n",
       "            <td>Barry</td>\n",
       "            <td>Bonds</td>\n",
       "            <td>2001</td>\n",
       "            <td>73</td>\n",
       "            <td>1</td>\n",
       "            <td>48.2500000000000000</td>\n",
       "            <td>37</td>\n",
       "            <td>34</td>\n",
       "        </tr>\n",
       "        <tr>\n",
       "            <td>Babe</td>\n",
       "            <td>Ruth</td>\n",
       "            <td>1927</td>\n",
       "            <td>60</td>\n",
       "            <td>2</td>\n",
       "            <td>44.5000000000000000</td>\n",
       "            <td>54</td>\n",
       "            <td>25</td>\n",
       "        </tr>\n",
       "        <tr>\n",
       "            <td>Babe</td>\n",
       "            <td>Ruth</td>\n",
       "            <td>1921</td>\n",
       "            <td>59</td>\n",
       "            <td>3</td>\n",
       "            <td>38.2500000000000000</td>\n",
       "            <td>0</td>\n",
       "            <td>29</td>\n",
       "        </tr>\n",
       "        <tr>\n",
       "            <td>Babe</td>\n",
       "            <td>Ruth</td>\n",
       "            <td>1920</td>\n",
       "            <td>54</td>\n",
       "            <td>4</td>\n",
       "            <td>24.0000000000000000</td>\n",
       "            <td>None</td>\n",
       "            <td>11</td>\n",
       "        </tr>\n",
       "        <tr>\n",
       "            <td>Babe</td>\n",
       "            <td>Ruth</td>\n",
       "            <td>1928</td>\n",
       "            <td>54</td>\n",
       "            <td>4</td>\n",
       "            <td>46.5000000000000000</td>\n",
       "            <td>59</td>\n",
       "            <td>47</td>\n",
       "        </tr>\n",
       "        <tr>\n",
       "            <td>Barry</td>\n",
       "            <td>Bonds</td>\n",
       "            <td>2000</td>\n",
       "            <td>49</td>\n",
       "            <td>6</td>\n",
       "            <td>40.0000000000000000</td>\n",
       "            <td>46</td>\n",
       "            <td>37</td>\n",
       "        </tr>\n",
       "        <tr>\n",
       "            <td>Babe</td>\n",
       "            <td>Ruth</td>\n",
       "            <td>1930</td>\n",
       "            <td>49</td>\n",
       "            <td>6</td>\n",
       "            <td>52.2500000000000000</td>\n",
       "            <td>41</td>\n",
       "            <td>54</td>\n",
       "        </tr>\n",
       "        <tr>\n",
       "            <td>Babe</td>\n",
       "            <td>Ruth</td>\n",
       "            <td>1926</td>\n",
       "            <td>47</td>\n",
       "            <td>8</td>\n",
       "            <td>39.7500000000000000</td>\n",
       "            <td>29</td>\n",
       "            <td>46</td>\n",
       "        </tr>\n",
       "        <tr>\n",
       "            <td>Barry</td>\n",
       "            <td>Bonds</td>\n",
       "            <td>1993</td>\n",
       "            <td>46</td>\n",
       "            <td>9</td>\n",
       "            <td>34.5000000000000000</td>\n",
       "            <td>16</td>\n",
       "            <td>25</td>\n",
       "        </tr>\n",
       "        <tr>\n",
       "            <td>Barry</td>\n",
       "            <td>Bonds</td>\n",
       "            <td>2002</td>\n",
       "            <td>46</td>\n",
       "            <td>9</td>\n",
       "            <td>50.5000000000000000</td>\n",
       "            <td>33</td>\n",
       "            <td>49</td>\n",
       "        </tr>\n",
       "    </tbody>\n",
       "</table>"
      ],
      "text/plain": [
       "+-----------+----------+--------+----+------+---------------------+----------+------+\n",
       "| namefirst | namelast | yearid | hr | rank |       avg_3yr       | previous | lag2 |\n",
       "+-----------+----------+--------+----+------+---------------------+----------+------+\n",
       "|   Barry   |  Bonds   |  2001  | 73 |  1   | 48.2500000000000000 |    37    |  34  |\n",
       "|    Babe   |   Ruth   |  1927  | 60 |  2   | 44.5000000000000000 |    54    |  25  |\n",
       "|    Babe   |   Ruth   |  1921  | 59 |  3   | 38.2500000000000000 |    0     |  29  |\n",
       "|    Babe   |   Ruth   |  1920  | 54 |  4   | 24.0000000000000000 |   None   |  11  |\n",
       "|    Babe   |   Ruth   |  1928  | 54 |  4   | 46.5000000000000000 |    59    |  47  |\n",
       "|   Barry   |  Bonds   |  2000  | 49 |  6   | 40.0000000000000000 |    46    |  37  |\n",
       "|    Babe   |   Ruth   |  1930  | 49 |  6   | 52.2500000000000000 |    41    |  54  |\n",
       "|    Babe   |   Ruth   |  1926  | 47 |  8   | 39.7500000000000000 |    29    |  46  |\n",
       "|   Barry   |  Bonds   |  1993  | 46 |  9   | 34.5000000000000000 |    16    |  25  |\n",
       "|   Barry   |  Bonds   |  2002  | 46 |  9   | 50.5000000000000000 |    33    |  49  |\n",
       "+-----------+----------+--------+----+------+---------------------+----------+------+"
      ]
     },
     "execution_count": 7,
     "metadata": {},
     "output_type": "execute_result"
    }
   ],
   "source": [
    "%%sql\n",
    "SELECT namefirst, namelast, yearid, HR,\n",
    "       rank() OVER (ORDER BY HR DESC),\n",
    "       avg(HR)    OVER (PARTITION BY b.playerid ORDER BY yearid ROWS 3 PRECEDING) as avg_3yr,\n",
    "       lag(HR, 7) OVER (PARTITION BY b.playerid ORDER BY yearid) as previous,\n",
    "       lag(HR, 2) OVER (PARTITION BY b.playerid ORDER BY yearid) as lag2\n",
    "FROM batting b, people m\n",
    "WHERE m.playerid = b.playerid\n",
    "   AND (namelast = 'Bonds' or namelast = 'Ruth')\n",
    "ORDER BY HR DESC\n",
    "LIMIT 10;"
   ]
  },
  {
   "cell_type": "markdown",
   "id": "c15e494e-b294-4073-b9c2-e8e67094bd9b",
   "metadata": {},
   "source": [
    "### Inverse Distribution Window Functions"
   ]
  },
  {
   "cell_type": "code",
   "execution_count": 8,
   "id": "dfc97afe-151a-4b58-b981-8185c5bf35f0",
   "metadata": {},
   "outputs": [
    {
     "data": {
      "text/html": [
       "<span style=\"None\">Running query in &#x27;postgresql://localhost:5432/baseball&#x27;</span>"
      ],
      "text/plain": [
       "Running query in 'postgresql://localhost:5432/baseball'"
      ]
     },
     "metadata": {},
     "output_type": "display_data"
    },
    {
     "data": {
      "text/html": [
       "<span style=\"color: green\">1 rows affected.</span>"
      ],
      "text/plain": [
       "1 rows affected."
      ]
     },
     "metadata": {},
     "output_type": "display_data"
    },
    {
     "data": {
      "text/html": [
       "<table>\n",
       "    <thead>\n",
       "        <tr>\n",
       "            <th>min</th>\n",
       "            <th>p25</th>\n",
       "            <th>median</th>\n",
       "            <th>p75</th>\n",
       "            <th>p99</th>\n",
       "            <th>max</th>\n",
       "            <th>avg</th>\n",
       "        </tr>\n",
       "    </thead>\n",
       "    <tbody>\n",
       "        <tr>\n",
       "            <td>0</td>\n",
       "            <td>0.0</td>\n",
       "            <td>0.0</td>\n",
       "            <td>2.0</td>\n",
       "            <td>31.0</td>\n",
       "            <td>73</td>\n",
       "            <td>2.8315823779763046</td>\n",
       "        </tr>\n",
       "    </tbody>\n",
       "</table>"
      ],
      "text/plain": [
       "+-----+-----+--------+-----+------+-----+--------------------+\n",
       "| min | p25 | median | p75 | p99  | max |        avg         |\n",
       "+-----+-----+--------+-----+------+-----+--------------------+\n",
       "|  0  | 0.0 |  0.0   | 2.0 | 31.0 |  73 | 2.8315823779763046 |\n",
       "+-----+-----+--------+-----+------+-----+--------------------+"
      ]
     },
     "execution_count": 8,
     "metadata": {},
     "output_type": "execute_result"
    }
   ],
   "source": [
    "%%sql\n",
    "SELECT MIN(HR),\n",
    "       percentile_cont(0.25) WITHIN GROUP (ORDER BY HR) AS p25,\n",
    "       percentile_cont(0.50) WITHIN GROUP (ORDER BY HR) AS median,\n",
    "       percentile_cont(0.75) WITHIN GROUP (ORDER BY HR) AS p75,\n",
    "       percentile_cont(0.99) WITHIN GROUP (ORDER BY HR) AS p99,\n",
    "       MAX(HR),\n",
    "       AVG(HR)\n",
    "FROM batting;"
   ]
  },
  {
   "cell_type": "code",
   "execution_count": 9,
   "id": "a540915b-40d4-49ad-9392-706c5f255765",
   "metadata": {},
   "outputs": [
    {
     "data": {
      "text/html": [
       "<span style=\"None\">Running query in &#x27;postgresql://localhost:5432/baseball&#x27;</span>"
      ],
      "text/plain": [
       "Running query in 'postgresql://localhost:5432/baseball'"
      ]
     },
     "metadata": {},
     "output_type": "display_data"
    },
    {
     "data": {
      "text/html": [
       "<span style=\"color: green\">67 rows affected.</span>"
      ],
      "text/plain": [
       "67 rows affected."
      ]
     },
     "metadata": {},
     "output_type": "display_data"
    },
    {
     "data": {
      "text/html": [
       "<table>\n",
       "    <thead>\n",
       "        <tr>\n",
       "            <th>hr</th>\n",
       "            <th>count</th>\n",
       "        </tr>\n",
       "    </thead>\n",
       "    <tbody>\n",
       "        <tr>\n",
       "            <td>0</td>\n",
       "            <td>63825</td>\n",
       "        </tr>\n",
       "        <tr>\n",
       "            <td>1</td>\n",
       "            <td>9953</td>\n",
       "        </tr>\n",
       "        <tr>\n",
       "            <td>2</td>\n",
       "            <td>5531</td>\n",
       "        </tr>\n",
       "        <tr>\n",
       "            <td>3</td>\n",
       "            <td>3806</td>\n",
       "        </tr>\n",
       "        <tr>\n",
       "            <td>4</td>\n",
       "            <td>2790</td>\n",
       "        </tr>\n",
       "        <tr>\n",
       "            <td>5</td>\n",
       "            <td>2212</td>\n",
       "        </tr>\n",
       "        <tr>\n",
       "            <td>6</td>\n",
       "            <td>1825</td>\n",
       "        </tr>\n",
       "        <tr>\n",
       "            <td>7</td>\n",
       "            <td>1533</td>\n",
       "        </tr>\n",
       "        <tr>\n",
       "            <td>8</td>\n",
       "            <td>1330</td>\n",
       "        </tr>\n",
       "        <tr>\n",
       "            <td>9</td>\n",
       "            <td>1147</td>\n",
       "        </tr>\n",
       "        <tr>\n",
       "            <td>10</td>\n",
       "            <td>949</td>\n",
       "        </tr>\n",
       "        <tr>\n",
       "            <td>11</td>\n",
       "            <td>861</td>\n",
       "        </tr>\n",
       "        <tr>\n",
       "            <td>12</td>\n",
       "            <td>868</td>\n",
       "        </tr>\n",
       "        <tr>\n",
       "            <td>13</td>\n",
       "            <td>685</td>\n",
       "        </tr>\n",
       "        <tr>\n",
       "            <td>14</td>\n",
       "            <td>654</td>\n",
       "        </tr>\n",
       "        <tr>\n",
       "            <td>15</td>\n",
       "            <td>578</td>\n",
       "        </tr>\n",
       "        <tr>\n",
       "            <td>16</td>\n",
       "            <td>549</td>\n",
       "        </tr>\n",
       "        <tr>\n",
       "            <td>17</td>\n",
       "            <td>474</td>\n",
       "        </tr>\n",
       "        <tr>\n",
       "            <td>18</td>\n",
       "            <td>460</td>\n",
       "        </tr>\n",
       "        <tr>\n",
       "            <td>19</td>\n",
       "            <td>346</td>\n",
       "        </tr>\n",
       "    </tbody>\n",
       "</table>\n",
       "<span style=\"font-style:italic;text-align:center;\">Truncated to <a href=\"https://jupysql.ploomber.io/en/latest/api/configuration.html#displaylimit\">displaylimit</a> of 20.</span>"
      ],
      "text/plain": [
       "+----+-------+\n",
       "| hr | count |\n",
       "+----+-------+\n",
       "| 0  | 63825 |\n",
       "| 1  |  9953 |\n",
       "| 2  |  5531 |\n",
       "| 3  |  3806 |\n",
       "| 4  |  2790 |\n",
       "| 5  |  2212 |\n",
       "| 6  |  1825 |\n",
       "| 7  |  1533 |\n",
       "| 8  |  1330 |\n",
       "| 9  |  1147 |\n",
       "| 10 |  949  |\n",
       "| 11 |  861  |\n",
       "| 12 |  868  |\n",
       "| 13 |  685  |\n",
       "| 14 |  654  |\n",
       "| 15 |  578  |\n",
       "| 16 |  549  |\n",
       "| 17 |  474  |\n",
       "| 18 |  460  |\n",
       "| 19 |  346  |\n",
       "+----+-------+\n",
       "Truncated to displaylimit of 20."
      ]
     },
     "execution_count": 9,
     "metadata": {},
     "output_type": "execute_result"
    }
   ],
   "source": [
    "%%sql\n",
    "SELECT HR, COUNT(*) FROM batting GROUP BY HR ORDER BY HR;"
   ]
  },
  {
   "cell_type": "markdown",
   "id": "b66a1035-8e9b-4538-b3bc-e178f874b0ad",
   "metadata": {},
   "source": [
    "### Hypothetical-Set Window Functions"
   ]
  },
  {
   "cell_type": "code",
   "execution_count": 10,
   "id": "9cdb4fa9-d3e8-4f08-b09f-0c486b6a37da",
   "metadata": {},
   "outputs": [],
   "source": [
    "hrs = 4 # hypothetically, four home runs"
   ]
  },
  {
   "cell_type": "code",
   "execution_count": 11,
   "id": "3e15d361-9066-4bcf-b703-1cdd3e220ae4",
   "metadata": {},
   "outputs": [
    {
     "data": {
      "text/html": [
       "<span style=\"None\">Running query in &#x27;postgresql://localhost:5432/baseball&#x27;</span>"
      ],
      "text/plain": [
       "Running query in 'postgresql://localhost:5432/baseball'"
      ]
     },
     "metadata": {},
     "output_type": "display_data"
    },
    {
     "data": {
      "text/html": [
       "<span style=\"color: green\">1 rows affected.</span>"
      ],
      "text/plain": [
       "1 rows affected."
      ]
     },
     "metadata": {},
     "output_type": "display_data"
    },
    {
     "data": {
      "text/html": [
       "<table>\n",
       "    <thead>\n",
       "        <tr>\n",
       "            <th>hypothetical</th>\n",
       "            <th>rank</th>\n",
       "            <th>dense_rank</th>\n",
       "            <th>pct_rank</th>\n",
       "            <th>cume_dist</th>\n",
       "        </tr>\n",
       "    </thead>\n",
       "    <tbody>\n",
       "        <tr>\n",
       "            <td>4</td>\n",
       "            <td>18420</td>\n",
       "            <td>63</td>\n",
       "            <td>17.655573022506807</td>\n",
       "            <td>0.823445962137551</td>\n",
       "        </tr>\n",
       "    </tbody>\n",
       "</table>"
      ],
      "text/plain": [
       "+--------------+-------+------------+--------------------+-------------------+\n",
       "| hypothetical |  rank | dense_rank |      pct_rank      |     cume_dist     |\n",
       "+--------------+-------+------------+--------------------+-------------------+\n",
       "|      4       | 18420 |     63     | 17.655573022506807 | 0.823445962137551 |\n",
       "+--------------+-------+------------+--------------------+-------------------+"
      ]
     },
     "execution_count": 11,
     "metadata": {},
     "output_type": "execute_result"
    }
   ],
   "source": [
    "%%sql\n",
    "SELECT {{hrs}} as hypothetical,\n",
    "       rank({{hrs}}) WITHIN GROUP (ORDER BY HR DESC),\n",
    "       dense_rank({{hrs}}) WITHIN GROUP (ORDER BY HR DESC),\n",
    "       percent_rank({{hrs}}) WITHIN GROUP (ORDER BY HR DESC) * 100 AS pct_rank,\n",
    "       cume_dist({{hrs}}) WITHIN GROUP (ORDER BY HR)\n",
    "FROM batting\n",
    "LIMIT 10;"
   ]
  },
  {
   "cell_type": "markdown",
   "id": "085085a0-ace7-439b-a25e-a878fa7a6a3f",
   "metadata": {},
   "source": [
    "Without `jupysql` variable substituion"
   ]
  },
  {
   "cell_type": "code",
   "execution_count": 12,
   "id": "74712a9b-100a-401a-99e1-e95eb342892c",
   "metadata": {},
   "outputs": [
    {
     "data": {
      "text/html": [
       "<span style=\"None\">Running query in &#x27;postgresql://localhost:5432/baseball&#x27;</span>"
      ],
      "text/plain": [
       "Running query in 'postgresql://localhost:5432/baseball'"
      ]
     },
     "metadata": {},
     "output_type": "display_data"
    },
    {
     "data": {
      "text/html": [
       "<span style=\"color: green\">1 rows affected.</span>"
      ],
      "text/plain": [
       "1 rows affected."
      ]
     },
     "metadata": {},
     "output_type": "display_data"
    },
    {
     "data": {
      "text/html": [
       "<table>\n",
       "    <thead>\n",
       "        <tr>\n",
       "            <th>hypothetical</th>\n",
       "            <th>rank</th>\n",
       "            <th>dense_rank</th>\n",
       "            <th>pct_rank</th>\n",
       "            <th>cume_dist</th>\n",
       "        </tr>\n",
       "    </thead>\n",
       "    <tbody>\n",
       "        <tr>\n",
       "            <td>4</td>\n",
       "            <td>18420</td>\n",
       "            <td>63</td>\n",
       "            <td>17.655573022506807</td>\n",
       "            <td>0.823445962137551</td>\n",
       "        </tr>\n",
       "    </tbody>\n",
       "</table>"
      ],
      "text/plain": [
       "+--------------+-------+------------+--------------------+-------------------+\n",
       "| hypothetical |  rank | dense_rank |      pct_rank      |     cume_dist     |\n",
       "+--------------+-------+------------+--------------------+-------------------+\n",
       "|      4       | 18420 |     63     | 17.655573022506807 | 0.823445962137551 |\n",
       "+--------------+-------+------------+--------------------+-------------------+"
      ]
     },
     "execution_count": 12,
     "metadata": {},
     "output_type": "execute_result"
    }
   ],
   "source": [
    "%%sql\n",
    "SELECT 4 as hypothetical,\n",
    "       rank(4) WITHIN GROUP (ORDER BY HR DESC),\n",
    "       dense_rank(4) WITHIN GROUP (ORDER BY HR DESC),\n",
    "       percent_rank(4) WITHIN GROUP (ORDER BY HR DESC) * 100 AS pct_rank,\n",
    "       cume_dist(4) WITHIN GROUP (ORDER BY HR)\n",
    "FROM batting\n",
    "LIMIT 10;"
   ]
  },
  {
   "cell_type": "markdown",
   "id": "4bb82259-2c7a-47bb-8550-4ef6587e709b",
   "metadata": {},
   "source": [
    "# GNIS"
   ]
  },
  {
   "cell_type": "markdown",
   "id": "597e9b93-b55b-42ce-92e8-8c67bb559087",
   "metadata": {},
   "source": [
    "This notebook transforms the existing [Geographics Names Information Systems (GNIS)](https://www.usgs.gov/core-science-systems/ngp/board-on-geographic-names/download-gnis-data) national zip file.\n",
    "\n",
    "We have provided a subset of the sql database for you in `data/national.sql`.\n",
    "\n",
    "If you'd like to make your own version of this database, see the end of this notebook. Note: Because of its size, we don't recommend building the GNIS SQL database from scratch on DataHub.\n"
   ]
  },
  {
   "cell_type": "code",
   "execution_count": 13,
   "id": "ef2949aa-c387-458b-b232-872f469d6fd9",
   "metadata": {},
   "outputs": [
    {
     "name": "stdout",
     "output_type": "stream",
     "text": [
      " pg_terminate_backend \n",
      "----------------------\n",
      "(0 rows)\n",
      "\n",
      "DROP DATABASE\n",
      "CREATE DATABASE\n",
      "SET\n",
      "SET\n",
      "SET\n",
      "SET\n",
      "SET\n",
      " set_config \n",
      "------------\n",
      " \n",
      "(1 row)\n",
      "\n",
      "SET\n",
      "SET\n",
      "SET\n",
      "SET\n",
      "SET\n",
      "SET\n",
      "CREATE TABLE\n",
      "ALTER TABLE\n",
      "CREATE TABLE\n",
      "ALTER TABLE\n",
      "COPY 3195\n",
      "COPY 11533\n",
      "CREATE INDEX\n"
     ]
    }
   ],
   "source": [
    "!psql -h localhost -d gnis -c 'SELECT pg_terminate_backend(pg_stat_activity.pid) FROM pg_stat_activity WHERE datname = current_database() AND pid <> pg_backend_pid();'\n",
    "!psql -h localhost -c 'DROP DATABASE IF EXISTS gnis'\n",
    "!psql -h localhost -c 'CREATE DATABASE gnis' \n",
    "!psql -h localhost -d gnis -f data/gnis.sql"
   ]
  },
  {
   "cell_type": "code",
   "execution_count": 14,
   "id": "8fa785a3-e960-41ca-b6db-76f7a19a6250",
   "metadata": {
    "slideshow": {
     "slide_type": "fragment"
    }
   },
   "outputs": [
    {
     "data": {
      "text/html": [
       "<span style=\"None\">Connecting and switching to connection postgresql://localhost:5432/gnis</span>"
      ],
      "text/plain": [
       "Connecting and switching to connection postgresql://localhost:5432/gnis"
      ]
     },
     "metadata": {},
     "output_type": "display_data"
    }
   ],
   "source": [
    "%reload_ext sql\n",
    "%sql postgresql://localhost:5432/gnis\n",
    "%config SqlMagic.displaylimit = 15\n",
    "%config SqlMagic.named_parameters=True"
   ]
  },
  {
   "cell_type": "markdown",
   "id": "a71726db-f43e-48a8-9262-ef99f25fbe60",
   "metadata": {},
   "source": [
    "* View schema in `psql`\n",
    "* View some rows below"
   ]
  },
  {
   "cell_type": "code",
   "execution_count": 15,
   "id": "091593dd-e45e-4ae1-b9c6-62510fc51354",
   "metadata": {},
   "outputs": [
    {
     "data": {
      "text/html": [
       "<span style=\"None\">Running query in &#x27;postgresql://localhost:5432/gnis&#x27;</span>"
      ],
      "text/plain": [
       "Running query in 'postgresql://localhost:5432/gnis'"
      ]
     },
     "metadata": {},
     "output_type": "display_data"
    },
    {
     "data": {
      "text/html": [
       "<span style=\"color: green\">1 rows affected.</span>"
      ],
      "text/plain": [
       "1 rows affected."
      ]
     },
     "metadata": {},
     "output_type": "display_data"
    },
    {
     "data": {
      "text/html": [
       "<table>\n",
       "    <thead>\n",
       "        <tr>\n",
       "            <th>count</th>\n",
       "        </tr>\n",
       "    </thead>\n",
       "    <tbody>\n",
       "        <tr>\n",
       "            <td>11533</td>\n",
       "        </tr>\n",
       "    </tbody>\n",
       "</table>"
      ],
      "text/plain": [
       "+-------+\n",
       "| count |\n",
       "+-------+\n",
       "| 11533 |\n",
       "+-------+"
      ]
     },
     "execution_count": 15,
     "metadata": {},
     "output_type": "execute_result"
    }
   ],
   "source": [
    "%sql SELECT COUNT(*) FROM national;"
   ]
  },
  {
   "cell_type": "code",
   "execution_count": 16,
   "id": "c545ddad-148e-4657-8790-2229a8be6126",
   "metadata": {
    "slideshow": {
     "slide_type": "subslide"
    }
   },
   "outputs": [
    {
     "data": {
      "text/html": [
       "<span style=\"None\">Running query in &#x27;postgresql://localhost:5432/gnis&#x27;</span>"
      ],
      "text/plain": [
       "Running query in 'postgresql://localhost:5432/gnis'"
      ]
     },
     "metadata": {},
     "output_type": "display_data"
    },
    {
     "data": {
      "text/html": [
       "<span style=\"color: green\">21 rows affected.</span>"
      ],
      "text/plain": [
       "21 rows affected."
      ]
     },
     "metadata": {},
     "output_type": "display_data"
    },
    {
     "data": {
      "text/html": [
       "<table>\n",
       "    <thead>\n",
       "        <tr>\n",
       "            <th>feature_id</th>\n",
       "            <th>feature_name</th>\n",
       "            <th>feature_class</th>\n",
       "            <th>state_alpha</th>\n",
       "            <th>state_numeric</th>\n",
       "            <th>county_name</th>\n",
       "            <th>county_numeric</th>\n",
       "            <th>primary_lat_dms</th>\n",
       "            <th>prim_long_dms</th>\n",
       "            <th>prim_lat_dec</th>\n",
       "            <th>prim_long_dec</th>\n",
       "            <th>source_lat_dms</th>\n",
       "            <th>source_long_dms</th>\n",
       "            <th>source_lat_dec</th>\n",
       "            <th>source_long_dec</th>\n",
       "            <th>elev_in_m</th>\n",
       "            <th>elev_in_ft</th>\n",
       "            <th>map_name</th>\n",
       "            <th>date_created</th>\n",
       "            <th>date_edited</th>\n",
       "        </tr>\n",
       "    </thead>\n",
       "    <tbody>\n",
       "        <tr>\n",
       "            <td>218316</td>\n",
       "            <td>Apperson Creek</td>\n",
       "            <td>Stream</td>\n",
       "            <td>CA</td>\n",
       "            <td>6</td>\n",
       "            <td>Alameda</td>\n",
       "            <td>1.0</td>\n",
       "            <td>373349N</td>\n",
       "            <td>1215000W</td>\n",
       "            <td>37.5635453</td>\n",
       "            <td>-121.8332887</td>\n",
       "            <td>373232N</td>\n",
       "            <td>1214804W</td>\n",
       "            <td>37.5422222</td>\n",
       "            <td>-121.8011111</td>\n",
       "            <td>148.0</td>\n",
       "            <td>486.0</td>\n",
       "            <td>La Costa Valley</td>\n",
       "            <td>01/19/1981</td>\n",
       "            <td>None</td>\n",
       "        </tr>\n",
       "        <tr>\n",
       "            <td>225998</td>\n",
       "            <td>Irvington High School</td>\n",
       "            <td>School</td>\n",
       "            <td>CA</td>\n",
       "            <td>6</td>\n",
       "            <td>Alameda</td>\n",
       "            <td>1.0</td>\n",
       "            <td>373126N</td>\n",
       "            <td>1215801W</td>\n",
       "            <td>37.523814</td>\n",
       "            <td>-121.9670659</td>\n",
       "            <td>None</td>\n",
       "            <td>None</td>\n",
       "            <td>None</td>\n",
       "            <td>None</td>\n",
       "            <td>13.0</td>\n",
       "            <td>43.0</td>\n",
       "            <td>Niles</td>\n",
       "            <td>01/19/1981</td>\n",
       "            <td>03/31/2021</td>\n",
       "        </tr>\n",
       "        <tr>\n",
       "            <td>226951</td>\n",
       "            <td>Laurel Elementary School</td>\n",
       "            <td>School</td>\n",
       "            <td>CA</td>\n",
       "            <td>6</td>\n",
       "            <td>Alameda</td>\n",
       "            <td>1.0</td>\n",
       "            <td>374734N</td>\n",
       "            <td>1221147W</td>\n",
       "            <td>37.792899</td>\n",
       "            <td>-122.1964288</td>\n",
       "            <td>None</td>\n",
       "            <td>None</td>\n",
       "            <td>None</td>\n",
       "            <td>None</td>\n",
       "            <td>68.0</td>\n",
       "            <td>223.0</td>\n",
       "            <td>Oakland East</td>\n",
       "            <td>06/14/2000</td>\n",
       "            <td>03/14/2021</td>\n",
       "        </tr>\n",
       "        <tr>\n",
       "            <td>229367</td>\n",
       "            <td>Murray Elementary School</td>\n",
       "            <td>School</td>\n",
       "            <td>CA</td>\n",
       "            <td>6</td>\n",
       "            <td>Alameda</td>\n",
       "            <td>1.0</td>\n",
       "            <td>374318N</td>\n",
       "            <td>1215557W</td>\n",
       "            <td>37.721801</td>\n",
       "            <td>-121.9326269</td>\n",
       "            <td>None</td>\n",
       "            <td>None</td>\n",
       "            <td>None</td>\n",
       "            <td>None</td>\n",
       "            <td>112.0</td>\n",
       "            <td>367.0</td>\n",
       "            <td>Dublin</td>\n",
       "            <td>01/19/1981</td>\n",
       "            <td>03/14/2021</td>\n",
       "        </tr>\n",
       "        <tr>\n",
       "            <td>235581</td>\n",
       "            <td>Strawberry Creek</td>\n",
       "            <td>Stream</td>\n",
       "            <td>CA</td>\n",
       "            <td>6</td>\n",
       "            <td>Alameda</td>\n",
       "            <td>1.0</td>\n",
       "            <td>375221N</td>\n",
       "            <td>1221443W</td>\n",
       "            <td>37.8724258</td>\n",
       "            <td>-122.2452464</td>\n",
       "            <td>375251N</td>\n",
       "            <td>1221354W</td>\n",
       "            <td>37.8807588</td>\n",
       "            <td>-122.2316349</td>\n",
       "            <td>154.0</td>\n",
       "            <td>505.0</td>\n",
       "            <td>Oakland East</td>\n",
       "            <td>01/19/1981</td>\n",
       "            <td>08/31/2016</td>\n",
       "        </tr>\n",
       "        <tr>\n",
       "            <td>1654274</td>\n",
       "            <td>Hayward Golf Course</td>\n",
       "            <td>Locale</td>\n",
       "            <td>CA</td>\n",
       "            <td>6</td>\n",
       "            <td>Alameda</td>\n",
       "            <td>1.0</td>\n",
       "            <td>373726N</td>\n",
       "            <td>1220250W</td>\n",
       "            <td>37.6238222</td>\n",
       "            <td>-122.0471843</td>\n",
       "            <td>None</td>\n",
       "            <td>None</td>\n",
       "            <td>None</td>\n",
       "            <td>None</td>\n",
       "            <td>5.0</td>\n",
       "            <td>16.0</td>\n",
       "            <td>Newark</td>\n",
       "            <td>01/19/1981</td>\n",
       "            <td>None</td>\n",
       "        </tr>\n",
       "        <tr>\n",
       "            <td>1664964</td>\n",
       "            <td>KOFY-AM (San Mateo)</td>\n",
       "            <td>Tower</td>\n",
       "            <td>CA</td>\n",
       "            <td>6</td>\n",
       "            <td>Alameda</td>\n",
       "            <td>1.0</td>\n",
       "            <td>374934N</td>\n",
       "            <td>1221842W</td>\n",
       "            <td>37.8260385</td>\n",
       "            <td>-122.3116366</td>\n",
       "            <td>None</td>\n",
       "            <td>None</td>\n",
       "            <td>None</td>\n",
       "            <td>None</td>\n",
       "            <td>2.0</td>\n",
       "            <td>7.0</td>\n",
       "            <td>Oakland West</td>\n",
       "            <td>07/01/1994</td>\n",
       "            <td>None</td>\n",
       "        </tr>\n",
       "        <tr>\n",
       "            <td>1670278</td>\n",
       "            <td>Lake Elizabeth</td>\n",
       "            <td>Lake</td>\n",
       "            <td>CA</td>\n",
       "            <td>6</td>\n",
       "            <td>Alameda</td>\n",
       "            <td>1.0</td>\n",
       "            <td>373255N</td>\n",
       "            <td>1215742W</td>\n",
       "            <td>37.5487056</td>\n",
       "            <td>-121.9617554</td>\n",
       "            <td>None</td>\n",
       "            <td>None</td>\n",
       "            <td>None</td>\n",
       "            <td>None</td>\n",
       "            <td>16.0</td>\n",
       "            <td>52.0</td>\n",
       "            <td>Niles</td>\n",
       "            <td>11/09/1995</td>\n",
       "            <td>03/07/2019</td>\n",
       "        </tr>\n",
       "        <tr>\n",
       "            <td>1692819</td>\n",
       "            <td>California School for the Deaf - Fremont</td>\n",
       "            <td>School</td>\n",
       "            <td>CA</td>\n",
       "            <td>6</td>\n",
       "            <td>Alameda</td>\n",
       "            <td>1.0</td>\n",
       "            <td>373334N</td>\n",
       "            <td>1215747W</td>\n",
       "            <td>37.5593966</td>\n",
       "            <td>-121.9631843</td>\n",
       "            <td>None</td>\n",
       "            <td>None</td>\n",
       "            <td>None</td>\n",
       "            <td>None</td>\n",
       "            <td>20.0</td>\n",
       "            <td>66.0</td>\n",
       "            <td>Niles</td>\n",
       "            <td>05/08/1996</td>\n",
       "            <td>09/16/2016</td>\n",
       "        </tr>\n",
       "        <tr>\n",
       "            <td>1692863</td>\n",
       "            <td>J A Freitas Library</td>\n",
       "            <td>Building</td>\n",
       "            <td>CA</td>\n",
       "            <td>6</td>\n",
       "            <td>Alameda</td>\n",
       "            <td>1.0</td>\n",
       "            <td>374335N</td>\n",
       "            <td>1220925W</td>\n",
       "            <td>37.7263185</td>\n",
       "            <td>-122.1569101</td>\n",
       "            <td>None</td>\n",
       "            <td>None</td>\n",
       "            <td>None</td>\n",
       "            <td>None</td>\n",
       "            <td>19.0</td>\n",
       "            <td>62.0</td>\n",
       "            <td>San Leandro</td>\n",
       "            <td>05/08/1996</td>\n",
       "            <td>None</td>\n",
       "        </tr>\n",
       "        <tr>\n",
       "            <td>1693010</td>\n",
       "            <td>Alice Arts Center</td>\n",
       "            <td>Building</td>\n",
       "            <td>CA</td>\n",
       "            <td>6</td>\n",
       "            <td>Alameda</td>\n",
       "            <td>1.0</td>\n",
       "            <td>374812N</td>\n",
       "            <td>1221557W</td>\n",
       "            <td>37.8032611</td>\n",
       "            <td>-122.2658025</td>\n",
       "            <td>None</td>\n",
       "            <td>None</td>\n",
       "            <td>None</td>\n",
       "            <td>None</td>\n",
       "            <td>11.0</td>\n",
       "            <td>36.0</td>\n",
       "            <td>Oakland West</td>\n",
       "            <td>05/08/1996</td>\n",
       "            <td>None</td>\n",
       "        </tr>\n",
       "        <tr>\n",
       "            <td>1961816</td>\n",
       "            <td>New Pilgrim Congregational Church</td>\n",
       "            <td>Church</td>\n",
       "            <td>CA</td>\n",
       "            <td>6</td>\n",
       "            <td>Alameda</td>\n",
       "            <td>1.0</td>\n",
       "            <td>374622N</td>\n",
       "            <td>1221131W</td>\n",
       "            <td>37.7727061</td>\n",
       "            <td>-122.1919115</td>\n",
       "            <td>None</td>\n",
       "            <td>None</td>\n",
       "            <td>None</td>\n",
       "            <td>None</td>\n",
       "            <td>21.0</td>\n",
       "            <td>69.0</td>\n",
       "            <td>Oakland East</td>\n",
       "            <td>09/11/2002</td>\n",
       "            <td>None</td>\n",
       "        </tr>\n",
       "        <tr>\n",
       "            <td>1961871</td>\n",
       "            <td>First Southern Baptist Church</td>\n",
       "            <td>Church</td>\n",
       "            <td>CA</td>\n",
       "            <td>6</td>\n",
       "            <td>Alameda</td>\n",
       "            <td>1.0</td>\n",
       "            <td>374657N</td>\n",
       "            <td>1221401W</td>\n",
       "            <td>37.7824282</td>\n",
       "            <td>-122.2335796</td>\n",
       "            <td>None</td>\n",
       "            <td>None</td>\n",
       "            <td>None</td>\n",
       "            <td>None</td>\n",
       "            <td>11.0</td>\n",
       "            <td>36.0</td>\n",
       "            <td>Oakland East</td>\n",
       "            <td>09/11/2002</td>\n",
       "            <td>None</td>\n",
       "        </tr>\n",
       "        <tr>\n",
       "            <td>1962002</td>\n",
       "            <td>First Church of Christ Scientist</td>\n",
       "            <td>Church</td>\n",
       "            <td>CA</td>\n",
       "            <td>6</td>\n",
       "            <td>Alameda</td>\n",
       "            <td>1.0</td>\n",
       "            <td>374353N</td>\n",
       "            <td>1220931W</td>\n",
       "            <td>37.7313183</td>\n",
       "            <td>-122.1585769</td>\n",
       "            <td>None</td>\n",
       "            <td>None</td>\n",
       "            <td>None</td>\n",
       "            <td>None</td>\n",
       "            <td>19.0</td>\n",
       "            <td>62.0</td>\n",
       "            <td>San Leandro</td>\n",
       "            <td>09/11/2002</td>\n",
       "            <td>None</td>\n",
       "        </tr>\n",
       "        <tr>\n",
       "            <td>2087391</td>\n",
       "            <td>First Presbyterian Church</td>\n",
       "            <td>Church</td>\n",
       "            <td>CA</td>\n",
       "            <td>6</td>\n",
       "            <td>Alameda</td>\n",
       "            <td>1.0</td>\n",
       "            <td>373254N</td>\n",
       "            <td>1220238W</td>\n",
       "            <td>37.5483333</td>\n",
       "            <td>-122.0438889</td>\n",
       "            <td>None</td>\n",
       "            <td>None</td>\n",
       "            <td>None</td>\n",
       "            <td>None</td>\n",
       "            <td>7.0</td>\n",
       "            <td>23.0</td>\n",
       "            <td>Newark</td>\n",
       "            <td>05/22/2006</td>\n",
       "            <td>None</td>\n",
       "        </tr>\n",
       "    </tbody>\n",
       "</table>\n",
       "<span style=\"font-style:italic;text-align:center;\">Truncated to <a href=\"https://jupysql.ploomber.io/en/latest/api/configuration.html#displaylimit\">displaylimit</a> of 15.</span>"
      ],
      "text/plain": [
       "+------------+------------------------------------------+---------------+-------------+---------------+-------------+----------------+-----------------+---------------+--------------+---------------+----------------+-----------------+----------------+-----------------+-----------+------------+-----------------+--------------+-------------+\n",
       "| feature_id |               feature_name               | feature_class | state_alpha | state_numeric | county_name | county_numeric | primary_lat_dms | prim_long_dms | prim_lat_dec | prim_long_dec | source_lat_dms | source_long_dms | source_lat_dec | source_long_dec | elev_in_m | elev_in_ft |     map_name    | date_created | date_edited |\n",
       "+------------+------------------------------------------+---------------+-------------+---------------+-------------+----------------+-----------------+---------------+--------------+---------------+----------------+-----------------+----------------+-----------------+-----------+------------+-----------------+--------------+-------------+\n",
       "|   218316   |              Apperson Creek              |     Stream    |      CA     |       6       |   Alameda   |      1.0       |     373349N     |    1215000W   |  37.5635453  |  -121.8332887 |    373232N     |     1214804W    |   37.5422222   |   -121.8011111  |   148.0   |   486.0    | La Costa Valley |  01/19/1981  |     None    |\n",
       "|   225998   |          Irvington High School           |     School    |      CA     |       6       |   Alameda   |      1.0       |     373126N     |    1215801W   |  37.523814   |  -121.9670659 |      None      |       None      |      None      |       None      |    13.0   |    43.0    |      Niles      |  01/19/1981  |  03/31/2021 |\n",
       "|   226951   |         Laurel Elementary School         |     School    |      CA     |       6       |   Alameda   |      1.0       |     374734N     |    1221147W   |  37.792899   |  -122.1964288 |      None      |       None      |      None      |       None      |    68.0   |   223.0    |   Oakland East  |  06/14/2000  |  03/14/2021 |\n",
       "|   229367   |         Murray Elementary School         |     School    |      CA     |       6       |   Alameda   |      1.0       |     374318N     |    1215557W   |  37.721801   |  -121.9326269 |      None      |       None      |      None      |       None      |   112.0   |   367.0    |      Dublin     |  01/19/1981  |  03/14/2021 |\n",
       "|   235581   |             Strawberry Creek             |     Stream    |      CA     |       6       |   Alameda   |      1.0       |     375221N     |    1221443W   |  37.8724258  |  -122.2452464 |    375251N     |     1221354W    |   37.8807588   |   -122.2316349  |   154.0   |   505.0    |   Oakland East  |  01/19/1981  |  08/31/2016 |\n",
       "|  1654274   |           Hayward Golf Course            |     Locale    |      CA     |       6       |   Alameda   |      1.0       |     373726N     |    1220250W   |  37.6238222  |  -122.0471843 |      None      |       None      |      None      |       None      |    5.0    |    16.0    |      Newark     |  01/19/1981  |     None    |\n",
       "|  1664964   |           KOFY-AM (San Mateo)            |     Tower     |      CA     |       6       |   Alameda   |      1.0       |     374934N     |    1221842W   |  37.8260385  |  -122.3116366 |      None      |       None      |      None      |       None      |    2.0    |    7.0     |   Oakland West  |  07/01/1994  |     None    |\n",
       "|  1670278   |              Lake Elizabeth              |      Lake     |      CA     |       6       |   Alameda   |      1.0       |     373255N     |    1215742W   |  37.5487056  |  -121.9617554 |      None      |       None      |      None      |       None      |    16.0   |    52.0    |      Niles      |  11/09/1995  |  03/07/2019 |\n",
       "|  1692819   | California School for the Deaf - Fremont |     School    |      CA     |       6       |   Alameda   |      1.0       |     373334N     |    1215747W   |  37.5593966  |  -121.9631843 |      None      |       None      |      None      |       None      |    20.0   |    66.0    |      Niles      |  05/08/1996  |  09/16/2016 |\n",
       "|  1692863   |           J A Freitas Library            |    Building   |      CA     |       6       |   Alameda   |      1.0       |     374335N     |    1220925W   |  37.7263185  |  -122.1569101 |      None      |       None      |      None      |       None      |    19.0   |    62.0    |   San Leandro   |  05/08/1996  |     None    |\n",
       "|  1693010   |            Alice Arts Center             |    Building   |      CA     |       6       |   Alameda   |      1.0       |     374812N     |    1221557W   |  37.8032611  |  -122.2658025 |      None      |       None      |      None      |       None      |    11.0   |    36.0    |   Oakland West  |  05/08/1996  |     None    |\n",
       "|  1961816   |    New Pilgrim Congregational Church     |     Church    |      CA     |       6       |   Alameda   |      1.0       |     374622N     |    1221131W   |  37.7727061  |  -122.1919115 |      None      |       None      |      None      |       None      |    21.0   |    69.0    |   Oakland East  |  09/11/2002  |     None    |\n",
       "|  1961871   |      First Southern Baptist Church       |     Church    |      CA     |       6       |   Alameda   |      1.0       |     374657N     |    1221401W   |  37.7824282  |  -122.2335796 |      None      |       None      |      None      |       None      |    11.0   |    36.0    |   Oakland East  |  09/11/2002  |     None    |\n",
       "|  1962002   |     First Church of Christ Scientist     |     Church    |      CA     |       6       |   Alameda   |      1.0       |     374353N     |    1220931W   |  37.7313183  |  -122.1585769 |      None      |       None      |      None      |       None      |    19.0   |    62.0    |   San Leandro   |  09/11/2002  |     None    |\n",
       "|  2087391   |        First Presbyterian Church         |     Church    |      CA     |       6       |   Alameda   |      1.0       |     373254N     |    1220238W   |  37.5483333  |  -122.0438889 |      None      |       None      |      None      |       None      |    7.0    |    23.0    |      Newark     |  05/22/2006  |     None    |\n",
       "+------------+------------------------------------------+---------------+-------------+---------------+-------------+----------------+-----------------+---------------+--------------+---------------+----------------+-----------------+----------------+-----------------+-----------+------------+-----------------+--------------+-------------+\n",
       "Truncated to displaylimit of 15."
      ]
     },
     "execution_count": 16,
     "metadata": {},
     "output_type": "execute_result"
    }
   ],
   "source": [
    "%sql SELECT * FROM national WHERE county_name = 'Alameda';"
   ]
  },
  {
   "cell_type": "code",
   "execution_count": 17,
   "id": "d30a2055-c81b-4f07-a61a-35241a510adc",
   "metadata": {},
   "outputs": [
    {
     "data": {
      "text/html": [
       "<span style=\"None\">Running query in &#x27;postgresql://localhost:5432/gnis&#x27;</span>"
      ],
      "text/plain": [
       "Running query in 'postgresql://localhost:5432/gnis'"
      ]
     },
     "metadata": {},
     "output_type": "display_data"
    },
    {
     "data": {
      "text/html": [
       "<span style=\"color: green\">1113 rows affected.</span>"
      ],
      "text/plain": [
       "1113 rows affected."
      ]
     },
     "metadata": {},
     "output_type": "display_data"
    },
    {
     "data": {
      "text/html": [
       "<table>\n",
       "    <thead>\n",
       "        <tr>\n",
       "            <th>feature_id</th>\n",
       "            <th>feature_name</th>\n",
       "            <th>feature_class</th>\n",
       "            <th>state_alpha</th>\n",
       "            <th>state_numeric</th>\n",
       "            <th>county_name</th>\n",
       "            <th>county_numeric</th>\n",
       "            <th>primary_lat_dms</th>\n",
       "            <th>prim_long_dms</th>\n",
       "            <th>prim_lat_dec</th>\n",
       "            <th>prim_long_dec</th>\n",
       "            <th>source_lat_dms</th>\n",
       "            <th>source_long_dms</th>\n",
       "            <th>source_lat_dec</th>\n",
       "            <th>source_long_dec</th>\n",
       "            <th>elev_in_m</th>\n",
       "            <th>elev_in_ft</th>\n",
       "            <th>map_name</th>\n",
       "            <th>date_created</th>\n",
       "            <th>date_edited</th>\n",
       "        </tr>\n",
       "    </thead>\n",
       "    <tbody>\n",
       "        <tr>\n",
       "            <td>3060</td>\n",
       "            <td>Coat Spring</td>\n",
       "            <td>Spring</td>\n",
       "            <td>AZ</td>\n",
       "            <td>4</td>\n",
       "            <td>Navajo</td>\n",
       "            <td>17.0</td>\n",
       "            <td>360736N</td>\n",
       "            <td>1101959W</td>\n",
       "            <td>36.12678</td>\n",
       "            <td>-110.3330424</td>\n",
       "            <td>None</td>\n",
       "            <td>None</td>\n",
       "            <td>None</td>\n",
       "            <td>None</td>\n",
       "            <td>1926.0</td>\n",
       "            <td>6319.0</td>\n",
       "            <td>Coat Spring</td>\n",
       "            <td>02/08/1980</td>\n",
       "            <td>04/18/2011</td>\n",
       "        </tr>\n",
       "        <tr>\n",
       "            <td>5172</td>\n",
       "            <td>Goodyear</td>\n",
       "            <td>Populated Place</td>\n",
       "            <td>AZ</td>\n",
       "            <td>4</td>\n",
       "            <td>Maricopa</td>\n",
       "            <td>13.0</td>\n",
       "            <td>332607N</td>\n",
       "            <td>1122130W</td>\n",
       "            <td>33.4353199</td>\n",
       "            <td>-112.3582135</td>\n",
       "            <td>None</td>\n",
       "            <td>None</td>\n",
       "            <td>None</td>\n",
       "            <td>None</td>\n",
       "            <td>295.0</td>\n",
       "            <td>968.0</td>\n",
       "            <td>Tolleson</td>\n",
       "            <td>02/08/1980</td>\n",
       "            <td>03/21/2008</td>\n",
       "        </tr>\n",
       "        <tr>\n",
       "            <td>6585</td>\n",
       "            <td>Kaibito</td>\n",
       "            <td>Populated Place</td>\n",
       "            <td>AZ</td>\n",
       "            <td>4</td>\n",
       "            <td>Coconino</td>\n",
       "            <td>5.0</td>\n",
       "            <td>363550N</td>\n",
       "            <td>1110428W</td>\n",
       "            <td>36.5972186</td>\n",
       "            <td>-111.0743114</td>\n",
       "            <td>None</td>\n",
       "            <td>None</td>\n",
       "            <td>None</td>\n",
       "            <td>None</td>\n",
       "            <td>1771.0</td>\n",
       "            <td>5810.0</td>\n",
       "            <td>Kaibito</td>\n",
       "            <td>02/08/1980</td>\n",
       "            <td>03/21/2008</td>\n",
       "        </tr>\n",
       "        <tr>\n",
       "            <td>7204</td>\n",
       "            <td>Little Tank</td>\n",
       "            <td>Reservoir</td>\n",
       "            <td>AZ</td>\n",
       "            <td>4</td>\n",
       "            <td>Mohave</td>\n",
       "            <td>15.0</td>\n",
       "            <td>343754N</td>\n",
       "            <td>1134557W</td>\n",
       "            <td>34.631793</td>\n",
       "            <td>-113.7658874</td>\n",
       "            <td>None</td>\n",
       "            <td>None</td>\n",
       "            <td>None</td>\n",
       "            <td>None</td>\n",
       "            <td>1043.0</td>\n",
       "            <td>3422.0</td>\n",
       "            <td>Beecher Canyon</td>\n",
       "            <td>02/08/1980</td>\n",
       "            <td>03/25/2019</td>\n",
       "        </tr>\n",
       "        <tr>\n",
       "            <td>8204</td>\n",
       "            <td>Monk Draw</td>\n",
       "            <td>Valley</td>\n",
       "            <td>AZ</td>\n",
       "            <td>4</td>\n",
       "            <td>Cochise</td>\n",
       "            <td>3.0</td>\n",
       "            <td>322129N</td>\n",
       "            <td>1093707W</td>\n",
       "            <td>32.3579315</td>\n",
       "            <td>-109.6186159</td>\n",
       "            <td>322618N</td>\n",
       "            <td>1094431W</td>\n",
       "            <td>32.4383698</td>\n",
       "            <td>-109.7420297</td>\n",
       "            <td>1214.0</td>\n",
       "            <td>3983.0</td>\n",
       "            <td>Luzena</td>\n",
       "            <td>02/08/1980</td>\n",
       "            <td>08/21/2021</td>\n",
       "        </tr>\n",
       "        <tr>\n",
       "            <td>8602</td>\n",
       "            <td>New Ore Mine</td>\n",
       "            <td>Mine</td>\n",
       "            <td>AZ</td>\n",
       "            <td>4</td>\n",
       "            <td>Pima</td>\n",
       "            <td>19.0</td>\n",
       "            <td>322732N</td>\n",
       "            <td>1120801W</td>\n",
       "            <td>32.4589506</td>\n",
       "            <td>-112.1337495</td>\n",
       "            <td>None</td>\n",
       "            <td>None</td>\n",
       "            <td>None</td>\n",
       "            <td>None</td>\n",
       "            <td>821.0</td>\n",
       "            <td>2694.0</td>\n",
       "            <td>Ventana</td>\n",
       "            <td>02/08/1980</td>\n",
       "            <td>None</td>\n",
       "        </tr>\n",
       "        <tr>\n",
       "            <td>10425</td>\n",
       "            <td>Rock Tank</td>\n",
       "            <td>Reservoir</td>\n",
       "            <td>AZ</td>\n",
       "            <td>4</td>\n",
       "            <td>Cochise</td>\n",
       "            <td>3.0</td>\n",
       "            <td>313950N</td>\n",
       "            <td>1095030W</td>\n",
       "            <td>31.6638478</td>\n",
       "            <td>-109.8417743</td>\n",
       "            <td>None</td>\n",
       "            <td>None</td>\n",
       "            <td>None</td>\n",
       "            <td>None</td>\n",
       "            <td>1395.0</td>\n",
       "            <td>4577.0</td>\n",
       "            <td>Outlaw Mountain</td>\n",
       "            <td>02/08/1980</td>\n",
       "            <td>03/12/2019</td>\n",
       "        </tr>\n",
       "        <tr>\n",
       "            <td>13662</td>\n",
       "            <td>White Ruin Canyon</td>\n",
       "            <td>Valley</td>\n",
       "            <td>AZ</td>\n",
       "            <td>4</td>\n",
       "            <td>Navajo</td>\n",
       "            <td>17.0</td>\n",
       "            <td>361203N</td>\n",
       "            <td>1104411W</td>\n",
       "            <td>36.200829</td>\n",
       "            <td>-110.7362531</td>\n",
       "            <td>361759N</td>\n",
       "            <td>1102833W</td>\n",
       "            <td>36.2997193</td>\n",
       "            <td>-110.4759712</td>\n",
       "            <td>1638.0</td>\n",
       "            <td>5374.0</td>\n",
       "            <td>Rocky Ridge NW</td>\n",
       "            <td>02/08/1980</td>\n",
       "            <td>None</td>\n",
       "        </tr>\n",
       "        <tr>\n",
       "            <td>21597</td>\n",
       "            <td>Dad Patterson Tank</td>\n",
       "            <td>Reservoir</td>\n",
       "            <td>AZ</td>\n",
       "            <td>4</td>\n",
       "            <td>Apache</td>\n",
       "            <td>1.0</td>\n",
       "            <td>343207N</td>\n",
       "            <td>1094226W</td>\n",
       "            <td>34.5353169</td>\n",
       "            <td>-109.7072364</td>\n",
       "            <td>None</td>\n",
       "            <td>None</td>\n",
       "            <td>None</td>\n",
       "            <td>None</td>\n",
       "            <td>1709.0</td>\n",
       "            <td>5607.0</td>\n",
       "            <td>Hunt</td>\n",
       "            <td>06/27/1984</td>\n",
       "            <td>04/12/2019</td>\n",
       "        </tr>\n",
       "        <tr>\n",
       "            <td>22832</td>\n",
       "            <td>Black Canyon Windmill</td>\n",
       "            <td>Well</td>\n",
       "            <td>AZ</td>\n",
       "            <td>4</td>\n",
       "            <td>Mohave</td>\n",
       "            <td>15.0</td>\n",
       "            <td>364919N</td>\n",
       "            <td>1132114W</td>\n",
       "            <td>36.8219278</td>\n",
       "            <td>-113.3538402</td>\n",
       "            <td>None</td>\n",
       "            <td>None</td>\n",
       "            <td>None</td>\n",
       "            <td>None</td>\n",
       "            <td>1284.0</td>\n",
       "            <td>4213.0</td>\n",
       "            <td>Gyp Pocket</td>\n",
       "            <td>06/27/1984</td>\n",
       "            <td>02/28/2018</td>\n",
       "        </tr>\n",
       "        <tr>\n",
       "            <td>22982</td>\n",
       "            <td>Hells Canyon</td>\n",
       "            <td>Valley</td>\n",
       "            <td>AZ</td>\n",
       "            <td>4</td>\n",
       "            <td>Mohave</td>\n",
       "            <td>15.0</td>\n",
       "            <td>351542N</td>\n",
       "            <td>1132600W</td>\n",
       "            <td>35.26167</td>\n",
       "            <td>-113.433266</td>\n",
       "            <td>351842N</td>\n",
       "            <td>1132756W</td>\n",
       "            <td>35.3116667</td>\n",
       "            <td>-113.4655556</td>\n",
       "            <td>1540.0</td>\n",
       "            <td>5052.0</td>\n",
       "            <td>Tuckayou Spring</td>\n",
       "            <td>06/27/1984</td>\n",
       "            <td>None</td>\n",
       "        </tr>\n",
       "        <tr>\n",
       "            <td>24170</td>\n",
       "            <td>Checker Tank</td>\n",
       "            <td>Reservoir</td>\n",
       "            <td>AZ</td>\n",
       "            <td>4</td>\n",
       "            <td>Gila</td>\n",
       "            <td>7.0</td>\n",
       "            <td>335532N</td>\n",
       "            <td>1103555W</td>\n",
       "            <td>33.9256045</td>\n",
       "            <td>-110.5987232</td>\n",
       "            <td>None</td>\n",
       "            <td>None</td>\n",
       "            <td>None</td>\n",
       "            <td>None</td>\n",
       "            <td>1594.0</td>\n",
       "            <td>5230.0</td>\n",
       "            <td>Blue House Mountain</td>\n",
       "            <td>06/27/1984</td>\n",
       "            <td>None</td>\n",
       "        </tr>\n",
       "        <tr>\n",
       "            <td>27722</td>\n",
       "            <td>Clino Tank</td>\n",
       "            <td>Reservoir</td>\n",
       "            <td>AZ</td>\n",
       "            <td>4</td>\n",
       "            <td>Navajo</td>\n",
       "            <td>17.0</td>\n",
       "            <td>341409N</td>\n",
       "            <td>1101908W</td>\n",
       "            <td>34.2359182</td>\n",
       "            <td>-110.3189522</td>\n",
       "            <td>None</td>\n",
       "            <td>None</td>\n",
       "            <td>None</td>\n",
       "            <td>None</td>\n",
       "            <td>2063.0</td>\n",
       "            <td>6768.0</td>\n",
       "            <td>Limestone Canyon North</td>\n",
       "            <td>02/08/1980</td>\n",
       "            <td>03/20/2019</td>\n",
       "        </tr>\n",
       "        <tr>\n",
       "            <td>29001</td>\n",
       "            <td>Hinton Creek</td>\n",
       "            <td>Stream</td>\n",
       "            <td>AZ</td>\n",
       "            <td>4</td>\n",
       "            <td>Gila</td>\n",
       "            <td>7.0</td>\n",
       "            <td>335204N</td>\n",
       "            <td>1105219W</td>\n",
       "            <td>33.8678256</td>\n",
       "            <td>-110.8720614</td>\n",
       "            <td>335042N</td>\n",
       "            <td>1105334W</td>\n",
       "            <td>33.8450478</td>\n",
       "            <td>-110.8928947</td>\n",
       "            <td>1101.0</td>\n",
       "            <td>3612.0</td>\n",
       "            <td>Sombrero Peak</td>\n",
       "            <td>02/08/1980</td>\n",
       "            <td>None</td>\n",
       "        </tr>\n",
       "        <tr>\n",
       "            <td>31654</td>\n",
       "            <td>McDougal Flat Tank</td>\n",
       "            <td>Reservoir</td>\n",
       "            <td>AZ</td>\n",
       "            <td>4</td>\n",
       "            <td>Coconino</td>\n",
       "            <td>5.0</td>\n",
       "            <td>351327N</td>\n",
       "            <td>1120304W</td>\n",
       "            <td>35.2240585</td>\n",
       "            <td>-112.0510582</td>\n",
       "            <td>None</td>\n",
       "            <td>None</td>\n",
       "            <td>None</td>\n",
       "            <td>None</td>\n",
       "            <td>2089.0</td>\n",
       "            <td>6854.0</td>\n",
       "            <td>Davenport Hill</td>\n",
       "            <td>02/08/1980</td>\n",
       "            <td>03/20/2019</td>\n",
       "        </tr>\n",
       "    </tbody>\n",
       "</table>\n",
       "<span style=\"font-style:italic;text-align:center;\">Truncated to <a href=\"https://jupysql.ploomber.io/en/latest/api/configuration.html#displaylimit\">displaylimit</a> of 15.</span>"
      ],
      "text/plain": [
       "+------------+-----------------------+-----------------+-------------+---------------+-------------+----------------+-----------------+---------------+--------------+---------------+----------------+-----------------+----------------+-----------------+-----------+------------+------------------------+--------------+-------------+\n",
       "| feature_id |      feature_name     |  feature_class  | state_alpha | state_numeric | county_name | county_numeric | primary_lat_dms | prim_long_dms | prim_lat_dec | prim_long_dec | source_lat_dms | source_long_dms | source_lat_dec | source_long_dec | elev_in_m | elev_in_ft |        map_name        | date_created | date_edited |\n",
       "+------------+-----------------------+-----------------+-------------+---------------+-------------+----------------+-----------------+---------------+--------------+---------------+----------------+-----------------+----------------+-----------------+-----------+------------+------------------------+--------------+-------------+\n",
       "|    3060    |      Coat Spring      |      Spring     |      AZ     |       4       |    Navajo   |      17.0      |     360736N     |    1101959W   |   36.12678   |  -110.3330424 |      None      |       None      |      None      |       None      |   1926.0  |   6319.0   |      Coat Spring       |  02/08/1980  |  04/18/2011 |\n",
       "|    5172    |        Goodyear       | Populated Place |      AZ     |       4       |   Maricopa  |      13.0      |     332607N     |    1122130W   |  33.4353199  |  -112.3582135 |      None      |       None      |      None      |       None      |   295.0   |   968.0    |        Tolleson        |  02/08/1980  |  03/21/2008 |\n",
       "|    6585    |        Kaibito        | Populated Place |      AZ     |       4       |   Coconino  |      5.0       |     363550N     |    1110428W   |  36.5972186  |  -111.0743114 |      None      |       None      |      None      |       None      |   1771.0  |   5810.0   |        Kaibito         |  02/08/1980  |  03/21/2008 |\n",
       "|    7204    |      Little Tank      |    Reservoir    |      AZ     |       4       |    Mohave   |      15.0      |     343754N     |    1134557W   |  34.631793   |  -113.7658874 |      None      |       None      |      None      |       None      |   1043.0  |   3422.0   |     Beecher Canyon     |  02/08/1980  |  03/25/2019 |\n",
       "|    8204    |       Monk Draw       |      Valley     |      AZ     |       4       |   Cochise   |      3.0       |     322129N     |    1093707W   |  32.3579315  |  -109.6186159 |    322618N     |     1094431W    |   32.4383698   |   -109.7420297  |   1214.0  |   3983.0   |         Luzena         |  02/08/1980  |  08/21/2021 |\n",
       "|    8602    |      New Ore Mine     |       Mine      |      AZ     |       4       |     Pima    |      19.0      |     322732N     |    1120801W   |  32.4589506  |  -112.1337495 |      None      |       None      |      None      |       None      |   821.0   |   2694.0   |        Ventana         |  02/08/1980  |     None    |\n",
       "|   10425    |       Rock Tank       |    Reservoir    |      AZ     |       4       |   Cochise   |      3.0       |     313950N     |    1095030W   |  31.6638478  |  -109.8417743 |      None      |       None      |      None      |       None      |   1395.0  |   4577.0   |    Outlaw Mountain     |  02/08/1980  |  03/12/2019 |\n",
       "|   13662    |   White Ruin Canyon   |      Valley     |      AZ     |       4       |    Navajo   |      17.0      |     361203N     |    1104411W   |  36.200829   |  -110.7362531 |    361759N     |     1102833W    |   36.2997193   |   -110.4759712  |   1638.0  |   5374.0   |     Rocky Ridge NW     |  02/08/1980  |     None    |\n",
       "|   21597    |   Dad Patterson Tank  |    Reservoir    |      AZ     |       4       |    Apache   |      1.0       |     343207N     |    1094226W   |  34.5353169  |  -109.7072364 |      None      |       None      |      None      |       None      |   1709.0  |   5607.0   |          Hunt          |  06/27/1984  |  04/12/2019 |\n",
       "|   22832    | Black Canyon Windmill |       Well      |      AZ     |       4       |    Mohave   |      15.0      |     364919N     |    1132114W   |  36.8219278  |  -113.3538402 |      None      |       None      |      None      |       None      |   1284.0  |   4213.0   |       Gyp Pocket       |  06/27/1984  |  02/28/2018 |\n",
       "|   22982    |      Hells Canyon     |      Valley     |      AZ     |       4       |    Mohave   |      15.0      |     351542N     |    1132600W   |   35.26167   |  -113.433266  |    351842N     |     1132756W    |   35.3116667   |   -113.4655556  |   1540.0  |   5052.0   |    Tuckayou Spring     |  06/27/1984  |     None    |\n",
       "|   24170    |      Checker Tank     |    Reservoir    |      AZ     |       4       |     Gila    |      7.0       |     335532N     |    1103555W   |  33.9256045  |  -110.5987232 |      None      |       None      |      None      |       None      |   1594.0  |   5230.0   |  Blue House Mountain   |  06/27/1984  |     None    |\n",
       "|   27722    |       Clino Tank      |    Reservoir    |      AZ     |       4       |    Navajo   |      17.0      |     341409N     |    1101908W   |  34.2359182  |  -110.3189522 |      None      |       None      |      None      |       None      |   2063.0  |   6768.0   | Limestone Canyon North |  02/08/1980  |  03/20/2019 |\n",
       "|   29001    |      Hinton Creek     |      Stream     |      AZ     |       4       |     Gila    |      7.0       |     335204N     |    1105219W   |  33.8678256  |  -110.8720614 |    335042N     |     1105334W    |   33.8450478   |   -110.8928947  |   1101.0  |   3612.0   |     Sombrero Peak      |  02/08/1980  |     None    |\n",
       "|   31654    |   McDougal Flat Tank  |    Reservoir    |      AZ     |       4       |   Coconino  |      5.0       |     351327N     |    1120304W   |  35.2240585  |  -112.0510582 |      None      |       None      |      None      |       None      |   2089.0  |   6854.0   |     Davenport Hill     |  02/08/1980  |  03/20/2019 |\n",
       "+------------+-----------------------+-----------------+-------------+---------------+-------------+----------------+-----------------+---------------+--------------+---------------+----------------+-----------------+----------------+-----------------+-----------+------------+------------------------+--------------+-------------+\n",
       "Truncated to displaylimit of 15."
      ]
     },
     "execution_count": 17,
     "metadata": {},
     "output_type": "execute_result"
    }
   ],
   "source": [
    "%%sql\n",
    "SELECT *\n",
    "FROM national TABLESAMPLE BERNOULLI(10);"
   ]
  },
  {
   "cell_type": "markdown",
   "id": "cf7cebdb-246f-4f0e-8022-679e107979f7",
   "metadata": {},
   "source": [
    "# Numerical Granularity"
   ]
  },
  {
   "cell_type": "code",
   "execution_count": 18,
   "id": "d22b320d-e7e7-4a7a-8c1b-6c4bc58963b4",
   "metadata": {},
   "outputs": [
    {
     "data": {
      "text/html": [
       "<span style=\"None\">Running query in &#x27;postgresql://localhost:5432/gnis&#x27;</span>"
      ],
      "text/plain": [
       "Running query in 'postgresql://localhost:5432/gnis'"
      ]
     },
     "metadata": {},
     "output_type": "display_data"
    },
    {
     "data": {
      "text/html": [
       "<span style=\"color: green\">2 rows affected.</span>"
      ],
      "text/plain": [
       "2 rows affected."
      ]
     },
     "metadata": {},
     "output_type": "display_data"
    },
    {
     "data": {
      "text/html": [
       "<table>\n",
       "    <thead>\n",
       "        <tr>\n",
       "            <th>elev_in_m</th>\n",
       "        </tr>\n",
       "    </thead>\n",
       "    <tbody>\n",
       "        <tr>\n",
       "            <td>931.0</td>\n",
       "        </tr>\n",
       "        <tr>\n",
       "            <td>2707.0</td>\n",
       "        </tr>\n",
       "    </tbody>\n",
       "</table>"
      ],
      "text/plain": [
       "+-----------+\n",
       "| elev_in_m |\n",
       "+-----------+\n",
       "|   931.0   |\n",
       "|   2707.0  |\n",
       "+-----------+"
      ]
     },
     "execution_count": 18,
     "metadata": {},
     "output_type": "execute_result"
    }
   ],
   "source": [
    "%sql SELECT elev_in_m FROM National LIMIT 2;"
   ]
  },
  {
   "cell_type": "markdown",
   "id": "3e836a0d-62a2-4acd-bfb3-1943cd6fb6e7",
   "metadata": {},
   "source": [
    "You can't round by simply keeping the top few digits, as we see in this example with decimals.\n",
    "\n",
    "The substring and concat version doesn't do what one wants, while dividing and then multiplying works. This is the effect we want to achieve with binary as well (bit shift left then right). "
   ]
  },
  {
   "cell_type": "code",
   "execution_count": 20,
   "id": "a47b2dea-c3e7-47e7-aa5d-b7f55732f90a",
   "metadata": {},
   "outputs": [
    {
     "data": {
      "text/html": [
       "<span style=\"None\">Running query in &#x27;postgresql://localhost:5432/gnis&#x27;</span>"
      ],
      "text/plain": [
       "Running query in 'postgresql://localhost:5432/gnis'"
      ]
     },
     "metadata": {},
     "output_type": "display_data"
    },
    {
     "data": {
      "text/html": [
       "<span style=\"color: green\">5 rows affected.</span>"
      ],
      "text/plain": [
       "5 rows affected."
      ]
     },
     "metadata": {},
     "output_type": "display_data"
    },
    {
     "data": {
      "text/html": [
       "<table>\n",
       "    <thead>\n",
       "        <tr>\n",
       "            <th>elev_in_m</th>\n",
       "            <th>quantized</th>\n",
       "            <th>round_to_100</th>\n",
       "            <th>substring</th>\n",
       "            <th>substring2</th>\n",
       "        </tr>\n",
       "    </thead>\n",
       "    <tbody>\n",
       "        <tr>\n",
       "            <td>931.0</td>\n",
       "            <td>9</td>\n",
       "            <td>900</td>\n",
       "            <td>93</td>\n",
       "            <td>9300</td>\n",
       "        </tr>\n",
       "        <tr>\n",
       "            <td>2707.0</td>\n",
       "            <td>27</td>\n",
       "            <td>2700</td>\n",
       "            <td>27</td>\n",
       "            <td>2700</td>\n",
       "        </tr>\n",
       "        <tr>\n",
       "            <td>275.0</td>\n",
       "            <td>3</td>\n",
       "            <td>300</td>\n",
       "            <td>27</td>\n",
       "            <td>2700</td>\n",
       "        </tr>\n",
       "        <tr>\n",
       "            <td>1685.0</td>\n",
       "            <td>17</td>\n",
       "            <td>1700</td>\n",
       "            <td>16</td>\n",
       "            <td>1600</td>\n",
       "        </tr>\n",
       "        <tr>\n",
       "            <td>1354.0</td>\n",
       "            <td>14</td>\n",
       "            <td>1400</td>\n",
       "            <td>13</td>\n",
       "            <td>1300</td>\n",
       "        </tr>\n",
       "    </tbody>\n",
       "</table>"
      ],
      "text/plain": [
       "+-----------+-----------+--------------+-----------+------------+\n",
       "| elev_in_m | quantized | round_to_100 | substring | substring2 |\n",
       "+-----------+-----------+--------------+-----------+------------+\n",
       "|   931.0   |     9     |     900      |     93    |    9300    |\n",
       "|   2707.0  |     27    |     2700     |     27    |    2700    |\n",
       "|   275.0   |     3     |     300      |     27    |    2700    |\n",
       "|   1685.0  |     17    |     1700     |     16    |    1600    |\n",
       "|   1354.0  |     14    |     1400     |     13    |    1300    |\n",
       "+-----------+-----------+--------------+-----------+------------+"
      ]
     },
     "execution_count": 20,
     "metadata": {},
     "output_type": "execute_result"
    }
   ],
   "source": [
    "%%sql\n",
    "SELECT elev_in_m, \n",
    "    (elev_in_m / 100) :: INTEGER AS quantized,\n",
    "    ((elev_in_m / 100) :: INTEGER) * 100 AS round_to_100,\n",
    "    SUBSTRING(elev_in_m :: TEXT, 1, 2),\n",
    "    CONCAT(SUBSTRING(elev_in_m :: TEXT, 1, 2), '00') AS substring2\n",
    "FROM National\n",
    "LIMIT 5;"
   ]
  },
  {
   "cell_type": "markdown",
   "id": "b935abbd-00f1-4b4c-b011-d9df4d347274",
   "metadata": {},
   "source": [
    "Shift right then left to round to shave off a few bits from the end."
   ]
  },
  {
   "cell_type": "code",
   "execution_count": null,
   "id": "e87127ca",
   "metadata": {
    "scrolled": true
   },
   "outputs": [],
   "source": [
    "%%sql\n",
    "/* does not run in jupysql b/c of <<. copy into psql  */\n",
    "SELECT elev_in_m,\n",
    "    (elev_in_m::INTEGER::BIT(12)) AS bit12, \n",
    "    (elev_in_m::INTEGER::BIT(12)) >> 8 AS shiftright, \n",
    "    ((elev_in_m::INTEGER::BIT(12)) >> 8) << 3 AS shiftrightthenleft\n",
    "FROM national\n",
    "LIMIT 5;"
   ]
  },
  {
   "cell_type": "code",
   "execution_count": null,
   "id": "6c65146b-0fae-401d-b285-448d7c3a03d3",
   "metadata": {},
   "outputs": [],
   "source": [
    "%%sql\n",
    "/* does not run in jupysql b/c of <<. copy into psql  */\n",
    "WITH shifts AS (\n",
    "SELECT elev_in_m::integer, \n",
    "       (elev_in_m::integer::bit(12))      AS bit12, \n",
    "       (elev_in_m::integer::bit(12) >> 8) AS rightshifted, \n",
    "       ((elev_in_m::integer::bit(12) >> 8) << 8)::integer AS round_to_256\n",
    "  FROM national\n",
    "  WHERE elev_in_m >= 0\n",
    ")\n",
    "SELECT COUNT(DISTINCT elev_in_m::integer)    AS elevation_meters_count,\n",
    "       COUNT(DISTINCT bit12)        AS bit12_count,\n",
    "       COUNT(DISTINCT rightshifted) AS rightshift_count,\n",
    "       COUNT(DISTINCT round_to_256) AS rounded_count\n",
    "  FROM shifts;"
   ]
  },
  {
   "cell_type": "markdown",
   "id": "4e417c67-7e50-4ed6-89ee-486bd88a04ed",
   "metadata": {},
   "source": [
    "# Demo 1: Roll-up / Drill-down Practice"
   ]
  },
  {
   "cell_type": "markdown",
   "id": "5c3b6831-818e-4d57-858f-86cf99a26c8a",
   "metadata": {
    "slideshow": {
     "slide_type": "subslide"
    }
   },
   "source": [
    "Let's start with county-level data on elevations:"
   ]
  },
  {
   "cell_type": "code",
   "execution_count": 22,
   "id": "c16651e9-d678-4d7f-9047-a178be243275",
   "metadata": {},
   "outputs": [
    {
     "data": {
      "text/html": [
       "<span style=\"None\">Running query in &#x27;postgresql://localhost:5432/gnis&#x27;</span>"
      ],
      "text/plain": [
       "Running query in 'postgresql://localhost:5432/gnis'"
      ]
     },
     "metadata": {},
     "output_type": "display_data"
    },
    {
     "data": {
      "text/html": [
       "<span style=\"color: green\">862 rows affected.</span>"
      ],
      "text/plain": [
       "862 rows affected."
      ]
     },
     "metadata": {},
     "output_type": "display_data"
    },
    {
     "data": {
      "text/html": [
       "<table>\n",
       "    <thead>\n",
       "        <tr>\n",
       "            <th>state_numeric</th>\n",
       "            <th>county_numeric</th>\n",
       "            <th>avg</th>\n",
       "            <th>stddev</th>\n",
       "            <th>count</th>\n",
       "        </tr>\n",
       "    </thead>\n",
       "    <tbody>\n",
       "        <tr>\n",
       "            <td>36</td>\n",
       "            <td>67.0</td>\n",
       "            <td>292.0</td>\n",
       "            <td>245.29981655109324</td>\n",
       "            <td>3</td>\n",
       "        </tr>\n",
       "        <tr>\n",
       "            <td>20</td>\n",
       "            <td>11.0</td>\n",
       "            <td>279.0</td>\n",
       "            <td>None</td>\n",
       "            <td>1</td>\n",
       "        </tr>\n",
       "        <tr>\n",
       "            <td>6</td>\n",
       "            <td>15.0</td>\n",
       "            <td>242.0</td>\n",
       "            <td>None</td>\n",
       "            <td>1</td>\n",
       "        </tr>\n",
       "        <tr>\n",
       "            <td>31</td>\n",
       "            <td>129.0</td>\n",
       "            <td>518.0</td>\n",
       "            <td>None</td>\n",
       "            <td>1</td>\n",
       "        </tr>\n",
       "        <tr>\n",
       "            <td>51</td>\n",
       "            <td>59.0</td>\n",
       "            <td>132.0</td>\n",
       "            <td>None</td>\n",
       "            <td>1</td>\n",
       "        </tr>\n",
       "        <tr>\n",
       "            <td>27</td>\n",
       "            <td>15.0</td>\n",
       "            <td>320.0</td>\n",
       "            <td>None</td>\n",
       "            <td>1</td>\n",
       "        </tr>\n",
       "        <tr>\n",
       "            <td>56</td>\n",
       "            <td>35.0</td>\n",
       "            <td>2991.5</td>\n",
       "            <td>743.1692270270614</td>\n",
       "            <td>2</td>\n",
       "        </tr>\n",
       "        <tr>\n",
       "            <td>1</td>\n",
       "            <td>33.0</td>\n",
       "            <td>161.0</td>\n",
       "            <td>None</td>\n",
       "            <td>1</td>\n",
       "        </tr>\n",
       "        <tr>\n",
       "            <td>6</td>\n",
       "            <td>21.0</td>\n",
       "            <td>79.0</td>\n",
       "            <td>None</td>\n",
       "            <td>1</td>\n",
       "        </tr>\n",
       "        <tr>\n",
       "            <td>48</td>\n",
       "            <td>411.0</td>\n",
       "            <td>518.0</td>\n",
       "            <td>None</td>\n",
       "            <td>1</td>\n",
       "        </tr>\n",
       "        <tr>\n",
       "            <td>36</td>\n",
       "            <td>85.0</td>\n",
       "            <td>27.0</td>\n",
       "            <td>2.8284271247461903</td>\n",
       "            <td>2</td>\n",
       "        </tr>\n",
       "        <tr>\n",
       "            <td>53</td>\n",
       "            <td>73.0</td>\n",
       "            <td>46.0</td>\n",
       "            <td>None</td>\n",
       "            <td>1</td>\n",
       "        </tr>\n",
       "        <tr>\n",
       "            <td>55</td>\n",
       "            <td>135.0</td>\n",
       "            <td>290.0</td>\n",
       "            <td>None</td>\n",
       "            <td>1</td>\n",
       "        </tr>\n",
       "        <tr>\n",
       "            <td>37</td>\n",
       "            <td>139.0</td>\n",
       "            <td>2.0</td>\n",
       "            <td>None</td>\n",
       "            <td>1</td>\n",
       "        </tr>\n",
       "        <tr>\n",
       "            <td>29</td>\n",
       "            <td>169.0</td>\n",
       "            <td>378.0</td>\n",
       "            <td>None</td>\n",
       "            <td>1</td>\n",
       "        </tr>\n",
       "    </tbody>\n",
       "</table>\n",
       "<span style=\"font-style:italic;text-align:center;\">Truncated to <a href=\"https://jupysql.ploomber.io/en/latest/api/configuration.html#displaylimit\">displaylimit</a> of 15.</span>"
      ],
      "text/plain": [
       "+---------------+----------------+--------+--------------------+-------+\n",
       "| state_numeric | county_numeric |  avg   |       stddev       | count |\n",
       "+---------------+----------------+--------+--------------------+-------+\n",
       "|       36      |      67.0      | 292.0  | 245.29981655109324 |   3   |\n",
       "|       20      |      11.0      | 279.0  |        None        |   1   |\n",
       "|       6       |      15.0      | 242.0  |        None        |   1   |\n",
       "|       31      |     129.0      | 518.0  |        None        |   1   |\n",
       "|       51      |      59.0      | 132.0  |        None        |   1   |\n",
       "|       27      |      15.0      | 320.0  |        None        |   1   |\n",
       "|       56      |      35.0      | 2991.5 | 743.1692270270614  |   2   |\n",
       "|       1       |      33.0      | 161.0  |        None        |   1   |\n",
       "|       6       |      21.0      |  79.0  |        None        |   1   |\n",
       "|       48      |     411.0      | 518.0  |        None        |   1   |\n",
       "|       36      |      85.0      |  27.0  | 2.8284271247461903 |   2   |\n",
       "|       53      |      73.0      |  46.0  |        None        |   1   |\n",
       "|       55      |     135.0      | 290.0  |        None        |   1   |\n",
       "|       37      |     139.0      |  2.0   |        None        |   1   |\n",
       "|       29      |     169.0      | 378.0  |        None        |   1   |\n",
       "+---------------+----------------+--------+--------------------+-------+\n",
       "Truncated to displaylimit of 15."
      ]
     },
     "execution_count": 22,
     "metadata": {},
     "output_type": "execute_result"
    }
   ],
   "source": [
    "%%sql\n",
    "SELECT state_numeric, county_numeric,\n",
    "       avg(elev_in_m),\n",
    "       stddev(elev_in_m), count(*)\n",
    "FROM national TABLESAMPLE BERNOULLI(10)\n",
    "GROUP BY state_numeric, county_numeric;"
   ]
  },
  {
   "cell_type": "markdown",
   "id": "19460db6-5e19-4eaa-be01-e7c3b257ace8",
   "metadata": {},
   "source": [
    "**Roll up** to state level.\n",
    "* We save the view as `state_elevations` for later..."
   ]
  },
  {
   "cell_type": "code",
   "execution_count": 23,
   "id": "b1eb0307-fee1-4692-ae8a-eb372f382e9f",
   "metadata": {},
   "outputs": [
    {
     "data": {
      "text/html": [
       "<span style=\"None\">Running query in &#x27;postgresql://localhost:5432/gnis&#x27;</span>"
      ],
      "text/plain": [
       "Running query in 'postgresql://localhost:5432/gnis'"
      ]
     },
     "metadata": {},
     "output_type": "display_data"
    },
    {
     "data": {
      "text/html": [
       "<table>\n",
       "    <thead>\n",
       "        <tr>\n",
       "        </tr>\n",
       "    </thead>\n",
       "    <tbody>\n",
       "    </tbody>\n",
       "</table>"
      ],
      "text/plain": [
       "++\n",
       "||\n",
       "++\n",
       "++"
      ]
     },
     "execution_count": 23,
     "metadata": {},
     "output_type": "execute_result"
    }
   ],
   "source": [
    "%%sql\n",
    "DROP VIEW IF EXISTS state_elevations;\n",
    "\n",
    "CREATE VIEW state_elevations AS\n",
    "SELECT state_numeric,\n",
    "       avg(elev_in_m),\n",
    "       stddev(elev_in_m), count(*)\n",
    "FROM national \n",
    "GROUP BY state_numeric\n",
    ";"
   ]
  },
  {
   "cell_type": "code",
   "execution_count": 24,
   "id": "e3b4b1b9-b048-43a7-8f97-67ae63332136",
   "metadata": {},
   "outputs": [
    {
     "data": {
      "text/html": [
       "<span style=\"None\">Running query in &#x27;postgresql://localhost:5432/gnis&#x27;</span>"
      ],
      "text/plain": [
       "Running query in 'postgresql://localhost:5432/gnis'"
      ]
     },
     "metadata": {},
     "output_type": "display_data"
    },
    {
     "data": {
      "text/html": [
       "<span style=\"color: green\">59 rows affected.</span>"
      ],
      "text/plain": [
       "59 rows affected."
      ]
     },
     "metadata": {},
     "output_type": "display_data"
    },
    {
     "data": {
      "text/html": [
       "<table>\n",
       "    <thead>\n",
       "        <tr>\n",
       "            <th>state_numeric</th>\n",
       "            <th>avg</th>\n",
       "            <th>stddev</th>\n",
       "            <th>count</th>\n",
       "        </tr>\n",
       "    </thead>\n",
       "    <tbody>\n",
       "        <tr>\n",
       "            <td>54</td>\n",
       "            <td>363.6190476190476</td>\n",
       "            <td>199.26650831834746</td>\n",
       "            <td>204</td>\n",
       "        </tr>\n",
       "        <tr>\n",
       "            <td>29</td>\n",
       "            <td>246.09152542372883</td>\n",
       "            <td>80.2483078596168</td>\n",
       "            <td>343</td>\n",
       "        </tr>\n",
       "        <tr>\n",
       "            <td>68</td>\n",
       "            <td>6.666666666666667</td>\n",
       "            <td>7.99166232186187</td>\n",
       "            <td>14</td>\n",
       "        </tr>\n",
       "        <tr>\n",
       "            <td>4</td>\n",
       "            <td>1315.3798076923076</td>\n",
       "            <td>672.6305522946129</td>\n",
       "            <td>208</td>\n",
       "        </tr>\n",
       "        <tr>\n",
       "            <td>34</td>\n",
       "            <td>40.08943089430894</td>\n",
       "            <td>59.88896941733248</td>\n",
       "            <td>123</td>\n",
       "        </tr>\n",
       "        <tr>\n",
       "            <td>51</td>\n",
       "            <td>254.55197132616487</td>\n",
       "            <td>260.54513270095333</td>\n",
       "            <td>283</td>\n",
       "        </tr>\n",
       "        <tr>\n",
       "            <td>70</td>\n",
       "            <td>18.333333333333332</td>\n",
       "            <td>31.75426480542942</td>\n",
       "            <td>3</td>\n",
       "        </tr>\n",
       "        <tr>\n",
       "            <td>10</td>\n",
       "            <td>22.11111111111111</td>\n",
       "            <td>28.015563440198648</td>\n",
       "            <td>27</td>\n",
       "        </tr>\n",
       "        <tr>\n",
       "            <td>35</td>\n",
       "            <td>1756.8467432950192</td>\n",
       "            <td>471.8002505531821</td>\n",
       "            <td>273</td>\n",
       "        </tr>\n",
       "        <tr>\n",
       "            <td>45</td>\n",
       "            <td>122.83240223463687</td>\n",
       "            <td>123.96059930539184</td>\n",
       "            <td>181</td>\n",
       "        </tr>\n",
       "        <tr>\n",
       "            <td>6</td>\n",
       "            <td>516.7286432160804</td>\n",
       "            <td>684.895132373804</td>\n",
       "            <td>599</td>\n",
       "        </tr>\n",
       "        <tr>\n",
       "            <td>39</td>\n",
       "            <td>262.80258899676375</td>\n",
       "            <td>57.78124212343727</td>\n",
       "            <td>328</td>\n",
       "        </tr>\n",
       "        <tr>\n",
       "            <td>69</td>\n",
       "            <td>90.66666666666667</td>\n",
       "            <td>82.82189726555814</td>\n",
       "            <td>6</td>\n",
       "        </tr>\n",
       "        <tr>\n",
       "            <td>36</td>\n",
       "            <td>217.14150943396226</td>\n",
       "            <td>197.0201865875975</td>\n",
       "            <td>424</td>\n",
       "        </tr>\n",
       "        <tr>\n",
       "            <td>31</td>\n",
       "            <td>628.2797202797203</td>\n",
       "            <td>293.8114851587473</td>\n",
       "            <td>148</td>\n",
       "        </tr>\n",
       "    </tbody>\n",
       "</table>\n",
       "<span style=\"font-style:italic;text-align:center;\">Truncated to <a href=\"https://jupysql.ploomber.io/en/latest/api/configuration.html#displaylimit\">displaylimit</a> of 15.</span>"
      ],
      "text/plain": [
       "+---------------+--------------------+--------------------+-------+\n",
       "| state_numeric |        avg         |       stddev       | count |\n",
       "+---------------+--------------------+--------------------+-------+\n",
       "|       54      | 363.6190476190476  | 199.26650831834746 |  204  |\n",
       "|       29      | 246.09152542372883 |  80.2483078596168  |  343  |\n",
       "|       68      | 6.666666666666667  |  7.99166232186187  |   14  |\n",
       "|       4       | 1315.3798076923076 | 672.6305522946129  |  208  |\n",
       "|       34      | 40.08943089430894  | 59.88896941733248  |  123  |\n",
       "|       51      | 254.55197132616487 | 260.54513270095333 |  283  |\n",
       "|       70      | 18.333333333333332 | 31.75426480542942  |   3   |\n",
       "|       10      | 22.11111111111111  | 28.015563440198648 |   27  |\n",
       "|       35      | 1756.8467432950192 | 471.8002505531821  |  273  |\n",
       "|       45      | 122.83240223463687 | 123.96059930539184 |  181  |\n",
       "|       6       | 516.7286432160804  |  684.895132373804  |  599  |\n",
       "|       39      | 262.80258899676375 | 57.78124212343727  |  328  |\n",
       "|       69      | 90.66666666666667  | 82.82189726555814  |   6   |\n",
       "|       36      | 217.14150943396226 | 197.0201865875975  |  424  |\n",
       "|       31      | 628.2797202797203  | 293.8114851587473  |  148  |\n",
       "+---------------+--------------------+--------------------+-------+\n",
       "Truncated to displaylimit of 15."
      ]
     },
     "execution_count": 24,
     "metadata": {},
     "output_type": "execute_result"
    }
   ],
   "source": [
    "%sql SELECT * FROM state_elevations;"
   ]
  },
  {
   "cell_type": "markdown",
   "id": "320ca632-1a77-48ab-9492-f9a2c8582e14",
   "metadata": {},
   "source": [
    "**Drill down** to include feature class."
   ]
  },
  {
   "cell_type": "code",
   "execution_count": 25,
   "id": "420b6d32-0d4b-47f4-9863-9634efa0d8f0",
   "metadata": {},
   "outputs": [
    {
     "data": {
      "text/html": [
       "<span style=\"None\">Running query in &#x27;postgresql://localhost:5432/gnis&#x27;</span>"
      ],
      "text/plain": [
       "Running query in 'postgresql://localhost:5432/gnis'"
      ]
     },
     "metadata": {},
     "output_type": "display_data"
    },
    {
     "data": {
      "text/html": [
       "<span style=\"color: green\">543 rows affected.</span>"
      ],
      "text/plain": [
       "543 rows affected."
      ]
     },
     "metadata": {},
     "output_type": "display_data"
    },
    {
     "data": {
      "text/html": [
       "<table>\n",
       "    <thead>\n",
       "        <tr>\n",
       "            <th>state_numeric</th>\n",
       "            <th>feature_class</th>\n",
       "            <th>avg</th>\n",
       "            <th>stddev</th>\n",
       "            <th>count</th>\n",
       "        </tr>\n",
       "    </thead>\n",
       "    <tbody>\n",
       "        <tr>\n",
       "            <td>6</td>\n",
       "            <td>School</td>\n",
       "            <td>122.92307692307692</td>\n",
       "            <td>134.9706520806539</td>\n",
       "            <td>13</td>\n",
       "        </tr>\n",
       "        <tr>\n",
       "            <td>36</td>\n",
       "            <td>School</td>\n",
       "            <td>103.25</td>\n",
       "            <td>115.29734286932754</td>\n",
       "            <td>12</td>\n",
       "        </tr>\n",
       "        <tr>\n",
       "            <td>48</td>\n",
       "            <td>School</td>\n",
       "            <td>114.77777777777777</td>\n",
       "            <td>100.99106121060639</td>\n",
       "            <td>11</td>\n",
       "        </tr>\n",
       "        <tr>\n",
       "            <td>30</td>\n",
       "            <td>Well</td>\n",
       "            <td>997.6</td>\n",
       "            <td>269.0135064762858</td>\n",
       "            <td>10</td>\n",
       "        </tr>\n",
       "        <tr>\n",
       "            <td>6</td>\n",
       "            <td>Populated Place</td>\n",
       "            <td>417.5</td>\n",
       "            <td>462.20836365060666</td>\n",
       "            <td>9</td>\n",
       "        </tr>\n",
       "        <tr>\n",
       "            <td>1</td>\n",
       "            <td>Populated Place</td>\n",
       "            <td>157.11111111111111</td>\n",
       "            <td>142.74666760072233</td>\n",
       "            <td>9</td>\n",
       "        </tr>\n",
       "        <tr>\n",
       "            <td>47</td>\n",
       "            <td>Populated Place</td>\n",
       "            <td>235.5</td>\n",
       "            <td>151.1668897987538</td>\n",
       "            <td>8</td>\n",
       "        </tr>\n",
       "        <tr>\n",
       "            <td>51</td>\n",
       "            <td>Populated Place</td>\n",
       "            <td>175.25</td>\n",
       "            <td>79.39548385861035</td>\n",
       "            <td>8</td>\n",
       "        </tr>\n",
       "        <tr>\n",
       "            <td>48</td>\n",
       "            <td>Cemetery</td>\n",
       "            <td>153.25</td>\n",
       "            <td>92.72039381156354</td>\n",
       "            <td>8</td>\n",
       "        </tr>\n",
       "        <tr>\n",
       "            <td>48</td>\n",
       "            <td>Stream</td>\n",
       "            <td>164.875</td>\n",
       "            <td>171.3721410098086</td>\n",
       "            <td>8</td>\n",
       "        </tr>\n",
       "        <tr>\n",
       "            <td>48</td>\n",
       "            <td>Church</td>\n",
       "            <td>241.0</td>\n",
       "            <td>282.5308242770453</td>\n",
       "            <td>7</td>\n",
       "        </tr>\n",
       "        <tr>\n",
       "            <td>35</td>\n",
       "            <td>Reservoir</td>\n",
       "            <td>1769.2857142857142</td>\n",
       "            <td>448.876640175492</td>\n",
       "            <td>7</td>\n",
       "        </tr>\n",
       "        <tr>\n",
       "            <td>41</td>\n",
       "            <td>Locale</td>\n",
       "            <td>484.2857142857143</td>\n",
       "            <td>600.2612526463552</td>\n",
       "            <td>7</td>\n",
       "        </tr>\n",
       "        <tr>\n",
       "            <td>1</td>\n",
       "            <td>Church</td>\n",
       "            <td>134.42857142857142</td>\n",
       "            <td>73.57956496849096</td>\n",
       "            <td>7</td>\n",
       "        </tr>\n",
       "        <tr>\n",
       "            <td>48</td>\n",
       "            <td>Locale</td>\n",
       "            <td>515.1428571428571</td>\n",
       "            <td>439.60983783783723</td>\n",
       "            <td>7</td>\n",
       "        </tr>\n",
       "    </tbody>\n",
       "</table>\n",
       "<span style=\"font-style:italic;text-align:center;\">Truncated to <a href=\"https://jupysql.ploomber.io/en/latest/api/configuration.html#displaylimit\">displaylimit</a> of 15.</span>"
      ],
      "text/plain": [
       "+---------------+-----------------+--------------------+--------------------+-------+\n",
       "| state_numeric |  feature_class  |        avg         |       stddev       | count |\n",
       "+---------------+-----------------+--------------------+--------------------+-------+\n",
       "|       6       |      School     | 122.92307692307692 | 134.9706520806539  |   13  |\n",
       "|       36      |      School     |       103.25       | 115.29734286932754 |   12  |\n",
       "|       48      |      School     | 114.77777777777777 | 100.99106121060639 |   11  |\n",
       "|       30      |       Well      |       997.6        | 269.0135064762858  |   10  |\n",
       "|       6       | Populated Place |       417.5        | 462.20836365060666 |   9   |\n",
       "|       1       | Populated Place | 157.11111111111111 | 142.74666760072233 |   9   |\n",
       "|       47      | Populated Place |       235.5        | 151.1668897987538  |   8   |\n",
       "|       51      | Populated Place |       175.25       | 79.39548385861035  |   8   |\n",
       "|       48      |     Cemetery    |       153.25       | 92.72039381156354  |   8   |\n",
       "|       48      |      Stream     |      164.875       | 171.3721410098086  |   8   |\n",
       "|       48      |      Church     |       241.0        | 282.5308242770453  |   7   |\n",
       "|       35      |    Reservoir    | 1769.2857142857142 |  448.876640175492  |   7   |\n",
       "|       41      |      Locale     | 484.2857142857143  | 600.2612526463552  |   7   |\n",
       "|       1       |      Church     | 134.42857142857142 | 73.57956496849096  |   7   |\n",
       "|       48      |      Locale     | 515.1428571428571  | 439.60983783783723 |   7   |\n",
       "+---------------+-----------------+--------------------+--------------------+-------+\n",
       "Truncated to displaylimit of 15."
      ]
     },
     "execution_count": 25,
     "metadata": {},
     "output_type": "execute_result"
    }
   ],
   "source": [
    "%%sql\n",
    "SELECT state_numeric, feature_class,\n",
    "       avg(elev_in_m),\n",
    "       stddev(elev_in_m), count(*)\n",
    "FROM national TABLESAMPLE Bernoulli(10)\n",
    "GROUP BY state_numeric, feature_class\n",
    "ORDER BY count(*) DESC;"
   ]
  },
  {
   "cell_type": "markdown",
   "id": "82cc3430-68a0-4f69-b94f-a13dce1a06c6",
   "metadata": {},
   "source": [
    "# Demo 2: Connections to Statistics"
   ]
  },
  {
   "cell_type": "markdown",
   "id": "a2bcfd68-94c4-44f9-8a87-deb780009b57",
   "metadata": {},
   "source": [
    "## Roll up with marginal distributions"
   ]
  },
  {
   "cell_type": "code",
   "execution_count": 26,
   "id": "08fd169e-3350-4164-bd04-10755730d459",
   "metadata": {},
   "outputs": [
    {
     "data": {
      "text/html": [
       "<span style=\"None\">Running query in &#x27;postgresql://localhost:5432/gnis&#x27;</span>"
      ],
      "text/plain": [
       "Running query in 'postgresql://localhost:5432/gnis'"
      ]
     },
     "metadata": {},
     "output_type": "display_data"
    },
    {
     "data": {
      "text/html": [
       "<span style=\"color: green\">6 rows affected.</span>"
      ],
      "text/plain": [
       "6 rows affected."
      ]
     },
     "metadata": {},
     "output_type": "display_data"
    },
    {
     "data": {
      "text/html": [
       "<table>\n",
       "    <thead>\n",
       "        <tr>\n",
       "            <th>state_numeric</th>\n",
       "            <th>avg</th>\n",
       "            <th>stddev</th>\n",
       "            <th>count</th>\n",
       "            <th>total</th>\n",
       "            <th>marginal</th>\n",
       "        </tr>\n",
       "    </thead>\n",
       "    <tbody>\n",
       "        <tr>\n",
       "            <td>1</td>\n",
       "            <td>148.0</td>\n",
       "            <td>None</td>\n",
       "            <td>1</td>\n",
       "            <td>7</td>\n",
       "            <td>0.14285714285714285714</td>\n",
       "        </tr>\n",
       "        <tr>\n",
       "            <td>6</td>\n",
       "            <td>0.0</td>\n",
       "            <td>None</td>\n",
       "            <td>1</td>\n",
       "            <td>7</td>\n",
       "            <td>0.14285714285714285714</td>\n",
       "        </tr>\n",
       "        <tr>\n",
       "            <td>28</td>\n",
       "            <td>108.5</td>\n",
       "            <td>23.33452377915607</td>\n",
       "            <td>2</td>\n",
       "            <td>7</td>\n",
       "            <td>0.28571428571428571429</td>\n",
       "        </tr>\n",
       "        <tr>\n",
       "            <td>30</td>\n",
       "            <td>1114.0</td>\n",
       "            <td>None</td>\n",
       "            <td>1</td>\n",
       "            <td>7</td>\n",
       "            <td>0.14285714285714285714</td>\n",
       "        </tr>\n",
       "        <tr>\n",
       "            <td>36</td>\n",
       "            <td>132.0</td>\n",
       "            <td>None</td>\n",
       "            <td>1</td>\n",
       "            <td>7</td>\n",
       "            <td>0.14285714285714285714</td>\n",
       "        </tr>\n",
       "        <tr>\n",
       "            <td>41</td>\n",
       "            <td>164.0</td>\n",
       "            <td>None</td>\n",
       "            <td>1</td>\n",
       "            <td>7</td>\n",
       "            <td>0.14285714285714285714</td>\n",
       "        </tr>\n",
       "    </tbody>\n",
       "</table>"
      ],
      "text/plain": [
       "+---------------+--------+-------------------+-------+-------+------------------------+\n",
       "| state_numeric |  avg   |       stddev      | count | total |        marginal        |\n",
       "+---------------+--------+-------------------+-------+-------+------------------------+\n",
       "|       1       | 148.0  |        None       |   1   |   7   | 0.14285714285714285714 |\n",
       "|       6       |  0.0   |        None       |   1   |   7   | 0.14285714285714285714 |\n",
       "|       28      | 108.5  | 23.33452377915607 |   2   |   7   | 0.28571428571428571429 |\n",
       "|       30      | 1114.0 |        None       |   1   |   7   | 0.14285714285714285714 |\n",
       "|       36      | 132.0  |        None       |   1   |   7   | 0.14285714285714285714 |\n",
       "|       41      | 164.0  |        None       |   1   |   7   | 0.14285714285714285714 |\n",
       "+---------------+--------+-------------------+-------+-------+------------------------+"
      ]
     },
     "execution_count": 26,
     "metadata": {},
     "output_type": "execute_result"
    }
   ],
   "source": [
    "%%sql\n",
    "SELECT state_numeric,\n",
    "       AVG(elev_in_m),\n",
    "       STDDEV(elev_in_m), COUNT(*),\n",
    "       SUM(COUNT(*)) OVER () AS total,\n",
    "       COUNT(*)/SUM(COUNT(*)) OVER () AS marginal\n",
    "FROM national TABLESAMPLE Bernoulli(.07)\n",
    "GROUP BY state_numeric;"
   ]
  },
  {
   "cell_type": "code",
   "execution_count": 27,
   "id": "845b5b39-689a-4852-82ca-8defa998b857",
   "metadata": {},
   "outputs": [
    {
     "data": {
      "text/html": [
       "<span style=\"None\">Running query in &#x27;postgresql://localhost:5432/gnis&#x27;</span>"
      ],
      "text/plain": [
       "Running query in 'postgresql://localhost:5432/gnis'"
      ]
     },
     "metadata": {},
     "output_type": "display_data"
    },
    {
     "data": {
      "text/html": [
       "<span style=\"color: green\">1 rows affected.</span>"
      ],
      "text/plain": [
       "1 rows affected."
      ]
     },
     "metadata": {},
     "output_type": "display_data"
    },
    {
     "data": {
      "text/html": [
       "<table>\n",
       "    <thead>\n",
       "        <tr>\n",
       "            <th>count</th>\n",
       "        </tr>\n",
       "    </thead>\n",
       "    <tbody>\n",
       "        <tr>\n",
       "            <td>291</td>\n",
       "        </tr>\n",
       "    </tbody>\n",
       "</table>"
      ],
      "text/plain": [
       "+-------+\n",
       "| count |\n",
       "+-------+\n",
       "|  291  |\n",
       "+-------+"
      ]
     },
     "execution_count": 27,
     "metadata": {},
     "output_type": "execute_result"
    }
   ],
   "source": [
    "%%sql\n",
    "SELECT COUNT(DISTINCT county_numeric) FROM national;"
   ]
  },
  {
   "cell_type": "markdown",
   "id": "f9cdb304-5969-4721-b38d-b9ff8ad0e200",
   "metadata": {},
   "source": [
    "## Drill down with normally-distributed elevations:"
   ]
  },
  {
   "cell_type": "markdown",
   "id": "8a165109-8d5c-483c-8292-e1d03cf9ee44",
   "metadata": {},
   "source": [
    "Start with the `state_elevations` view from earlier:"
   ]
  },
  {
   "cell_type": "code",
   "execution_count": 28,
   "id": "2b5c7c41-445c-4f16-bd06-77ba45786e50",
   "metadata": {},
   "outputs": [
    {
     "data": {
      "text/html": [
       "<span style=\"None\">Running query in &#x27;postgresql://localhost:5432/gnis&#x27;</span>"
      ],
      "text/plain": [
       "Running query in 'postgresql://localhost:5432/gnis'"
      ]
     },
     "metadata": {},
     "output_type": "display_data"
    },
    {
     "data": {
      "text/html": [
       "<span style=\"color: green\">59 rows affected.</span>"
      ],
      "text/plain": [
       "59 rows affected."
      ]
     },
     "metadata": {},
     "output_type": "display_data"
    },
    {
     "data": {
      "text/html": [
       "<table>\n",
       "    <thead>\n",
       "        <tr>\n",
       "            <th>state_numeric</th>\n",
       "            <th>avg</th>\n",
       "            <th>stddev</th>\n",
       "            <th>count</th>\n",
       "        </tr>\n",
       "    </thead>\n",
       "    <tbody>\n",
       "        <tr>\n",
       "            <td>54</td>\n",
       "            <td>363.6190476190476</td>\n",
       "            <td>199.26650831834746</td>\n",
       "            <td>204</td>\n",
       "        </tr>\n",
       "        <tr>\n",
       "            <td>29</td>\n",
       "            <td>246.09152542372883</td>\n",
       "            <td>80.2483078596168</td>\n",
       "            <td>343</td>\n",
       "        </tr>\n",
       "        <tr>\n",
       "            <td>68</td>\n",
       "            <td>6.666666666666667</td>\n",
       "            <td>7.99166232186187</td>\n",
       "            <td>14</td>\n",
       "        </tr>\n",
       "        <tr>\n",
       "            <td>4</td>\n",
       "            <td>1315.3798076923076</td>\n",
       "            <td>672.6305522946129</td>\n",
       "            <td>208</td>\n",
       "        </tr>\n",
       "        <tr>\n",
       "            <td>34</td>\n",
       "            <td>40.08943089430894</td>\n",
       "            <td>59.88896941733248</td>\n",
       "            <td>123</td>\n",
       "        </tr>\n",
       "        <tr>\n",
       "            <td>51</td>\n",
       "            <td>254.55197132616487</td>\n",
       "            <td>260.54513270095333</td>\n",
       "            <td>283</td>\n",
       "        </tr>\n",
       "        <tr>\n",
       "            <td>70</td>\n",
       "            <td>18.333333333333332</td>\n",
       "            <td>31.75426480542942</td>\n",
       "            <td>3</td>\n",
       "        </tr>\n",
       "        <tr>\n",
       "            <td>10</td>\n",
       "            <td>22.11111111111111</td>\n",
       "            <td>28.015563440198648</td>\n",
       "            <td>27</td>\n",
       "        </tr>\n",
       "        <tr>\n",
       "            <td>35</td>\n",
       "            <td>1756.8467432950192</td>\n",
       "            <td>471.8002505531821</td>\n",
       "            <td>273</td>\n",
       "        </tr>\n",
       "        <tr>\n",
       "            <td>45</td>\n",
       "            <td>122.83240223463687</td>\n",
       "            <td>123.96059930539184</td>\n",
       "            <td>181</td>\n",
       "        </tr>\n",
       "        <tr>\n",
       "            <td>6</td>\n",
       "            <td>516.7286432160804</td>\n",
       "            <td>684.895132373804</td>\n",
       "            <td>599</td>\n",
       "        </tr>\n",
       "        <tr>\n",
       "            <td>39</td>\n",
       "            <td>262.80258899676375</td>\n",
       "            <td>57.78124212343727</td>\n",
       "            <td>328</td>\n",
       "        </tr>\n",
       "        <tr>\n",
       "            <td>69</td>\n",
       "            <td>90.66666666666667</td>\n",
       "            <td>82.82189726555814</td>\n",
       "            <td>6</td>\n",
       "        </tr>\n",
       "        <tr>\n",
       "            <td>36</td>\n",
       "            <td>217.14150943396226</td>\n",
       "            <td>197.0201865875975</td>\n",
       "            <td>424</td>\n",
       "        </tr>\n",
       "        <tr>\n",
       "            <td>31</td>\n",
       "            <td>628.2797202797203</td>\n",
       "            <td>293.8114851587473</td>\n",
       "            <td>148</td>\n",
       "        </tr>\n",
       "    </tbody>\n",
       "</table>\n",
       "<span style=\"font-style:italic;text-align:center;\">Truncated to <a href=\"https://jupysql.ploomber.io/en/latest/api/configuration.html#displaylimit\">displaylimit</a> of 15.</span>"
      ],
      "text/plain": [
       "+---------------+--------------------+--------------------+-------+\n",
       "| state_numeric |        avg         |       stddev       | count |\n",
       "+---------------+--------------------+--------------------+-------+\n",
       "|       54      | 363.6190476190476  | 199.26650831834746 |  204  |\n",
       "|       29      | 246.09152542372883 |  80.2483078596168  |  343  |\n",
       "|       68      | 6.666666666666667  |  7.99166232186187  |   14  |\n",
       "|       4       | 1315.3798076923076 | 672.6305522946129  |  208  |\n",
       "|       34      | 40.08943089430894  | 59.88896941733248  |  123  |\n",
       "|       51      | 254.55197132616487 | 260.54513270095333 |  283  |\n",
       "|       70      | 18.333333333333332 | 31.75426480542942  |   3   |\n",
       "|       10      | 22.11111111111111  | 28.015563440198648 |   27  |\n",
       "|       35      | 1756.8467432950192 | 471.8002505531821  |  273  |\n",
       "|       45      | 122.83240223463687 | 123.96059930539184 |  181  |\n",
       "|       6       | 516.7286432160804  |  684.895132373804  |  599  |\n",
       "|       39      | 262.80258899676375 | 57.78124212343727  |  328  |\n",
       "|       69      | 90.66666666666667  | 82.82189726555814  |   6   |\n",
       "|       36      | 217.14150943396226 | 197.0201865875975  |  424  |\n",
       "|       31      | 628.2797202797203  | 293.8114851587473  |  148  |\n",
       "+---------------+--------------------+--------------------+-------+\n",
       "Truncated to displaylimit of 15."
      ]
     },
     "execution_count": 28,
     "metadata": {},
     "output_type": "execute_result"
    }
   ],
   "source": [
    "%sql SELECT * FROM state_elevations;"
   ]
  },
  {
   "cell_type": "markdown",
   "id": "b149280a-7e2d-4ed7-bddc-7a2a9323f40b",
   "metadata": {},
   "source": [
    "The `fips_counties` relation has all counties, including those not in `national`:"
   ]
  },
  {
   "cell_type": "code",
   "execution_count": 29,
   "id": "5ce7a086-4b77-4b30-86ae-bd553aa51539",
   "metadata": {},
   "outputs": [
    {
     "data": {
      "text/html": [
       "<span style=\"None\">Running query in &#x27;postgresql://localhost:5432/gnis&#x27;</span>"
      ],
      "text/plain": [
       "Running query in 'postgresql://localhost:5432/gnis'"
      ]
     },
     "metadata": {},
     "output_type": "display_data"
    },
    {
     "data": {
      "text/html": [
       "<span style=\"color: green\">10 rows affected.</span>"
      ],
      "text/plain": [
       "10 rows affected."
      ]
     },
     "metadata": {},
     "output_type": "display_data"
    },
    {
     "data": {
      "text/html": [
       "<table>\n",
       "    <thead>\n",
       "        <tr>\n",
       "            <th>fips</th>\n",
       "            <th>county</th>\n",
       "            <th>state_numeric</th>\n",
       "        </tr>\n",
       "    </thead>\n",
       "    <tbody>\n",
       "        <tr>\n",
       "            <td>1000</td>\n",
       "            <td>Alabama</td>\n",
       "            <td>1</td>\n",
       "        </tr>\n",
       "        <tr>\n",
       "            <td>1001</td>\n",
       "            <td>Autauga County</td>\n",
       "            <td>1</td>\n",
       "        </tr>\n",
       "        <tr>\n",
       "            <td>1003</td>\n",
       "            <td>Baldwin County</td>\n",
       "            <td>1</td>\n",
       "        </tr>\n",
       "        <tr>\n",
       "            <td>1005</td>\n",
       "            <td>Barbour County</td>\n",
       "            <td>1</td>\n",
       "        </tr>\n",
       "        <tr>\n",
       "            <td>1007</td>\n",
       "            <td>Bibb County</td>\n",
       "            <td>1</td>\n",
       "        </tr>\n",
       "        <tr>\n",
       "            <td>1009</td>\n",
       "            <td>Blount County</td>\n",
       "            <td>1</td>\n",
       "        </tr>\n",
       "        <tr>\n",
       "            <td>1011</td>\n",
       "            <td>Bullock County</td>\n",
       "            <td>1</td>\n",
       "        </tr>\n",
       "        <tr>\n",
       "            <td>1013</td>\n",
       "            <td>Butler County</td>\n",
       "            <td>1</td>\n",
       "        </tr>\n",
       "        <tr>\n",
       "            <td>1015</td>\n",
       "            <td>Calhoun County</td>\n",
       "            <td>1</td>\n",
       "        </tr>\n",
       "        <tr>\n",
       "            <td>1017</td>\n",
       "            <td>Chambers County</td>\n",
       "            <td>1</td>\n",
       "        </tr>\n",
       "    </tbody>\n",
       "</table>"
      ],
      "text/plain": [
       "+------+-----------------+---------------+\n",
       "| fips |      county     | state_numeric |\n",
       "+------+-----------------+---------------+\n",
       "| 1000 |     Alabama     |       1       |\n",
       "| 1001 |  Autauga County |       1       |\n",
       "| 1003 |  Baldwin County |       1       |\n",
       "| 1005 |  Barbour County |       1       |\n",
       "| 1007 |   Bibb County   |       1       |\n",
       "| 1009 |  Blount County  |       1       |\n",
       "| 1011 |  Bullock County |       1       |\n",
       "| 1013 |  Butler County  |       1       |\n",
       "| 1015 |  Calhoun County |       1       |\n",
       "| 1017 | Chambers County |       1       |\n",
       "+------+-----------------+---------------+"
      ]
     },
     "execution_count": 29,
     "metadata": {},
     "output_type": "execute_result"
    }
   ],
   "source": [
    "%sql SELECT * FROM fips_counties LIMIT 10;"
   ]
  },
  {
   "cell_type": "markdown",
   "id": "7d004af6-eafb-4c14-b44e-0fc813dd36e7",
   "metadata": {},
   "source": [
    "If we wanted to **drill down** to the FIPS counties, we'd need to simulate an elevation for those counties that don't exist in `national`.\n",
    "\n",
    "Here's the first step in that process, which creates a simulated value for *every* county in `fips_counties`.\n",
    "* The value is simulated from a normal distribution using that state's elevation statistics (average, standard deviation).\n",
    "* Just like a Python package, we would need to import `tablefunc` in order to use the `normal_rand` function."
   ]
  },
  {
   "cell_type": "code",
   "execution_count": 30,
   "id": "c76d955d-0c15-4bf7-a2fd-f381192989f9",
   "metadata": {},
   "outputs": [
    {
     "data": {
      "text/html": [
       "<span style=\"None\">Running query in &#x27;postgresql://localhost:5432/gnis&#x27;</span>"
      ],
      "text/plain": [
       "Running query in 'postgresql://localhost:5432/gnis'"
      ]
     },
     "metadata": {},
     "output_type": "display_data"
    },
    {
     "data": {
      "text/html": [
       "<table>\n",
       "    <thead>\n",
       "        <tr>\n",
       "        </tr>\n",
       "    </thead>\n",
       "    <tbody>\n",
       "    </tbody>\n",
       "</table>"
      ],
      "text/plain": [
       "++\n",
       "||\n",
       "++\n",
       "++"
      ]
     },
     "execution_count": 30,
     "metadata": {},
     "output_type": "execute_result"
    }
   ],
   "source": [
    "%sql CREATE EXTENSION IF NOT EXISTS tablefunc;"
   ]
  },
  {
   "cell_type": "code",
   "execution_count": 31,
   "id": "541c6f86-bde5-4143-b06d-9bfb927e9bfe",
   "metadata": {},
   "outputs": [
    {
     "data": {
      "text/html": [
       "<span style=\"None\">Running query in &#x27;postgresql://localhost:5432/gnis&#x27;</span>"
      ],
      "text/plain": [
       "Running query in 'postgresql://localhost:5432/gnis'"
      ]
     },
     "metadata": {},
     "output_type": "display_data"
    },
    {
     "data": {
      "text/html": [
       "<span style=\"color: green\">10 rows affected.</span>"
      ],
      "text/plain": [
       "10 rows affected."
      ]
     },
     "metadata": {},
     "output_type": "display_data"
    },
    {
     "data": {
      "text/html": [
       "<table>\n",
       "    <thead>\n",
       "        <tr>\n",
       "            <th>state_numeric</th>\n",
       "            <th>county_numeric</th>\n",
       "            <th>avg</th>\n",
       "            <th>stddev</th>\n",
       "            <th>count</th>\n",
       "            <th>elev_in_m</th>\n",
       "            <th>elev_in_m_sim</th>\n",
       "        </tr>\n",
       "    </thead>\n",
       "    <tbody>\n",
       "        <tr>\n",
       "            <td>1</td>\n",
       "            <td>1000</td>\n",
       "            <td>146.37888198757764</td>\n",
       "            <td>102.92185851771194</td>\n",
       "            <td>339</td>\n",
       "            <td>-18.457296151733743</td>\n",
       "            <td>True</td>\n",
       "        </tr>\n",
       "        <tr>\n",
       "            <td>1</td>\n",
       "            <td>1000</td>\n",
       "            <td>146.37888198757764</td>\n",
       "            <td>102.92185851771194</td>\n",
       "            <td>339</td>\n",
       "            <td>224.60142938380753</td>\n",
       "            <td>True</td>\n",
       "        </tr>\n",
       "        <tr>\n",
       "            <td>1</td>\n",
       "            <td>1000</td>\n",
       "            <td>146.37888198757764</td>\n",
       "            <td>102.92185851771194</td>\n",
       "            <td>339</td>\n",
       "            <td>178.74124774269012</td>\n",
       "            <td>True</td>\n",
       "        </tr>\n",
       "        <tr>\n",
       "            <td>1</td>\n",
       "            <td>1000</td>\n",
       "            <td>146.37888198757764</td>\n",
       "            <td>102.92185851771194</td>\n",
       "            <td>339</td>\n",
       "            <td>216.15506790159532</td>\n",
       "            <td>True</td>\n",
       "        </tr>\n",
       "        <tr>\n",
       "            <td>1</td>\n",
       "            <td>1000</td>\n",
       "            <td>146.37888198757764</td>\n",
       "            <td>102.92185851771194</td>\n",
       "            <td>339</td>\n",
       "            <td>32.098400638118974</td>\n",
       "            <td>True</td>\n",
       "        </tr>\n",
       "        <tr>\n",
       "            <td>1</td>\n",
       "            <td>1000</td>\n",
       "            <td>146.37888198757764</td>\n",
       "            <td>102.92185851771194</td>\n",
       "            <td>339</td>\n",
       "            <td>221.66614691958057</td>\n",
       "            <td>True</td>\n",
       "        </tr>\n",
       "        <tr>\n",
       "            <td>1</td>\n",
       "            <td>1000</td>\n",
       "            <td>146.37888198757764</td>\n",
       "            <td>102.92185851771194</td>\n",
       "            <td>339</td>\n",
       "            <td>184.5474263523351</td>\n",
       "            <td>True</td>\n",
       "        </tr>\n",
       "        <tr>\n",
       "            <td>1</td>\n",
       "            <td>1000</td>\n",
       "            <td>146.37888198757764</td>\n",
       "            <td>102.92185851771194</td>\n",
       "            <td>339</td>\n",
       "            <td>236.0757059698189</td>\n",
       "            <td>True</td>\n",
       "        </tr>\n",
       "        <tr>\n",
       "            <td>1</td>\n",
       "            <td>1000</td>\n",
       "            <td>146.37888198757764</td>\n",
       "            <td>102.92185851771194</td>\n",
       "            <td>339</td>\n",
       "            <td>155.1377608949176</td>\n",
       "            <td>True</td>\n",
       "        </tr>\n",
       "        <tr>\n",
       "            <td>1</td>\n",
       "            <td>1000</td>\n",
       "            <td>146.37888198757764</td>\n",
       "            <td>102.92185851771194</td>\n",
       "            <td>339</td>\n",
       "            <td>61.60420644280168</td>\n",
       "            <td>True</td>\n",
       "        </tr>\n",
       "    </tbody>\n",
       "</table>"
      ],
      "text/plain": [
       "+---------------+----------------+--------------------+--------------------+-------+---------------------+---------------+\n",
       "| state_numeric | county_numeric |        avg         |       stddev       | count |      elev_in_m      | elev_in_m_sim |\n",
       "+---------------+----------------+--------------------+--------------------+-------+---------------------+---------------+\n",
       "|       1       |      1000      | 146.37888198757764 | 102.92185851771194 |  339  | -18.457296151733743 |      True     |\n",
       "|       1       |      1000      | 146.37888198757764 | 102.92185851771194 |  339  |  224.60142938380753 |      True     |\n",
       "|       1       |      1000      | 146.37888198757764 | 102.92185851771194 |  339  |  178.74124774269012 |      True     |\n",
       "|       1       |      1000      | 146.37888198757764 | 102.92185851771194 |  339  |  216.15506790159532 |      True     |\n",
       "|       1       |      1000      | 146.37888198757764 | 102.92185851771194 |  339  |  32.098400638118974 |      True     |\n",
       "|       1       |      1000      | 146.37888198757764 | 102.92185851771194 |  339  |  221.66614691958057 |      True     |\n",
       "|       1       |      1000      | 146.37888198757764 | 102.92185851771194 |  339  |  184.5474263523351  |      True     |\n",
       "|       1       |      1000      | 146.37888198757764 | 102.92185851771194 |  339  |  236.0757059698189  |      True     |\n",
       "|       1       |      1000      | 146.37888198757764 | 102.92185851771194 |  339  |  155.1377608949176  |      True     |\n",
       "|       1       |      1000      | 146.37888198757764 | 102.92185851771194 |  339  |  61.60420644280168  |      True     |\n",
       "+---------------+----------------+--------------------+--------------------+-------+---------------------+---------------+"
      ]
     },
     "execution_count": 31,
     "metadata": {},
     "output_type": "execute_result"
    }
   ],
   "source": [
    "%%sql\n",
    "WITH state_cty AS\n",
    "(SELECT s.state_numeric, f.fips as county_numeric, s.avg, s.stddev, s.count\n",
    "  FROM state_elevations s, fips_counties f\n",
    "  WHERE s.state_numeric = f.state_numeric\n",
    ")\n",
    "SELECT s.*,\n",
    "       n.n AS elev_in_m,\n",
    "       true as elev_in_m_sim -- user-facing flag\n",
    "  FROM state_cty s,\n",
    "       LATERAL normal_rand(CAST(s.count AS INTEGER), s.avg, s.stddev) AS n\n",
    "LIMIT 10;"
   ]
  },
  {
   "cell_type": "markdown",
   "id": "79eca604-ad43-41f4-9411-a9a7c21413db",
   "metadata": {},
   "source": [
    "# Assembling an Explicit Hierarchy"
   ]
  },
  {
   "cell_type": "code",
   "execution_count": 29,
   "id": "689edf43-7336-4f4a-84da-d1362d04f367",
   "metadata": {},
   "outputs": [
    {
     "data": {
      "text/html": [
       "<span style=\"None\">Switching to connection postgresql://localhost:5432/baseball</span>"
      ],
      "text/plain": [
       "Switching to connection postgresql://localhost:5432/baseball"
      ]
     },
     "metadata": {},
     "output_type": "display_data"
    }
   ],
   "source": [
    "## we'll use the Lahman baseball database in our initial examples today.\n",
    "## replace the database connection with a database of your own!\n",
    "%reload_ext sql\n",
    "%sql postgresql://localhost:5432/baseball"
   ]
  },
  {
   "cell_type": "markdown",
   "id": "aed8a95a-5ca4-4967-872a-d0143255caa3",
   "metadata": {},
   "source": [
    "Two relations have the pieces of the hierarchy we want:"
   ]
  },
  {
   "cell_type": "code",
   "execution_count": 30,
   "id": "196db8eb-ed0c-4e5c-b56d-f6f7217c0753",
   "metadata": {
    "slideshow": {
     "slide_type": "fragment"
    }
   },
   "outputs": [
    {
     "data": {
      "text/html": [
       "<span style=\"None\">Running query in &#x27;postgresql://localhost:5432/baseball&#x27;</span>"
      ],
      "text/plain": [
       "Running query in 'postgresql://localhost:5432/baseball'"
      ]
     },
     "metadata": {},
     "output_type": "display_data"
    },
    {
     "data": {
      "text/html": [
       "<span style=\"color: green\">2 rows affected.</span>"
      ],
      "text/plain": [
       "2 rows affected."
      ]
     },
     "metadata": {},
     "output_type": "display_data"
    },
    {
     "data": {
      "text/html": [
       "<table>\n",
       "    <thead>\n",
       "        <tr>\n",
       "            <th>yearid</th>\n",
       "            <th>teamid</th>\n",
       "            <th>lgid</th>\n",
       "            <th>playerid</th>\n",
       "            <th>g_all</th>\n",
       "            <th>gs</th>\n",
       "            <th>g_batting</th>\n",
       "            <th>g_defense</th>\n",
       "            <th>g_p</th>\n",
       "            <th>g_c</th>\n",
       "            <th>g_1b</th>\n",
       "            <th>g_2b</th>\n",
       "            <th>g_3b</th>\n",
       "            <th>g_ss</th>\n",
       "            <th>g_lf</th>\n",
       "            <th>g_cf</th>\n",
       "            <th>g_rf</th>\n",
       "            <th>g_of</th>\n",
       "            <th>g_dh</th>\n",
       "            <th>g_ph</th>\n",
       "            <th>g_pr</th>\n",
       "        </tr>\n",
       "    </thead>\n",
       "    <tbody>\n",
       "        <tr>\n",
       "            <td>1971</td>\n",
       "            <td>ATL</td>\n",
       "            <td>NL</td>\n",
       "            <td>aaronha01</td>\n",
       "            <td>139</td>\n",
       "            <td>129</td>\n",
       "            <td>139</td>\n",
       "            <td>129</td>\n",
       "            <td>0</td>\n",
       "            <td>0</td>\n",
       "            <td>71</td>\n",
       "            <td>0</td>\n",
       "            <td>0</td>\n",
       "            <td>0</td>\n",
       "            <td>0</td>\n",
       "            <td>0</td>\n",
       "            <td>60</td>\n",
       "            <td>60</td>\n",
       "            <td>0</td>\n",
       "            <td>10</td>\n",
       "            <td>0</td>\n",
       "        </tr>\n",
       "        <tr>\n",
       "            <td>1971</td>\n",
       "            <td>ATL</td>\n",
       "            <td>NL</td>\n",
       "            <td>aaronto01</td>\n",
       "            <td>25</td>\n",
       "            <td>10</td>\n",
       "            <td>25</td>\n",
       "            <td>18</td>\n",
       "            <td>0</td>\n",
       "            <td>0</td>\n",
       "            <td>11</td>\n",
       "            <td>0</td>\n",
       "            <td>7</td>\n",
       "            <td>0</td>\n",
       "            <td>0</td>\n",
       "            <td>0</td>\n",
       "            <td>0</td>\n",
       "            <td>0</td>\n",
       "            <td>0</td>\n",
       "            <td>8</td>\n",
       "            <td>0</td>\n",
       "        </tr>\n",
       "    </tbody>\n",
       "</table>"
      ],
      "text/plain": [
       "+--------+--------+------+-----------+-------+-----+-----------+-----------+-----+-----+------+------+------+------+------+------+------+------+------+------+------+\n",
       "| yearid | teamid | lgid |  playerid | g_all |  gs | g_batting | g_defense | g_p | g_c | g_1b | g_2b | g_3b | g_ss | g_lf | g_cf | g_rf | g_of | g_dh | g_ph | g_pr |\n",
       "+--------+--------+------+-----------+-------+-----+-----------+-----------+-----+-----+------+------+------+------+------+------+------+------+------+------+------+\n",
       "|  1971  |  ATL   |  NL  | aaronha01 |  139  | 129 |    139    |    129    |  0  |  0  |  71  |  0   |  0   |  0   |  0   |  0   |  60  |  60  |  0   |  10  |  0   |\n",
       "|  1971  |  ATL   |  NL  | aaronto01 |   25  |  10 |     25    |     18    |  0  |  0  |  11  |  0   |  7   |  0   |  0   |  0   |  0   |  0   |  0   |  8   |  0   |\n",
       "+--------+--------+------+-----------+-------+-----+-----------+-----------+-----+-----+------+------+------+------+------+------+------+------+------+------+------+"
      ]
     },
     "execution_count": 30,
     "metadata": {},
     "output_type": "execute_result"
    }
   ],
   "source": [
    "%sql SELECT * FROM Appearances WHERE yearid > 1970 LIMIT 2;"
   ]
  },
  {
   "cell_type": "code",
   "execution_count": 31,
   "id": "53283495-fa7e-459c-8498-09c096cffb7a",
   "metadata": {
    "slideshow": {
     "slide_type": "fragment"
    }
   },
   "outputs": [
    {
     "data": {
      "text/html": [
       "<span style=\"None\">Running query in &#x27;postgresql://localhost:5432/baseball&#x27;</span>"
      ],
      "text/plain": [
       "Running query in 'postgresql://localhost:5432/baseball'"
      ]
     },
     "metadata": {},
     "output_type": "display_data"
    },
    {
     "data": {
      "text/html": [
       "<span style=\"color: green\">1 rows affected.</span>"
      ],
      "text/plain": [
       "1 rows affected."
      ]
     },
     "metadata": {},
     "output_type": "display_data"
    },
    {
     "data": {
      "text/html": [
       "<table>\n",
       "    <thead>\n",
       "        <tr>\n",
       "            <th>yearid</th>\n",
       "            <th>lgid</th>\n",
       "            <th>teamid</th>\n",
       "            <th>franchid</th>\n",
       "            <th>divid</th>\n",
       "            <th>rank</th>\n",
       "            <th>g</th>\n",
       "            <th>ghome</th>\n",
       "            <th>w</th>\n",
       "            <th>l</th>\n",
       "            <th>divwin</th>\n",
       "            <th>wcwin</th>\n",
       "            <th>lgwin</th>\n",
       "            <th>wswin</th>\n",
       "            <th>r</th>\n",
       "            <th>ab</th>\n",
       "            <th>h</th>\n",
       "            <th>h2b</th>\n",
       "            <th>h3b</th>\n",
       "            <th>hr</th>\n",
       "            <th>bb</th>\n",
       "            <th>so</th>\n",
       "            <th>sb</th>\n",
       "            <th>cs</th>\n",
       "            <th>hbp</th>\n",
       "            <th>sf</th>\n",
       "            <th>ra</th>\n",
       "            <th>er</th>\n",
       "            <th>era</th>\n",
       "            <th>cg</th>\n",
       "            <th>sho</th>\n",
       "            <th>sv</th>\n",
       "            <th>ipouts</th>\n",
       "            <th>ha</th>\n",
       "            <th>hra</th>\n",
       "            <th>bba</th>\n",
       "            <th>soa</th>\n",
       "            <th>e</th>\n",
       "            <th>dp</th>\n",
       "            <th>fp</th>\n",
       "            <th>name</th>\n",
       "            <th>park</th>\n",
       "            <th>attendance</th>\n",
       "            <th>bpf</th>\n",
       "            <th>ppf</th>\n",
       "            <th>teamidbr</th>\n",
       "            <th>teamidlahman45</th>\n",
       "            <th>teamidretro</th>\n",
       "        </tr>\n",
       "    </thead>\n",
       "    <tbody>\n",
       "        <tr>\n",
       "            <td>1871</td>\n",
       "            <td>NA</td>\n",
       "            <td>BS1</td>\n",
       "            <td>BNA</td>\n",
       "            <td>None</td>\n",
       "            <td>3</td>\n",
       "            <td>31</td>\n",
       "            <td>None</td>\n",
       "            <td>20</td>\n",
       "            <td>10</td>\n",
       "            <td>None</td>\n",
       "            <td>None</td>\n",
       "            <td>N</td>\n",
       "            <td>None</td>\n",
       "            <td>401</td>\n",
       "            <td>1372</td>\n",
       "            <td>426</td>\n",
       "            <td>70</td>\n",
       "            <td>37</td>\n",
       "            <td>3</td>\n",
       "            <td>60</td>\n",
       "            <td>19</td>\n",
       "            <td>73</td>\n",
       "            <td>16</td>\n",
       "            <td>None</td>\n",
       "            <td>None</td>\n",
       "            <td>303</td>\n",
       "            <td>109</td>\n",
       "            <td>3.55</td>\n",
       "            <td>22</td>\n",
       "            <td>1</td>\n",
       "            <td>3</td>\n",
       "            <td>828</td>\n",
       "            <td>367</td>\n",
       "            <td>2</td>\n",
       "            <td>42</td>\n",
       "            <td>23</td>\n",
       "            <td>243</td>\n",
       "            <td>24</td>\n",
       "            <td>0.834</td>\n",
       "            <td>Boston Red Stockings</td>\n",
       "            <td>South End Grounds I</td>\n",
       "            <td>None</td>\n",
       "            <td>103</td>\n",
       "            <td>98</td>\n",
       "            <td>BOS</td>\n",
       "            <td>BS1</td>\n",
       "            <td>BS1</td>\n",
       "        </tr>\n",
       "    </tbody>\n",
       "</table>"
      ],
      "text/plain": [
       "+--------+------+--------+----------+-------+------+----+-------+----+----+--------+-------+-------+-------+-----+------+-----+-----+-----+----+----+----+----+----+------+------+-----+-----+------+----+-----+----+--------+-----+-----+-----+-----+-----+----+-------+----------------------+---------------------+------------+-----+-----+----------+----------------+-------------+\n",
       "| yearid | lgid | teamid | franchid | divid | rank | g  | ghome | w  | l  | divwin | wcwin | lgwin | wswin |  r  |  ab  |  h  | h2b | h3b | hr | bb | so | sb | cs | hbp  |  sf  |  ra |  er | era  | cg | sho | sv | ipouts |  ha | hra | bba | soa |  e  | dp |   fp  |         name         |         park        | attendance | bpf | ppf | teamidbr | teamidlahman45 | teamidretro |\n",
       "+--------+------+--------+----------+-------+------+----+-------+----+----+--------+-------+-------+-------+-----+------+-----+-----+-----+----+----+----+----+----+------+------+-----+-----+------+----+-----+----+--------+-----+-----+-----+-----+-----+----+-------+----------------------+---------------------+------------+-----+-----+----------+----------------+-------------+\n",
       "|  1871  |  NA  |  BS1   |   BNA    |  None |  3   | 31 |  None | 20 | 10 |  None  |  None |   N   |  None | 401 | 1372 | 426 |  70 |  37 | 3  | 60 | 19 | 73 | 16 | None | None | 303 | 109 | 3.55 | 22 |  1  | 3  |  828   | 367 |  2  |  42 |  23 | 243 | 24 | 0.834 | Boston Red Stockings | South End Grounds I |    None    | 103 |  98 |   BOS    |      BS1       |     BS1     |\n",
       "+--------+------+--------+----------+-------+------+----+-------+----+----+--------+-------+-------+-------+-----+------+-----+-----+-----+----+----+----+----+----+------+------+-----+-----+------+----+-----+----+--------+-----+-----+-----+-----+-----+----+-------+----------------------+---------------------+------------+-----+-----+----------+----------------+-------------+"
      ]
     },
     "execution_count": 31,
     "metadata": {},
     "output_type": "execute_result"
    }
   ],
   "source": [
    "%sql SELECT * FROM Teams LIMIT 1;"
   ]
  },
  {
   "cell_type": "markdown",
   "id": "52e0bc5b-8390-4784-a2a5-1dd72b839a33",
   "metadata": {},
   "source": [
    "Let's join these two to make our hierarchy! Which way should we make this?"
   ]
  },
  {
   "cell_type": "code",
   "execution_count": 32,
   "id": "8b6581ef-82cf-4314-abc6-eade2bfd929c",
   "metadata": {},
   "outputs": [
    {
     "data": {
      "text/html": [
       "<span style=\"None\">Running query in &#x27;postgresql://localhost:5432/baseball&#x27;</span>"
      ],
      "text/plain": [
       "Running query in 'postgresql://localhost:5432/baseball'"
      ]
     },
     "metadata": {},
     "output_type": "display_data"
    },
    {
     "data": {
      "text/html": [
       "<span style=\"color: green\">100 rows affected.</span>"
      ],
      "text/plain": [
       "100 rows affected."
      ]
     },
     "metadata": {},
     "output_type": "display_data"
    },
    {
     "data": {
      "text/html": [
       "<table>\n",
       "    <thead>\n",
       "        <tr>\n",
       "            <th>playerid</th>\n",
       "            <th>teamid</th>\n",
       "            <th>divid</th>\n",
       "            <th>yearid</th>\n",
       "            <th>teamid_1</th>\n",
       "            <th>lgid</th>\n",
       "            <th>playerid_1</th>\n",
       "            <th>g_all</th>\n",
       "            <th>gs</th>\n",
       "            <th>g_batting</th>\n",
       "            <th>g_defense</th>\n",
       "            <th>g_p</th>\n",
       "            <th>g_c</th>\n",
       "            <th>g_1b</th>\n",
       "            <th>g_2b</th>\n",
       "            <th>g_3b</th>\n",
       "            <th>g_ss</th>\n",
       "            <th>g_lf</th>\n",
       "            <th>g_cf</th>\n",
       "            <th>g_rf</th>\n",
       "            <th>g_of</th>\n",
       "            <th>g_dh</th>\n",
       "            <th>g_ph</th>\n",
       "            <th>g_pr</th>\n",
       "        </tr>\n",
       "    </thead>\n",
       "    <tbody>\n",
       "        <tr>\n",
       "            <td>alvarda02</td>\n",
       "            <td>BAL</td>\n",
       "            <td>E</td>\n",
       "            <td>2015</td>\n",
       "            <td>BAL</td>\n",
       "            <td>AL</td>\n",
       "            <td>alvarda02</td>\n",
       "            <td>12</td>\n",
       "            <td>10</td>\n",
       "            <td>12</td>\n",
       "            <td>12</td>\n",
       "            <td>0</td>\n",
       "            <td>0</td>\n",
       "            <td>0</td>\n",
       "            <td>0</td>\n",
       "            <td>0</td>\n",
       "            <td>0</td>\n",
       "            <td>0</td>\n",
       "            <td>1</td>\n",
       "            <td>12</td>\n",
       "            <td>12</td>\n",
       "            <td>0</td>\n",
       "            <td>0</td>\n",
       "            <td>0</td>\n",
       "        </tr>\n",
       "        <tr>\n",
       "            <td>brachbr01</td>\n",
       "            <td>BAL</td>\n",
       "            <td>E</td>\n",
       "            <td>2015</td>\n",
       "            <td>BAL</td>\n",
       "            <td>AL</td>\n",
       "            <td>brachbr01</td>\n",
       "            <td>62</td>\n",
       "            <td>0</td>\n",
       "            <td>5</td>\n",
       "            <td>62</td>\n",
       "            <td>62</td>\n",
       "            <td>0</td>\n",
       "            <td>0</td>\n",
       "            <td>0</td>\n",
       "            <td>0</td>\n",
       "            <td>0</td>\n",
       "            <td>0</td>\n",
       "            <td>0</td>\n",
       "            <td>0</td>\n",
       "            <td>0</td>\n",
       "            <td>0</td>\n",
       "            <td>0</td>\n",
       "            <td>0</td>\n",
       "        </tr>\n",
       "        <tr>\n",
       "            <td>brittza01</td>\n",
       "            <td>BAL</td>\n",
       "            <td>E</td>\n",
       "            <td>2015</td>\n",
       "            <td>BAL</td>\n",
       "            <td>AL</td>\n",
       "            <td>brittza01</td>\n",
       "            <td>64</td>\n",
       "            <td>0</td>\n",
       "            <td>2</td>\n",
       "            <td>64</td>\n",
       "            <td>64</td>\n",
       "            <td>0</td>\n",
       "            <td>0</td>\n",
       "            <td>0</td>\n",
       "            <td>0</td>\n",
       "            <td>0</td>\n",
       "            <td>0</td>\n",
       "            <td>0</td>\n",
       "            <td>0</td>\n",
       "            <td>0</td>\n",
       "            <td>0</td>\n",
       "            <td>0</td>\n",
       "            <td>0</td>\n",
       "        </tr>\n",
       "        <tr>\n",
       "            <td>cabrace01</td>\n",
       "            <td>BAL</td>\n",
       "            <td>E</td>\n",
       "            <td>2015</td>\n",
       "            <td>BAL</td>\n",
       "            <td>AL</td>\n",
       "            <td>cabrace01</td>\n",
       "            <td>2</td>\n",
       "            <td>0</td>\n",
       "            <td>0</td>\n",
       "            <td>2</td>\n",
       "            <td>2</td>\n",
       "            <td>0</td>\n",
       "            <td>0</td>\n",
       "            <td>0</td>\n",
       "            <td>0</td>\n",
       "            <td>0</td>\n",
       "            <td>0</td>\n",
       "            <td>0</td>\n",
       "            <td>0</td>\n",
       "            <td>0</td>\n",
       "            <td>0</td>\n",
       "            <td>0</td>\n",
       "            <td>0</td>\n",
       "        </tr>\n",
       "        <tr>\n",
       "            <td>cabreev01</td>\n",
       "            <td>BAL</td>\n",
       "            <td>E</td>\n",
       "            <td>2015</td>\n",
       "            <td>BAL</td>\n",
       "            <td>AL</td>\n",
       "            <td>cabreev01</td>\n",
       "            <td>29</td>\n",
       "            <td>28</td>\n",
       "            <td>29</td>\n",
       "            <td>28</td>\n",
       "            <td>0</td>\n",
       "            <td>0</td>\n",
       "            <td>0</td>\n",
       "            <td>2</td>\n",
       "            <td>0</td>\n",
       "            <td>27</td>\n",
       "            <td>0</td>\n",
       "            <td>0</td>\n",
       "            <td>0</td>\n",
       "            <td>0</td>\n",
       "            <td>0</td>\n",
       "            <td>0</td>\n",
       "            <td>1</td>\n",
       "        </tr>\n",
       "        <tr>\n",
       "            <td>chenwe02</td>\n",
       "            <td>BAL</td>\n",
       "            <td>E</td>\n",
       "            <td>2015</td>\n",
       "            <td>BAL</td>\n",
       "            <td>AL</td>\n",
       "            <td>chenwe02</td>\n",
       "            <td>31</td>\n",
       "            <td>31</td>\n",
       "            <td>0</td>\n",
       "            <td>31</td>\n",
       "            <td>31</td>\n",
       "            <td>0</td>\n",
       "            <td>0</td>\n",
       "            <td>0</td>\n",
       "            <td>0</td>\n",
       "            <td>0</td>\n",
       "            <td>0</td>\n",
       "            <td>0</td>\n",
       "            <td>0</td>\n",
       "            <td>0</td>\n",
       "            <td>0</td>\n",
       "            <td>0</td>\n",
       "            <td>0</td>\n",
       "        </tr>\n",
       "        <tr>\n",
       "            <td>clevest01</td>\n",
       "            <td>BAL</td>\n",
       "            <td>E</td>\n",
       "            <td>2015</td>\n",
       "            <td>BAL</td>\n",
       "            <td>AL</td>\n",
       "            <td>clevest01</td>\n",
       "            <td>30</td>\n",
       "            <td>24</td>\n",
       "            <td>30</td>\n",
       "            <td>10</td>\n",
       "            <td>0</td>\n",
       "            <td>9</td>\n",
       "            <td>1</td>\n",
       "            <td>0</td>\n",
       "            <td>0</td>\n",
       "            <td>0</td>\n",
       "            <td>0</td>\n",
       "            <td>0</td>\n",
       "            <td>0</td>\n",
       "            <td>0</td>\n",
       "            <td>18</td>\n",
       "            <td>4</td>\n",
       "            <td>0</td>\n",
       "        </tr>\n",
       "        <tr>\n",
       "            <td>davisch02</td>\n",
       "            <td>BAL</td>\n",
       "            <td>E</td>\n",
       "            <td>2015</td>\n",
       "            <td>BAL</td>\n",
       "            <td>AL</td>\n",
       "            <td>davisch02</td>\n",
       "            <td>160</td>\n",
       "            <td>159</td>\n",
       "            <td>160</td>\n",
       "            <td>138</td>\n",
       "            <td>0</td>\n",
       "            <td>0</td>\n",
       "            <td>111</td>\n",
       "            <td>0</td>\n",
       "            <td>0</td>\n",
       "            <td>0</td>\n",
       "            <td>0</td>\n",
       "            <td>0</td>\n",
       "            <td>30</td>\n",
       "            <td>30</td>\n",
       "            <td>22</td>\n",
       "            <td>0</td>\n",
       "            <td>0</td>\n",
       "        </tr>\n",
       "        <tr>\n",
       "            <td>deazaal01</td>\n",
       "            <td>BAL</td>\n",
       "            <td>E</td>\n",
       "            <td>2015</td>\n",
       "            <td>BAL</td>\n",
       "            <td>AL</td>\n",
       "            <td>deazaal01</td>\n",
       "            <td>30</td>\n",
       "            <td>27</td>\n",
       "            <td>30</td>\n",
       "            <td>27</td>\n",
       "            <td>0</td>\n",
       "            <td>0</td>\n",
       "            <td>0</td>\n",
       "            <td>0</td>\n",
       "            <td>0</td>\n",
       "            <td>0</td>\n",
       "            <td>19</td>\n",
       "            <td>0</td>\n",
       "            <td>13</td>\n",
       "            <td>27</td>\n",
       "            <td>0</td>\n",
       "            <td>3</td>\n",
       "            <td>0</td>\n",
       "        </tr>\n",
       "        <tr>\n",
       "            <td>drakeol01</td>\n",
       "            <td>BAL</td>\n",
       "            <td>E</td>\n",
       "            <td>2015</td>\n",
       "            <td>BAL</td>\n",
       "            <td>AL</td>\n",
       "            <td>drakeol01</td>\n",
       "            <td>13</td>\n",
       "            <td>0</td>\n",
       "            <td>1</td>\n",
       "            <td>13</td>\n",
       "            <td>13</td>\n",
       "            <td>0</td>\n",
       "            <td>0</td>\n",
       "            <td>0</td>\n",
       "            <td>0</td>\n",
       "            <td>0</td>\n",
       "            <td>0</td>\n",
       "            <td>0</td>\n",
       "            <td>0</td>\n",
       "            <td>0</td>\n",
       "            <td>0</td>\n",
       "            <td>0</td>\n",
       "            <td>0</td>\n",
       "        </tr>\n",
       "        <tr>\n",
       "            <td>flahery01</td>\n",
       "            <td>BAL</td>\n",
       "            <td>E</td>\n",
       "            <td>2015</td>\n",
       "            <td>BAL</td>\n",
       "            <td>AL</td>\n",
       "            <td>flahery01</td>\n",
       "            <td>91</td>\n",
       "            <td>81</td>\n",
       "            <td>91</td>\n",
       "            <td>90</td>\n",
       "            <td>0</td>\n",
       "            <td>0</td>\n",
       "            <td>11</td>\n",
       "            <td>56</td>\n",
       "            <td>8</td>\n",
       "            <td>15</td>\n",
       "            <td>1</td>\n",
       "            <td>0</td>\n",
       "            <td>5</td>\n",
       "            <td>6</td>\n",
       "            <td>0</td>\n",
       "            <td>2</td>\n",
       "            <td>3</td>\n",
       "        </tr>\n",
       "        <tr>\n",
       "            <td>garcija03</td>\n",
       "            <td>BAL</td>\n",
       "            <td>E</td>\n",
       "            <td>2015</td>\n",
       "            <td>BAL</td>\n",
       "            <td>AL</td>\n",
       "            <td>garcija03</td>\n",
       "            <td>21</td>\n",
       "            <td>0</td>\n",
       "            <td>3</td>\n",
       "            <td>21</td>\n",
       "            <td>21</td>\n",
       "            <td>0</td>\n",
       "            <td>0</td>\n",
       "            <td>0</td>\n",
       "            <td>0</td>\n",
       "            <td>0</td>\n",
       "            <td>0</td>\n",
       "            <td>0</td>\n",
       "            <td>0</td>\n",
       "            <td>0</td>\n",
       "            <td>0</td>\n",
       "            <td>0</td>\n",
       "            <td>0</td>\n",
       "        </tr>\n",
       "        <tr>\n",
       "            <td>gausmke01</td>\n",
       "            <td>BAL</td>\n",
       "            <td>E</td>\n",
       "            <td>2015</td>\n",
       "            <td>BAL</td>\n",
       "            <td>AL</td>\n",
       "            <td>gausmke01</td>\n",
       "            <td>25</td>\n",
       "            <td>17</td>\n",
       "            <td>1</td>\n",
       "            <td>25</td>\n",
       "            <td>25</td>\n",
       "            <td>0</td>\n",
       "            <td>0</td>\n",
       "            <td>0</td>\n",
       "            <td>0</td>\n",
       "            <td>0</td>\n",
       "            <td>0</td>\n",
       "            <td>0</td>\n",
       "            <td>0</td>\n",
       "            <td>0</td>\n",
       "            <td>0</td>\n",
       "            <td>0</td>\n",
       "            <td>0</td>\n",
       "        </tr>\n",
       "        <tr>\n",
       "            <td>givenmy01</td>\n",
       "            <td>BAL</td>\n",
       "            <td>E</td>\n",
       "            <td>2015</td>\n",
       "            <td>BAL</td>\n",
       "            <td>AL</td>\n",
       "            <td>givenmy01</td>\n",
       "            <td>22</td>\n",
       "            <td>0</td>\n",
       "            <td>1</td>\n",
       "            <td>22</td>\n",
       "            <td>22</td>\n",
       "            <td>0</td>\n",
       "            <td>0</td>\n",
       "            <td>0</td>\n",
       "            <td>0</td>\n",
       "            <td>0</td>\n",
       "            <td>0</td>\n",
       "            <td>0</td>\n",
       "            <td>0</td>\n",
       "            <td>0</td>\n",
       "            <td>0</td>\n",
       "            <td>0</td>\n",
       "            <td>0</td>\n",
       "        </tr>\n",
       "        <tr>\n",
       "            <td>gonzami03</td>\n",
       "            <td>BAL</td>\n",
       "            <td>E</td>\n",
       "            <td>2015</td>\n",
       "            <td>BAL</td>\n",
       "            <td>AL</td>\n",
       "            <td>gonzami03</td>\n",
       "            <td>26</td>\n",
       "            <td>26</td>\n",
       "            <td>1</td>\n",
       "            <td>26</td>\n",
       "            <td>26</td>\n",
       "            <td>0</td>\n",
       "            <td>0</td>\n",
       "            <td>0</td>\n",
       "            <td>0</td>\n",
       "            <td>0</td>\n",
       "            <td>0</td>\n",
       "            <td>0</td>\n",
       "            <td>0</td>\n",
       "            <td>0</td>\n",
       "            <td>0</td>\n",
       "            <td>0</td>\n",
       "            <td>0</td>\n",
       "        </tr>\n",
       "    </tbody>\n",
       "</table>\n",
       "<span style=\"font-style:italic;text-align:center;\">Truncated to <a href=\"https://jupysql.ploomber.io/en/latest/api/configuration.html#displaylimit\">displaylimit</a> of 15.</span>"
      ],
      "text/plain": [
       "+-----------+--------+-------+--------+----------+------+------------+-------+-----+-----------+-----------+-----+-----+------+------+------+------+------+------+------+------+------+------+------+\n",
       "|  playerid | teamid | divid | yearid | teamid_1 | lgid | playerid_1 | g_all |  gs | g_batting | g_defense | g_p | g_c | g_1b | g_2b | g_3b | g_ss | g_lf | g_cf | g_rf | g_of | g_dh | g_ph | g_pr |\n",
       "+-----------+--------+-------+--------+----------+------+------------+-------+-----+-----------+-----------+-----+-----+------+------+------+------+------+------+------+------+------+------+------+\n",
       "| alvarda02 |  BAL   |   E   |  2015  |   BAL    |  AL  | alvarda02  |   12  |  10 |     12    |     12    |  0  |  0  |  0   |  0   |  0   |  0   |  0   |  1   |  12  |  12  |  0   |  0   |  0   |\n",
       "| brachbr01 |  BAL   |   E   |  2015  |   BAL    |  AL  | brachbr01  |   62  |  0  |     5     |     62    |  62 |  0  |  0   |  0   |  0   |  0   |  0   |  0   |  0   |  0   |  0   |  0   |  0   |\n",
       "| brittza01 |  BAL   |   E   |  2015  |   BAL    |  AL  | brittza01  |   64  |  0  |     2     |     64    |  64 |  0  |  0   |  0   |  0   |  0   |  0   |  0   |  0   |  0   |  0   |  0   |  0   |\n",
       "| cabrace01 |  BAL   |   E   |  2015  |   BAL    |  AL  | cabrace01  |   2   |  0  |     0     |     2     |  2  |  0  |  0   |  0   |  0   |  0   |  0   |  0   |  0   |  0   |  0   |  0   |  0   |\n",
       "| cabreev01 |  BAL   |   E   |  2015  |   BAL    |  AL  | cabreev01  |   29  |  28 |     29    |     28    |  0  |  0  |  0   |  2   |  0   |  27  |  0   |  0   |  0   |  0   |  0   |  0   |  1   |\n",
       "|  chenwe02 |  BAL   |   E   |  2015  |   BAL    |  AL  |  chenwe02  |   31  |  31 |     0     |     31    |  31 |  0  |  0   |  0   |  0   |  0   |  0   |  0   |  0   |  0   |  0   |  0   |  0   |\n",
       "| clevest01 |  BAL   |   E   |  2015  |   BAL    |  AL  | clevest01  |   30  |  24 |     30    |     10    |  0  |  9  |  1   |  0   |  0   |  0   |  0   |  0   |  0   |  0   |  18  |  4   |  0   |\n",
       "| davisch02 |  BAL   |   E   |  2015  |   BAL    |  AL  | davisch02  |  160  | 159 |    160    |    138    |  0  |  0  | 111  |  0   |  0   |  0   |  0   |  0   |  30  |  30  |  22  |  0   |  0   |\n",
       "| deazaal01 |  BAL   |   E   |  2015  |   BAL    |  AL  | deazaal01  |   30  |  27 |     30    |     27    |  0  |  0  |  0   |  0   |  0   |  0   |  19  |  0   |  13  |  27  |  0   |  3   |  0   |\n",
       "| drakeol01 |  BAL   |   E   |  2015  |   BAL    |  AL  | drakeol01  |   13  |  0  |     1     |     13    |  13 |  0  |  0   |  0   |  0   |  0   |  0   |  0   |  0   |  0   |  0   |  0   |  0   |\n",
       "| flahery01 |  BAL   |   E   |  2015  |   BAL    |  AL  | flahery01  |   91  |  81 |     91    |     90    |  0  |  0  |  11  |  56  |  8   |  15  |  1   |  0   |  5   |  6   |  0   |  2   |  3   |\n",
       "| garcija03 |  BAL   |   E   |  2015  |   BAL    |  AL  | garcija03  |   21  |  0  |     3     |     21    |  21 |  0  |  0   |  0   |  0   |  0   |  0   |  0   |  0   |  0   |  0   |  0   |  0   |\n",
       "| gausmke01 |  BAL   |   E   |  2015  |   BAL    |  AL  | gausmke01  |   25  |  17 |     1     |     25    |  25 |  0  |  0   |  0   |  0   |  0   |  0   |  0   |  0   |  0   |  0   |  0   |  0   |\n",
       "| givenmy01 |  BAL   |   E   |  2015  |   BAL    |  AL  | givenmy01  |   22  |  0  |     1     |     22    |  22 |  0  |  0   |  0   |  0   |  0   |  0   |  0   |  0   |  0   |  0   |  0   |  0   |\n",
       "| gonzami03 |  BAL   |   E   |  2015  |   BAL    |  AL  | gonzami03  |   26  |  26 |     1     |     26    |  26 |  0  |  0   |  0   |  0   |  0   |  0   |  0   |  0   |  0   |  0   |  0   |  0   |\n",
       "+-----------+--------+-------+--------+----------+------+------------+-------+-----+-----------+-----------+-----+-----+------+------+------+------+------+------+------+------+------+------+------+\n",
       "Truncated to displaylimit of 15."
      ]
     },
     "execution_count": 32,
     "metadata": {},
     "output_type": "execute_result"
    }
   ],
   "source": [
    "%%sql\n",
    "SELECT a.playerid, a.teamid, t.divid, a.*\n",
    "  FROM Appearances a\n",
    "  NATURAL JOIN Teams t\n",
    "WHERE a.yearid = 2015\n",
    "LIMIT 100;"
   ]
  },
  {
   "cell_type": "code",
   "execution_count": 33,
   "id": "1355e6ee-c0c9-4f81-835c-192cc610de63",
   "metadata": {},
   "outputs": [
    {
     "data": {
      "text/html": [
       "<span style=\"None\">Running query in &#x27;postgresql://localhost:5432/baseball&#x27;</span>"
      ],
      "text/plain": [
       "Running query in 'postgresql://localhost:5432/baseball'"
      ]
     },
     "metadata": {},
     "output_type": "display_data"
    },
    {
     "data": {
      "text/html": [
       "<table>\n",
       "    <thead>\n",
       "        <tr>\n",
       "        </tr>\n",
       "    </thead>\n",
       "    <tbody>\n",
       "    </tbody>\n",
       "</table>"
      ],
      "text/plain": [
       "++\n",
       "||\n",
       "++\n",
       "++"
      ]
     },
     "execution_count": 33,
     "metadata": {},
     "output_type": "execute_result"
    }
   ],
   "source": [
    "%%sql\n",
    "CREATE OR REPLACE VIEW bball_tree AS\n",
    "SELECT DISTINCT a.playerid, a.teamid, t.divid, a.lgid, a.yearid\n",
    "  FROM Appearances a NATURAL JOIN Teams t;"
   ]
  },
  {
   "cell_type": "markdown",
   "id": "948e46b0-a749-44b3-91ef-e2b58e50146f",
   "metadata": {},
   "source": [
    "### Revisiting the Home Run Query\n",
    "\n",
    "Recall our old home run query:"
   ]
  },
  {
   "cell_type": "code",
   "execution_count": 34,
   "id": "5c52f62c-a9bc-4041-b04e-b88f63d46503",
   "metadata": {
    "slideshow": {
     "slide_type": "fragment"
    }
   },
   "outputs": [
    {
     "data": {
      "text/html": [
       "<span style=\"None\">Running query in &#x27;postgresql://localhost:5432/baseball&#x27;</span>"
      ],
      "text/plain": [
       "Running query in 'postgresql://localhost:5432/baseball'"
      ]
     },
     "metadata": {},
     "output_type": "display_data"
    },
    {
     "data": {
      "text/html": [
       "<span style=\"color: green\">10 rows affected.</span>"
      ],
      "text/plain": [
       "10 rows affected."
      ]
     },
     "metadata": {},
     "output_type": "display_data"
    },
    {
     "data": {
      "text/html": [
       "<table>\n",
       "    <thead>\n",
       "        <tr>\n",
       "            <th>namefirst</th>\n",
       "            <th>namelast</th>\n",
       "            <th>yearid</th>\n",
       "            <th>min</th>\n",
       "            <th>max</th>\n",
       "            <th>avg</th>\n",
       "            <th>stddev</th>\n",
       "            <th>sum</th>\n",
       "        </tr>\n",
       "    </thead>\n",
       "    <tbody>\n",
       "        <tr>\n",
       "            <td>Barry</td>\n",
       "            <td>Bonds</td>\n",
       "            <td>2001</td>\n",
       "            <td>73</td>\n",
       "            <td>73</td>\n",
       "            <td>73.0000000000000000</td>\n",
       "            <td>None</td>\n",
       "            <td>73</td>\n",
       "        </tr>\n",
       "        <tr>\n",
       "            <td>Mark</td>\n",
       "            <td>McGwire</td>\n",
       "            <td>1998</td>\n",
       "            <td>70</td>\n",
       "            <td>70</td>\n",
       "            <td>70.0000000000000000</td>\n",
       "            <td>None</td>\n",
       "            <td>70</td>\n",
       "        </tr>\n",
       "        <tr>\n",
       "            <td>Sammy</td>\n",
       "            <td>Sosa</td>\n",
       "            <td>1998</td>\n",
       "            <td>66</td>\n",
       "            <td>66</td>\n",
       "            <td>66.0000000000000000</td>\n",
       "            <td>None</td>\n",
       "            <td>66</td>\n",
       "        </tr>\n",
       "        <tr>\n",
       "            <td>Mark</td>\n",
       "            <td>McGwire</td>\n",
       "            <td>1999</td>\n",
       "            <td>65</td>\n",
       "            <td>65</td>\n",
       "            <td>65.0000000000000000</td>\n",
       "            <td>None</td>\n",
       "            <td>65</td>\n",
       "        </tr>\n",
       "        <tr>\n",
       "            <td>Sammy</td>\n",
       "            <td>Sosa</td>\n",
       "            <td>2001</td>\n",
       "            <td>64</td>\n",
       "            <td>64</td>\n",
       "            <td>64.0000000000000000</td>\n",
       "            <td>None</td>\n",
       "            <td>64</td>\n",
       "        </tr>\n",
       "        <tr>\n",
       "            <td>Sammy</td>\n",
       "            <td>Sosa</td>\n",
       "            <td>1999</td>\n",
       "            <td>63</td>\n",
       "            <td>63</td>\n",
       "            <td>63.0000000000000000</td>\n",
       "            <td>None</td>\n",
       "            <td>63</td>\n",
       "        </tr>\n",
       "        <tr>\n",
       "            <td>Roger</td>\n",
       "            <td>Maris</td>\n",
       "            <td>1961</td>\n",
       "            <td>61</td>\n",
       "            <td>61</td>\n",
       "            <td>61.0000000000000000</td>\n",
       "            <td>None</td>\n",
       "            <td>61</td>\n",
       "        </tr>\n",
       "        <tr>\n",
       "            <td>Babe</td>\n",
       "            <td>Ruth</td>\n",
       "            <td>1927</td>\n",
       "            <td>60</td>\n",
       "            <td>60</td>\n",
       "            <td>60.0000000000000000</td>\n",
       "            <td>None</td>\n",
       "            <td>60</td>\n",
       "        </tr>\n",
       "        <tr>\n",
       "            <td>Babe</td>\n",
       "            <td>Ruth</td>\n",
       "            <td>1921</td>\n",
       "            <td>59</td>\n",
       "            <td>59</td>\n",
       "            <td>59.0000000000000000</td>\n",
       "            <td>None</td>\n",
       "            <td>59</td>\n",
       "        </tr>\n",
       "        <tr>\n",
       "            <td>Giancarlo</td>\n",
       "            <td>Stanton</td>\n",
       "            <td>2017</td>\n",
       "            <td>59</td>\n",
       "            <td>59</td>\n",
       "            <td>59.0000000000000000</td>\n",
       "            <td>None</td>\n",
       "            <td>59</td>\n",
       "        </tr>\n",
       "    </tbody>\n",
       "</table>"
      ],
      "text/plain": [
       "+-----------+----------+--------+-----+-----+---------------------+--------+-----+\n",
       "| namefirst | namelast | yearid | min | max |         avg         | stddev | sum |\n",
       "+-----------+----------+--------+-----+-----+---------------------+--------+-----+\n",
       "|   Barry   |  Bonds   |  2001  |  73 |  73 | 73.0000000000000000 |  None  |  73 |\n",
       "|    Mark   | McGwire  |  1998  |  70 |  70 | 70.0000000000000000 |  None  |  70 |\n",
       "|   Sammy   |   Sosa   |  1998  |  66 |  66 | 66.0000000000000000 |  None  |  66 |\n",
       "|    Mark   | McGwire  |  1999  |  65 |  65 | 65.0000000000000000 |  None  |  65 |\n",
       "|   Sammy   |   Sosa   |  2001  |  64 |  64 | 64.0000000000000000 |  None  |  64 |\n",
       "|   Sammy   |   Sosa   |  1999  |  63 |  63 | 63.0000000000000000 |  None  |  63 |\n",
       "|   Roger   |  Maris   |  1961  |  61 |  61 | 61.0000000000000000 |  None  |  61 |\n",
       "|    Babe   |   Ruth   |  1927  |  60 |  60 | 60.0000000000000000 |  None  |  60 |\n",
       "|    Babe   |   Ruth   |  1921  |  59 |  59 | 59.0000000000000000 |  None  |  59 |\n",
       "| Giancarlo | Stanton  |  2017  |  59 |  59 | 59.0000000000000000 |  None  |  59 |\n",
       "+-----------+----------+--------+-----+-----+---------------------+--------+-----+"
      ]
     },
     "execution_count": 34,
     "metadata": {},
     "output_type": "execute_result"
    }
   ],
   "source": [
    "%%sql\n",
    "SELECT namefirst, namelast, yearid,\n",
    "       MIN(hr), MAX(hr), AVG(hr), STDDEV(hr), SUM(hr)\n",
    "FROM batting b, people p\n",
    "WHERE b.playerid = p.playerid\n",
    "GROUP BY namelast, namefirst, yearid\n",
    "ORDER BY max DESC\n",
    "LIMIT 10;"
   ]
  },
  {
   "cell_type": "markdown",
   "id": "4433909c-baf0-4744-b196-3ee322086046",
   "metadata": {},
   "source": [
    "Set up for roll up/drill down on `bball_tree` hierarchy.\n",
    "* Join each (raw) person with the associated `bball_tree` entry by `(playerid, yearid)` in a CTE\n",
    "* Use this result for roll-up and drill-down."
   ]
  },
  {
   "cell_type": "markdown",
   "id": "7eee322c-f96c-4576-bf63-c7108226aecb",
   "metadata": {},
   "source": [
    "<br/><br/><br/><br/><br/>\n",
    "<br/><br/><br/><br/><br/>\n",
    "<br/><br/><br/><br/><br/>\n",
    "<br/><br/><br/><br/><br/>"
   ]
  },
  {
   "cell_type": "code",
   "execution_count": 35,
   "id": "cd4c5f2e-aef8-4277-bf8f-b70ba01da070",
   "metadata": {},
   "outputs": [
    {
     "data": {
      "text/html": [
       "<span style=\"None\">Running query in &#x27;postgresql://localhost:5432/baseball&#x27;</span>"
      ],
      "text/plain": [
       "Running query in 'postgresql://localhost:5432/baseball'"
      ]
     },
     "metadata": {},
     "output_type": "display_data"
    },
    {
     "data": {
      "text/html": [
       "<span style=\"color: green\">10 rows affected.</span>"
      ],
      "text/plain": [
       "10 rows affected."
      ]
     },
     "metadata": {},
     "output_type": "display_data"
    },
    {
     "data": {
      "text/html": [
       "<table>\n",
       "    <thead>\n",
       "        <tr>\n",
       "            <th>namefirst</th>\n",
       "            <th>namelast</th>\n",
       "            <th>teamid</th>\n",
       "            <th>lgid</th>\n",
       "            <th>divid</th>\n",
       "            <th>yearid</th>\n",
       "            <th>min</th>\n",
       "            <th>max</th>\n",
       "            <th>avg</th>\n",
       "            <th>stddev</th>\n",
       "            <th>sum</th>\n",
       "        </tr>\n",
       "    </thead>\n",
       "    <tbody>\n",
       "        <tr>\n",
       "            <td>Barry</td>\n",
       "            <td>Bonds</td>\n",
       "            <td>SFN</td>\n",
       "            <td>NL</td>\n",
       "            <td>W</td>\n",
       "            <td>2001</td>\n",
       "            <td>73</td>\n",
       "            <td>73</td>\n",
       "            <td>73.0000000000000000</td>\n",
       "            <td>None</td>\n",
       "            <td>73</td>\n",
       "        </tr>\n",
       "        <tr>\n",
       "            <td>Mark</td>\n",
       "            <td>McGwire</td>\n",
       "            <td>SLN</td>\n",
       "            <td>NL</td>\n",
       "            <td>C</td>\n",
       "            <td>1998</td>\n",
       "            <td>70</td>\n",
       "            <td>70</td>\n",
       "            <td>70.0000000000000000</td>\n",
       "            <td>None</td>\n",
       "            <td>70</td>\n",
       "        </tr>\n",
       "        <tr>\n",
       "            <td>Sammy</td>\n",
       "            <td>Sosa</td>\n",
       "            <td>CHN</td>\n",
       "            <td>NL</td>\n",
       "            <td>C</td>\n",
       "            <td>1998</td>\n",
       "            <td>66</td>\n",
       "            <td>66</td>\n",
       "            <td>66.0000000000000000</td>\n",
       "            <td>None</td>\n",
       "            <td>66</td>\n",
       "        </tr>\n",
       "        <tr>\n",
       "            <td>Mark</td>\n",
       "            <td>McGwire</td>\n",
       "            <td>SLN</td>\n",
       "            <td>NL</td>\n",
       "            <td>C</td>\n",
       "            <td>1999</td>\n",
       "            <td>65</td>\n",
       "            <td>65</td>\n",
       "            <td>65.0000000000000000</td>\n",
       "            <td>None</td>\n",
       "            <td>65</td>\n",
       "        </tr>\n",
       "        <tr>\n",
       "            <td>Sammy</td>\n",
       "            <td>Sosa</td>\n",
       "            <td>CHN</td>\n",
       "            <td>NL</td>\n",
       "            <td>C</td>\n",
       "            <td>2001</td>\n",
       "            <td>64</td>\n",
       "            <td>64</td>\n",
       "            <td>64.0000000000000000</td>\n",
       "            <td>None</td>\n",
       "            <td>64</td>\n",
       "        </tr>\n",
       "        <tr>\n",
       "            <td>Sammy</td>\n",
       "            <td>Sosa</td>\n",
       "            <td>CHN</td>\n",
       "            <td>NL</td>\n",
       "            <td>C</td>\n",
       "            <td>1999</td>\n",
       "            <td>63</td>\n",
       "            <td>63</td>\n",
       "            <td>63.0000000000000000</td>\n",
       "            <td>None</td>\n",
       "            <td>63</td>\n",
       "        </tr>\n",
       "        <tr>\n",
       "            <td>Roger</td>\n",
       "            <td>Maris</td>\n",
       "            <td>NYA</td>\n",
       "            <td>AL</td>\n",
       "            <td>None</td>\n",
       "            <td>1961</td>\n",
       "            <td>61</td>\n",
       "            <td>61</td>\n",
       "            <td>61.0000000000000000</td>\n",
       "            <td>None</td>\n",
       "            <td>61</td>\n",
       "        </tr>\n",
       "        <tr>\n",
       "            <td>Babe</td>\n",
       "            <td>Ruth</td>\n",
       "            <td>NYA</td>\n",
       "            <td>AL</td>\n",
       "            <td>None</td>\n",
       "            <td>1927</td>\n",
       "            <td>60</td>\n",
       "            <td>60</td>\n",
       "            <td>60.0000000000000000</td>\n",
       "            <td>None</td>\n",
       "            <td>60</td>\n",
       "        </tr>\n",
       "        <tr>\n",
       "            <td>Babe</td>\n",
       "            <td>Ruth</td>\n",
       "            <td>NYA</td>\n",
       "            <td>AL</td>\n",
       "            <td>None</td>\n",
       "            <td>1921</td>\n",
       "            <td>59</td>\n",
       "            <td>59</td>\n",
       "            <td>59.0000000000000000</td>\n",
       "            <td>None</td>\n",
       "            <td>59</td>\n",
       "        </tr>\n",
       "        <tr>\n",
       "            <td>Giancarlo</td>\n",
       "            <td>Stanton</td>\n",
       "            <td>MIA</td>\n",
       "            <td>NL</td>\n",
       "            <td>E</td>\n",
       "            <td>2017</td>\n",
       "            <td>59</td>\n",
       "            <td>59</td>\n",
       "            <td>59.0000000000000000</td>\n",
       "            <td>None</td>\n",
       "            <td>59</td>\n",
       "        </tr>\n",
       "    </tbody>\n",
       "</table>"
      ],
      "text/plain": [
       "+-----------+----------+--------+------+-------+--------+-----+-----+---------------------+--------+-----+\n",
       "| namefirst | namelast | teamid | lgid | divid | yearid | min | max |         avg         | stddev | sum |\n",
       "+-----------+----------+--------+------+-------+--------+-----+-----+---------------------+--------+-----+\n",
       "|   Barry   |  Bonds   |  SFN   |  NL  |   W   |  2001  |  73 |  73 | 73.0000000000000000 |  None  |  73 |\n",
       "|    Mark   | McGwire  |  SLN   |  NL  |   C   |  1998  |  70 |  70 | 70.0000000000000000 |  None  |  70 |\n",
       "|   Sammy   |   Sosa   |  CHN   |  NL  |   C   |  1998  |  66 |  66 | 66.0000000000000000 |  None  |  66 |\n",
       "|    Mark   | McGwire  |  SLN   |  NL  |   C   |  1999  |  65 |  65 | 65.0000000000000000 |  None  |  65 |\n",
       "|   Sammy   |   Sosa   |  CHN   |  NL  |   C   |  2001  |  64 |  64 | 64.0000000000000000 |  None  |  64 |\n",
       "|   Sammy   |   Sosa   |  CHN   |  NL  |   C   |  1999  |  63 |  63 | 63.0000000000000000 |  None  |  63 |\n",
       "|   Roger   |  Maris   |  NYA   |  AL  |  None |  1961  |  61 |  61 | 61.0000000000000000 |  None  |  61 |\n",
       "|    Babe   |   Ruth   |  NYA   |  AL  |  None |  1927  |  60 |  60 | 60.0000000000000000 |  None  |  60 |\n",
       "|    Babe   |   Ruth   |  NYA   |  AL  |  None |  1921  |  59 |  59 | 59.0000000000000000 |  None  |  59 |\n",
       "| Giancarlo | Stanton  |  MIA   |  NL  |   E   |  2017  |  59 |  59 | 59.0000000000000000 |  None  |  59 |\n",
       "+-----------+----------+--------+------+-------+--------+-----+-----+---------------------+--------+-----+"
      ]
     },
     "execution_count": 35,
     "metadata": {},
     "output_type": "execute_result"
    }
   ],
   "source": [
    "%%sql\n",
    "WITH batting_tree AS\n",
    "(\n",
    "    SELECT b.*, t.divid\n",
    "    FROM batting b, bball_tree t\n",
    "    WHERE b.playerid = t.playerid\n",
    "      AND b.yearid = t.yearid\n",
    ")\n",
    "SELECT namefirst, namelast,\n",
    "       bt.teamid, bt.lgid, bt.divid, bt.yearid,\n",
    "       MIN(hr), MAX(hr), AVG(hr), STDDEV(hr), SUM(hr)\n",
    "FROM batting_tree bt, people p\n",
    "WHERE bt.playerid = p.playerid\n",
    "GROUP BY bt.playerid, bt.teamid, bt.lgid, bt.divid, bt.yearid, namelast, namefirst\n",
    "ORDER BY max DESC\n",
    "LIMIT 10;"
   ]
  },
  {
   "cell_type": "markdown",
   "id": "d53a1df6-caa4-47f3-b921-d494389da1d8",
   "metadata": {},
   "source": [
    "# [Extra] Load in the database from scratch"
   ]
  },
  {
   "cell_type": "markdown",
   "id": "eaa050f7-c788-43b6-99a0-7a3293646c2f",
   "metadata": {},
   "source": [
    "We download the database, unzip it, load it into pandas, then export to a new database via `jupysql` cell magic.\n",
    "\n",
    "**CAUTION**: This may crash your DataHub instance. The file is pretty big....\n",
    "\n",
    "The direct zip download of this file is [here](https://geonames.usgs.gov/docs/stategaz/NationalFile.zip)."
   ]
  },
  {
   "cell_type": "code",
   "execution_count": null,
   "id": "99055302-7c93-49c2-8838-68299d4d5756",
   "metadata": {},
   "outputs": [],
   "source": [
    "# first download and unzip the data\n",
    "!mkdir -p data\n",
    "!wget https://geonames.usgs.gov/docs/stategaz/NationalFile.zip -P data/\n",
    "!unzip -u data/NationalFile.zip -d data/"
   ]
  },
  {
   "cell_type": "code",
   "execution_count": null,
   "id": "2f00c964-96f5-4d01-a92d-2f4d052a8557",
   "metadata": {},
   "outputs": [],
   "source": [
    "import os\n",
    "fname = os.path.join(\"data\", \"NationalFile_20210825.txt\")\n",
    "fname"
   ]
  },
  {
   "cell_type": "code",
   "execution_count": null,
   "id": "4715cf3f-1dcb-4244-bbbb-3a88e45c9624",
   "metadata": {},
   "outputs": [],
   "source": [
    "!du -h {fname} # big file"
   ]
  },
  {
   "cell_type": "code",
   "execution_count": null,
   "id": "e3361b10-db66-4ad2-be2d-9599cb28267b",
   "metadata": {},
   "outputs": [],
   "source": [
    "!head -c 1024 {fname}"
   ]
  },
  {
   "cell_type": "code",
   "execution_count": null,
   "id": "d0c435a1-f131-4762-b4f8-dbdff73c406f",
   "metadata": {},
   "outputs": [],
   "source": [
    "# next, load it into pandas\n",
    "import pandas as pd\n",
    "\n",
    "national = pd.read_csv(\"data/NationalFile_20210825.txt\", delimiter=\"|\")\n",
    "national.head(2)"
   ]
  },
  {
   "cell_type": "code",
   "execution_count": null,
   "id": "321f570c-9920-439a-bebb-37603261ab17",
   "metadata": {},
   "outputs": [],
   "source": [
    "national = national.rename(columns=dict([(col, col.lower().strip()) for col in national.columns]))\n",
    "national.head(2)"
   ]
  },
  {
   "cell_type": "markdown",
   "id": "fbb656a8-a78c-4ad5-8c06-bf84a9ef10e3",
   "metadata": {},
   "source": [
    "Next, get a table sample in pandas."
   ]
  },
  {
   "cell_type": "code",
   "execution_count": null,
   "id": "cdd0dd58-7404-4bba-a2a1-45cc7e955820",
   "metadata": {},
   "outputs": [],
   "source": [
    "import numpy as np\n",
    "\n",
    "p = 0.005 # fraction, not percentage\n",
    "\n",
    "np.random.seed(42)\n",
    "national['keep_bool'] = np.random.random(len(national)) < p\n",
    "national['keep_bool'].value_counts()"
   ]
  },
  {
   "cell_type": "code",
   "execution_count": null,
   "id": "64f4bcfe-bdef-4ab6-b232-8cc9e82ca633",
   "metadata": {},
   "outputs": [],
   "source": [
    "national = national[national['keep_bool']].drop(columns=['keep_bool'])\n",
    "national"
   ]
  },
  {
   "cell_type": "markdown",
   "id": "f9826ada-8db4-4859-b6e3-4fd3066938c9",
   "metadata": {},
   "source": [
    "Now, export to SQL"
   ]
  },
  {
   "cell_type": "code",
   "execution_count": null,
   "id": "1dd90532-61ac-4d68-a839-bed97666a376",
   "metadata": {},
   "outputs": [],
   "source": [
    "!psql -h localhost -d gnis -c 'SELECT pg_terminate_backend(pg_stat_activity.pid) FROM pg_stat_activity WHERE datname = current_database() AND pid <> pg_backend_pid();'\n",
    "!psql -h localhost -c 'DROP DATABASE IF EXISTS gnis'\n",
    "!psql -h localhost -c 'CREATE DATABASE gnis' "
   ]
  },
  {
   "cell_type": "code",
   "execution_count": null,
   "id": "a76161d9-2370-4275-834e-f15b5b81da16",
   "metadata": {},
   "outputs": [],
   "source": [
    "%reload_ext sql\n",
    "%sql postgresql://127.0.0.1:5432/gnis"
   ]
  },
  {
   "cell_type": "code",
   "execution_count": null,
   "id": "ee7eac4a-2110-40b4-9064-91876653af08",
   "metadata": {},
   "outputs": [],
   "source": [
    "%sql --persist-replace national"
   ]
  },
  {
   "cell_type": "code",
   "execution_count": null,
   "id": "770a98d3-6388-4f01-a6cb-eb1ca322fc1d",
   "metadata": {},
   "outputs": [],
   "source": [
    "%sql ALTER TABLE national DROP COLUMN index;"
   ]
  },
  {
   "cell_type": "markdown",
   "id": "24de591a-a1cf-44ec-a9ee-112ed166c7fc",
   "metadata": {},
   "source": [
    "Now, export to file with `pgdump`"
   ]
  },
  {
   "cell_type": "code",
   "execution_count": null,
   "id": "93ed1c8d-de4b-4a3f-9f01-cd698d42d34e",
   "metadata": {},
   "outputs": [],
   "source": [
    "!pg_dump -h localhost --encoding utf8 gnis -f data/gnis.sql "
   ]
  },
  {
   "cell_type": "markdown",
   "id": "c691dbce-7394-4c8d-8113-fbbd60071001",
   "metadata": {},
   "source": [
    "Finally, run the beginning of this notebook again"
   ]
  },
  {
   "cell_type": "code",
   "execution_count": null,
   "id": "8785039e-d71d-4867-8e46-c7f8561076cb",
   "metadata": {},
   "outputs": [],
   "source": [
    "!du -h data/gnis.sql"
   ]
  },
  {
   "cell_type": "code",
   "execution_count": null,
   "id": "f08f024b",
   "metadata": {},
   "outputs": [],
   "source": []
  },
  {
   "cell_type": "markdown",
   "id": "f23942b6-b191-4d31-99e0-23c7ee21c08f",
   "metadata": {},
   "source": [
    "## FIPS\n",
    "\n",
    "Federal Information Processing System (FIPS) Codes for States and Counties\n",
    "\n",
    "Manually download the file from this link (https://transition.fcc.gov/oet/info/maps/census/fips/fips.txt) and save it in `data/`.\n",
    "* `wget` does not work here; likely the FCC website only accepts HTTPS connections to deter from server attacks."
   ]
  },
  {
   "cell_type": "code",
   "execution_count": null,
   "id": "b7069660-154d-4808-b2fc-dd9f9c0638e9",
   "metadata": {},
   "outputs": [],
   "source": [
    "!wget https://transition.fcc.gov/oet/info/maps/census/fips/fips.txt -P data/"
   ]
  },
  {
   "cell_type": "code",
   "execution_count": null,
   "id": "30a1f3f7-6fd8-40cb-b0fe-0e746e6d5a4e",
   "metadata": {},
   "outputs": [],
   "source": [
    "import pandas as pd\n",
    "import re"
   ]
  },
  {
   "cell_type": "code",
   "execution_count": null,
   "id": "4a2d3005-1db9-4854-9e09-710170db2515",
   "metadata": {},
   "outputs": [],
   "source": [
    "with open('data/fips.txt', 'r') as f:\n",
    "    lines = f.readlines()"
   ]
  },
  {
   "cell_type": "code",
   "execution_count": null,
   "id": "7ff5adf6-dd2b-4452-863a-4b111aea9155",
   "metadata": {},
   "outputs": [],
   "source": [
    "COUNTY_STARTS = 69\n",
    "OFFSET = 3 # the start of the data itself, after headers"
   ]
  },
  {
   "cell_type": "code",
   "execution_count": null,
   "id": "f32adf37-bdb2-4fdf-afe4-d8d9bcf99221",
   "metadata": {},
   "outputs": [],
   "source": [
    "re.match('\\s+(\\d+)\\s+(\\w+)', lines[COUNTY_STARTS+3]).groups()"
   ]
  },
  {
   "cell_type": "code",
   "execution_count": null,
   "id": "9bea5ec5-8ce8-4c82-ae96-9e512c7908cb",
   "metadata": {},
   "outputs": [],
   "source": [
    "splits = [re.match('\\s+(\\d+)\\s+(.*)', line).groups()\n",
    "          for line in \n",
    "          lines[COUNTY_STARTS+OFFSET:]]\n",
    "splits[0]"
   ]
  },
  {
   "cell_type": "markdown",
   "id": "22d32ca2-1619-42c6-9315-0580378d6a52",
   "metadata": {},
   "source": [
    "**For later**: There is a significant discrepancy between the number of counties created and the number of lines remaining in our dataset. We encourage you to investigate this!"
   ]
  },
  {
   "cell_type": "code",
   "execution_count": null,
   "id": "5b224827-4728-4cb0-9c5d-6bb6090d7d1c",
   "metadata": {},
   "outputs": [],
   "source": [
    "len(lines), len(splits)"
   ]
  },
  {
   "cell_type": "markdown",
   "id": "08c6ce55-a854-40ec-b966-ca6bb81749fc",
   "metadata": {},
   "source": [
    "> FIPS codes are numbers which uniquely identify geographic areas.  The number of \n",
    "digits in FIPS codes vary depending on the level of geography.  State-level FIPS\n",
    "codes have two digits, county-level FIPS codes have five digits of which the \n",
    "first two are the FIPS code of the state to which the county belongs.  When \n",
    "using the list below to look up county FIPS codes, it is advisable to first look\n",
    "up the FIPS code for the state to which the county belongs.  This will help you\n",
    "identify the right section of the list while scrolling down, which can be\n",
    "important since there are over 3000 counties and county-equivalents (e.g.\n",
    "independent cities, parishes, boroughs) in the United States."
   ]
  },
  {
   "cell_type": "code",
   "execution_count": null,
   "id": "24e524bf-a426-4496-bc10-85d190e28fdf",
   "metadata": {},
   "outputs": [],
   "source": [
    "fips_counties = pd.DataFrame(data=splits, columns=['fips', 'county'])\n",
    "fips_counties['state_numeric'] = fips_counties['fips'].str[:2].astype(int)\n",
    "fips_counties['fips'] = fips_counties['fips'].astype(int)\n",
    "fips_counties = fips_counties.set_index('fips')\n",
    "fips_counties"
   ]
  },
  {
   "cell_type": "code",
   "execution_count": null,
   "id": "5e0cb694-c6e6-4e1e-bf3f-ee089dec5c67",
   "metadata": {},
   "outputs": [],
   "source": [
    "%reload_ext sql\n",
    "%sql postgresql://127.0.0.1:5432/gnis"
   ]
  },
  {
   "cell_type": "code",
   "execution_count": null,
   "id": "1be602a5-3dc8-4563-ae22-f2b0942c2c22",
   "metadata": {},
   "outputs": [],
   "source": [
    "%sql --persist-replace fips_counties"
   ]
  },
  {
   "cell_type": "markdown",
   "id": "1e715614-b12a-4600-9e59-b56b3a6c3ba4",
   "metadata": {},
   "source": [
    "Now, export to file with `pgdump`. This exports both `national` and `fips_counties` relations to the same `gnis.sql` database dump."
   ]
  },
  {
   "cell_type": "code",
   "execution_count": null,
   "id": "9d29b59d-1541-4785-af93-a68ef78c5867",
   "metadata": {},
   "outputs": [],
   "source": [
    "!pg_dump -h localhost --encoding utf8 gnis -f data/gnis.sql "
   ]
  },
  {
   "cell_type": "markdown",
   "id": "0cc90374-d50d-4273-a4ea-c20d02d9c3fe",
   "metadata": {},
   "source": [
    "Finally, run the beginning of this notebook again"
   ]
  },
  {
   "cell_type": "code",
   "execution_count": null,
   "id": "179db232-127d-4f0f-95f9-3e95c1f45167",
   "metadata": {},
   "outputs": [],
   "source": [
    "!du -h data/gnis.sql"
   ]
  },
  {
   "cell_type": "code",
   "execution_count": null,
   "id": "5b6bbb46-9a95-4b95-b773-b7e99c211060",
   "metadata": {},
   "outputs": [],
   "source": []
  }
 ],
 "metadata": {
  "kernelspec": {
   "display_name": "Python 3 (ipykernel)",
   "language": "python",
   "name": "python3"
  },
  "language_info": {
   "codemirror_mode": {
    "name": "ipython",
    "version": 3
   },
   "file_extension": ".py",
   "mimetype": "text/x-python",
   "name": "python",
   "nbconvert_exporter": "python",
   "pygments_lexer": "ipython3",
   "version": "3.11.0"
  }
 },
 "nbformat": 4,
 "nbformat_minor": 5
}
