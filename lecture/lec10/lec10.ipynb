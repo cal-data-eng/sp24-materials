{
 "cells": [
  {
   "cell_type": "markdown",
   "id": "578e897a-1aed-42c2-b908-2f375a809ba9",
   "metadata": {},
   "source": [
    "## Lecture 10: Query Optimization II\n",
    "### New IMDB Performance database\n",
    "This is a variation of the IMDB database with keys defined. Note that this is a pretty big database! So if you run the below lines, please also remember to delete the `imdb_perf_lecture` afterwards to save space on your limited postgreSQL server.\n",
    "\n",
    "If you didn't load it in with a previous lecture, load in the `imdb_perf_lecture` database."
   ]
  },
  {
   "cell_type": "code",
   "execution_count": 1,
   "id": "52aa3a84-2dee-4a58-afcc-0a143ae468fe",
   "metadata": {},
   "outputs": [
    {
     "name": "stdout",
     "output_type": "stream",
     "text": [
      "Archive:  ../lec07/data/imdb_perf_lecture.zip\n"
     ]
    }
   ],
   "source": [
    "!unzip -u ../lec07/data/imdb_perf_lecture.zip -d ../lec07/data/"
   ]
  },
  {
   "cell_type": "code",
   "execution_count": 3,
   "id": "5fb42a4e-18db-45bf-a554-659a13e7203f",
   "metadata": {},
   "outputs": [
    {
     "name": "stdout",
     "output_type": "stream",
     "text": [
      "DROP DATABASE\n",
      "CREATE DATABASE\n",
      "SET\n",
      "SET\n",
      "SET\n",
      "SET\n",
      "SET\n",
      " set_config \n",
      "------------\n",
      " \n",
      "(1 row)\n",
      "\n",
      "SET\n",
      "SET\n",
      "SET\n",
      "SET\n",
      "SET\n",
      "SET\n",
      "CREATE TABLE\n",
      "ALTER TABLE\n",
      "CREATE TABLE\n",
      "ALTER TABLE\n",
      "CREATE TABLE\n",
      "ALTER TABLE\n",
      "COPY 845888\n",
      "COPY 2211936\n",
      "COPY 656453\n",
      "ALTER TABLE\n",
      "ALTER TABLE\n",
      "ALTER TABLE\n",
      "ALTER TABLE\n"
     ]
    }
   ],
   "source": [
    "!psql -h localhost -c 'DROP DATABASE IF EXISTS imdb_perf_lecture'\n",
    "!psql -h localhost -c 'CREATE DATABASE imdb_perf_lecture' \n",
    "!psql -h localhost -d imdb_perf_lecture -f ../lec07/data/imdb_perf_lecture.sql"
   ]
  },
  {
   "cell_type": "code",
   "execution_count": 4,
   "id": "23f851a9-da8a-45e9-b1ce-731d7d690bf2",
   "metadata": {},
   "outputs": [],
   "source": [
    "%reload_ext sql"
   ]
  },
  {
   "cell_type": "code",
   "execution_count": 5,
   "id": "5537d104-2efd-454c-8be4-6e392a1af0ad",
   "metadata": {},
   "outputs": [
    {
     "data": {
      "text/html": [
       "<span style=\"None\">displaylimit: Value None will be treated as 0 (no limit)</span>"
      ],
      "text/plain": [
       "displaylimit: Value None will be treated as 0 (no limit)"
      ]
     },
     "metadata": {},
     "output_type": "display_data"
    }
   ],
   "source": [
    "%config SqlMagic.displaylimit = None"
   ]
  },
  {
   "cell_type": "code",
   "execution_count": 6,
   "id": "fceea89a-02c6-48fe-a12b-de6fc3da8c92",
   "metadata": {},
   "outputs": [],
   "source": [
    "%sql postgresql://127.0.0.1:5432/imdb_perf_lecture"
   ]
  },
  {
   "cell_type": "markdown",
   "id": "240a41f9-78b1-4810-a5cb-7399f8622051",
   "metadata": {},
   "source": [
    "### Demo"
   ]
  },
  {
   "cell_type": "code",
   "execution_count": 8,
   "id": "f1da288d-24ec-420e-967c-1f11dc6e2983",
   "metadata": {},
   "outputs": [
    {
     "data": {
      "text/html": [
       "<span style=\"None\">Running query in &#x27;postgresql://127.0.0.1:5432/imdb_perf_lecture&#x27;</span>"
      ],
      "text/plain": [
       "Running query in 'postgresql://127.0.0.1:5432/imdb_perf_lecture'"
      ]
     },
     "metadata": {},
     "output_type": "display_data"
    },
    {
     "data": {
      "text/html": [
       "<span style=\"color: green\">8 rows affected.</span>"
      ],
      "text/plain": [
       "8 rows affected."
      ]
     },
     "metadata": {},
     "output_type": "display_data"
    },
    {
     "data": {
      "text/html": [
       "<table>\n",
       "    <thead>\n",
       "        <tr>\n",
       "            <th>QUERY PLAN</th>\n",
       "        </tr>\n",
       "    </thead>\n",
       "    <tbody>\n",
       "        <tr>\n",
       "            <td>Hash Join  (cost=30867.48..92474.12 rows=2212088 width=44) (actual time=188.708..1324.353 rows=2211936 loops=1)</td>\n",
       "        </tr>\n",
       "        <tr>\n",
       "            <td>&nbsp;&nbsp;Hash Cond: (cast_info.person_id = actor.id)</td>\n",
       "        </tr>\n",
       "        <tr>\n",
       "            <td>&nbsp;&nbsp;->  Seq Scan on cast_info  (cost=0.00..31908.88 rows=2212088 width=8) (actual time=0.032..162.140 rows=2211936 loops=1)</td>\n",
       "        </tr>\n",
       "        <tr>\n",
       "            <td>&nbsp;&nbsp;->  Hash  (cost=13684.88..13684.88 rows=845888 width=36) (actual time=188.530..188.531 rows=845888 loops=1)</td>\n",
       "        </tr>\n",
       "        <tr>\n",
       "            <td>&nbsp;&nbsp;&nbsp;&nbsp;&nbsp;&nbsp;&nbsp;&nbsp;Buckets: 65536  Batches: 32  Memory Usage: 1810kB</td>\n",
       "        </tr>\n",
       "        <tr>\n",
       "            <td>&nbsp;&nbsp;&nbsp;&nbsp;&nbsp;&nbsp;&nbsp;&nbsp;->  Seq Scan on actor  (cost=0.00..13684.88 rows=845888 width=36) (actual time=0.012..71.312 rows=845888 loops=1)</td>\n",
       "        </tr>\n",
       "        <tr>\n",
       "            <td>Planning Time: 0.144 ms</td>\n",
       "        </tr>\n",
       "        <tr>\n",
       "            <td>Execution Time: 1411.625 ms</td>\n",
       "        </tr>\n",
       "    </tbody>\n",
       "</table>"
      ],
      "text/plain": [
       "+---------------------------------------------------------------------------------------------------------------------------+\n",
       "|                                                         QUERY PLAN                                                        |\n",
       "+---------------------------------------------------------------------------------------------------------------------------+\n",
       "|      Hash Join  (cost=30867.48..92474.12 rows=2212088 width=44) (actual time=188.708..1324.353 rows=2211936 loops=1)      |\n",
       "|                                         Hash Cond: (cast_info.person_id = actor.id)                                       |\n",
       "|   ->  Seq Scan on cast_info  (cost=0.00..31908.88 rows=2212088 width=8) (actual time=0.032..162.140 rows=2211936 loops=1) |\n",
       "|         ->  Hash  (cost=13684.88..13684.88 rows=845888 width=36) (actual time=188.530..188.531 rows=845888 loops=1)       |\n",
       "|                                         Buckets: 65536  Batches: 32  Memory Usage: 1810kB                                 |\n",
       "|         ->  Seq Scan on actor  (cost=0.00..13684.88 rows=845888 width=36) (actual time=0.012..71.312 rows=845888 loops=1) |\n",
       "|                                                  Planning Time: 0.144 ms                                                  |\n",
       "|                                                Execution Time: 1411.625 ms                                                |\n",
       "+---------------------------------------------------------------------------------------------------------------------------+"
      ]
     },
     "execution_count": 8,
     "metadata": {},
     "output_type": "execute_result"
    }
   ],
   "source": [
    "%%sql\n",
    "explain analyze\n",
    "select *\n",
    "from actor, cast_info\n",
    "where actor.id = cast_info.person_id;"
   ]
  },
  {
   "cell_type": "markdown",
   "id": "eadff07c-64d5-4515-8a5a-2d212c120a5f",
   "metadata": {},
   "source": [
    "Note Hash Join being used"
   ]
  },
  {
   "cell_type": "code",
   "execution_count": 10,
   "id": "67516ae7-6749-4f10-9fda-b7826935c83e",
   "metadata": {},
   "outputs": [
    {
     "data": {
      "text/html": [
       "<span style=\"None\">Running query in &#x27;postgresql://127.0.0.1:5432/imdb_perf_lecture&#x27;</span>"
      ],
      "text/plain": [
       "Running query in 'postgresql://127.0.0.1:5432/imdb_perf_lecture'"
      ]
     },
     "metadata": {},
     "output_type": "display_data"
    },
    {
     "data": {
      "text/html": [
       "<span style=\"color: green\">11 rows affected.</span>"
      ],
      "text/plain": [
       "11 rows affected."
      ]
     },
     "metadata": {},
     "output_type": "display_data"
    },
    {
     "data": {
      "text/html": [
       "<table>\n",
       "    <thead>\n",
       "        <tr>\n",
       "            <th>QUERY PLAN</th>\n",
       "        </tr>\n",
       "    </thead>\n",
       "    <tbody>\n",
       "        <tr>\n",
       "            <td>Limit  (cost=0.43..4.45 rows=10 width=18) (actual time=0.040..0.319 rows=10 loops=1)</td>\n",
       "        </tr>\n",
       "        <tr>\n",
       "            <td>&nbsp;&nbsp;->  Nested Loop  (cost=0.43..887774.90 rows=2211936 width=18) (actual time=0.040..0.317 rows=10 loops=1)</td>\n",
       "        </tr>\n",
       "        <tr>\n",
       "            <td>&nbsp;&nbsp;&nbsp;&nbsp;&nbsp;&nbsp;&nbsp;&nbsp;->  Seq Scan on cast_info  (cost=0.00..31907.36 rows=2211936 width=8) (actual time=0.014..0.015 rows=10 loops=1)</td>\n",
       "        </tr>\n",
       "        <tr>\n",
       "            <td>&nbsp;&nbsp;&nbsp;&nbsp;&nbsp;&nbsp;&nbsp;&nbsp;->  Memoize  (cost=0.43..0.47 rows=1 width=18) (actual time=0.029..0.030 rows=1 loops=10)</td>\n",
       "        </tr>\n",
       "        <tr>\n",
       "            <td>&nbsp;&nbsp;&nbsp;&nbsp;&nbsp;&nbsp;&nbsp;&nbsp;&nbsp;&nbsp;&nbsp;&nbsp;&nbsp;&nbsp;Cache Key: cast_info.person_id</td>\n",
       "        </tr>\n",
       "        <tr>\n",
       "            <td>&nbsp;&nbsp;&nbsp;&nbsp;&nbsp;&nbsp;&nbsp;&nbsp;&nbsp;&nbsp;&nbsp;&nbsp;&nbsp;&nbsp;Cache Mode: logical</td>\n",
       "        </tr>\n",
       "        <tr>\n",
       "            <td>&nbsp;&nbsp;&nbsp;&nbsp;&nbsp;&nbsp;&nbsp;&nbsp;&nbsp;&nbsp;&nbsp;&nbsp;&nbsp;&nbsp;Hits: 2  Misses: 8  Evictions: 0  Overflows: 0  Memory Usage: 1kB</td>\n",
       "        </tr>\n",
       "        <tr>\n",
       "            <td>&nbsp;&nbsp;&nbsp;&nbsp;&nbsp;&nbsp;&nbsp;&nbsp;&nbsp;&nbsp;&nbsp;&nbsp;&nbsp;&nbsp;->  Index Scan using actor_pkey on actor  (cost=0.42..0.46 rows=1 width=18) (actual time=0.035..0.035 rows=1 loops=8)</td>\n",
       "        </tr>\n",
       "        <tr>\n",
       "            <td>&nbsp;&nbsp;&nbsp;&nbsp;&nbsp;&nbsp;&nbsp;&nbsp;&nbsp;&nbsp;&nbsp;&nbsp;&nbsp;&nbsp;&nbsp;&nbsp;&nbsp;&nbsp;&nbsp;&nbsp;Index Cond: (id = cast_info.person_id)</td>\n",
       "        </tr>\n",
       "        <tr>\n",
       "            <td>Planning Time: 0.140 ms</td>\n",
       "        </tr>\n",
       "        <tr>\n",
       "            <td>Execution Time: 0.557 ms</td>\n",
       "        </tr>\n",
       "    </tbody>\n",
       "</table>"
      ],
      "text/plain": [
       "+-------------------------------------------------------------------------------------------------------------------------------------+\n",
       "|                                                              QUERY PLAN                                                             |\n",
       "+-------------------------------------------------------------------------------------------------------------------------------------+\n",
       "|                         Limit  (cost=0.43..4.45 rows=10 width=18) (actual time=0.040..0.319 rows=10 loops=1)                        |\n",
       "|                ->  Nested Loop  (cost=0.43..887774.90 rows=2211936 width=18) (actual time=0.040..0.317 rows=10 loops=1)             |\n",
       "|               ->  Seq Scan on cast_info  (cost=0.00..31907.36 rows=2211936 width=8) (actual time=0.014..0.015 rows=10 loops=1)      |\n",
       "|                          ->  Memoize  (cost=0.43..0.47 rows=1 width=18) (actual time=0.029..0.030 rows=1 loops=10)                  |\n",
       "|                                                           Cache Key: cast_info.person_id                                            |\n",
       "|                                                                Cache Mode: logical                                                  |\n",
       "|                                         Hits: 2  Misses: 8  Evictions: 0  Overflows: 0  Memory Usage: 1kB                           |\n",
       "|               ->  Index Scan using actor_pkey on actor  (cost=0.42..0.46 rows=1 width=18) (actual time=0.035..0.035 rows=1 loops=8) |\n",
       "|                                                          Index Cond: (id = cast_info.person_id)                                     |\n",
       "|                                                       Planning Time: 0.140 ms                                                       |\n",
       "|                                                       Execution Time: 0.557 ms                                                      |\n",
       "+-------------------------------------------------------------------------------------------------------------------------------------+"
      ]
     },
     "execution_count": 10,
     "metadata": {},
     "output_type": "execute_result"
    }
   ],
   "source": [
    "%%sql\n",
    "explain analyze\n",
    "select actor.name,movie_id\n",
    "from actor, cast_info\n",
    "where actor.id = cast_info.person_id\n",
    "limit 10 ;"
   ]
  },
  {
   "cell_type": "markdown",
   "id": "e59416a8-b0d3-472f-8630-855c0198be35",
   "metadata": {},
   "source": [
    "LIMIT considerably speeds things up by >1000x!\n",
    "\n",
    "Now, back to the original query..."
   ]
  },
  {
   "cell_type": "code",
   "execution_count": 12,
   "id": "357be96e-96c1-4613-a8e0-93acfc19e9bd",
   "metadata": {},
   "outputs": [
    {
     "data": {
      "text/html": [
       "<span style=\"None\">Running query in &#x27;postgresql://127.0.0.1:5432/imdb_perf_lecture&#x27;</span>"
      ],
      "text/plain": [
       "Running query in 'postgresql://127.0.0.1:5432/imdb_perf_lecture'"
      ]
     },
     "metadata": {},
     "output_type": "display_data"
    },
    {
     "data": {
      "text/html": [
       "<span style=\"color: green\">8 rows affected.</span>"
      ],
      "text/plain": [
       "8 rows affected."
      ]
     },
     "metadata": {},
     "output_type": "display_data"
    },
    {
     "data": {
      "text/html": [
       "<table>\n",
       "    <thead>\n",
       "        <tr>\n",
       "            <th>QUERY PLAN</th>\n",
       "        </tr>\n",
       "    </thead>\n",
       "    <tbody>\n",
       "        <tr>\n",
       "            <td>Hash Join  (cost=29215.48..89168.21 rows=2211936 width=18) (actual time=228.786..1242.297 rows=2211936 loops=1)</td>\n",
       "        </tr>\n",
       "        <tr>\n",
       "            <td>&nbsp;&nbsp;Hash Cond: (cast_info.person_id = actor.id)</td>\n",
       "        </tr>\n",
       "        <tr>\n",
       "            <td>&nbsp;&nbsp;->  Seq Scan on cast_info  (cost=0.00..31907.36 rows=2211936 width=8) (actual time=0.008..206.976 rows=2211936 loops=1)</td>\n",
       "        </tr>\n",
       "        <tr>\n",
       "            <td>&nbsp;&nbsp;->  Hash  (cost=13684.88..13684.88 rows=845888 width=18) (actual time=228.625..228.626 rows=845888 loops=1)</td>\n",
       "        </tr>\n",
       "        <tr>\n",
       "            <td>&nbsp;&nbsp;&nbsp;&nbsp;&nbsp;&nbsp;&nbsp;&nbsp;Buckets: 65536  Batches: 16  Memory Usage: 3191kB</td>\n",
       "        </tr>\n",
       "        <tr>\n",
       "            <td>&nbsp;&nbsp;&nbsp;&nbsp;&nbsp;&nbsp;&nbsp;&nbsp;->  Seq Scan on actor  (cost=0.00..13684.88 rows=845888 width=18) (actual time=0.048..84.107 rows=845888 loops=1)</td>\n",
       "        </tr>\n",
       "        <tr>\n",
       "            <td>Planning Time: 0.160 ms</td>\n",
       "        </tr>\n",
       "        <tr>\n",
       "            <td>Execution Time: 1331.759 ms</td>\n",
       "        </tr>\n",
       "    </tbody>\n",
       "</table>"
      ],
      "text/plain": [
       "+---------------------------------------------------------------------------------------------------------------------------+\n",
       "|                                                         QUERY PLAN                                                        |\n",
       "+---------------------------------------------------------------------------------------------------------------------------+\n",
       "|      Hash Join  (cost=29215.48..89168.21 rows=2211936 width=18) (actual time=228.786..1242.297 rows=2211936 loops=1)      |\n",
       "|                                         Hash Cond: (cast_info.person_id = actor.id)                                       |\n",
       "|   ->  Seq Scan on cast_info  (cost=0.00..31907.36 rows=2211936 width=8) (actual time=0.008..206.976 rows=2211936 loops=1) |\n",
       "|         ->  Hash  (cost=13684.88..13684.88 rows=845888 width=18) (actual time=228.625..228.626 rows=845888 loops=1)       |\n",
       "|                                         Buckets: 65536  Batches: 16  Memory Usage: 3191kB                                 |\n",
       "|         ->  Seq Scan on actor  (cost=0.00..13684.88 rows=845888 width=18) (actual time=0.048..84.107 rows=845888 loops=1) |\n",
       "|                                                  Planning Time: 0.160 ms                                                  |\n",
       "|                                                Execution Time: 1331.759 ms                                                |\n",
       "+---------------------------------------------------------------------------------------------------------------------------+"
      ]
     },
     "execution_count": 12,
     "metadata": {},
     "output_type": "execute_result"
    }
   ],
   "source": [
    "%%sql\n",
    "explain analyze\n",
    "select actor.name,movie_id\n",
    "from actor, cast_info\n",
    "where actor.id = cast_info.person_id;"
   ]
  },
  {
   "cell_type": "markdown",
   "id": "f55230b4-db0d-46a3-aa63-bc7700b11312",
   "metadata": {},
   "source": [
    "Let's add in a WHERE clause."
   ]
  },
  {
   "cell_type": "code",
   "execution_count": 13,
   "id": "6ef17297-8f3d-41dd-b6dc-c319795b4983",
   "metadata": {},
   "outputs": [
    {
     "data": {
      "text/html": [
       "<span style=\"None\">Running query in &#x27;postgresql://127.0.0.1:5432/imdb_perf_lecture&#x27;</span>"
      ],
      "text/plain": [
       "Running query in 'postgresql://127.0.0.1:5432/imdb_perf_lecture'"
      ]
     },
     "metadata": {},
     "output_type": "display_data"
    },
    {
     "data": {
      "text/html": [
       "<span style=\"color: green\">10 rows affected.</span>"
      ],
      "text/plain": [
       "10 rows affected."
      ]
     },
     "metadata": {},
     "output_type": "display_data"
    },
    {
     "data": {
      "text/html": [
       "<table>\n",
       "    <thead>\n",
       "        <tr>\n",
       "            <th>QUERY PLAN</th>\n",
       "        </tr>\n",
       "    </thead>\n",
       "    <tbody>\n",
       "        <tr>\n",
       "            <td>Hash Join  (cost=23966.84..81569.56 rows=1163170 width=18) (actual time=158.393..1003.409 rows=634763 loops=1)</td>\n",
       "        </tr>\n",
       "        <tr>\n",
       "            <td>&nbsp;&nbsp;Hash Cond: (cast_info.person_id = actor.id)</td>\n",
       "        </tr>\n",
       "        <tr>\n",
       "            <td>&nbsp;&nbsp;->  Seq Scan on cast_info  (cost=0.00..31907.36 rows=2211936 width=8) (actual time=0.008..205.828 rows=2211936 loops=1)</td>\n",
       "        </tr>\n",
       "        <tr>\n",
       "            <td>&nbsp;&nbsp;->  Hash  (cost=15799.60..15799.60 rows=444819 width=18) (actual time=157.922..157.924 rows=444781 loops=1)</td>\n",
       "        </tr>\n",
       "        <tr>\n",
       "            <td>&nbsp;&nbsp;&nbsp;&nbsp;&nbsp;&nbsp;&nbsp;&nbsp;Buckets: 65536  Batches: 8  Memory Usage: 3335kB</td>\n",
       "        </tr>\n",
       "        <tr>\n",
       "            <td>&nbsp;&nbsp;&nbsp;&nbsp;&nbsp;&nbsp;&nbsp;&nbsp;->  Seq Scan on actor  (cost=0.00..15799.60 rows=444819 width=18) (actual time=0.209..80.203 rows=444781 loops=1)</td>\n",
       "        </tr>\n",
       "        <tr>\n",
       "            <td>&nbsp;&nbsp;&nbsp;&nbsp;&nbsp;&nbsp;&nbsp;&nbsp;&nbsp;&nbsp;&nbsp;&nbsp;&nbsp;&nbsp;Filter: (id > 4000000)</td>\n",
       "        </tr>\n",
       "        <tr>\n",
       "            <td>&nbsp;&nbsp;&nbsp;&nbsp;&nbsp;&nbsp;&nbsp;&nbsp;&nbsp;&nbsp;&nbsp;&nbsp;&nbsp;&nbsp;Rows Removed by Filter: 401107</td>\n",
       "        </tr>\n",
       "        <tr>\n",
       "            <td>Planning Time: 0.159 ms</td>\n",
       "        </tr>\n",
       "        <tr>\n",
       "            <td>Execution Time: 1028.796 ms</td>\n",
       "        </tr>\n",
       "    </tbody>\n",
       "</table>"
      ],
      "text/plain": [
       "+---------------------------------------------------------------------------------------------------------------------------+\n",
       "|                                                         QUERY PLAN                                                        |\n",
       "+---------------------------------------------------------------------------------------------------------------------------+\n",
       "|       Hash Join  (cost=23966.84..81569.56 rows=1163170 width=18) (actual time=158.393..1003.409 rows=634763 loops=1)      |\n",
       "|                                         Hash Cond: (cast_info.person_id = actor.id)                                       |\n",
       "|   ->  Seq Scan on cast_info  (cost=0.00..31907.36 rows=2211936 width=8) (actual time=0.008..205.828 rows=2211936 loops=1) |\n",
       "|         ->  Hash  (cost=15799.60..15799.60 rows=444819 width=18) (actual time=157.922..157.924 rows=444781 loops=1)       |\n",
       "|                                          Buckets: 65536  Batches: 8  Memory Usage: 3335kB                                 |\n",
       "|         ->  Seq Scan on actor  (cost=0.00..15799.60 rows=444819 width=18) (actual time=0.209..80.203 rows=444781 loops=1) |\n",
       "|                                                          Filter: (id > 4000000)                                           |\n",
       "|                                                      Rows Removed by Filter: 401107                                       |\n",
       "|                                                  Planning Time: 0.159 ms                                                  |\n",
       "|                                                Execution Time: 1028.796 ms                                                |\n",
       "+---------------------------------------------------------------------------------------------------------------------------+"
      ]
     },
     "execution_count": 13,
     "metadata": {},
     "output_type": "execute_result"
    }
   ],
   "source": [
    "%%sql\n",
    "explain analyze\n",
    "select actor.name,movie_id\n",
    "from actor, cast_info\n",
    "where actor.id = cast_info.person_id and actor.id > 4000000;"
   ]
  },
  {
   "cell_type": "markdown",
   "id": "812f526c-dae9-4c51-b877-503354950e60",
   "metadata": {},
   "source": [
    "Notice projection pushed down at source! Time reduced by a bit as a result. Otherwise cost would be at least as expensive as previous query."
   ]
  },
  {
   "cell_type": "markdown",
   "id": "6a82919a-fb6c-4c49-844e-0c7d0cf4a251",
   "metadata": {},
   "source": [
    "## More Exercises (Not covered in class)"
   ]
  },
  {
   "cell_type": "markdown",
   "id": "5a5a0e14-af35-4e14-8de7-c322a7d8d59e",
   "metadata": {},
   "source": [
    "Repeat previous LIMIT query"
   ]
  },
  {
   "cell_type": "code",
   "execution_count": 14,
   "id": "6210f819-44a5-44d6-812f-8f97c5278498",
   "metadata": {},
   "outputs": [
    {
     "data": {
      "text/html": [
       "<span style=\"None\">Running query in &#x27;postgresql://127.0.0.1:5432/imdb_perf_lecture&#x27;</span>"
      ],
      "text/plain": [
       "Running query in 'postgresql://127.0.0.1:5432/imdb_perf_lecture'"
      ]
     },
     "metadata": {},
     "output_type": "display_data"
    },
    {
     "data": {
      "text/html": [
       "<span style=\"color: green\">11 rows affected.</span>"
      ],
      "text/plain": [
       "11 rows affected."
      ]
     },
     "metadata": {},
     "output_type": "display_data"
    },
    {
     "data": {
      "text/html": [
       "<table>\n",
       "    <thead>\n",
       "        <tr>\n",
       "            <th>QUERY PLAN</th>\n",
       "        </tr>\n",
       "    </thead>\n",
       "    <tbody>\n",
       "        <tr>\n",
       "            <td>Limit  (cost=0.43..4.45 rows=10 width=18) (actual time=0.023..0.058 rows=10 loops=1)</td>\n",
       "        </tr>\n",
       "        <tr>\n",
       "            <td>&nbsp;&nbsp;->  Nested Loop  (cost=0.43..887774.90 rows=2211936 width=18) (actual time=0.022..0.056 rows=10 loops=1)</td>\n",
       "        </tr>\n",
       "        <tr>\n",
       "            <td>&nbsp;&nbsp;&nbsp;&nbsp;&nbsp;&nbsp;&nbsp;&nbsp;->  Seq Scan on cast_info  (cost=0.00..31907.36 rows=2211936 width=8) (actual time=0.008..0.009 rows=10 loops=1)</td>\n",
       "        </tr>\n",
       "        <tr>\n",
       "            <td>&nbsp;&nbsp;&nbsp;&nbsp;&nbsp;&nbsp;&nbsp;&nbsp;->  Memoize  (cost=0.43..0.47 rows=1 width=18) (actual time=0.004..0.004 rows=1 loops=10)</td>\n",
       "        </tr>\n",
       "        <tr>\n",
       "            <td>&nbsp;&nbsp;&nbsp;&nbsp;&nbsp;&nbsp;&nbsp;&nbsp;&nbsp;&nbsp;&nbsp;&nbsp;&nbsp;&nbsp;Cache Key: cast_info.person_id</td>\n",
       "        </tr>\n",
       "        <tr>\n",
       "            <td>&nbsp;&nbsp;&nbsp;&nbsp;&nbsp;&nbsp;&nbsp;&nbsp;&nbsp;&nbsp;&nbsp;&nbsp;&nbsp;&nbsp;Cache Mode: logical</td>\n",
       "        </tr>\n",
       "        <tr>\n",
       "            <td>&nbsp;&nbsp;&nbsp;&nbsp;&nbsp;&nbsp;&nbsp;&nbsp;&nbsp;&nbsp;&nbsp;&nbsp;&nbsp;&nbsp;Hits: 2  Misses: 8  Evictions: 0  Overflows: 0  Memory Usage: 1kB</td>\n",
       "        </tr>\n",
       "        <tr>\n",
       "            <td>&nbsp;&nbsp;&nbsp;&nbsp;&nbsp;&nbsp;&nbsp;&nbsp;&nbsp;&nbsp;&nbsp;&nbsp;&nbsp;&nbsp;->  Index Scan using actor_pkey on actor  (cost=0.42..0.46 rows=1 width=18) (actual time=0.004..0.004 rows=1 loops=8)</td>\n",
       "        </tr>\n",
       "        <tr>\n",
       "            <td>&nbsp;&nbsp;&nbsp;&nbsp;&nbsp;&nbsp;&nbsp;&nbsp;&nbsp;&nbsp;&nbsp;&nbsp;&nbsp;&nbsp;&nbsp;&nbsp;&nbsp;&nbsp;&nbsp;&nbsp;Index Cond: (id = cast_info.person_id)</td>\n",
       "        </tr>\n",
       "        <tr>\n",
       "            <td>Planning Time: 0.166 ms</td>\n",
       "        </tr>\n",
       "        <tr>\n",
       "            <td>Execution Time: 0.313 ms</td>\n",
       "        </tr>\n",
       "    </tbody>\n",
       "</table>"
      ],
      "text/plain": [
       "+-------------------------------------------------------------------------------------------------------------------------------------+\n",
       "|                                                              QUERY PLAN                                                             |\n",
       "+-------------------------------------------------------------------------------------------------------------------------------------+\n",
       "|                         Limit  (cost=0.43..4.45 rows=10 width=18) (actual time=0.023..0.058 rows=10 loops=1)                        |\n",
       "|                ->  Nested Loop  (cost=0.43..887774.90 rows=2211936 width=18) (actual time=0.022..0.056 rows=10 loops=1)             |\n",
       "|               ->  Seq Scan on cast_info  (cost=0.00..31907.36 rows=2211936 width=8) (actual time=0.008..0.009 rows=10 loops=1)      |\n",
       "|                          ->  Memoize  (cost=0.43..0.47 rows=1 width=18) (actual time=0.004..0.004 rows=1 loops=10)                  |\n",
       "|                                                           Cache Key: cast_info.person_id                                            |\n",
       "|                                                                Cache Mode: logical                                                  |\n",
       "|                                         Hits: 2  Misses: 8  Evictions: 0  Overflows: 0  Memory Usage: 1kB                           |\n",
       "|               ->  Index Scan using actor_pkey on actor  (cost=0.42..0.46 rows=1 width=18) (actual time=0.004..0.004 rows=1 loops=8) |\n",
       "|                                                          Index Cond: (id = cast_info.person_id)                                     |\n",
       "|                                                       Planning Time: 0.166 ms                                                       |\n",
       "|                                                       Execution Time: 0.313 ms                                                      |\n",
       "+-------------------------------------------------------------------------------------------------------------------------------------+"
      ]
     },
     "execution_count": 14,
     "metadata": {},
     "output_type": "execute_result"
    }
   ],
   "source": [
    "%%sql\n",
    "-- repeat previous query\n",
    "explain analyze\n",
    "select actor.name,movie_id\n",
    "from actor, cast_info\n",
    "where actor.id = cast_info.person_id\n",
    "limit 10 ;"
   ]
  },
  {
   "cell_type": "markdown",
   "id": "52e1cba8-be3e-4555-bc3b-29994bdaa319",
   "metadata": {},
   "source": [
    "Notice width of Index Scan on actor: 18. This is the size of the projected tuple.\n",
    "\n",
    "What if we add another actor attribute to SELECT? Would this change the width during Index Scan?"
   ]
  },
  {
   "cell_type": "code",
   "execution_count": 15,
   "id": "a79383d0-527d-4c8c-bb17-fe3e27161e4c",
   "metadata": {},
   "outputs": [
    {
     "data": {
      "text/html": [
       "<span style=\"None\">Running query in &#x27;postgresql://127.0.0.1:5432/imdb_perf_lecture&#x27;</span>"
      ],
      "text/plain": [
       "Running query in 'postgresql://127.0.0.1:5432/imdb_perf_lecture'"
      ]
     },
     "metadata": {},
     "output_type": "display_data"
    },
    {
     "data": {
      "text/html": [
       "<span style=\"color: green\">11 rows affected.</span>"
      ],
      "text/plain": [
       "11 rows affected."
      ]
     },
     "metadata": {},
     "output_type": "display_data"
    },
    {
     "data": {
      "text/html": [
       "<table>\n",
       "    <thead>\n",
       "        <tr>\n",
       "            <th>QUERY PLAN</th>\n",
       "        </tr>\n",
       "    </thead>\n",
       "    <tbody>\n",
       "        <tr>\n",
       "            <td>Limit  (cost=0.43..4.45 rows=10 width=22) (actual time=0.027..0.066 rows=10 loops=1)</td>\n",
       "        </tr>\n",
       "        <tr>\n",
       "            <td>&nbsp;&nbsp;->  Nested Loop  (cost=0.43..887774.90 rows=2211936 width=22) (actual time=0.027..0.064 rows=10 loops=1)</td>\n",
       "        </tr>\n",
       "        <tr>\n",
       "            <td>&nbsp;&nbsp;&nbsp;&nbsp;&nbsp;&nbsp;&nbsp;&nbsp;->  Seq Scan on cast_info  (cost=0.00..31907.36 rows=2211936 width=8) (actual time=0.010..0.011 rows=10 loops=1)</td>\n",
       "        </tr>\n",
       "        <tr>\n",
       "            <td>&nbsp;&nbsp;&nbsp;&nbsp;&nbsp;&nbsp;&nbsp;&nbsp;->  Memoize  (cost=0.43..0.47 rows=1 width=18) (actual time=0.005..0.005 rows=1 loops=10)</td>\n",
       "        </tr>\n",
       "        <tr>\n",
       "            <td>&nbsp;&nbsp;&nbsp;&nbsp;&nbsp;&nbsp;&nbsp;&nbsp;&nbsp;&nbsp;&nbsp;&nbsp;&nbsp;&nbsp;Cache Key: cast_info.person_id</td>\n",
       "        </tr>\n",
       "        <tr>\n",
       "            <td>&nbsp;&nbsp;&nbsp;&nbsp;&nbsp;&nbsp;&nbsp;&nbsp;&nbsp;&nbsp;&nbsp;&nbsp;&nbsp;&nbsp;Cache Mode: logical</td>\n",
       "        </tr>\n",
       "        <tr>\n",
       "            <td>&nbsp;&nbsp;&nbsp;&nbsp;&nbsp;&nbsp;&nbsp;&nbsp;&nbsp;&nbsp;&nbsp;&nbsp;&nbsp;&nbsp;Hits: 2  Misses: 8  Evictions: 0  Overflows: 0  Memory Usage: 1kB</td>\n",
       "        </tr>\n",
       "        <tr>\n",
       "            <td>&nbsp;&nbsp;&nbsp;&nbsp;&nbsp;&nbsp;&nbsp;&nbsp;&nbsp;&nbsp;&nbsp;&nbsp;&nbsp;&nbsp;->  Index Scan using actor_pkey on actor  (cost=0.42..0.46 rows=1 width=18) (actual time=0.005..0.005 rows=1 loops=8)</td>\n",
       "        </tr>\n",
       "        <tr>\n",
       "            <td>&nbsp;&nbsp;&nbsp;&nbsp;&nbsp;&nbsp;&nbsp;&nbsp;&nbsp;&nbsp;&nbsp;&nbsp;&nbsp;&nbsp;&nbsp;&nbsp;&nbsp;&nbsp;&nbsp;&nbsp;Index Cond: (id = cast_info.person_id)</td>\n",
       "        </tr>\n",
       "        <tr>\n",
       "            <td>Planning Time: 0.152 ms</td>\n",
       "        </tr>\n",
       "        <tr>\n",
       "            <td>Execution Time: 0.370 ms</td>\n",
       "        </tr>\n",
       "    </tbody>\n",
       "</table>"
      ],
      "text/plain": [
       "+-------------------------------------------------------------------------------------------------------------------------------------+\n",
       "|                                                              QUERY PLAN                                                             |\n",
       "+-------------------------------------------------------------------------------------------------------------------------------------+\n",
       "|                         Limit  (cost=0.43..4.45 rows=10 width=22) (actual time=0.027..0.066 rows=10 loops=1)                        |\n",
       "|                ->  Nested Loop  (cost=0.43..887774.90 rows=2211936 width=22) (actual time=0.027..0.064 rows=10 loops=1)             |\n",
       "|               ->  Seq Scan on cast_info  (cost=0.00..31907.36 rows=2211936 width=8) (actual time=0.010..0.011 rows=10 loops=1)      |\n",
       "|                          ->  Memoize  (cost=0.43..0.47 rows=1 width=18) (actual time=0.005..0.005 rows=1 loops=10)                  |\n",
       "|                                                           Cache Key: cast_info.person_id                                            |\n",
       "|                                                                Cache Mode: logical                                                  |\n",
       "|                                         Hits: 2  Misses: 8  Evictions: 0  Overflows: 0  Memory Usage: 1kB                           |\n",
       "|               ->  Index Scan using actor_pkey on actor  (cost=0.42..0.46 rows=1 width=18) (actual time=0.005..0.005 rows=1 loops=8) |\n",
       "|                                                          Index Cond: (id = cast_info.person_id)                                     |\n",
       "|                                                       Planning Time: 0.152 ms                                                       |\n",
       "|                                                       Execution Time: 0.370 ms                                                      |\n",
       "+-------------------------------------------------------------------------------------------------------------------------------------+"
      ]
     },
     "execution_count": 15,
     "metadata": {},
     "output_type": "execute_result"
    }
   ],
   "source": [
    "%%sql\n",
    "explain analyze\n",
    "select actor.name,movie_id,actor.id\n",
    "from actor, cast_info\n",
    "where actor.id = cast_info.person_id\n",
    "limit 10 ;"
   ]
  },
  {
   "cell_type": "markdown",
   "id": "685b01c1-4319-4554-a692-12b7dd800762",
   "metadata": {},
   "source": [
    "Width stays the same! This is because the newly added `actor.id` attribute in the `SELECT` is needed as part of the join condition, so it is already included (and not projected out).\n",
    "\n",
    "But note the final width after join is now 22 instead of 18.\n"
   ]
  }
 ],
 "metadata": {
  "kernelspec": {
   "display_name": "Python 3 (ipykernel)",
   "language": "python",
   "name": "python3"
  },
  "language_info": {
   "codemirror_mode": {
    "name": "ipython",
    "version": 3
   },
   "file_extension": ".py",
   "mimetype": "text/x-python",
   "name": "python",
   "nbconvert_exporter": "python",
   "pygments_lexer": "ipython3",
   "version": "3.11.0"
  }
 },
 "nbformat": 4,
 "nbformat_minor": 5
}
