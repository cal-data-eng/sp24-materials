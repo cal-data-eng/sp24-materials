{
 "cells": [
  {
   "cell_type": "markdown",
   "id": "0c213f7c-0187-4ccc-a9a6-0064ed88d1ab",
   "metadata": {},
   "source": [
    "# Lecture 08: Query Optimization I"
   ]
  },
  {
   "cell_type": "markdown",
   "id": "b6dc1dc3-4dae-4348-b118-da4fbb4911e7",
   "metadata": {},
   "source": [
    "## New IMDB Performance database\n",
    "\n",
    "This is a variation of the IMDB database with keys defined. Note that this is a pretty big database! So if you run the below lines, please also remember to delete the `imdb_perf_lecture` afterwards to save space on your limited postgreSQL server."
   ]
  },
  {
   "cell_type": "markdown",
   "id": "ed756181-efad-4017-acef-84388f72b9aa",
   "metadata": {},
   "source": [
    "If you didn't load it in with a previous lecture, load in the `imdb_perf_lecture` database."
   ]
  },
  {
   "cell_type": "code",
   "execution_count": 1,
   "id": "8ea61b1d-de1e-455e-b294-31945f9bf983",
   "metadata": {},
   "outputs": [
    {
     "name": "stdout",
     "output_type": "stream",
     "text": [
      "Archive:  ../lec07/data/imdb_perf_lecture.zip\n"
     ]
    }
   ],
   "source": [
    "!unzip -u ../lec07/data/imdb_perf_lecture.zip -d ../lec07/data/"
   ]
  },
  {
   "cell_type": "code",
   "execution_count": 2,
   "id": "1e5a3e6e-5460-4605-9396-c1436b2825a8",
   "metadata": {},
   "outputs": [
    {
     "name": "stdout",
     "output_type": "stream",
     "text": [
      "DROP DATABASE\n",
      "CREATE DATABASE\n",
      "SET\n",
      "SET\n",
      "SET\n",
      "SET\n",
      "SET\n",
      " set_config \n",
      "------------\n",
      " \n",
      "(1 row)\n",
      "\n",
      "SET\n",
      "SET\n",
      "SET\n",
      "SET\n",
      "SET\n",
      "SET\n",
      "CREATE TABLE\n",
      "ALTER TABLE\n",
      "CREATE TABLE\n",
      "ALTER TABLE\n",
      "CREATE TABLE\n",
      "ALTER TABLE\n",
      "COPY 845888\n",
      "COPY 2211936\n",
      "COPY 656453\n",
      "ALTER TABLE\n",
      "ALTER TABLE\n",
      "ALTER TABLE\n",
      "ALTER TABLE\n"
     ]
    }
   ],
   "source": [
    "!psql -h localhost -c 'DROP DATABASE IF EXISTS imdb_perf_lecture'\n",
    "!psql -h localhost -c 'CREATE DATABASE imdb_perf_lecture' \n",
    "!psql -h localhost -d imdb_perf_lecture -f ../lec07/data/imdb_perf_lecture.sql"
   ]
  },
  {
   "cell_type": "code",
   "execution_count": 3,
   "id": "e990b213-85e8-43b8-84a9-d7b151bdf108",
   "metadata": {},
   "outputs": [],
   "source": [
    "%reload_ext sql"
   ]
  },
  {
   "cell_type": "code",
   "execution_count": 4,
   "id": "6ae32dbd-026d-4924-b937-949855608eac",
   "metadata": {},
   "outputs": [],
   "source": [
    "%sql postgresql://127.0.0.1:5432/imdb_perf_lecture"
   ]
  },
  {
   "cell_type": "markdown",
   "id": "d82fe065-92ec-4d30-a742-faee0ca7534b",
   "metadata": {},
   "source": [
    "# Demo"
   ]
  },
  {
   "cell_type": "markdown",
   "id": "f64d5a04-3344-4f83-b2a1-344b45bfe29b",
   "metadata": {},
   "source": [
    "---\n",
    "\n",
    "Example 1"
   ]
  },
  {
   "cell_type": "code",
   "execution_count": 5,
   "id": "325bad7b-63b9-4b54-9b8d-2488625edad9",
   "metadata": {},
   "outputs": [
    {
     "data": {
      "text/html": [
       "<span style=\"None\">Running query in &#x27;postgresql://127.0.0.1:5432/imdb_perf_lecture&#x27;</span>"
      ],
      "text/plain": [
       "Running query in 'postgresql://127.0.0.1:5432/imdb_perf_lecture'"
      ]
     },
     "metadata": {},
     "output_type": "display_data"
    },
    {
     "data": {
      "text/html": [
       "<span style=\"color: green\">3 rows affected.</span>"
      ],
      "text/plain": [
       "3 rows affected."
      ]
     },
     "metadata": {},
     "output_type": "display_data"
    },
    {
     "data": {
      "text/html": [
       "<table>\n",
       "    <thead>\n",
       "        <tr>\n",
       "            <th>QUERY PLAN</th>\n",
       "        </tr>\n",
       "    </thead>\n",
       "    <tbody>\n",
       "        <tr>\n",
       "            <td>Seq Scan on actor  (cost=0.00..13684.88 rows=845888 width=36) (actual time=0.033..61.825 rows=845888 loops=1)</td>\n",
       "        </tr>\n",
       "        <tr>\n",
       "            <td>Planning Time: 0.157 ms</td>\n",
       "        </tr>\n",
       "        <tr>\n",
       "            <td>Execution Time: 85.537 ms</td>\n",
       "        </tr>\n",
       "    </tbody>\n",
       "</table>"
      ],
      "text/plain": [
       "+---------------------------------------------------------------------------------------------------------------+\n",
       "|                                                   QUERY PLAN                                                  |\n",
       "+---------------------------------------------------------------------------------------------------------------+\n",
       "| Seq Scan on actor  (cost=0.00..13684.88 rows=845888 width=36) (actual time=0.033..61.825 rows=845888 loops=1) |\n",
       "|                                            Planning Time: 0.157 ms                                            |\n",
       "|                                           Execution Time: 85.537 ms                                           |\n",
       "+---------------------------------------------------------------------------------------------------------------+"
      ]
     },
     "execution_count": 5,
     "metadata": {},
     "output_type": "execute_result"
    }
   ],
   "source": [
    "%sql EXPLAIN ANALYZE SELECT * FROM Actor;"
   ]
  },
  {
   "cell_type": "markdown",
   "id": "efc3c4b2-8925-4aaf-9d84-1da8944225a4",
   "metadata": {},
   "source": [
    "Notice `ANALYZE`:\n",
    "* start time and end time for operator, rows processed\n",
    "* loops = number of times the operator is executed\n",
    "\n",
    "Notice `EXPLAIN`:\n",
    "* width = size (in bytes) of output tuples from that operator"
   ]
  },
  {
   "cell_type": "markdown",
   "id": "94114441-3998-48fa-8fa1-b910f7db36d7",
   "metadata": {},
   "source": [
    "---\n",
    "\n",
    "Example 2: just planning (no execution)"
   ]
  },
  {
   "cell_type": "code",
   "execution_count": 6,
   "id": "62e594db-c2c5-4f3f-b8c4-112a787a20df",
   "metadata": {},
   "outputs": [
    {
     "data": {
      "text/html": [
       "<span style=\"None\">Running query in &#x27;postgresql://127.0.0.1:5432/imdb_perf_lecture&#x27;</span>"
      ],
      "text/plain": [
       "Running query in 'postgresql://127.0.0.1:5432/imdb_perf_lecture'"
      ]
     },
     "metadata": {},
     "output_type": "display_data"
    },
    {
     "data": {
      "text/html": [
       "<span style=\"color: green\">1 rows affected.</span>"
      ],
      "text/plain": [
       "1 rows affected."
      ]
     },
     "metadata": {},
     "output_type": "display_data"
    },
    {
     "data": {
      "text/html": [
       "<table>\n",
       "    <thead>\n",
       "        <tr>\n",
       "            <th>QUERY PLAN</th>\n",
       "        </tr>\n",
       "    </thead>\n",
       "    <tbody>\n",
       "        <tr>\n",
       "            <td>Seq Scan on actor  (cost=0.00..13684.88 rows=845888 width=36)</td>\n",
       "        </tr>\n",
       "    </tbody>\n",
       "</table>"
      ],
      "text/plain": [
       "+---------------------------------------------------------------+\n",
       "|                           QUERY PLAN                          |\n",
       "+---------------------------------------------------------------+\n",
       "| Seq Scan on actor  (cost=0.00..13684.88 rows=845888 width=36) |\n",
       "+---------------------------------------------------------------+"
      ]
     },
     "execution_count": 6,
     "metadata": {},
     "output_type": "execute_result"
    }
   ],
   "source": [
    "%sql EXPLAIN SELECT * FROM Actor;"
   ]
  },
  {
   "cell_type": "markdown",
   "id": "037e0e5b-0582-4eae-9825-8d2c9cd5da04",
   "metadata": {},
   "source": [
    "---\n",
    "\n",
    "Example 3"
   ]
  },
  {
   "cell_type": "code",
   "execution_count": 7,
   "id": "09b26502-3e1e-488b-8174-c717cc2fd14e",
   "metadata": {},
   "outputs": [
    {
     "data": {
      "text/html": [
       "<span style=\"None\">Running query in &#x27;postgresql://127.0.0.1:5432/imdb_perf_lecture&#x27;</span>"
      ],
      "text/plain": [
       "Running query in 'postgresql://127.0.0.1:5432/imdb_perf_lecture'"
      ]
     },
     "metadata": {},
     "output_type": "display_data"
    },
    {
     "data": {
      "text/html": [
       "<span style=\"color: green\">3 rows affected.</span>"
      ],
      "text/plain": [
       "3 rows affected."
      ]
     },
     "metadata": {},
     "output_type": "display_data"
    },
    {
     "data": {
      "text/html": [
       "<table>\n",
       "    <thead>\n",
       "        <tr>\n",
       "            <th>QUERY PLAN</th>\n",
       "        </tr>\n",
       "    </thead>\n",
       "    <tbody>\n",
       "        <tr>\n",
       "            <td>Seq Scan on actor  (cost=0.00..13684.88 rows=845888 width=4) (actual time=0.041..74.812 rows=845888 loops=1)</td>\n",
       "        </tr>\n",
       "        <tr>\n",
       "            <td>Planning Time: 0.040 ms</td>\n",
       "        </tr>\n",
       "        <tr>\n",
       "            <td>Execution Time: 98.669 ms</td>\n",
       "        </tr>\n",
       "    </tbody>\n",
       "</table>"
      ],
      "text/plain": [
       "+--------------------------------------------------------------------------------------------------------------+\n",
       "|                                                  QUERY PLAN                                                  |\n",
       "+--------------------------------------------------------------------------------------------------------------+\n",
       "| Seq Scan on actor  (cost=0.00..13684.88 rows=845888 width=4) (actual time=0.041..74.812 rows=845888 loops=1) |\n",
       "|                                           Planning Time: 0.040 ms                                            |\n",
       "|                                          Execution Time: 98.669 ms                                           |\n",
       "+--------------------------------------------------------------------------------------------------------------+"
      ]
     },
     "execution_count": 7,
     "metadata": {},
     "output_type": "execute_result"
    }
   ],
   "source": [
    "%sql EXPLAIN ANALYZE SELECT id FROM Actor;"
   ]
  },
  {
   "cell_type": "markdown",
   "id": "e32d0522-14cb-4918-bac6-93eef6e8b1f8",
   "metadata": {},
   "source": [
    "Notice:\n",
    "* width from 36 down to 4!\n",
    "* still 845k output tuples"
   ]
  },
  {
   "cell_type": "markdown",
   "id": "e527ab32-f3a6-4cee-b85d-f4244faf548a",
   "metadata": {},
   "source": [
    "---\n",
    "\n",
    "Example 4:"
   ]
  },
  {
   "cell_type": "code",
   "execution_count": 8,
   "id": "26d17d1d-d2ec-4eb5-a963-0a87fd52e810",
   "metadata": {},
   "outputs": [
    {
     "data": {
      "text/html": [
       "<span style=\"None\">Running query in &#x27;postgresql://127.0.0.1:5432/imdb_perf_lecture&#x27;</span>"
      ],
      "text/plain": [
       "Running query in 'postgresql://127.0.0.1:5432/imdb_perf_lecture'"
      ]
     },
     "metadata": {},
     "output_type": "display_data"
    },
    {
     "data": {
      "text/html": [
       "<span style=\"color: green\">7 rows affected.</span>"
      ],
      "text/plain": [
       "7 rows affected."
      ]
     },
     "metadata": {},
     "output_type": "display_data"
    },
    {
     "data": {
      "text/html": [
       "<table>\n",
       "    <thead>\n",
       "        <tr>\n",
       "            <th>QUERY PLAN</th>\n",
       "        </tr>\n",
       "    </thead>\n",
       "    <tbody>\n",
       "        <tr>\n",
       "            <td>Bitmap Heap Scan on actor  (cost=5285.64..14036.18 rows=281963 width=4) (actual time=24.923..80.432 rows=444781 loops=1)</td>\n",
       "        </tr>\n",
       "        <tr>\n",
       "            <td>&nbsp;&nbsp;Recheck Cond: (id > 4000000)</td>\n",
       "        </tr>\n",
       "        <tr>\n",
       "            <td>&nbsp;&nbsp;Heap Blocks: exact=3088</td>\n",
       "        </tr>\n",
       "        <tr>\n",
       "            <td>&nbsp;&nbsp;->  Bitmap Index Scan on actor_pkey  (cost=0.00..5215.15 rows=281963 width=0) (actual time=24.542..24.543 rows=444781 loops=1)</td>\n",
       "        </tr>\n",
       "        <tr>\n",
       "            <td>&nbsp;&nbsp;&nbsp;&nbsp;&nbsp;&nbsp;&nbsp;&nbsp;Index Cond: (id > 4000000)</td>\n",
       "        </tr>\n",
       "        <tr>\n",
       "            <td>Planning Time: 0.066 ms</td>\n",
       "        </tr>\n",
       "        <tr>\n",
       "            <td>Execution Time: 93.329 ms</td>\n",
       "        </tr>\n",
       "    </tbody>\n",
       "</table>"
      ],
      "text/plain": [
       "+----------------------------------------------------------------------------------------------------------------------------------+\n",
       "|                                                            QUERY PLAN                                                            |\n",
       "+----------------------------------------------------------------------------------------------------------------------------------+\n",
       "|     Bitmap Heap Scan on actor  (cost=5285.64..14036.18 rows=281963 width=4) (actual time=24.923..80.432 rows=444781 loops=1)     |\n",
       "|                                                    Recheck Cond: (id > 4000000)                                                  |\n",
       "|                                                      Heap Blocks: exact=3088                                                     |\n",
       "|   ->  Bitmap Index Scan on actor_pkey  (cost=0.00..5215.15 rows=281963 width=0) (actual time=24.542..24.543 rows=444781 loops=1) |\n",
       "|                                                        Index Cond: (id > 4000000)                                                |\n",
       "|                                                     Planning Time: 0.066 ms                                                      |\n",
       "|                                                    Execution Time: 93.329 ms                                                     |\n",
       "+----------------------------------------------------------------------------------------------------------------------------------+"
      ]
     },
     "execution_count": 8,
     "metadata": {},
     "output_type": "execute_result"
    }
   ],
   "source": [
    "%sql EXPLAIN ANALYZE SELECT id FROM Actor WHERE id > 4000000;"
   ]
  },
  {
   "cell_type": "markdown",
   "id": "ad89538d-601a-42c5-904e-2be29d6fc48e",
   "metadata": {},
   "source": [
    "Notice:\n",
    "* output tuples now reduced to 444k\n",
    "* planning has imperfect estimate (444887) vs actual (444781)"
   ]
  },
  {
   "cell_type": "markdown",
   "id": "9f523710-e83d-4fe9-9bc1-1402b6a58d3d",
   "metadata": {},
   "source": [
    "---\n",
    "\n",
    "Example 5:"
   ]
  },
  {
   "cell_type": "code",
   "execution_count": 9,
   "id": "d38282dc-28a5-4e63-bdc8-a65153183c48",
   "metadata": {},
   "outputs": [
    {
     "data": {
      "text/html": [
       "<span style=\"None\">Running query in &#x27;postgresql://127.0.0.1:5432/imdb_perf_lecture&#x27;</span>"
      ],
      "text/plain": [
       "Running query in 'postgresql://127.0.0.1:5432/imdb_perf_lecture'"
      ]
     },
     "metadata": {},
     "output_type": "display_data"
    },
    {
     "data": {
      "text/html": [
       "<span style=\"color: green\">7 rows affected.</span>"
      ],
      "text/plain": [
       "7 rows affected."
      ]
     },
     "metadata": {},
     "output_type": "display_data"
    },
    {
     "data": {
      "text/html": [
       "<table>\n",
       "    <thead>\n",
       "        <tr>\n",
       "            <th>QUERY PLAN</th>\n",
       "        </tr>\n",
       "    </thead>\n",
       "    <tbody>\n",
       "        <tr>\n",
       "            <td>Bitmap Heap Scan on actor  (cost=5285.64..14036.18 rows=281963 width=36) (actual time=16.971..53.383 rows=444781 loops=1)</td>\n",
       "        </tr>\n",
       "        <tr>\n",
       "            <td>&nbsp;&nbsp;Recheck Cond: (id > 4000000)</td>\n",
       "        </tr>\n",
       "        <tr>\n",
       "            <td>&nbsp;&nbsp;Heap Blocks: exact=3088</td>\n",
       "        </tr>\n",
       "        <tr>\n",
       "            <td>&nbsp;&nbsp;->  Bitmap Index Scan on actor_pkey  (cost=0.00..5215.15 rows=281963 width=0) (actual time=16.603..16.603 rows=444781 loops=1)</td>\n",
       "        </tr>\n",
       "        <tr>\n",
       "            <td>&nbsp;&nbsp;&nbsp;&nbsp;&nbsp;&nbsp;&nbsp;&nbsp;Index Cond: (id > 4000000)</td>\n",
       "        </tr>\n",
       "        <tr>\n",
       "            <td>Planning Time: 0.051 ms</td>\n",
       "        </tr>\n",
       "        <tr>\n",
       "            <td>Execution Time: 66.063 ms</td>\n",
       "        </tr>\n",
       "    </tbody>\n",
       "</table>"
      ],
      "text/plain": [
       "+----------------------------------------------------------------------------------------------------------------------------------+\n",
       "|                                                            QUERY PLAN                                                            |\n",
       "+----------------------------------------------------------------------------------------------------------------------------------+\n",
       "|    Bitmap Heap Scan on actor  (cost=5285.64..14036.18 rows=281963 width=36) (actual time=16.971..53.383 rows=444781 loops=1)     |\n",
       "|                                                    Recheck Cond: (id > 4000000)                                                  |\n",
       "|                                                      Heap Blocks: exact=3088                                                     |\n",
       "|   ->  Bitmap Index Scan on actor_pkey  (cost=0.00..5215.15 rows=281963 width=0) (actual time=16.603..16.603 rows=444781 loops=1) |\n",
       "|                                                        Index Cond: (id > 4000000)                                                |\n",
       "|                                                     Planning Time: 0.051 ms                                                      |\n",
       "|                                                    Execution Time: 66.063 ms                                                     |\n",
       "+----------------------------------------------------------------------------------------------------------------------------------+"
      ]
     },
     "execution_count": 9,
     "metadata": {},
     "output_type": "execute_result"
    }
   ],
   "source": [
    "%sql EXPLAIN ANALYZE SELECT id, name FROM Actor WHERE id > 4000000;"
   ]
  },
  {
   "cell_type": "markdown",
   "id": "5d50894f-72b0-42aa-ba5f-020a8395d894",
   "metadata": {},
   "source": [
    "Notice:\n",
    "* width back up a bit to 18 (because of name)\n",
    "* index-only scan moving to sequential scan"
   ]
  },
  {
   "cell_type": "markdown",
   "id": "6e9ce237-11f0-424c-a7ae-0dea0fbc6c25",
   "metadata": {},
   "source": [
    "# Moar queries if time permits! "
   ]
  },
  {
   "cell_type": "code",
   "execution_count": 10,
   "id": "5abdd685-d0fc-4a82-984f-9e4a065cf548",
   "metadata": {},
   "outputs": [
    {
     "data": {
      "text/html": [
       "<span style=\"None\">Running query in &#x27;postgresql://127.0.0.1:5432/imdb_perf_lecture&#x27;</span>"
      ],
      "text/plain": [
       "Running query in 'postgresql://127.0.0.1:5432/imdb_perf_lecture'"
      ]
     },
     "metadata": {},
     "output_type": "display_data"
    },
    {
     "data": {
      "text/html": [
       "<span style=\"color: green\">8 rows affected.</span>"
      ],
      "text/plain": [
       "8 rows affected."
      ]
     },
     "metadata": {},
     "output_type": "display_data"
    },
    {
     "data": {
      "text/html": [
       "<table>\n",
       "    <thead>\n",
       "        <tr>\n",
       "            <th>QUERY PLAN</th>\n",
       "        </tr>\n",
       "    </thead>\n",
       "    <tbody>\n",
       "        <tr>\n",
       "            <td>Gather  (cost=1000.00..11653.80 rows=1410 width=4) (actual time=26.184..29.006 rows=0 loops=1)</td>\n",
       "        </tr>\n",
       "        <tr>\n",
       "            <td>&nbsp;&nbsp;Workers Planned: 2</td>\n",
       "        </tr>\n",
       "        <tr>\n",
       "            <td>&nbsp;&nbsp;Workers Launched: 2</td>\n",
       "        </tr>\n",
       "        <tr>\n",
       "            <td>&nbsp;&nbsp;->  Parallel Seq Scan on actor  (cost=0.00..10512.80 rows=588 width=4) (actual time=23.644..23.645 rows=0 loops=3)</td>\n",
       "        </tr>\n",
       "        <tr>\n",
       "            <td>&nbsp;&nbsp;&nbsp;&nbsp;&nbsp;&nbsp;&nbsp;&nbsp;Filter: ((id > 4000000) AND (name = 'Tom Hanks'::text))</td>\n",
       "        </tr>\n",
       "        <tr>\n",
       "            <td>&nbsp;&nbsp;&nbsp;&nbsp;&nbsp;&nbsp;&nbsp;&nbsp;Rows Removed by Filter: 281963</td>\n",
       "        </tr>\n",
       "        <tr>\n",
       "            <td>Planning Time: 0.077 ms</td>\n",
       "        </tr>\n",
       "        <tr>\n",
       "            <td>Execution Time: 29.024 ms</td>\n",
       "        </tr>\n",
       "    </tbody>\n",
       "</table>"
      ],
      "text/plain": [
       "+----------------------------------------------------------------------------------------------------------------------+\n",
       "|                                                      QUERY PLAN                                                      |\n",
       "+----------------------------------------------------------------------------------------------------------------------+\n",
       "|            Gather  (cost=1000.00..11653.80 rows=1410 width=4) (actual time=26.184..29.006 rows=0 loops=1)            |\n",
       "|                                                   Workers Planned: 2                                                 |\n",
       "|                                                  Workers Launched: 2                                                 |\n",
       "|   ->  Parallel Seq Scan on actor  (cost=0.00..10512.80 rows=588 width=4) (actual time=23.644..23.645 rows=0 loops=3) |\n",
       "|                                   Filter: ((id > 4000000) AND (name = 'Tom Hanks'::text))                            |\n",
       "|                                                Rows Removed by Filter: 281963                                        |\n",
       "|                                               Planning Time: 0.077 ms                                                |\n",
       "|                                              Execution Time: 29.024 ms                                               |\n",
       "+----------------------------------------------------------------------------------------------------------------------+"
      ]
     },
     "execution_count": 10,
     "metadata": {},
     "output_type": "execute_result"
    }
   ],
   "source": [
    "%%sql\n",
    "EXPLAIN ANALYZE -- 1\n",
    "SELECT id\n",
    "FROM Actor\n",
    "WHERE id > 4000000 AND name='Tom Hanks';"
   ]
  },
  {
   "cell_type": "markdown",
   "id": "240b805d-915e-405e-8003-4138eed8d942",
   "metadata": {},
   "source": [
    "Query 1: Compared to previous query where there was no name condition in WHERE clause, this query uses a parallel sequential scan: likely because the predicate is a bit more expensive to check, and so parallelism in processing the tuples is helpful. \n",
    "\n",
    "Note also just one output tuple!"
   ]
  },
  {
   "cell_type": "code",
   "execution_count": 11,
   "id": "b47e5764-52c2-44c6-ada8-1beb769de700",
   "metadata": {},
   "outputs": [
    {
     "data": {
      "text/html": [
       "<span style=\"None\">Running query in &#x27;postgresql://127.0.0.1:5432/imdb_perf_lecture&#x27;</span>"
      ],
      "text/plain": [
       "Running query in 'postgresql://127.0.0.1:5432/imdb_perf_lecture'"
      ]
     },
     "metadata": {},
     "output_type": "display_data"
    },
    {
     "data": {
      "text/html": [
       "<span style=\"color: green\">8 rows affected.</span>"
      ],
      "text/plain": [
       "8 rows affected."
      ]
     },
     "metadata": {},
     "output_type": "display_data"
    },
    {
     "data": {
      "text/html": [
       "<table>\n",
       "    <thead>\n",
       "        <tr>\n",
       "            <th>QUERY PLAN</th>\n",
       "        </tr>\n",
       "    </thead>\n",
       "    <tbody>\n",
       "        <tr>\n",
       "            <td>Gather  (cost=1000.00..11653.80 rows=1410 width=4) (actual time=0.215..28.760 rows=1 loops=1)</td>\n",
       "        </tr>\n",
       "        <tr>\n",
       "            <td>&nbsp;&nbsp;Workers Planned: 2</td>\n",
       "        </tr>\n",
       "        <tr>\n",
       "            <td>&nbsp;&nbsp;Workers Launched: 2</td>\n",
       "        </tr>\n",
       "        <tr>\n",
       "            <td>&nbsp;&nbsp;->  Parallel Seq Scan on actor  (cost=0.00..10512.80 rows=588 width=4) (actual time=15.044..23.673 rows=0 loops=3)</td>\n",
       "        </tr>\n",
       "        <tr>\n",
       "            <td>&nbsp;&nbsp;&nbsp;&nbsp;&nbsp;&nbsp;&nbsp;&nbsp;Filter: ((id < 4000000) AND (name = 'Tom Hanks'::text))</td>\n",
       "        </tr>\n",
       "        <tr>\n",
       "            <td>&nbsp;&nbsp;&nbsp;&nbsp;&nbsp;&nbsp;&nbsp;&nbsp;Rows Removed by Filter: 281962</td>\n",
       "        </tr>\n",
       "        <tr>\n",
       "            <td>Planning Time: 0.078 ms</td>\n",
       "        </tr>\n",
       "        <tr>\n",
       "            <td>Execution Time: 28.780 ms</td>\n",
       "        </tr>\n",
       "    </tbody>\n",
       "</table>"
      ],
      "text/plain": [
       "+----------------------------------------------------------------------------------------------------------------------+\n",
       "|                                                      QUERY PLAN                                                      |\n",
       "+----------------------------------------------------------------------------------------------------------------------+\n",
       "|            Gather  (cost=1000.00..11653.80 rows=1410 width=4) (actual time=0.215..28.760 rows=1 loops=1)             |\n",
       "|                                                   Workers Planned: 2                                                 |\n",
       "|                                                  Workers Launched: 2                                                 |\n",
       "|   ->  Parallel Seq Scan on actor  (cost=0.00..10512.80 rows=588 width=4) (actual time=15.044..23.673 rows=0 loops=3) |\n",
       "|                                   Filter: ((id < 4000000) AND (name = 'Tom Hanks'::text))                            |\n",
       "|                                                Rows Removed by Filter: 281962                                        |\n",
       "|                                               Planning Time: 0.078 ms                                                |\n",
       "|                                              Execution Time: 28.780 ms                                               |\n",
       "+----------------------------------------------------------------------------------------------------------------------+"
      ]
     },
     "execution_count": 11,
     "metadata": {},
     "output_type": "execute_result"
    }
   ],
   "source": [
    "%%sql\n",
    "EXPLAIN ANALYZE -- 2\n",
    "SELECT id\n",
    "FROM Actor\n",
    "WHERE id < 4000000 AND name='Tom Hanks';"
   ]
  },
  {
   "cell_type": "markdown",
   "id": "54005562-e665-48ed-8c84-937e218e1be2",
   "metadata": {},
   "source": [
    "Query 2: Compared to previous, we flipped the id condition, and now we've found a match for Tom Hanks! Otherwise quite similar. Note that we still need to go through all the tuples."
   ]
  },
  {
   "cell_type": "code",
   "execution_count": 12,
   "id": "66588a7a-50d8-4f69-870d-e0d4d499d169",
   "metadata": {},
   "outputs": [
    {
     "data": {
      "text/html": [
       "<span style=\"None\">Running query in &#x27;postgresql://127.0.0.1:5432/imdb_perf_lecture&#x27;</span>"
      ],
      "text/plain": [
       "Running query in 'postgresql://127.0.0.1:5432/imdb_perf_lecture'"
      ]
     },
     "metadata": {},
     "output_type": "display_data"
    },
    {
     "data": {
      "text/html": [
       "<span style=\"color: green\">3 rows affected.</span>"
      ],
      "text/plain": [
       "3 rows affected."
      ]
     },
     "metadata": {},
     "output_type": "display_data"
    },
    {
     "data": {
      "text/html": [
       "<table>\n",
       "    <thead>\n",
       "        <tr>\n",
       "            <th>QUERY PLAN</th>\n",
       "        </tr>\n",
       "    </thead>\n",
       "    <tbody>\n",
       "        <tr>\n",
       "            <td>Seq Scan on actor  (cost=0.00..13684.88 rows=845888 width=4) (actual time=0.043..72.572 rows=845888 loops=1)</td>\n",
       "        </tr>\n",
       "        <tr>\n",
       "            <td>Planning Time: 0.039 ms</td>\n",
       "        </tr>\n",
       "        <tr>\n",
       "            <td>Execution Time: 96.430 ms</td>\n",
       "        </tr>\n",
       "    </tbody>\n",
       "</table>"
      ],
      "text/plain": [
       "+--------------------------------------------------------------------------------------------------------------+\n",
       "|                                                  QUERY PLAN                                                  |\n",
       "+--------------------------------------------------------------------------------------------------------------+\n",
       "| Seq Scan on actor  (cost=0.00..13684.88 rows=845888 width=4) (actual time=0.043..72.572 rows=845888 loops=1) |\n",
       "|                                           Planning Time: 0.039 ms                                            |\n",
       "|                                          Execution Time: 96.430 ms                                           |\n",
       "+--------------------------------------------------------------------------------------------------------------+"
      ]
     },
     "execution_count": 12,
     "metadata": {},
     "output_type": "execute_result"
    }
   ],
   "source": [
    "%%sql\n",
    "EXPLAIN ANALYZE -- 3\n",
    "SELECT id\n",
    "FROM Actor;"
   ]
  },
  {
   "cell_type": "markdown",
   "id": "1cc7b6da-0fac-460c-a054-b700b7c4cfbe",
   "metadata": {},
   "source": [
    "Query 3: Resetting to an old query for a second without conditions..."
   ]
  },
  {
   "cell_type": "code",
   "execution_count": 13,
   "id": "70b6b801-9e85-444b-b3f7-8d7846a06fa8",
   "metadata": {},
   "outputs": [
    {
     "data": {
      "text/html": [
       "<span style=\"None\">Running query in &#x27;postgresql://127.0.0.1:5432/imdb_perf_lecture&#x27;</span>"
      ],
      "text/plain": [
       "Running query in 'postgresql://127.0.0.1:5432/imdb_perf_lecture'"
      ]
     },
     "metadata": {},
     "output_type": "display_data"
    },
    {
     "data": {
      "text/html": [
       "<span style=\"color: green\">4 rows affected.</span>"
      ],
      "text/plain": [
       "4 rows affected."
      ]
     },
     "metadata": {},
     "output_type": "display_data"
    },
    {
     "data": {
      "text/html": [
       "<table>\n",
       "    <thead>\n",
       "        <tr>\n",
       "            <th>QUERY PLAN</th>\n",
       "        </tr>\n",
       "    </thead>\n",
       "    <tbody>\n",
       "        <tr>\n",
       "            <td>Limit  (cost=0.00..0.16 rows=10 width=4) (actual time=0.018..0.020 rows=10 loops=1)</td>\n",
       "        </tr>\n",
       "        <tr>\n",
       "            <td>&nbsp;&nbsp;->  Seq Scan on actor  (cost=0.00..13684.88 rows=845888 width=4) (actual time=0.017..0.018 rows=10 loops=1)</td>\n",
       "        </tr>\n",
       "        <tr>\n",
       "            <td>Planning Time: 0.055 ms</td>\n",
       "        </tr>\n",
       "        <tr>\n",
       "            <td>Execution Time: 0.029 ms</td>\n",
       "        </tr>\n",
       "    </tbody>\n",
       "</table>"
      ],
      "text/plain": [
       "+---------------------------------------------------------------------------------------------------------------+\n",
       "|                                                   QUERY PLAN                                                  |\n",
       "+---------------------------------------------------------------------------------------------------------------+\n",
       "|              Limit  (cost=0.00..0.16 rows=10 width=4) (actual time=0.018..0.020 rows=10 loops=1)              |\n",
       "|   ->  Seq Scan on actor  (cost=0.00..13684.88 rows=845888 width=4) (actual time=0.017..0.018 rows=10 loops=1) |\n",
       "|                                            Planning Time: 0.055 ms                                            |\n",
       "|                                            Execution Time: 0.029 ms                                           |\n",
       "+---------------------------------------------------------------------------------------------------------------+"
      ]
     },
     "execution_count": 13,
     "metadata": {},
     "output_type": "execute_result"
    }
   ],
   "source": [
    "%%sql\n",
    "EXPLAIN ANALYZE -- 4\n",
    "SELECT id\n",
    "FROM Actor\n",
    "LIMIT 10;"
   ]
  },
  {
   "cell_type": "markdown",
   "id": "3d61c229-fc2f-48a4-ab4f-7a4bff98854d",
   "metadata": {},
   "source": [
    "Query 4: by adding a LIMIT, see significantly reduced execution time! Also a limit node above the sequential scan node. \n",
    "\n",
    "Next, we just change a SQLmagic setting to allow for a longer query plan to be displayed..."
   ]
  },
  {
   "cell_type": "code",
   "execution_count": 14,
   "id": "7ca021b9-5f31-477c-9bf2-6a00a044c271",
   "metadata": {},
   "outputs": [
    {
     "data": {
      "text/html": [
       "<span style=\"None\">displaylimit: Value None will be treated as 0 (no limit)</span>"
      ],
      "text/plain": [
       "displaylimit: Value None will be treated as 0 (no limit)"
      ]
     },
     "metadata": {},
     "output_type": "display_data"
    }
   ],
   "source": [
    "%config SqlMagic.displaylimit = None"
   ]
  },
  {
   "cell_type": "code",
   "execution_count": 15,
   "id": "c6dd1ebd-e49a-4b1e-8902-3bc4f39f980a",
   "metadata": {},
   "outputs": [
    {
     "data": {
      "text/html": [
       "<span style=\"None\">Running query in &#x27;postgresql://127.0.0.1:5432/imdb_perf_lecture&#x27;</span>"
      ],
      "text/plain": [
       "Running query in 'postgresql://127.0.0.1:5432/imdb_perf_lecture'"
      ]
     },
     "metadata": {},
     "output_type": "display_data"
    },
    {
     "data": {
      "text/html": [
       "<span style=\"color: green\">12 rows affected.</span>"
      ],
      "text/plain": [
       "12 rows affected."
      ]
     },
     "metadata": {},
     "output_type": "display_data"
    },
    {
     "data": {
      "text/html": [
       "<table>\n",
       "    <thead>\n",
       "        <tr>\n",
       "            <th>QUERY PLAN</th>\n",
       "        </tr>\n",
       "    </thead>\n",
       "    <tbody>\n",
       "        <tr>\n",
       "            <td>Limit  (cost=17366.94..17368.11 rows=10 width=36) (actual time=74.626..77.175 rows=10 loops=1)</td>\n",
       "        </tr>\n",
       "        <tr>\n",
       "            <td>&nbsp;&nbsp;->  Gather Merge  (cost=17366.94..99611.72 rows=704906 width=36) (actual time=74.624..77.172 rows=10 loops=1)</td>\n",
       "        </tr>\n",
       "        <tr>\n",
       "            <td>&nbsp;&nbsp;&nbsp;&nbsp;&nbsp;&nbsp;&nbsp;&nbsp;Workers Planned: 2</td>\n",
       "        </tr>\n",
       "        <tr>\n",
       "            <td>&nbsp;&nbsp;&nbsp;&nbsp;&nbsp;&nbsp;&nbsp;&nbsp;Workers Launched: 2</td>\n",
       "        </tr>\n",
       "        <tr>\n",
       "            <td>&nbsp;&nbsp;&nbsp;&nbsp;&nbsp;&nbsp;&nbsp;&nbsp;->  Sort  (cost=16366.92..17248.05 rows=352453 width=36) (actual time=72.135..72.137 rows=8 loops=3)</td>\n",
       "        </tr>\n",
       "        <tr>\n",
       "            <td>&nbsp;&nbsp;&nbsp;&nbsp;&nbsp;&nbsp;&nbsp;&nbsp;&nbsp;&nbsp;&nbsp;&nbsp;&nbsp;&nbsp;Sort Key: name</td>\n",
       "        </tr>\n",
       "        <tr>\n",
       "            <td>&nbsp;&nbsp;&nbsp;&nbsp;&nbsp;&nbsp;&nbsp;&nbsp;&nbsp;&nbsp;&nbsp;&nbsp;&nbsp;&nbsp;Sort Method: top-N heapsort  Memory: 26kB</td>\n",
       "        </tr>\n",
       "        <tr>\n",
       "            <td>&nbsp;&nbsp;&nbsp;&nbsp;&nbsp;&nbsp;&nbsp;&nbsp;&nbsp;&nbsp;&nbsp;&nbsp;&nbsp;&nbsp;Worker 0:  Sort Method: top-N heapsort  Memory: 25kB</td>\n",
       "        </tr>\n",
       "        <tr>\n",
       "            <td>&nbsp;&nbsp;&nbsp;&nbsp;&nbsp;&nbsp;&nbsp;&nbsp;&nbsp;&nbsp;&nbsp;&nbsp;&nbsp;&nbsp;Worker 1:  Sort Method: top-N heapsort  Memory: 25kB</td>\n",
       "        </tr>\n",
       "        <tr>\n",
       "            <td>&nbsp;&nbsp;&nbsp;&nbsp;&nbsp;&nbsp;&nbsp;&nbsp;&nbsp;&nbsp;&nbsp;&nbsp;&nbsp;&nbsp;->  Parallel Seq Scan on actor  (cost=0.00..8750.53 rows=352453 width=36) (actual time=0.025..40.377 rows=281963 loops=3)</td>\n",
       "        </tr>\n",
       "        <tr>\n",
       "            <td>Planning Time: 0.112 ms</td>\n",
       "        </tr>\n",
       "        <tr>\n",
       "            <td>Execution Time: 77.201 ms</td>\n",
       "        </tr>\n",
       "    </tbody>\n",
       "</table>"
      ],
      "text/plain": [
       "+-----------------------------------------------------------------------------------------------------------------------------------------+\n",
       "|                                                                QUERY PLAN                                                               |\n",
       "+-----------------------------------------------------------------------------------------------------------------------------------------+\n",
       "|                      Limit  (cost=17366.94..17368.11 rows=10 width=36) (actual time=74.626..77.175 rows=10 loops=1)                     |\n",
       "|               ->  Gather Merge  (cost=17366.94..99611.72 rows=704906 width=36) (actual time=74.624..77.172 rows=10 loops=1)             |\n",
       "|                                                                Workers Planned: 2                                                       |\n",
       "|                                                               Workers Launched: 2                                                       |\n",
       "|                       ->  Sort  (cost=16366.92..17248.05 rows=352453 width=36) (actual time=72.135..72.137 rows=8 loops=3)              |\n",
       "|                                                                     Sort Key: name                                                      |\n",
       "|                                                       Sort Method: top-N heapsort  Memory: 26kB                                         |\n",
       "|                                                  Worker 0:  Sort Method: top-N heapsort  Memory: 25kB                                   |\n",
       "|                                                  Worker 1:  Sort Method: top-N heapsort  Memory: 25kB                                   |\n",
       "|               ->  Parallel Seq Scan on actor  (cost=0.00..8750.53 rows=352453 width=36) (actual time=0.025..40.377 rows=281963 loops=3) |\n",
       "|                                                         Planning Time: 0.112 ms                                                         |\n",
       "|                                                        Execution Time: 77.201 ms                                                        |\n",
       "+-----------------------------------------------------------------------------------------------------------------------------------------+"
      ]
     },
     "execution_count": 15,
     "metadata": {},
     "output_type": "execute_result"
    }
   ],
   "source": [
    "%%sql\n",
    "EXPLAIN ANALYZE -- 5\n",
    "SELECT id\n",
    "FROM Actor\n",
    "ORDER BY name\n",
    "LIMIT 10;"
   ]
  },
  {
   "cell_type": "markdown",
   "id": "cc0c674f-b340-4c71-b53c-e07198a0f2c0",
   "metadata": {},
   "source": [
    "Query 5: Whoa! Sorts are expensive! "
   ]
  }
 ],
 "metadata": {
  "kernelspec": {
   "display_name": "Python 3 (ipykernel)",
   "language": "python",
   "name": "python3"
  },
  "language_info": {
   "codemirror_mode": {
    "name": "ipython",
    "version": 3
   },
   "file_extension": ".py",
   "mimetype": "text/x-python",
   "name": "python",
   "nbconvert_exporter": "python",
   "pygments_lexer": "ipython3",
   "version": "3.11.0"
  }
 },
 "nbformat": 4,
 "nbformat_minor": 5
}
