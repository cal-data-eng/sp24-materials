{
 "cells": [
  {
   "cell_type": "markdown",
   "id": "e1965f10-45dd-4a3e-9e6a-eed93f77b286",
   "metadata": {},
   "source": [
    "# Lecture 05: Subqueries, Aggregation"
   ]
  },
  {
   "cell_type": "code",
   "execution_count": 1,
   "id": "fdf87ce0-abac-4be1-8cb8-d4116c964696",
   "metadata": {},
   "outputs": [],
   "source": [
    "# Run this cell to set up imports\n",
    "import numpy as np\n",
    "import pandas as pd"
   ]
  },
  {
   "cell_type": "markdown",
   "id": "da449c15-cefd-43e4-a34e-4a0b5f26ac6f",
   "metadata": {},
   "source": [
    "Today's database is a modified version of the Oakland police stops database as made public by the Stanford Open Policing Project: https://openpolicing.stanford.edu/data/. Read more about the database [here](https://openpolicing.stanford.edu/findings/).\n",
    "\n",
    "If you are looking for how we adjusted the data, contact us and we can share our source notebook."
   ]
  },
  {
   "cell_type": "code",
   "execution_count": 2,
   "id": "e3a7d00c-28e5-41a8-a654-c72fb6f54a12",
   "metadata": {},
   "outputs": [
    {
     "name": "stdout",
     "output_type": "stream",
     "text": [
      "DROP DATABASE\n",
      "CREATE DATABASE\n",
      "SET\n",
      "SET\n",
      "SET\n",
      "SET\n",
      "SET\n",
      " set_config \n",
      "------------\n",
      " \n",
      "(1 row)\n",
      "\n",
      "SET\n",
      "SET\n",
      "SET\n",
      "SET\n",
      "SET\n",
      "SET\n",
      "CREATE TABLE\n",
      "ALTER TABLE\n",
      "CREATE TABLE\n",
      "ALTER TABLE\n",
      "COPY 84779\n",
      "COPY 211\n",
      "CREATE INDEX\n",
      "CREATE INDEX\n"
     ]
    }
   ],
   "source": [
    "!psql -h localhost -c 'DROP DATABASE IF EXISTS stops_lecture'\n",
    "!psql -h localhost -c 'CREATE DATABASE stops_lecture' \n",
    "!psql -h localhost -d stops_lecture -f data/stops_lecture.sql"
   ]
  },
  {
   "cell_type": "markdown",
   "id": "8db20304-74e9-4601-ab2c-76493fcddc4f",
   "metadata": {},
   "source": [
    "## `jupysql`"
   ]
  },
  {
   "cell_type": "markdown",
   "id": "62ec59db-3be6-49ce-89e1-6448271aefbd",
   "metadata": {},
   "source": [
    "We are going to be using the `jupysql` library to connect our notebook to a PostgreSQL database server on your jupyterhub account. The next cell should do the trick; you should not see any error messages after it completes."
   ]
  },
  {
   "cell_type": "code",
   "execution_count": 3,
   "id": "051090a0",
   "metadata": {},
   "outputs": [],
   "source": [
    "%load_ext sql"
   ]
  },
  {
   "cell_type": "code",
   "execution_count": 4,
   "id": "43b3b782-69c4-4938-b591-692f5f8c5018",
   "metadata": {},
   "outputs": [
    {
     "name": "stderr",
     "output_type": "stream",
     "text": [
      "RuntimeError: Could not close connection because it was not found amongst these: []\n",
      "If you need help solving this issue, send us a message: https://ploomber.io/community\n"
     ]
    }
   ],
   "source": [
    "%sql --close postgresql://127.0.0.1:5432/stops_lecture"
   ]
  },
  {
   "cell_type": "code",
   "execution_count": 5,
   "id": "9e044d01",
   "metadata": {
    "scrolled": true
   },
   "outputs": [],
   "source": [
    "%sql postgresql://127.0.0.1:5432/stops_lecture"
   ]
  },
  {
   "cell_type": "markdown",
   "id": "7958284b-2d75-4afe-bd98-c3103a9afbc6",
   "metadata": {},
   "source": [
    "Next, we explore Jupysql commands to list the tables in the database and columns per table."
   ]
  },
  {
   "cell_type": "code",
   "execution_count": 6,
   "id": "d8aa615a-8574-4ab3-a808-d501b97f74d6",
   "metadata": {},
   "outputs": [
    {
     "data": {
      "text/html": [
       "<table>\n",
       "    <thead>\n",
       "        <tr>\n",
       "            <th>Name</th>\n",
       "        </tr>\n",
       "    </thead>\n",
       "    <tbody>\n",
       "        <tr>\n",
       "            <td>stops</td>\n",
       "        </tr>\n",
       "        <tr>\n",
       "            <td>zips</td>\n",
       "        </tr>\n",
       "    </tbody>\n",
       "</table>"
      ],
      "text/plain": [
       "+-------+\n",
       "|  Name |\n",
       "+-------+\n",
       "| stops |\n",
       "|  zips |\n",
       "+-------+"
      ]
     },
     "execution_count": 6,
     "metadata": {},
     "output_type": "execute_result"
    }
   ],
   "source": [
    "%sqlcmd tables"
   ]
  },
  {
   "cell_type": "code",
   "execution_count": 7,
   "id": "2993ff40-f454-4ac2-ad54-c6d9862a3553",
   "metadata": {},
   "outputs": [
    {
     "data": {
      "text/html": [
       "<table>\n",
       "    <thead>\n",
       "        <tr>\n",
       "            <th>name</th>\n",
       "            <th>type</th>\n",
       "            <th>nullable</th>\n",
       "            <th>default</th>\n",
       "            <th>autoincrement</th>\n",
       "            <th>comment</th>\n",
       "        </tr>\n",
       "    </thead>\n",
       "    <tbody>\n",
       "        <tr>\n",
       "            <td>id</td>\n",
       "            <td>BIGINT</td>\n",
       "            <td>True</td>\n",
       "            <td>None</td>\n",
       "            <td>False</td>\n",
       "            <td>None</td>\n",
       "        </tr>\n",
       "        <tr>\n",
       "            <td>race</td>\n",
       "            <td>TEXT</td>\n",
       "            <td>True</td>\n",
       "            <td>None</td>\n",
       "            <td>False</td>\n",
       "            <td>None</td>\n",
       "        </tr>\n",
       "        <tr>\n",
       "            <td>sex</td>\n",
       "            <td>TEXT</td>\n",
       "            <td>True</td>\n",
       "            <td>None</td>\n",
       "            <td>False</td>\n",
       "            <td>None</td>\n",
       "        </tr>\n",
       "        <tr>\n",
       "            <td>age</td>\n",
       "            <td>DOUBLE PRECISION</td>\n",
       "            <td>True</td>\n",
       "            <td>None</td>\n",
       "            <td>False</td>\n",
       "            <td>None</td>\n",
       "        </tr>\n",
       "        <tr>\n",
       "            <td>arrest</td>\n",
       "            <td>BOOLEAN</td>\n",
       "            <td>True</td>\n",
       "            <td>None</td>\n",
       "            <td>False</td>\n",
       "            <td>None</td>\n",
       "        </tr>\n",
       "        <tr>\n",
       "            <td>citation</td>\n",
       "            <td>BOOLEAN</td>\n",
       "            <td>True</td>\n",
       "            <td>None</td>\n",
       "            <td>False</td>\n",
       "            <td>None</td>\n",
       "        </tr>\n",
       "        <tr>\n",
       "            <td>warning</td>\n",
       "            <td>BOOLEAN</td>\n",
       "            <td>True</td>\n",
       "            <td>None</td>\n",
       "            <td>False</td>\n",
       "            <td>None</td>\n",
       "        </tr>\n",
       "        <tr>\n",
       "            <td>search</td>\n",
       "            <td>BOOLEAN</td>\n",
       "            <td>True</td>\n",
       "            <td>None</td>\n",
       "            <td>False</td>\n",
       "            <td>None</td>\n",
       "        </tr>\n",
       "        <tr>\n",
       "            <td>location</td>\n",
       "            <td>TEXT</td>\n",
       "            <td>True</td>\n",
       "            <td>None</td>\n",
       "            <td>False</td>\n",
       "            <td>None</td>\n",
       "        </tr>\n",
       "    </tbody>\n",
       "</table>"
      ],
      "text/plain": [
       "+----------+------------------+----------+---------+---------------+---------+\n",
       "|   name   |       type       | nullable | default | autoincrement | comment |\n",
       "+----------+------------------+----------+---------+---------------+---------+\n",
       "|    id    |      BIGINT      |   True   |   None  |     False     |   None  |\n",
       "|   race   |       TEXT       |   True   |   None  |     False     |   None  |\n",
       "|   sex    |       TEXT       |   True   |   None  |     False     |   None  |\n",
       "|   age    | DOUBLE PRECISION |   True   |   None  |     False     |   None  |\n",
       "|  arrest  |     BOOLEAN      |   True   |   None  |     False     |   None  |\n",
       "| citation |     BOOLEAN      |   True   |   None  |     False     |   None  |\n",
       "| warning  |     BOOLEAN      |   True   |   None  |     False     |   None  |\n",
       "|  search  |     BOOLEAN      |   True   |   None  |     False     |   None  |\n",
       "| location |       TEXT       |   True   |   None  |     False     |   None  |\n",
       "+----------+------------------+----------+---------+---------------+---------+"
      ]
     },
     "execution_count": 7,
     "metadata": {},
     "output_type": "execute_result"
    }
   ],
   "source": [
    "%sqlcmd columns -t stops"
   ]
  },
  {
   "cell_type": "code",
   "execution_count": 8,
   "id": "bd624595-7575-4059-b15e-3a0ecaf45c2e",
   "metadata": {},
   "outputs": [
    {
     "data": {
      "text/html": [
       "<table>\n",
       "    <thead>\n",
       "        <tr>\n",
       "            <th>name</th>\n",
       "            <th>type</th>\n",
       "            <th>nullable</th>\n",
       "            <th>default</th>\n",
       "            <th>autoincrement</th>\n",
       "            <th>comment</th>\n",
       "        </tr>\n",
       "    </thead>\n",
       "    <tbody>\n",
       "        <tr>\n",
       "            <td>zip_id</td>\n",
       "            <td>BIGINT</td>\n",
       "            <td>True</td>\n",
       "            <td>None</td>\n",
       "            <td>False</td>\n",
       "            <td>None</td>\n",
       "        </tr>\n",
       "        <tr>\n",
       "            <td>location</td>\n",
       "            <td>TEXT</td>\n",
       "            <td>True</td>\n",
       "            <td>None</td>\n",
       "            <td>False</td>\n",
       "            <td>None</td>\n",
       "        </tr>\n",
       "        <tr>\n",
       "            <td>zipcode</td>\n",
       "            <td>BIGINT</td>\n",
       "            <td>True</td>\n",
       "            <td>None</td>\n",
       "            <td>False</td>\n",
       "            <td>None</td>\n",
       "        </tr>\n",
       "    </tbody>\n",
       "</table>"
      ],
      "text/plain": [
       "+----------+--------+----------+---------+---------------+---------+\n",
       "|   name   |  type  | nullable | default | autoincrement | comment |\n",
       "+----------+--------+----------+---------+---------------+---------+\n",
       "|  zip_id  | BIGINT |   True   |   None  |     False     |   None  |\n",
       "| location |  TEXT  |   True   |   None  |     False     |   None  |\n",
       "| zipcode  | BIGINT |   True   |   None  |     False     |   None  |\n",
       "+----------+--------+----------+---------+---------------+---------+"
      ]
     },
     "execution_count": 8,
     "metadata": {},
     "output_type": "execute_result"
    }
   ],
   "source": [
    "%sqlcmd columns -t zips"
   ]
  },
  {
   "cell_type": "markdown",
   "id": "982b0a4e-8cb0-4af9-8826-d1aa1b6cb910",
   "metadata": {},
   "source": [
    "Alright, so let's see a snippet of Zips next."
   ]
  },
  {
   "cell_type": "code",
   "execution_count": 9,
   "id": "6871b8f3-ffab-4c8c-9547-55dcb48bc979",
   "metadata": {},
   "outputs": [
    {
     "data": {
      "text/html": [
       "<span style=\"None\">Running query in &#x27;postgresql://127.0.0.1:5432/stops_lecture&#x27;</span>"
      ],
      "text/plain": [
       "Running query in 'postgresql://127.0.0.1:5432/stops_lecture'"
      ]
     },
     "metadata": {},
     "output_type": "display_data"
    },
    {
     "data": {
      "text/html": [
       "<span style=\"color: green\">10 rows affected.</span>"
      ],
      "text/plain": [
       "10 rows affected."
      ]
     },
     "metadata": {},
     "output_type": "display_data"
    },
    {
     "data": {
      "text/html": [
       "<table>\n",
       "    <thead>\n",
       "        <tr>\n",
       "            <th>zip_id</th>\n",
       "            <th>location</th>\n",
       "            <th>zipcode</th>\n",
       "        </tr>\n",
       "    </thead>\n",
       "    <tbody>\n",
       "        <tr>\n",
       "            <td>0</td>\n",
       "            <td>None</td>\n",
       "            <td>94546</td>\n",
       "        </tr>\n",
       "        <tr>\n",
       "            <td>1</td>\n",
       "            <td>Chabot Park</td>\n",
       "            <td>94546</td>\n",
       "        </tr>\n",
       "        <tr>\n",
       "            <td>2</td>\n",
       "            <td>Panoramic Hill</td>\n",
       "            <td>94563</td>\n",
       "        </tr>\n",
       "        <tr>\n",
       "            <td>3</td>\n",
       "            <td>None</td>\n",
       "            <td>94577</td>\n",
       "        </tr>\n",
       "        <tr>\n",
       "            <td>4</td>\n",
       "            <td>North Stonehurst</td>\n",
       "            <td>94577</td>\n",
       "        </tr>\n",
       "        <tr>\n",
       "            <td>5</td>\n",
       "            <td>Arrowhead Marsh</td>\n",
       "            <td>94601</td>\n",
       "        </tr>\n",
       "        <tr>\n",
       "            <td>6</td>\n",
       "            <td>Bartlett</td>\n",
       "            <td>94601</td>\n",
       "        </tr>\n",
       "        <tr>\n",
       "            <td>7</td>\n",
       "            <td>Coliseum Industrial</td>\n",
       "            <td>94601</td>\n",
       "        </tr>\n",
       "        <tr>\n",
       "            <td>8</td>\n",
       "            <td>Fairfax</td>\n",
       "            <td>94601</td>\n",
       "        </tr>\n",
       "        <tr>\n",
       "            <td>9</td>\n",
       "            <td>Fairfax Business-Wentworth-Holland</td>\n",
       "            <td>94601</td>\n",
       "        </tr>\n",
       "    </tbody>\n",
       "</table>\n",
       "<span style=\"font-style:italic;text-align:center;\">Truncated to <a href=\"https://jupysql.ploomber.io/en/latest/api/configuration.html#displaylimit\">displaylimit</a> of 10.</span>"
      ],
      "text/plain": [
       "+--------+------------------------------------+---------+\n",
       "| zip_id |              location              | zipcode |\n",
       "+--------+------------------------------------+---------+\n",
       "|   0    |                None                |  94546  |\n",
       "|   1    |            Chabot Park             |  94546  |\n",
       "|   2    |           Panoramic Hill           |  94563  |\n",
       "|   3    |                None                |  94577  |\n",
       "|   4    |          North Stonehurst          |  94577  |\n",
       "|   5    |          Arrowhead Marsh           |  94601  |\n",
       "|   6    |              Bartlett              |  94601  |\n",
       "|   7    |        Coliseum Industrial         |  94601  |\n",
       "|   8    |              Fairfax               |  94601  |\n",
       "|   9    | Fairfax Business-Wentworth-Holland |  94601  |\n",
       "+--------+------------------------------------+---------+\n",
       "Truncated to displaylimit of 10."
      ]
     },
     "execution_count": 9,
     "metadata": {},
     "output_type": "execute_result"
    }
   ],
   "source": [
    "%%sql\n",
    "SELECT *\n",
    "FROM Zips\n",
    "LIMIT 10;"
   ]
  },
  {
   "cell_type": "markdown",
   "id": "09424e42-9adf-40d9-8655-71cf09b8d352",
   "metadata": {},
   "source": [
    "With cell magic (`%%sql`), we can also assign the result to a variable. Try adding `result <<` to the top line of the below cell, i.e., replace the first line with\n",
    "\n",
    "``%%sql result <<``"
   ]
  },
  {
   "cell_type": "code",
   "execution_count": 10,
   "id": "c4fa4d74",
   "metadata": {},
   "outputs": [
    {
     "data": {
      "text/html": [
       "<span style=\"None\">Running query in &#x27;postgresql://127.0.0.1:5432/stops_lecture&#x27;</span>"
      ],
      "text/plain": [
       "Running query in 'postgresql://127.0.0.1:5432/stops_lecture'"
      ]
     },
     "metadata": {},
     "output_type": "display_data"
    },
    {
     "data": {
      "text/html": [
       "<span style=\"color: green\">10 rows affected.</span>"
      ],
      "text/plain": [
       "10 rows affected."
      ]
     },
     "metadata": {},
     "output_type": "display_data"
    }
   ],
   "source": [
    "%%sql result <<\n",
    "SELECT *\n",
    "FROM Stops\n",
    "ORDER BY RANDOM()\n",
    "LIMIT 10;"
   ]
  },
  {
   "cell_type": "markdown",
   "id": "4f7644e3-6693-4daa-a5af-ad802512efe9",
   "metadata": {},
   "source": [
    "This won't work unless you've assigned the SQL query output above to `result`. "
   ]
  },
  {
   "cell_type": "code",
   "execution_count": 11,
   "id": "8825644a-86fd-4e37-9345-656e2805f82d",
   "metadata": {},
   "outputs": [
    {
     "data": {
      "text/html": [
       "<table>\n",
       "    <thead>\n",
       "        <tr>\n",
       "            <th>id</th>\n",
       "            <th>race</th>\n",
       "            <th>sex</th>\n",
       "            <th>age</th>\n",
       "            <th>arrest</th>\n",
       "            <th>citation</th>\n",
       "            <th>warning</th>\n",
       "            <th>search</th>\n",
       "            <th>location</th>\n",
       "        </tr>\n",
       "    </thead>\n",
       "    <tbody>\n",
       "        <tr>\n",
       "            <td>135772</td>\n",
       "            <td>black</td>\n",
       "            <td>female</td>\n",
       "            <td>18.0</td>\n",
       "            <td>False</td>\n",
       "            <td>False</td>\n",
       "            <td>True</td>\n",
       "            <td>False</td>\n",
       "            <td>Elmhurst</td>\n",
       "        </tr>\n",
       "        <tr>\n",
       "            <td>38972</td>\n",
       "            <td>asian/pacific islander</td>\n",
       "            <td>male</td>\n",
       "            <td>None</td>\n",
       "            <td>False</td>\n",
       "            <td>False</td>\n",
       "            <td>False</td>\n",
       "            <td>False</td>\n",
       "            <td>San Antonio</td>\n",
       "        </tr>\n",
       "        <tr>\n",
       "            <td>33029</td>\n",
       "            <td>black</td>\n",
       "            <td>male</td>\n",
       "            <td>None</td>\n",
       "            <td>False</td>\n",
       "            <td>False</td>\n",
       "            <td>False</td>\n",
       "            <td>True</td>\n",
       "            <td>Elmhurst</td>\n",
       "        </tr>\n",
       "        <tr>\n",
       "            <td>72073</td>\n",
       "            <td>black</td>\n",
       "            <td>male</td>\n",
       "            <td>None</td>\n",
       "            <td>False</td>\n",
       "            <td>False</td>\n",
       "            <td>False</td>\n",
       "            <td>True</td>\n",
       "            <td>West Oakland</td>\n",
       "        </tr>\n",
       "        <tr>\n",
       "            <td>120660</td>\n",
       "            <td>black</td>\n",
       "            <td>male</td>\n",
       "            <td>25.0</td>\n",
       "            <td>False</td>\n",
       "            <td>False</td>\n",
       "            <td>False</td>\n",
       "            <td>False</td>\n",
       "            <td>East Oakland</td>\n",
       "        </tr>\n",
       "        <tr>\n",
       "            <td>75060</td>\n",
       "            <td>hispanic</td>\n",
       "            <td>male</td>\n",
       "            <td>None</td>\n",
       "            <td>False</td>\n",
       "            <td>False</td>\n",
       "            <td>False</td>\n",
       "            <td>False</td>\n",
       "            <td>Downtown Oakland</td>\n",
       "        </tr>\n",
       "        <tr>\n",
       "            <td>37546</td>\n",
       "            <td>hispanic</td>\n",
       "            <td>male</td>\n",
       "            <td>None</td>\n",
       "            <td>False</td>\n",
       "            <td>True</td>\n",
       "            <td>False</td>\n",
       "            <td>False</td>\n",
       "            <td>Downtown Oakland</td>\n",
       "        </tr>\n",
       "        <tr>\n",
       "            <td>39051</td>\n",
       "            <td>black</td>\n",
       "            <td>male</td>\n",
       "            <td>None</td>\n",
       "            <td>False</td>\n",
       "            <td>False</td>\n",
       "            <td>True</td>\n",
       "            <td>False</td>\n",
       "            <td>Elmhurst</td>\n",
       "        </tr>\n",
       "        <tr>\n",
       "            <td>42071</td>\n",
       "            <td>black</td>\n",
       "            <td>male</td>\n",
       "            <td>None</td>\n",
       "            <td>False</td>\n",
       "            <td>False</td>\n",
       "            <td>True</td>\n",
       "            <td>False</td>\n",
       "            <td>North Oakland</td>\n",
       "        </tr>\n",
       "        <tr>\n",
       "            <td>107052</td>\n",
       "            <td>black</td>\n",
       "            <td>female</td>\n",
       "            <td>None</td>\n",
       "            <td>False</td>\n",
       "            <td>True</td>\n",
       "            <td>False</td>\n",
       "            <td>False</td>\n",
       "            <td>None</td>\n",
       "        </tr>\n",
       "    </tbody>\n",
       "</table>\n",
       "<span style=\"font-style:italic;text-align:center;\">Truncated to <a href=\"https://jupysql.ploomber.io/en/latest/api/configuration.html#displaylimit\">displaylimit</a> of 10.</span>"
      ],
      "text/plain": [
       "+--------+------------------------+--------+------+--------+----------+---------+--------+------------------+\n",
       "|   id   |          race          |  sex   | age  | arrest | citation | warning | search |     location     |\n",
       "+--------+------------------------+--------+------+--------+----------+---------+--------+------------------+\n",
       "| 135772 |         black          | female | 18.0 | False  |  False   |   True  | False  |     Elmhurst     |\n",
       "| 38972  | asian/pacific islander |  male  | None | False  |  False   |  False  | False  |   San Antonio    |\n",
       "| 33029  |         black          |  male  | None | False  |  False   |  False  |  True  |     Elmhurst     |\n",
       "| 72073  |         black          |  male  | None | False  |  False   |  False  |  True  |   West Oakland   |\n",
       "| 120660 |         black          |  male  | 25.0 | False  |  False   |  False  | False  |   East Oakland   |\n",
       "| 75060  |        hispanic        |  male  | None | False  |  False   |  False  | False  | Downtown Oakland |\n",
       "| 37546  |        hispanic        |  male  | None | False  |   True   |  False  | False  | Downtown Oakland |\n",
       "| 39051  |         black          |  male  | None | False  |  False   |   True  | False  |     Elmhurst     |\n",
       "| 42071  |         black          |  male  | None | False  |  False   |   True  | False  |  North Oakland   |\n",
       "| 107052 |         black          | female | None | False  |   True   |  False  | False  |       None       |\n",
       "+--------+------------------------+--------+------+--------+----------+---------+--------+------------------+\n",
       "Truncated to displaylimit of 10."
      ]
     },
     "execution_count": 11,
     "metadata": {},
     "output_type": "execute_result"
    }
   ],
   "source": [
    "result"
   ]
  },
  {
   "cell_type": "markdown",
   "id": "9214a26c-06d6-469e-b28f-d54bf1bac558",
   "metadata": {},
   "source": [
    "## Exercise \\#1\n",
    "\n",
    "How do we find the stops that happened in the same location as the stop with ID 123?\n",
    "Let's start by seeing which location the stop with ID 123 happened at."
   ]
  },
  {
   "cell_type": "code",
   "execution_count": 12,
   "id": "24713615-4936-4924-9ff9-79f16947b53b",
   "metadata": {},
   "outputs": [
    {
     "data": {
      "text/html": [
       "<span style=\"None\">Running query in &#x27;postgresql://127.0.0.1:5432/stops_lecture&#x27;</span>"
      ],
      "text/plain": [
       "Running query in 'postgresql://127.0.0.1:5432/stops_lecture'"
      ]
     },
     "metadata": {},
     "output_type": "display_data"
    },
    {
     "data": {
      "text/html": [
       "<span style=\"color: green\">1 rows affected.</span>"
      ],
      "text/plain": [
       "1 rows affected."
      ]
     },
     "metadata": {},
     "output_type": "display_data"
    },
    {
     "data": {
      "text/html": [
       "<table>\n",
       "    <thead>\n",
       "        <tr>\n",
       "            <th>id</th>\n",
       "            <th>race</th>\n",
       "            <th>sex</th>\n",
       "            <th>age</th>\n",
       "            <th>arrest</th>\n",
       "            <th>citation</th>\n",
       "            <th>warning</th>\n",
       "            <th>search</th>\n",
       "            <th>location</th>\n",
       "        </tr>\n",
       "    </thead>\n",
       "    <tbody>\n",
       "        <tr>\n",
       "            <td>123</td>\n",
       "            <td>hispanic</td>\n",
       "            <td>female</td>\n",
       "            <td>None</td>\n",
       "            <td>False</td>\n",
       "            <td>False</td>\n",
       "            <td>False</td>\n",
       "            <td>False</td>\n",
       "            <td>Bancroft Avenue</td>\n",
       "        </tr>\n",
       "    </tbody>\n",
       "</table>"
      ],
      "text/plain": [
       "+-----+----------+--------+------+--------+----------+---------+--------+-----------------+\n",
       "|  id |   race   |  sex   | age  | arrest | citation | warning | search |     location    |\n",
       "+-----+----------+--------+------+--------+----------+---------+--------+-----------------+\n",
       "| 123 | hispanic | female | None | False  |  False   |  False  | False  | Bancroft Avenue |\n",
       "+-----+----------+--------+------+--------+----------+---------+--------+-----------------+"
      ]
     },
     "execution_count": 12,
     "metadata": {},
     "output_type": "execute_result"
    }
   ],
   "source": [
    "%%sql\n",
    "SELECT *\n",
    "FROM Stops\n",
    "WHERE id = 123;"
   ]
  },
  {
   "cell_type": "markdown",
   "id": "983f793d-0191-4377-913a-de4900d62bbe",
   "metadata": {},
   "source": [
    "OK, so now, the first approach we might want to take is with joins. "
   ]
  },
  {
   "cell_type": "code",
   "execution_count": 13,
   "id": "8172eee5-4541-406f-b7af-9d14ceeddde8",
   "metadata": {
    "scrolled": true
   },
   "outputs": [
    {
     "data": {
      "text/html": [
       "<span style=\"None\">Running query in &#x27;postgresql://127.0.0.1:5432/stops_lecture&#x27;</span>"
      ],
      "text/plain": [
       "Running query in 'postgresql://127.0.0.1:5432/stops_lecture'"
      ]
     },
     "metadata": {},
     "output_type": "display_data"
    },
    {
     "data": {
      "text/html": [
       "<span style=\"color: green\">444 rows affected.</span>"
      ],
      "text/plain": [
       "444 rows affected."
      ]
     },
     "metadata": {},
     "output_type": "display_data"
    },
    {
     "data": {
      "text/html": [
       "<table>\n",
       "    <thead>\n",
       "        <tr>\n",
       "            <th>id</th>\n",
       "            <th>race</th>\n",
       "            <th>location</th>\n",
       "        </tr>\n",
       "    </thead>\n",
       "    <tbody>\n",
       "        <tr>\n",
       "            <td>2720</td>\n",
       "            <td>white</td>\n",
       "            <td>Bancroft Avenue</td>\n",
       "        </tr>\n",
       "        <tr>\n",
       "            <td>3097</td>\n",
       "            <td>black</td>\n",
       "            <td>Bancroft Avenue</td>\n",
       "        </tr>\n",
       "        <tr>\n",
       "            <td>4715</td>\n",
       "            <td>hispanic</td>\n",
       "            <td>Bancroft Avenue</td>\n",
       "        </tr>\n",
       "        <tr>\n",
       "            <td>12159</td>\n",
       "            <td>black</td>\n",
       "            <td>Bancroft Avenue</td>\n",
       "        </tr>\n",
       "        <tr>\n",
       "            <td>80360</td>\n",
       "            <td>hispanic</td>\n",
       "            <td>Bancroft Avenue</td>\n",
       "        </tr>\n",
       "        <tr>\n",
       "            <td>123</td>\n",
       "            <td>hispanic</td>\n",
       "            <td>Bancroft Avenue</td>\n",
       "        </tr>\n",
       "        <tr>\n",
       "            <td>603</td>\n",
       "            <td>black</td>\n",
       "            <td>Bancroft Avenue</td>\n",
       "        </tr>\n",
       "        <tr>\n",
       "            <td>928</td>\n",
       "            <td>black</td>\n",
       "            <td>Bancroft Avenue</td>\n",
       "        </tr>\n",
       "        <tr>\n",
       "            <td>2857</td>\n",
       "            <td>black</td>\n",
       "            <td>Bancroft Avenue</td>\n",
       "        </tr>\n",
       "        <tr>\n",
       "            <td>2914</td>\n",
       "            <td>hispanic</td>\n",
       "            <td>Bancroft Avenue</td>\n",
       "        </tr>\n",
       "    </tbody>\n",
       "</table>\n",
       "<span style=\"font-style:italic;text-align:center;\">Truncated to <a href=\"https://jupysql.ploomber.io/en/latest/api/configuration.html#displaylimit\">displaylimit</a> of 10.</span>"
      ],
      "text/plain": [
       "+-------+----------+-----------------+\n",
       "|   id  |   race   |     location    |\n",
       "+-------+----------+-----------------+\n",
       "|  2720 |  white   | Bancroft Avenue |\n",
       "|  3097 |  black   | Bancroft Avenue |\n",
       "|  4715 | hispanic | Bancroft Avenue |\n",
       "| 12159 |  black   | Bancroft Avenue |\n",
       "| 80360 | hispanic | Bancroft Avenue |\n",
       "|  123  | hispanic | Bancroft Avenue |\n",
       "|  603  |  black   | Bancroft Avenue |\n",
       "|  928  |  black   | Bancroft Avenue |\n",
       "|  2857 |  black   | Bancroft Avenue |\n",
       "|  2914 | hispanic | Bancroft Avenue |\n",
       "+-------+----------+-----------------+\n",
       "Truncated to displaylimit of 10."
      ]
     },
     "execution_count": 13,
     "metadata": {},
     "output_type": "execute_result"
    }
   ],
   "source": [
    "%%sql\n",
    "SELECT S1.id, S1.race,\n",
    "       S1.location\n",
    "FROM Stops as S1,   -- the \"other stops\"\n",
    "     Stops as S2    -- the \"stop that refers to ID 123\"\n",
    "WHERE S1.location = S2.location -- the \"other stops\" must match the ID 123 location\n",
    "    AND S2.id = 123;"
   ]
  },
  {
   "cell_type": "markdown",
   "id": "957008b1-b9da-4df0-9bb4-c5eff2f09a94",
   "metadata": {},
   "source": [
    "<br/>\n",
    "\n",
    "Approach \\#2 with CTE:\n",
    "CTEs allow us to assign a variable name to a SQL query, as follows."
   ]
  },
  {
   "cell_type": "code",
   "execution_count": 14,
   "id": "e50f0f62-afa1-43cb-9956-42a4be01f2ce",
   "metadata": {},
   "outputs": [
    {
     "data": {
      "text/html": [
       "<span style=\"None\">Running query in &#x27;postgresql://127.0.0.1:5432/stops_lecture&#x27;</span>"
      ],
      "text/plain": [
       "Running query in 'postgresql://127.0.0.1:5432/stops_lecture'"
      ]
     },
     "metadata": {},
     "output_type": "display_data"
    },
    {
     "data": {
      "text/html": [
       "<span style=\"color: green\">1 rows affected.</span>"
      ],
      "text/plain": [
       "1 rows affected."
      ]
     },
     "metadata": {},
     "output_type": "display_data"
    },
    {
     "data": {
      "text/html": [
       "<table>\n",
       "    <thead>\n",
       "        <tr>\n",
       "            <th>location</th>\n",
       "        </tr>\n",
       "    </thead>\n",
       "    <tbody>\n",
       "        <tr>\n",
       "            <td>Bancroft Avenue</td>\n",
       "        </tr>\n",
       "    </tbody>\n",
       "</table>"
      ],
      "text/plain": [
       "+-----------------+\n",
       "|     location    |\n",
       "+-----------------+\n",
       "| Bancroft Avenue |\n",
       "+-----------------+"
      ]
     },
     "execution_count": 14,
     "metadata": {},
     "output_type": "execute_result"
    }
   ],
   "source": [
    "%%sql\n",
    "WITH Location123 AS (\n",
    "    SELECT location\n",
    "    FROM Stops\n",
    "    WHERE id = 123\n",
    ") SELECT * FROM Location123;"
   ]
  },
  {
   "cell_type": "markdown",
   "id": "6ef850a9-2c03-4fd1-85cd-07ba0682bfc6",
   "metadata": {},
   "source": [
    "OK, so now we can extend the approach to give the solution."
   ]
  },
  {
   "cell_type": "code",
   "execution_count": 15,
   "id": "cdcddc9b-ad65-4433-b397-64158521e942",
   "metadata": {},
   "outputs": [
    {
     "data": {
      "text/html": [
       "<span style=\"None\">Running query in &#x27;postgresql://127.0.0.1:5432/stops_lecture&#x27;</span>"
      ],
      "text/plain": [
       "Running query in 'postgresql://127.0.0.1:5432/stops_lecture'"
      ]
     },
     "metadata": {},
     "output_type": "display_data"
    },
    {
     "data": {
      "text/html": [
       "<span style=\"color: green\">444 rows affected.</span>"
      ],
      "text/plain": [
       "444 rows affected."
      ]
     },
     "metadata": {},
     "output_type": "display_data"
    },
    {
     "data": {
      "text/html": [
       "<table>\n",
       "    <thead>\n",
       "        <tr>\n",
       "            <th>id</th>\n",
       "            <th>race</th>\n",
       "            <th>location</th>\n",
       "        </tr>\n",
       "    </thead>\n",
       "    <tbody>\n",
       "        <tr>\n",
       "            <td>2720</td>\n",
       "            <td>white</td>\n",
       "            <td>Bancroft Avenue</td>\n",
       "        </tr>\n",
       "        <tr>\n",
       "            <td>3097</td>\n",
       "            <td>black</td>\n",
       "            <td>Bancroft Avenue</td>\n",
       "        </tr>\n",
       "        <tr>\n",
       "            <td>4715</td>\n",
       "            <td>hispanic</td>\n",
       "            <td>Bancroft Avenue</td>\n",
       "        </tr>\n",
       "        <tr>\n",
       "            <td>12159</td>\n",
       "            <td>black</td>\n",
       "            <td>Bancroft Avenue</td>\n",
       "        </tr>\n",
       "        <tr>\n",
       "            <td>80360</td>\n",
       "            <td>hispanic</td>\n",
       "            <td>Bancroft Avenue</td>\n",
       "        </tr>\n",
       "        <tr>\n",
       "            <td>123</td>\n",
       "            <td>hispanic</td>\n",
       "            <td>Bancroft Avenue</td>\n",
       "        </tr>\n",
       "        <tr>\n",
       "            <td>603</td>\n",
       "            <td>black</td>\n",
       "            <td>Bancroft Avenue</td>\n",
       "        </tr>\n",
       "        <tr>\n",
       "            <td>928</td>\n",
       "            <td>black</td>\n",
       "            <td>Bancroft Avenue</td>\n",
       "        </tr>\n",
       "        <tr>\n",
       "            <td>2857</td>\n",
       "            <td>black</td>\n",
       "            <td>Bancroft Avenue</td>\n",
       "        </tr>\n",
       "        <tr>\n",
       "            <td>2914</td>\n",
       "            <td>hispanic</td>\n",
       "            <td>Bancroft Avenue</td>\n",
       "        </tr>\n",
       "    </tbody>\n",
       "</table>\n",
       "<span style=\"font-style:italic;text-align:center;\">Truncated to <a href=\"https://jupysql.ploomber.io/en/latest/api/configuration.html#displaylimit\">displaylimit</a> of 10.</span>"
      ],
      "text/plain": [
       "+-------+----------+-----------------+\n",
       "|   id  |   race   |     location    |\n",
       "+-------+----------+-----------------+\n",
       "|  2720 |  white   | Bancroft Avenue |\n",
       "|  3097 |  black   | Bancroft Avenue |\n",
       "|  4715 | hispanic | Bancroft Avenue |\n",
       "| 12159 |  black   | Bancroft Avenue |\n",
       "| 80360 | hispanic | Bancroft Avenue |\n",
       "|  123  | hispanic | Bancroft Avenue |\n",
       "|  603  |  black   | Bancroft Avenue |\n",
       "|  928  |  black   | Bancroft Avenue |\n",
       "|  2857 |  black   | Bancroft Avenue |\n",
       "|  2914 | hispanic | Bancroft Avenue |\n",
       "+-------+----------+-----------------+\n",
       "Truncated to displaylimit of 10."
      ]
     },
     "execution_count": 15,
     "metadata": {},
     "output_type": "execute_result"
    }
   ],
   "source": [
    "%%sql\n",
    "WITH Location123 AS (\n",
    "    SELECT location\n",
    "    FROM Stops\n",
    "    WHERE id = 123\n",
    ")\n",
    "SELECT S.id, S.race,\n",
    "       S.location\n",
    "FROM Stops as S,\n",
    "    Location123\n",
    "WHERE S.location = Location123.location;"
   ]
  },
  {
   "cell_type": "markdown",
   "id": "aa6c94e0-2566-492b-96aa-66a306aac59e",
   "metadata": {},
   "source": [
    "<br/>\n",
    "\n",
    "Approach \\#3 with scalar subquery:"
   ]
  },
  {
   "cell_type": "code",
   "execution_count": 15,
   "id": "24f7b0aa-935f-4dc6-b395-45ffc2226855",
   "metadata": {},
   "outputs": [
    {
     "data": {
      "text/html": [
       "<span style=\"None\">Running query in &#x27;postgresql://127.0.0.1:5432/stops_lecture&#x27;</span>"
      ],
      "text/plain": [
       "Running query in 'postgresql://127.0.0.1:5432/stops_lecture'"
      ]
     },
     "metadata": {},
     "output_type": "display_data"
    },
    {
     "data": {
      "text/html": [
       "<span style=\"color: green\">444 rows affected.</span>"
      ],
      "text/plain": [
       "444 rows affected."
      ]
     },
     "metadata": {},
     "output_type": "display_data"
    },
    {
     "data": {
      "text/html": [
       "<table>\n",
       "    <thead>\n",
       "        <tr>\n",
       "            <th>id</th>\n",
       "            <th>race</th>\n",
       "            <th>location</th>\n",
       "        </tr>\n",
       "    </thead>\n",
       "    <tbody>\n",
       "        <tr>\n",
       "            <td>2720</td>\n",
       "            <td>white</td>\n",
       "            <td>Bancroft Avenue</td>\n",
       "        </tr>\n",
       "        <tr>\n",
       "            <td>3097</td>\n",
       "            <td>black</td>\n",
       "            <td>Bancroft Avenue</td>\n",
       "        </tr>\n",
       "        <tr>\n",
       "            <td>4715</td>\n",
       "            <td>hispanic</td>\n",
       "            <td>Bancroft Avenue</td>\n",
       "        </tr>\n",
       "        <tr>\n",
       "            <td>12159</td>\n",
       "            <td>black</td>\n",
       "            <td>Bancroft Avenue</td>\n",
       "        </tr>\n",
       "        <tr>\n",
       "            <td>80360</td>\n",
       "            <td>hispanic</td>\n",
       "            <td>Bancroft Avenue</td>\n",
       "        </tr>\n",
       "        <tr>\n",
       "            <td>123</td>\n",
       "            <td>hispanic</td>\n",
       "            <td>Bancroft Avenue</td>\n",
       "        </tr>\n",
       "        <tr>\n",
       "            <td>603</td>\n",
       "            <td>black</td>\n",
       "            <td>Bancroft Avenue</td>\n",
       "        </tr>\n",
       "        <tr>\n",
       "            <td>928</td>\n",
       "            <td>black</td>\n",
       "            <td>Bancroft Avenue</td>\n",
       "        </tr>\n",
       "        <tr>\n",
       "            <td>2857</td>\n",
       "            <td>black</td>\n",
       "            <td>Bancroft Avenue</td>\n",
       "        </tr>\n",
       "        <tr>\n",
       "            <td>2914</td>\n",
       "            <td>hispanic</td>\n",
       "            <td>Bancroft Avenue</td>\n",
       "        </tr>\n",
       "    </tbody>\n",
       "</table>\n",
       "<span style=\"font-style:italic;text-align:center;\">Truncated to <a href=\"https://jupysql.ploomber.io/en/latest/api/configuration.html#displaylimit\">displaylimit</a> of 10.</span>"
      ],
      "text/plain": [
       "+-------+----------+-----------------+\n",
       "|   id  |   race   |     location    |\n",
       "+-------+----------+-----------------+\n",
       "|  2720 |  white   | Bancroft Avenue |\n",
       "|  3097 |  black   | Bancroft Avenue |\n",
       "|  4715 | hispanic | Bancroft Avenue |\n",
       "| 12159 |  black   | Bancroft Avenue |\n",
       "| 80360 | hispanic | Bancroft Avenue |\n",
       "|  123  | hispanic | Bancroft Avenue |\n",
       "|  603  |  black   | Bancroft Avenue |\n",
       "|  928  |  black   | Bancroft Avenue |\n",
       "|  2857 |  black   | Bancroft Avenue |\n",
       "|  2914 | hispanic | Bancroft Avenue |\n",
       "+-------+----------+-----------------+\n",
       "Truncated to displaylimit of 10."
      ]
     },
     "execution_count": 15,
     "metadata": {},
     "output_type": "execute_result"
    }
   ],
   "source": [
    "%%sql\n",
    "SELECT S1.id, S1.race, S1.location\n",
    "FROM Stops S1\n",
    "WHERE S1.location = (\n",
    "         SELECT S2.location\n",
    "         FROM Stops\n",
    "         S2 WHERE S2.id = 123);"
   ]
  },
  {
   "cell_type": "markdown",
   "id": "9f9767a9-96ae-4644-be63-76bacbc169e6",
   "metadata": {},
   "source": [
    "## `EXISTS` Subquery (and `NOT EXISTS`)\n",
    "\n",
    "Example for `EXISTS`: we use it to find all the locations of the Stops for which we don't have a corresponding Zipcode in the Zips relation."
   ]
  },
  {
   "cell_type": "code",
   "execution_count": 16,
   "id": "a8ddd8ce-f023-4887-aa96-1d80e2113433",
   "metadata": {},
   "outputs": [
    {
     "data": {
      "text/html": [
       "<span style=\"None\">Running query in &#x27;postgresql://127.0.0.1:5432/stops_lecture&#x27;</span>"
      ],
      "text/plain": [
       "Running query in 'postgresql://127.0.0.1:5432/stops_lecture'"
      ]
     },
     "metadata": {},
     "output_type": "display_data"
    },
    {
     "data": {
      "text/html": [
       "<span style=\"color: green\">120 rows affected.</span>"
      ],
      "text/plain": [
       "120 rows affected."
      ]
     },
     "metadata": {},
     "output_type": "display_data"
    },
    {
     "data": {
      "text/html": [
       "<table>\n",
       "    <thead>\n",
       "        <tr>\n",
       "            <th>location</th>\n",
       "        </tr>\n",
       "    </thead>\n",
       "    <tbody>\n",
       "        <tr>\n",
       "            <td>None</td>\n",
       "        </tr>\n",
       "        <tr>\n",
       "            <td>Thornhill Drive</td>\n",
       "        </tr>\n",
       "        <tr>\n",
       "            <td>Pendleton Way</td>\n",
       "        </tr>\n",
       "        <tr>\n",
       "            <td>Thermal Street</td>\n",
       "        </tr>\n",
       "        <tr>\n",
       "            <td>Harrison/Oakland</td>\n",
       "        </tr>\n",
       "        <tr>\n",
       "            <td>B Street</td>\n",
       "        </tr>\n",
       "        <tr>\n",
       "            <td>Highland Hospital</td>\n",
       "        </tr>\n",
       "        <tr>\n",
       "            <td>Weld Street</td>\n",
       "        </tr>\n",
       "        <tr>\n",
       "            <td>Royal Kitchen</td>\n",
       "        </tr>\n",
       "        <tr>\n",
       "            <td>Havenscourt Middle School</td>\n",
       "        </tr>\n",
       "    </tbody>\n",
       "</table>\n",
       "<span style=\"font-style:italic;text-align:center;\">Truncated to <a href=\"https://jupysql.ploomber.io/en/latest/api/configuration.html#displaylimit\">displaylimit</a> of 10.</span>"
      ],
      "text/plain": [
       "+---------------------------+\n",
       "|          location         |\n",
       "+---------------------------+\n",
       "|            None           |\n",
       "|      Thornhill Drive      |\n",
       "|       Pendleton Way       |\n",
       "|       Thermal Street      |\n",
       "|      Harrison/Oakland     |\n",
       "|          B Street         |\n",
       "|     Highland Hospital     |\n",
       "|        Weld Street        |\n",
       "|       Royal Kitchen       |\n",
       "| Havenscourt Middle School |\n",
       "+---------------------------+\n",
       "Truncated to displaylimit of 10."
      ]
     },
     "execution_count": 16,
     "metadata": {},
     "output_type": "execute_result"
    }
   ],
   "source": [
    "%%sql\n",
    "SELECT DISTINCT Stops.location FROM Stops\n",
    "WHERE NOT EXISTS (\n",
    "  SELECT * FROM Zips\n",
    "  WHERE Zips.location = \n",
    "          Stops.location);"
   ]
  },
  {
   "cell_type": "markdown",
   "id": "ff273b90-641f-45bb-9b41-3a4964b8ce2f",
   "metadata": {},
   "source": [
    "# Exercise \\#2\n",
    "\n",
    "Finding all the stops that are the only one in their zipcode."
   ]
  },
  {
   "cell_type": "code",
   "execution_count": 17,
   "id": "ce03ccb0-445c-4133-8f3d-f24386bf92fd",
   "metadata": {
    "scrolled": true
   },
   "outputs": [
    {
     "data": {
      "text/html": [
       "<span style=\"None\">Running query in &#x27;postgresql://127.0.0.1:5432/stops_lecture&#x27;</span>"
      ],
      "text/plain": [
       "Running query in 'postgresql://127.0.0.1:5432/stops_lecture'"
      ]
     },
     "metadata": {},
     "output_type": "display_data"
    },
    {
     "data": {
      "text/html": [
       "<table>\n",
       "    <thead>\n",
       "        <tr>\n",
       "            <th>location</th>\n",
       "            <th>id</th>\n",
       "            <th>race</th>\n",
       "            <th>sex</th>\n",
       "            <th>age</th>\n",
       "            <th>arrest</th>\n",
       "            <th>citation</th>\n",
       "            <th>warning</th>\n",
       "            <th>search</th>\n",
       "            <th>zip_id</th>\n",
       "            <th>zipcode</th>\n",
       "        </tr>\n",
       "    </thead>\n",
       "    <tbody>\n",
       "    </tbody>\n",
       "</table>"
      ],
      "text/plain": [
       "+----------+----+------+-----+-----+--------+----------+---------+--------+--------+---------+\n",
       "| location | id | race | sex | age | arrest | citation | warning | search | zip_id | zipcode |\n",
       "+----------+----+------+-----+-----+--------+----------+---------+--------+--------+---------+\n",
       "+----------+----+------+-----+-----+--------+----------+---------+--------+--------+---------+"
      ]
     },
     "execution_count": 17,
     "metadata": {},
     "output_type": "execute_result"
    }
   ],
   "source": [
    "%%sql\n",
    "WITH StopZips AS (\n",
    "    SELECT * FROM Stops NATURAL JOIN Zips\n",
    ")\n",
    "SELECT *\n",
    "FROM StopZips SZ1\n",
    "WHERE NOT EXISTS (\n",
    "    -- prove that there is not another id\n",
    "    -- for the same zipcode\n",
    "    -- --> i.e., there is an id for the same zipcode\n",
    "    SELECT *\n",
    "    FROM StopZips SZ2\n",
    "    WHERE SZ1.zipcode = SZ2.zipcode -- same zipcode as the table we're looking at\n",
    "          AND SZ1.id != SZ2.id\n",
    ");\n"
   ]
  },
  {
   "cell_type": "markdown",
   "id": "b15815e6-fba4-40a5-ae39-5725518840c7",
   "metadata": {},
   "source": [
    "Note -- there are no stops that are the only one in their zipcode:"
   ]
  },
  {
   "cell_type": "code",
   "execution_count": 18,
   "id": "8de05a50-026d-476e-a983-b4ac3f962225",
   "metadata": {},
   "outputs": [
    {
     "data": {
      "text/html": [
       "<span style=\"None\">Running query in &#x27;postgresql://127.0.0.1:5432/stops_lecture&#x27;</span>"
      ],
      "text/plain": [
       "Running query in 'postgresql://127.0.0.1:5432/stops_lecture'"
      ]
     },
     "metadata": {},
     "output_type": "display_data"
    },
    {
     "data": {
      "text/html": [
       "<span style=\"color: green\">15 rows affected.</span>"
      ],
      "text/plain": [
       "15 rows affected."
      ]
     },
     "metadata": {},
     "output_type": "display_data"
    },
    {
     "data": {
      "text/html": [
       "<table>\n",
       "    <thead>\n",
       "        <tr>\n",
       "            <th>zipcode</th>\n",
       "            <th>count</th>\n",
       "        </tr>\n",
       "    </thead>\n",
       "    <tbody>\n",
       "        <tr>\n",
       "            <td>94621</td>\n",
       "            <td>21</td>\n",
       "        </tr>\n",
       "        <tr>\n",
       "            <td>94601</td>\n",
       "            <td>43</td>\n",
       "        </tr>\n",
       "        <tr>\n",
       "            <td>94607</td>\n",
       "            <td>48</td>\n",
       "        </tr>\n",
       "        <tr>\n",
       "            <td>94705</td>\n",
       "            <td>63</td>\n",
       "        </tr>\n",
       "        <tr>\n",
       "            <td>94618</td>\n",
       "            <td>126</td>\n",
       "        </tr>\n",
       "        <tr>\n",
       "            <td>94609</td>\n",
       "            <td>292</td>\n",
       "        </tr>\n",
       "        <tr>\n",
       "            <td>94608</td>\n",
       "            <td>346</td>\n",
       "        </tr>\n",
       "        <tr>\n",
       "            <td>94603</td>\n",
       "            <td>435</td>\n",
       "        </tr>\n",
       "        <tr>\n",
       "            <td>94619</td>\n",
       "            <td>523</td>\n",
       "        </tr>\n",
       "        <tr>\n",
       "            <td>94612</td>\n",
       "            <td>537</td>\n",
       "        </tr>\n",
       "    </tbody>\n",
       "</table>\n",
       "<span style=\"font-style:italic;text-align:center;\">Truncated to <a href=\"https://jupysql.ploomber.io/en/latest/api/configuration.html#displaylimit\">displaylimit</a> of 10.</span>"
      ],
      "text/plain": [
       "+---------+-------+\n",
       "| zipcode | count |\n",
       "+---------+-------+\n",
       "|  94621  |   21  |\n",
       "|  94601  |   43  |\n",
       "|  94607  |   48  |\n",
       "|  94705  |   63  |\n",
       "|  94618  |  126  |\n",
       "|  94609  |  292  |\n",
       "|  94608  |  346  |\n",
       "|  94603  |  435  |\n",
       "|  94619  |  523  |\n",
       "|  94612  |  537  |\n",
       "+---------+-------+\n",
       "Truncated to displaylimit of 10."
      ]
     },
     "execution_count": 18,
     "metadata": {},
     "output_type": "execute_result"
    }
   ],
   "source": [
    "%%sql\n",
    "SELECT Z1.zipcode, COUNT(*) as count\n",
    "FROM Stops S1\n",
    "  NATURAL JOIN Zips Z1\n",
    "GROUP BY Z1.zipcode\n",
    "ORDER BY count ASC;"
   ]
  },
  {
   "cell_type": "markdown",
   "id": "6a98a4e9-a522-4bb1-9a10-00e43d1a3026",
   "metadata": {},
   "source": [
    "# Exercise \\#3\n",
    "\n",
    "We want to find the stops with the oldest individuals. Our first attempt involves directly using `MAX` in the `WHERE` clause."
   ]
  },
  {
   "cell_type": "code",
   "execution_count": 19,
   "id": "676ebb54-d418-41bd-8d6d-12d5f17d2657",
   "metadata": {},
   "outputs": [
    {
     "data": {
      "text/html": [
       "<span style=\"None\">Running query in &#x27;postgresql://127.0.0.1:5432/stops_lecture&#x27;</span>"
      ],
      "text/plain": [
       "Running query in 'postgresql://127.0.0.1:5432/stops_lecture'"
      ]
     },
     "metadata": {},
     "output_type": "display_data"
    },
    {
     "name": "stderr",
     "output_type": "stream",
     "text": [
      "RuntimeError: (psycopg2.errors.GroupingError) aggregate functions are not allowed in WHERE\n",
      "LINE 4:  MAX(S1.age) -- yes, we need to compare to a single value!\n",
      "         ^\n",
      "\n",
      "[SQL: SELECT S1.id, S1.age\n",
      "FROM Stops S1 \n",
      "WHERE S1.age = \n",
      "\tMAX(S1.age) -- yes, we need to compare to a single value!]\n",
      "(Background on this error at: https://sqlalche.me/e/20/f405)\n",
      "If you need help solving this issue, send us a message: https://ploomber.io/community\n"
     ]
    }
   ],
   "source": [
    "%%sql\n",
    "SELECT S1.id, S1.age\n",
    "FROM Stops S1 \n",
    "WHERE S1.age = \n",
    "\tMAX(S1.age) -- yes, we need to compare to a single value!"
   ]
  },
  {
   "cell_type": "markdown",
   "id": "08d3e01f-ebd4-4dd4-9dc7-e6cc6647c3c0",
   "metadata": {},
   "source": [
    "Oops. That doesn't quite work. So what we want is to actually use a subquery that returns a scalar. "
   ]
  },
  {
   "cell_type": "code",
   "execution_count": 20,
   "id": "bfd4755d-3b85-40c6-9478-0076d6952f2a",
   "metadata": {},
   "outputs": [
    {
     "data": {
      "text/html": [
       "<span style=\"None\">Running query in &#x27;postgresql://127.0.0.1:5432/stops_lecture&#x27;</span>"
      ],
      "text/plain": [
       "Running query in 'postgresql://127.0.0.1:5432/stops_lecture'"
      ]
     },
     "metadata": {},
     "output_type": "display_data"
    },
    {
     "data": {
      "text/html": [
       "<span style=\"color: green\">1 rows affected.</span>"
      ],
      "text/plain": [
       "1 rows affected."
      ]
     },
     "metadata": {},
     "output_type": "display_data"
    },
    {
     "data": {
      "text/html": [
       "<table>\n",
       "    <thead>\n",
       "        <tr>\n",
       "            <th>id</th>\n",
       "            <th>age</th>\n",
       "        </tr>\n",
       "    </thead>\n",
       "    <tbody>\n",
       "        <tr>\n",
       "            <td>138713</td>\n",
       "            <td>94.0</td>\n",
       "        </tr>\n",
       "    </tbody>\n",
       "</table>"
      ],
      "text/plain": [
       "+--------+------+\n",
       "|   id   | age  |\n",
       "+--------+------+\n",
       "| 138713 | 94.0 |\n",
       "+--------+------+"
      ]
     },
     "execution_count": 20,
     "metadata": {},
     "output_type": "execute_result"
    }
   ],
   "source": [
    "%%sql\n",
    "SELECT S1.id, S1.age\n",
    "FROM Stops S1 \n",
    "WHERE S1.age = \n",
    "\t(SELECT MAX(S2.age)\n",
    "     FROM Stops S2);"
   ]
  },
  {
   "cell_type": "markdown",
   "id": "40878c56-b1ba-4c77-939d-1d4de3d3147e",
   "metadata": {},
   "source": [
    "Here's an example of a grouping query. "
   ]
  },
  {
   "cell_type": "code",
   "execution_count": 21,
   "id": "ba89bfac-b047-4e6e-aca0-81aa6c82d64e",
   "metadata": {},
   "outputs": [
    {
     "data": {
      "text/html": [
       "<span style=\"None\">Running query in &#x27;postgresql://127.0.0.1:5432/stops_lecture&#x27;</span>"
      ],
      "text/plain": [
       "Running query in 'postgresql://127.0.0.1:5432/stops_lecture'"
      ]
     },
     "metadata": {},
     "output_type": "display_data"
    },
    {
     "data": {
      "text/html": [
       "<span style=\"color: green\">144 rows affected.</span>"
      ],
      "text/plain": [
       "144 rows affected."
      ]
     },
     "metadata": {},
     "output_type": "display_data"
    },
    {
     "data": {
      "text/html": [
       "<table>\n",
       "    <thead>\n",
       "        <tr>\n",
       "            <th>location</th>\n",
       "            <th>avgage</th>\n",
       "            <th>minage</th>\n",
       "        </tr>\n",
       "    </thead>\n",
       "    <tbody>\n",
       "        <tr>\n",
       "            <td>None</td>\n",
       "            <td>31.541920731707318</td>\n",
       "            <td>13.0</td>\n",
       "        </tr>\n",
       "        <tr>\n",
       "            <td>Thornhill Drive</td>\n",
       "            <td>36.42857142857143</td>\n",
       "            <td>27.0</td>\n",
       "        </tr>\n",
       "        <tr>\n",
       "            <td>Pendleton Way</td>\n",
       "            <td>27.5</td>\n",
       "            <td>17.0</td>\n",
       "        </tr>\n",
       "        <tr>\n",
       "            <td>Thermal Street</td>\n",
       "            <td>24.0</td>\n",
       "            <td>16.0</td>\n",
       "        </tr>\n",
       "        <tr>\n",
       "            <td>Harrison/Oakland</td>\n",
       "            <td>32.629629629629626</td>\n",
       "            <td>18.0</td>\n",
       "        </tr>\n",
       "        <tr>\n",
       "            <td>B Street</td>\n",
       "            <td>29.642857142857142</td>\n",
       "            <td>17.0</td>\n",
       "        </tr>\n",
       "        <tr>\n",
       "            <td>Highland Hospital</td>\n",
       "            <td>37.333333333333336</td>\n",
       "            <td>31.0</td>\n",
       "        </tr>\n",
       "        <tr>\n",
       "            <td>Weld Street</td>\n",
       "            <td>30.571428571428573</td>\n",
       "            <td>20.0</td>\n",
       "        </tr>\n",
       "        <tr>\n",
       "            <td>Royal Kitchen</td>\n",
       "            <td>None</td>\n",
       "            <td>None</td>\n",
       "        </tr>\n",
       "        <tr>\n",
       "            <td>Montclair</td>\n",
       "            <td>42.01176470588236</td>\n",
       "            <td>16.0</td>\n",
       "        </tr>\n",
       "    </tbody>\n",
       "</table>\n",
       "<span style=\"font-style:italic;text-align:center;\">Truncated to <a href=\"https://jupysql.ploomber.io/en/latest/api/configuration.html#displaylimit\">displaylimit</a> of 10.</span>"
      ],
      "text/plain": [
       "+-------------------+--------------------+--------+\n",
       "|      location     |       avgage       | minage |\n",
       "+-------------------+--------------------+--------+\n",
       "|        None       | 31.541920731707318 |  13.0  |\n",
       "|  Thornhill Drive  | 36.42857142857143  |  27.0  |\n",
       "|   Pendleton Way   |        27.5        |  17.0  |\n",
       "|   Thermal Street  |        24.0        |  16.0  |\n",
       "|  Harrison/Oakland | 32.629629629629626 |  18.0  |\n",
       "|      B Street     | 29.642857142857142 |  17.0  |\n",
       "| Highland Hospital | 37.333333333333336 |  31.0  |\n",
       "|    Weld Street    | 30.571428571428573 |  20.0  |\n",
       "|   Royal Kitchen   |        None        |  None  |\n",
       "|     Montclair     | 42.01176470588236  |  16.0  |\n",
       "+-------------------+--------------------+--------+\n",
       "Truncated to displaylimit of 10."
      ]
     },
     "execution_count": 21,
     "metadata": {},
     "output_type": "execute_result"
    }
   ],
   "source": [
    "%%sql\n",
    "SELECT location,\n",
    "       AVG(age) AS avgage,\n",
    "       MIN(age) AS minage\n",
    "FROM Stops\n",
    "GROUP BY location;"
   ]
  },
  {
   "cell_type": "markdown",
   "id": "3ee6478e-c36d-4867-a4e2-591cf496067f",
   "metadata": {},
   "source": [
    "# Exercise \\#4\n",
    "\n",
    "For West Oakland and North Oakland individually, compute the average ages of stops across various races"
   ]
  },
  {
   "cell_type": "code",
   "execution_count": 22,
   "id": "17fa404b-67ef-4b13-a961-e7c6c620e224",
   "metadata": {},
   "outputs": [
    {
     "data": {
      "text/html": [
       "<span style=\"None\">Running query in &#x27;postgresql://127.0.0.1:5432/stops_lecture&#x27;</span>"
      ],
      "text/plain": [
       "Running query in 'postgresql://127.0.0.1:5432/stops_lecture'"
      ]
     },
     "metadata": {},
     "output_type": "display_data"
    },
    {
     "data": {
      "text/html": [
       "<span style=\"color: green\">5 rows affected.</span>"
      ],
      "text/plain": [
       "5 rows affected."
      ]
     },
     "metadata": {},
     "output_type": "display_data"
    },
    {
     "data": {
      "text/html": [
       "<table>\n",
       "    <thead>\n",
       "        <tr>\n",
       "            <th>race</th>\n",
       "            <th>west_oakland_avg</th>\n",
       "            <th>rockridge_avg</th>\n",
       "        </tr>\n",
       "    </thead>\n",
       "    <tbody>\n",
       "        <tr>\n",
       "            <td>other</td>\n",
       "            <td>34.785714285714285</td>\n",
       "            <td>55.0</td>\n",
       "        </tr>\n",
       "        <tr>\n",
       "            <td>hispanic</td>\n",
       "            <td>30.408333333333335</td>\n",
       "            <td>None</td>\n",
       "        </tr>\n",
       "        <tr>\n",
       "            <td>black</td>\n",
       "            <td>35.700739744451916</td>\n",
       "            <td>None</td>\n",
       "        </tr>\n",
       "        <tr>\n",
       "            <td>asian/pacific islander</td>\n",
       "            <td>32.61290322580645</td>\n",
       "            <td>44.5</td>\n",
       "        </tr>\n",
       "        <tr>\n",
       "            <td>white</td>\n",
       "            <td>36.734375</td>\n",
       "            <td>45.9</td>\n",
       "        </tr>\n",
       "    </tbody>\n",
       "</table>"
      ],
      "text/plain": [
       "+------------------------+--------------------+---------------+\n",
       "|          race          |  west_oakland_avg  | rockridge_avg |\n",
       "+------------------------+--------------------+---------------+\n",
       "|         other          | 34.785714285714285 |      55.0     |\n",
       "|        hispanic        | 30.408333333333335 |      None     |\n",
       "|         black          | 35.700739744451916 |      None     |\n",
       "| asian/pacific islander | 32.61290322580645  |      44.5     |\n",
       "|         white          |     36.734375      |      45.9     |\n",
       "+------------------------+--------------------+---------------+"
      ]
     },
     "execution_count": 22,
     "metadata": {},
     "output_type": "execute_result"
    }
   ],
   "source": [
    "%%sql\n",
    "SELECT race, \n",
    "AVG (CASE WHEN location = 'West Oakland'\n",
    "     THEN age\n",
    "     ELSE NULL\n",
    "     END\n",
    "    ) AS west_oakland_avg,\n",
    "AVG (CASE WHEN location = 'Rockridge'\n",
    "     THEN age\n",
    "     ELSE NULL\n",
    "     END\n",
    "    ) AS rockridge_Avg \n",
    "FROM Stops\n",
    "GROUP BY race;"
   ]
  }
 ],
 "metadata": {
  "kernelspec": {
   "display_name": "Python 3 (ipykernel)",
   "language": "python",
   "name": "python3"
  },
  "language_info": {
   "codemirror_mode": {
    "name": "ipython",
    "version": 3
   },
   "file_extension": ".py",
   "mimetype": "text/x-python",
   "name": "python",
   "nbconvert_exporter": "python",
   "pygments_lexer": "ipython3",
   "version": "3.11.0"
  }
 },
 "nbformat": 4,
 "nbformat_minor": 5
}
