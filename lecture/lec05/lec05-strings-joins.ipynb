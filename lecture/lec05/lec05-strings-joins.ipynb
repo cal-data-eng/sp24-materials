{
 "cells": [
  {
   "cell_type": "markdown",
   "id": "31f40da4-66a9-4260-a6d6-5bc9e3e8e0f7",
   "metadata": {},
   "source": [
    "# Lecture 05: Advanced SQL"
   ]
  },
  {
   "cell_type": "code",
   "execution_count": 1,
   "id": "505aa8d0-4915-4205-b054-69278c6b6bbe",
   "metadata": {},
   "outputs": [],
   "source": [
    "# Run this cell to set up imports\n",
    "import numpy as np\n",
    "import pandas as pd"
   ]
  },
  {
   "cell_type": "markdown",
   "id": "fde86b0c",
   "metadata": {},
   "source": [
    "If you haven't yet, load in the `imdb_lecture` database."
   ]
  },
  {
   "cell_type": "code",
   "execution_count": 2,
   "id": "9416184e-ff18-41c8-ad99-7e7ecdaa639a",
   "metadata": {
    "scrolled": true
   },
   "outputs": [
    {
     "name": "stdout",
     "output_type": "stream",
     "text": [
      "'../lec02/data/imdb_lecture.sql' -> './data/imdb_lecture.sql'\n",
      "'../lec02/data/imdb_lecture_local.sql' -> './data/imdb_lecture_local.sql'\n"
     ]
    }
   ],
   "source": [
    "!cp -v -r ../lec02/data ."
   ]
  },
  {
   "cell_type": "code",
   "execution_count": 3,
   "id": "60cda598-6186-47f0-8ff0-e94272e3cce7",
   "metadata": {},
   "outputs": [],
   "source": [
    "%load_ext sql"
   ]
  },
  {
   "cell_type": "code",
   "execution_count": 4,
   "id": "fb6a488c-cb8e-430f-abe3-f2bbf059a3ce",
   "metadata": {
    "scrolled": true
   },
   "outputs": [
    {
     "name": "stdout",
     "output_type": "stream",
     "text": [
      "DROP DATABASE\n",
      "CREATE DATABASE\n",
      "SET\n",
      "SET\n",
      "SET\n",
      "SET\n",
      "SET\n",
      " set_config \n",
      "------------\n",
      " \n",
      "(1 row)\n",
      "\n",
      "SET\n",
      "SET\n",
      "SET\n",
      "SET\n",
      "SET\n",
      "SET\n",
      "CREATE TABLE\n",
      "ALTER TABLE\n",
      "CREATE TABLE\n",
      "ALTER TABLE\n",
      "CREATE TABLE\n",
      "ALTER TABLE\n",
      "CREATE TABLE\n",
      "ALTER TABLE\n",
      "CREATE TABLE\n",
      "ALTER TABLE\n",
      "CREATE TABLE\n",
      "ALTER TABLE\n",
      "COPY 8405\n",
      "COPY 4043\n",
      "COPY 4923\n",
      "COPY 1223\n",
      "COPY 820\n",
      "COPY 2420\n"
     ]
    }
   ],
   "source": [
    "!psql -h localhost -c 'DROP DATABASE IF EXISTS imdb_lecture'\n",
    "!psql -h localhost -c 'CREATE DATABASE imdb_lecture' \n",
    "!psql -h localhost -d imdb_lecture -f data/imdb_lecture.sql"
   ]
  },
  {
   "cell_type": "code",
   "execution_count": 5,
   "id": "05125479-89c3-4795-bbb3-87b5a4140bc9",
   "metadata": {},
   "outputs": [],
   "source": [
    "%sql postgresql://127.0.0.1:5432/imdb_lecture"
   ]
  },
  {
   "cell_type": "markdown",
   "id": "150395bf-a7a3-475b-be2f-472ed6414fa5",
   "metadata": {},
   "source": [
    "# Exercise #1: String manipulation"
   ]
  },
  {
   "cell_type": "code",
   "execution_count": 6,
   "id": "95d55f07-3af4-49f9-b20c-b6bf813dd6ed",
   "metadata": {},
   "outputs": [
    {
     "data": {
      "text/html": [
       "<span style=\"None\">Running query in &#x27;postgresql://127.0.0.1:5432/imdb_lecture&#x27;</span>"
      ],
      "text/plain": [
       "Running query in 'postgresql://127.0.0.1:5432/imdb_lecture'"
      ]
     },
     "metadata": {},
     "output_type": "display_data"
    },
    {
     "data": {
      "text/html": [
       "<span style=\"color: green\">1 rows affected.</span>"
      ],
      "text/plain": [
       "1 rows affected."
      ]
     },
     "metadata": {},
     "output_type": "display_data"
    },
    {
     "data": {
      "text/html": [
       "<table>\n",
       "    <thead>\n",
       "        <tr>\n",
       "            <th>?column?</th>\n",
       "            <th>strpos</th>\n",
       "            <th>substring</th>\n",
       "        </tr>\n",
       "    </thead>\n",
       "    <tbody>\n",
       "        <tr>\n",
       "            <td>HelloWorld</td>\n",
       "            <td>2</td>\n",
       "            <td>ell</td>\n",
       "        </tr>\n",
       "    </tbody>\n",
       "</table>"
      ],
      "text/plain": [
       "+------------+--------+-----------+\n",
       "|  ?column?  | strpos | substring |\n",
       "+------------+--------+-----------+\n",
       "| HelloWorld |   2    |    ell    |\n",
       "+------------+--------+-----------+"
      ]
     },
     "execution_count": 6,
     "metadata": {},
     "output_type": "execute_result"
    }
   ],
   "source": [
    "%%sql\n",
    "SELECT 'Hello' || 'World',\n",
    "       STRPOS('Hello', 'el'),\n",
    "       SUBSTRING('Hello', 2, 3);"
   ]
  },
  {
   "cell_type": "code",
   "execution_count": 7,
   "id": "8de739c3-d91f-48f8-99bf-4c3e9c995148",
   "metadata": {},
   "outputs": [
    {
     "data": {
      "text/html": [
       "<span style=\"None\">Running query in &#x27;postgresql://127.0.0.1:5432/imdb_lecture&#x27;</span>"
      ],
      "text/plain": [
       "Running query in 'postgresql://127.0.0.1:5432/imdb_lecture'"
      ]
     },
     "metadata": {},
     "output_type": "display_data"
    },
    {
     "data": {
      "text/html": [
       "<span style=\"color: green\">1 rows affected.</span>"
      ],
      "text/plain": [
       "1 rows affected."
      ]
     },
     "metadata": {},
     "output_type": "display_data"
    },
    {
     "data": {
      "text/html": [
       "<table>\n",
       "    <thead>\n",
       "        <tr>\n",
       "            <th>ex1</th>\n",
       "            <th>ex2</th>\n",
       "            <th>ex3</th>\n",
       "            <th>ex4</th>\n",
       "        </tr>\n",
       "    </thead>\n",
       "    <tbody>\n",
       "        <tr>\n",
       "            <td>Hannah Montana</td>\n",
       "            <td>Montana, Hannah</td>\n",
       "            <td>hone Number 510 642 3214</td>\n",
       "            <td>5106423214</td>\n",
       "        </tr>\n",
       "    </tbody>\n",
       "</table>"
      ],
      "text/plain": [
       "+----------------+-----------------+--------------------------+------------+\n",
       "|      ex1       |       ex2       |           ex3            |    ex4     |\n",
       "+----------------+-----------------+--------------------------+------------+\n",
       "| Hannah Montana | Montana, Hannah | hone Number 510 642 3214 | 5106423214 |\n",
       "+----------------+-----------------+--------------------------+------------+"
      ]
     },
     "execution_count": 7,
     "metadata": {},
     "output_type": "execute_result"
    }
   ],
   "source": [
    "%%sql\n",
    "SELECT REGEXP_REPLACE('Hannah Montana', '(.*)', '\\1') as ex1,\n",
    "       REGEXP_REPLACE('Hannah Montana', '(.*) (.*)', '\\2, \\1') as ex2,\n",
    "       REGEXP_REPLACE('Phone Number 510 642 3214', '[a-zA-Z ]', '') as ex3,\n",
    "       REGEXP_REPLACE('Phone Number 510 642 3214', '[a-zA-Z ]', '', 'g') as ex4\n",
    ";"
   ]
  },
  {
   "cell_type": "markdown",
   "id": "66f8315f-b683-4a89-97b4-64005d5138f2",
   "metadata": {},
   "source": [
    "# Exercise 2"
   ]
  },
  {
   "cell_type": "markdown",
   "id": "eb771785-8eda-4421-89c6-8791a4f825db",
   "metadata": {},
   "source": [
    "## Choice A"
   ]
  },
  {
   "cell_type": "code",
   "execution_count": 8,
   "id": "c67d48a8-0a4d-4169-8e9b-a4e0731a5409",
   "metadata": {},
   "outputs": [],
   "source": [
    "%sql postgresql://127.0.0.1:5432/imdb_lecture"
   ]
  },
  {
   "cell_type": "code",
   "execution_count": 9,
   "id": "6345bad3-0451-4933-89b1-b24f9e05078f",
   "metadata": {},
   "outputs": [
    {
     "data": {
      "text/html": [
       "<span style=\"None\">Running query in &#x27;postgresql://127.0.0.1:5432/imdb_lecture&#x27;</span>"
      ],
      "text/plain": [
       "Running query in 'postgresql://127.0.0.1:5432/imdb_lecture'"
      ]
     },
     "metadata": {},
     "output_type": "display_data"
    },
    {
     "data": {
      "text/html": [
       "<span style=\"color: green\">1223 rows affected.</span>"
      ],
      "text/plain": [
       "1223 rows affected."
      ]
     },
     "metadata": {},
     "output_type": "display_data"
    },
    {
     "data": {
      "text/html": [
       "<table>\n",
       "    <thead>\n",
       "        <tr>\n",
       "            <th>lastname</th>\n",
       "            <th>firstname</th>\n",
       "        </tr>\n",
       "    </thead>\n",
       "    <tbody>\n",
       "        <tr>\n",
       "            <td>Hill</td>\n",
       "            <td>Dwayne</td>\n",
       "        </tr>\n",
       "        <tr>\n",
       "            <td>Hardman</td>\n",
       "            <td>Dave</td>\n",
       "        </tr>\n",
       "        <tr>\n",
       "            <td>Pryce-Jones</td>\n",
       "            <td>Rich</td>\n",
       "        </tr>\n",
       "        <tr>\n",
       "            <td>Sadler</td>\n",
       "            <td>William</td>\n",
       "        </tr>\n",
       "        <tr>\n",
       "            <td>Laurentiis</td>\n",
       "            <td>Giada De</td>\n",
       "        </tr>\n",
       "        <tr>\n",
       "            <td>Hartmann</td>\n",
       "            <td>Janine</td>\n",
       "        </tr>\n",
       "        <tr>\n",
       "            <td>Taliánová</td>\n",
       "            <td>Tereza</td>\n",
       "        </tr>\n",
       "        <tr>\n",
       "            <td>Heywood</td>\n",
       "            <td>Chris</td>\n",
       "        </tr>\n",
       "        <tr>\n",
       "            <td>Zhou</td>\n",
       "            <td>Chengao</td>\n",
       "        </tr>\n",
       "        <tr>\n",
       "            <td>Langley</td>\n",
       "            <td>Mark</td>\n",
       "        </tr>\n",
       "    </tbody>\n",
       "</table>\n",
       "<span style=\"font-style:italic;text-align:center;\">Truncated to <a href=\"https://jupysql.ploomber.io/en/latest/api/configuration.html#displaylimit\">displaylimit</a> of 10.</span>"
      ],
      "text/plain": [
       "+-------------+-----------+\n",
       "|   lastname  | firstname |\n",
       "+-------------+-----------+\n",
       "|     Hill    |   Dwayne  |\n",
       "|   Hardman   |    Dave   |\n",
       "| Pryce-Jones |    Rich   |\n",
       "|    Sadler   |  William  |\n",
       "|  Laurentiis |  Giada De |\n",
       "|   Hartmann  |   Janine  |\n",
       "|  Taliánová  |   Tereza  |\n",
       "|   Heywood   |   Chris   |\n",
       "|     Zhou    |  Chengao  |\n",
       "|   Langley   |    Mark   |\n",
       "+-------------+-----------+\n",
       "Truncated to displaylimit of 10."
      ]
     },
     "execution_count": 9,
     "metadata": {},
     "output_type": "execute_result"
    }
   ],
   "source": [
    "%%sql\n",
    "SELECT REGEXP_REPLACE(name, '(.*) (.*)', '\\2') as lastname,\n",
    "       REGEXP_REPLACE(name, '(.*) (.*)', '\\1') as firstname\n",
    "FROM people;"
   ]
  },
  {
   "cell_type": "markdown",
   "id": "010fe0f6-9679-484e-90e6-f4e7ad6b6c68",
   "metadata": {},
   "source": [
    "## Choice B"
   ]
  },
  {
   "cell_type": "code",
   "execution_count": 10,
   "id": "1dc2b621-e6dc-4f99-b27f-92edd7fc1177",
   "metadata": {},
   "outputs": [
    {
     "data": {
      "text/html": [
       "<span style=\"None\">Running query in &#x27;postgresql://127.0.0.1:5432/imdb_lecture&#x27;</span>"
      ],
      "text/plain": [
       "Running query in 'postgresql://127.0.0.1:5432/imdb_lecture'"
      ]
     },
     "metadata": {},
     "output_type": "display_data"
    },
    {
     "data": {
      "text/html": [
       "<span style=\"color: green\">871 rows affected.</span>"
      ],
      "text/plain": [
       "871 rows affected."
      ]
     },
     "metadata": {},
     "output_type": "display_data"
    },
    {
     "data": {
      "text/html": [
       "<table>\n",
       "    <thead>\n",
       "        <tr>\n",
       "            <th>firstname</th>\n",
       "            <th>countname</th>\n",
       "        </tr>\n",
       "    </thead>\n",
       "    <tbody>\n",
       "        <tr>\n",
       "            <td>Chris</td>\n",
       "            <td>79</td>\n",
       "        </tr>\n",
       "        <tr>\n",
       "            <td>David</td>\n",
       "            <td>18</td>\n",
       "        </tr>\n",
       "        <tr>\n",
       "            <td>Michael</td>\n",
       "            <td>16</td>\n",
       "        </tr>\n",
       "        <tr>\n",
       "            <td>Steve</td>\n",
       "            <td>10</td>\n",
       "        </tr>\n",
       "        <tr>\n",
       "            <td>Peter</td>\n",
       "            <td>9</td>\n",
       "        </tr>\n",
       "        <tr>\n",
       "            <td>John</td>\n",
       "            <td>9</td>\n",
       "        </tr>\n",
       "        <tr>\n",
       "            <td>Tom</td>\n",
       "            <td>8</td>\n",
       "        </tr>\n",
       "        <tr>\n",
       "            <td>Mark</td>\n",
       "            <td>8</td>\n",
       "        </tr>\n",
       "        <tr>\n",
       "            <td>Dan</td>\n",
       "            <td>8</td>\n",
       "        </tr>\n",
       "        <tr>\n",
       "            <td>Paul</td>\n",
       "            <td>6</td>\n",
       "        </tr>\n",
       "    </tbody>\n",
       "</table>\n",
       "<span style=\"font-style:italic;text-align:center;\">Truncated to <a href=\"https://jupysql.ploomber.io/en/latest/api/configuration.html#displaylimit\">displaylimit</a> of 10.</span>"
      ],
      "text/plain": [
       "+-----------+-----------+\n",
       "| firstname | countname |\n",
       "+-----------+-----------+\n",
       "|   Chris   |     79    |\n",
       "|   David   |     18    |\n",
       "|  Michael  |     16    |\n",
       "|   Steve   |     10    |\n",
       "|   Peter   |     9     |\n",
       "|    John   |     9     |\n",
       "|    Tom    |     8     |\n",
       "|    Mark   |     8     |\n",
       "|    Dan    |     8     |\n",
       "|    Paul   |     6     |\n",
       "+-----------+-----------+\n",
       "Truncated to displaylimit of 10."
      ]
     },
     "execution_count": 10,
     "metadata": {},
     "output_type": "execute_result"
    }
   ],
   "source": [
    "%%sql\n",
    "SELECT REGEXP_REPLACE(name, '(.*) (.*)', '\\1') as firstname,\n",
    "       COUNT(*) as countname\n",
    "FROM people\n",
    "GROUP BY firstname\n",
    "ORDER BY countname desc;"
   ]
  },
  {
   "cell_type": "markdown",
   "id": "b597ad4e-69e1-4616-a42c-26caa5580f20",
   "metadata": {},
   "source": [
    "## Choice C"
   ]
  },
  {
   "cell_type": "code",
   "execution_count": 11,
   "id": "6e80d22b-53e6-4927-b0ff-062c2f390db3",
   "metadata": {},
   "outputs": [
    {
     "data": {
      "text/html": [
       "<span style=\"None\">Running query in &#x27;postgresql://127.0.0.1:5432/imdb_lecture&#x27;</span>"
      ],
      "text/plain": [
       "Running query in 'postgresql://127.0.0.1:5432/imdb_lecture'"
      ]
     },
     "metadata": {},
     "output_type": "display_data"
    },
    {
     "data": {
      "text/html": [
       "<span style=\"color: green\">1 rows affected.</span>"
      ],
      "text/plain": [
       "1 rows affected."
      ]
     },
     "metadata": {},
     "output_type": "display_data"
    },
    {
     "data": {
      "text/html": [
       "<table>\n",
       "    <thead>\n",
       "        <tr>\n",
       "            <th>max</th>\n",
       "        </tr>\n",
       "    </thead>\n",
       "    <tbody>\n",
       "        <tr>\n",
       "            <td>20</td>\n",
       "        </tr>\n",
       "    </tbody>\n",
       "</table>"
      ],
      "text/plain": [
       "+-----+\n",
       "| max |\n",
       "+-----+\n",
       "|  20 |\n",
       "+-----+"
      ]
     },
     "execution_count": 11,
     "metadata": {},
     "output_type": "execute_result"
    }
   ],
   "source": [
    "%%sql\n",
    "WITH firstnames AS (\n",
    "    SELECT REGEXP_REPLACE(name, '(.*) (.*)', '\\1') as firstname\n",
    "    FROM people )\n",
    "SELECT MAX(LENGTH(firstname))\n",
    "FROM firstnames;"
   ]
  },
  {
   "cell_type": "markdown",
   "id": "dd9bc9cc-2708-46e9-ad95-490dd4ac7d6a",
   "metadata": {},
   "source": [
    "What is this first name? Why doesn't the below query work?"
   ]
  },
  {
   "cell_type": "code",
   "execution_count": 12,
   "id": "49626069-e432-423f-a687-d4479aae9da4",
   "metadata": {},
   "outputs": [
    {
     "data": {
      "text/html": [
       "<span style=\"None\">Running query in &#x27;postgresql://127.0.0.1:5432/imdb_lecture&#x27;</span>"
      ],
      "text/plain": [
       "Running query in 'postgresql://127.0.0.1:5432/imdb_lecture'"
      ]
     },
     "metadata": {},
     "output_type": "display_data"
    },
    {
     "name": "stderr",
     "output_type": "stream",
     "text": [
      "RuntimeError: (psycopg2.errors.GroupingError) column \"firstnames.firstname\" must appear in the GROUP BY clause or be used in an aggregate function\n",
      "LINE 4: SELECT MAX(LENGTH(firstname)), firstname\n",
      "                                       ^\n",
      "\n",
      "[SQL: WITH firstnames AS (\n",
      "    SELECT REGEXP_REPLACE(name, '(.*) (.*)', '\\1') as firstname\n",
      "    FROM people )\n",
      "SELECT MAX(LENGTH(firstname)), firstname\n",
      "FROM firstnames;]\n",
      "(Background on this error at: https://sqlalche.me/e/20/f405)\n",
      "If you need help solving this issue, send us a message: https://ploomber.io/community\n"
     ]
    }
   ],
   "source": [
    "%%sql\n",
    "WITH firstnames AS (\n",
    "    SELECT REGEXP_REPLACE(name, '(.*) (.*)', '\\1') as firstname\n",
    "    FROM people )\n",
    "SELECT MAX(LENGTH(firstname)), firstname\n",
    "FROM firstnames;"
   ]
  },
  {
   "cell_type": "markdown",
   "id": "fc2e740e-0189-49d1-a629-4deaf7ccaa5c",
   "metadata": {},
   "source": [
    "Solution:"
   ]
  },
  {
   "cell_type": "code",
   "execution_count": 13,
   "id": "ee907269-d530-49c6-91b1-4a1fabe486c7",
   "metadata": {},
   "outputs": [
    {
     "data": {
      "text/html": [
       "<span style=\"None\">Running query in &#x27;postgresql://127.0.0.1:5432/imdb_lecture&#x27;</span>"
      ],
      "text/plain": [
       "Running query in 'postgresql://127.0.0.1:5432/imdb_lecture'"
      ]
     },
     "metadata": {},
     "output_type": "display_data"
    },
    {
     "data": {
      "text/html": [
       "<span style=\"color: green\">871 rows affected.</span>"
      ],
      "text/plain": [
       "871 rows affected."
      ]
     },
     "metadata": {},
     "output_type": "display_data"
    },
    {
     "data": {
      "text/html": [
       "<table>\n",
       "    <thead>\n",
       "        <tr>\n",
       "            <th>max</th>\n",
       "            <th>firstname</th>\n",
       "        </tr>\n",
       "    </thead>\n",
       "    <tbody>\n",
       "        <tr>\n",
       "            <td>20</td>\n",
       "            <td>Juan Francisco Pérez</td>\n",
       "        </tr>\n",
       "        <tr>\n",
       "            <td>19</td>\n",
       "            <td>José María González</td>\n",
       "        </tr>\n",
       "        <tr>\n",
       "            <td>19</td>\n",
       "            <td>Margarida Mercês de</td>\n",
       "        </tr>\n",
       "        <tr>\n",
       "            <td>16</td>\n",
       "            <td>Dadinha Monteiro</td>\n",
       "        </tr>\n",
       "        <tr>\n",
       "            <td>16</td>\n",
       "            <td>Sreemoolanagaram</td>\n",
       "        </tr>\n",
       "        <tr>\n",
       "            <td>16</td>\n",
       "            <td>Michelle van der</td>\n",
       "        </tr>\n",
       "        <tr>\n",
       "            <td>15</td>\n",
       "            <td>Jonathan Taylor</td>\n",
       "        </tr>\n",
       "        <tr>\n",
       "            <td>15</td>\n",
       "            <td>Deirdre Coleman</td>\n",
       "        </tr>\n",
       "        <tr>\n",
       "            <td>15</td>\n",
       "            <td>Nam Hoi Sap-Sam</td>\n",
       "        </tr>\n",
       "        <tr>\n",
       "            <td>15</td>\n",
       "            <td>Michael Richard</td>\n",
       "        </tr>\n",
       "    </tbody>\n",
       "</table>\n",
       "<span style=\"font-style:italic;text-align:center;\">Truncated to <a href=\"https://jupysql.ploomber.io/en/latest/api/configuration.html#displaylimit\">displaylimit</a> of 10.</span>"
      ],
      "text/plain": [
       "+-----+----------------------+\n",
       "| max |      firstname       |\n",
       "+-----+----------------------+\n",
       "|  20 | Juan Francisco Pérez |\n",
       "|  19 | José María González  |\n",
       "|  19 | Margarida Mercês de  |\n",
       "|  16 |   Dadinha Monteiro   |\n",
       "|  16 |   Sreemoolanagaram   |\n",
       "|  16 |   Michelle van der   |\n",
       "|  15 |   Jonathan Taylor    |\n",
       "|  15 |   Deirdre Coleman    |\n",
       "|  15 |   Nam Hoi Sap-Sam    |\n",
       "|  15 |   Michael Richard    |\n",
       "+-----+----------------------+\n",
       "Truncated to displaylimit of 10."
      ]
     },
     "execution_count": 13,
     "metadata": {},
     "output_type": "execute_result"
    }
   ],
   "source": [
    "%%sql\n",
    "WITH firstnames AS (\n",
    "    SELECT REGEXP_REPLACE(name, '(.*) (.*)', '\\1') as firstname\n",
    "    FROM people )\n",
    "SELECT MAX(LENGTH(firstname)), firstname\n",
    "FROM firstnames\n",
    "GROUP BY firstname\n",
    "ORDER BY max DESC;"
   ]
  },
  {
   "cell_type": "code",
   "execution_count": 14,
   "id": "8184519c-03de-4337-9c3c-fbe309d4b6a2",
   "metadata": {},
   "outputs": [],
   "source": [
    "%sql --close postgresql://127.0.0.1:5432/imdb_lecture"
   ]
  },
  {
   "cell_type": "markdown",
   "id": "74adb549-73be-4faa-8e6a-ae782b6c2f2f",
   "metadata": {},
   "source": [
    "# Exercise \\#3: Grouping"
   ]
  },
  {
   "cell_type": "code",
   "execution_count": 15,
   "id": "a4646ea8-bd59-4560-95bb-69d67c093e32",
   "metadata": {},
   "outputs": [],
   "source": [
    "%reload_ext sql"
   ]
  },
  {
   "cell_type": "code",
   "execution_count": 16,
   "id": "2877770e-370f-44ed-ac81-0e92cf6605b5",
   "metadata": {
    "scrolled": true
   },
   "outputs": [
    {
     "name": "stdout",
     "output_type": "stream",
     "text": [
      "DROP DATABASE\n",
      "CREATE DATABASE\n",
      "SET\n",
      "SET\n",
      "SET\n",
      "SET\n",
      "SET\n",
      " set_config \n",
      "------------\n",
      " \n",
      "(1 row)\n",
      "\n",
      "SET\n",
      "SET\n",
      "SET\n",
      "SET\n",
      "SET\n",
      "SET\n",
      "CREATE TABLE\n",
      "ALTER TABLE\n",
      "CREATE TABLE\n",
      "ALTER TABLE\n",
      "COPY 84779\n",
      "COPY 211\n",
      "CREATE INDEX\n",
      "CREATE INDEX\n"
     ]
    }
   ],
   "source": [
    "!psql -h localhost -c 'DROP DATABASE IF EXISTS stops_lecture'\n",
    "!psql -h localhost -c 'CREATE DATABASE stops_lecture' \n",
    "!psql -h localhost -d stops_lecture -f data/stops_lecture.sql"
   ]
  },
  {
   "cell_type": "code",
   "execution_count": 17,
   "id": "9e044d01",
   "metadata": {
    "scrolled": true
   },
   "outputs": [
    {
     "data": {
      "text/html": [
       "<span style=\"None\">Connecting and switching to connection postgresql://127.0.0.1:5432/stops_lecture</span>"
      ],
      "text/plain": [
       "Connecting and switching to connection postgresql://127.0.0.1:5432/stops_lecture"
      ]
     },
     "metadata": {},
     "output_type": "display_data"
    }
   ],
   "source": [
    "%sql postgresql://127.0.0.1:5432/stops_lecture"
   ]
  },
  {
   "cell_type": "code",
   "execution_count": 18,
   "id": "fc11b168-fc32-428f-b4f5-5a0bf6120024",
   "metadata": {},
   "outputs": [
    {
     "data": {
      "text/html": [
       "<span style=\"None\">Running query in &#x27;postgresql://127.0.0.1:5432/stops_lecture&#x27;</span>"
      ],
      "text/plain": [
       "Running query in 'postgresql://127.0.0.1:5432/stops_lecture'"
      ]
     },
     "metadata": {},
     "output_type": "display_data"
    },
    {
     "data": {
      "text/html": [
       "<span style=\"color: green\">1 rows affected.</span>"
      ],
      "text/plain": [
       "1 rows affected."
      ]
     },
     "metadata": {},
     "output_type": "display_data"
    },
    {
     "data": {
      "text/html": [
       "<table>\n",
       "    <thead>\n",
       "        <tr>\n",
       "            <th>count</th>\n",
       "        </tr>\n",
       "    </thead>\n",
       "    <tbody>\n",
       "        <tr>\n",
       "            <td>84779</td>\n",
       "        </tr>\n",
       "    </tbody>\n",
       "</table>"
      ],
      "text/plain": [
       "+-------+\n",
       "| count |\n",
       "+-------+\n",
       "| 84779 |\n",
       "+-------+"
      ]
     },
     "execution_count": 18,
     "metadata": {},
     "output_type": "execute_result"
    }
   ],
   "source": [
    "%%sql\n",
    "SELECT COUNT(*)\n",
    "FROM stops;"
   ]
  },
  {
   "cell_type": "code",
   "execution_count": 19,
   "id": "0b14d923-e725-4875-ac3a-e93e8eb996e4",
   "metadata": {},
   "outputs": [
    {
     "data": {
      "text/html": [
       "<span style=\"None\">Running query in &#x27;postgresql://127.0.0.1:5432/stops_lecture&#x27;</span>"
      ],
      "text/plain": [
       "Running query in 'postgresql://127.0.0.1:5432/stops_lecture'"
      ]
     },
     "metadata": {},
     "output_type": "display_data"
    },
    {
     "data": {
      "text/html": [
       "<span style=\"color: green\">1 rows affected.</span>"
      ],
      "text/plain": [
       "1 rows affected."
      ]
     },
     "metadata": {},
     "output_type": "display_data"
    },
    {
     "data": {
      "text/html": [
       "<table>\n",
       "    <thead>\n",
       "        <tr>\n",
       "            <th>count</th>\n",
       "        </tr>\n",
       "    </thead>\n",
       "    <tbody>\n",
       "        <tr>\n",
       "            <td>211</td>\n",
       "        </tr>\n",
       "    </tbody>\n",
       "</table>"
      ],
      "text/plain": [
       "+-------+\n",
       "| count |\n",
       "+-------+\n",
       "|  211  |\n",
       "+-------+"
      ]
     },
     "execution_count": 19,
     "metadata": {},
     "output_type": "execute_result"
    }
   ],
   "source": [
    "%%sql\n",
    "SELECT DISTINCT COUNT(*)\n",
    "FROM Zips;"
   ]
  },
  {
   "cell_type": "code",
   "execution_count": 20,
   "id": "d3202a4f-a6b3-4cb5-bb2d-78f943c83b53",
   "metadata": {},
   "outputs": [
    {
     "data": {
      "text/html": [
       "<span style=\"None\">Running query in &#x27;postgresql://127.0.0.1:5432/stops_lecture&#x27;</span>"
      ],
      "text/plain": [
       "Running query in 'postgresql://127.0.0.1:5432/stops_lecture'"
      ]
     },
     "metadata": {},
     "output_type": "display_data"
    },
    {
     "data": {
      "text/html": [
       "<span style=\"color: green\">1 rows affected.</span>"
      ],
      "text/plain": [
       "1 rows affected."
      ]
     },
     "metadata": {},
     "output_type": "display_data"
    },
    {
     "data": {
      "text/html": [
       "<table>\n",
       "    <thead>\n",
       "        <tr>\n",
       "            <th>count</th>\n",
       "        </tr>\n",
       "    </thead>\n",
       "    <tbody>\n",
       "        <tr>\n",
       "            <td>15743</td>\n",
       "        </tr>\n",
       "    </tbody>\n",
       "</table>"
      ],
      "text/plain": [
       "+-------+\n",
       "| count |\n",
       "+-------+\n",
       "| 15743 |\n",
       "+-------+"
      ]
     },
     "execution_count": 20,
     "metadata": {},
     "output_type": "execute_result"
    }
   ],
   "source": [
    "%%sql\n",
    "SELECT COUNT(*)\n",
    "FROM Stops\n",
    "    INNER JOIN Zips\n",
    "    ON Stops.location = Zips.location;"
   ]
  },
  {
   "cell_type": "code",
   "execution_count": 21,
   "id": "4321f273-a3eb-4e21-a541-b0587987d84e",
   "metadata": {},
   "outputs": [
    {
     "data": {
      "text/html": [
       "<span style=\"None\">Running query in &#x27;postgresql://127.0.0.1:5432/stops_lecture&#x27;</span>"
      ],
      "text/plain": [
       "Running query in 'postgresql://127.0.0.1:5432/stops_lecture'"
      ]
     },
     "metadata": {},
     "output_type": "display_data"
    },
    {
     "data": {
      "text/html": [
       "<span style=\"color: green\">1 rows affected.</span>"
      ],
      "text/plain": [
       "1 rows affected."
      ]
     },
     "metadata": {},
     "output_type": "display_data"
    },
    {
     "data": {
      "text/html": [
       "<table>\n",
       "    <thead>\n",
       "        <tr>\n",
       "            <th>count</th>\n",
       "        </tr>\n",
       "    </thead>\n",
       "    <tbody>\n",
       "        <tr>\n",
       "            <td>87291</td>\n",
       "        </tr>\n",
       "    </tbody>\n",
       "</table>"
      ],
      "text/plain": [
       "+-------+\n",
       "| count |\n",
       "+-------+\n",
       "| 87291 |\n",
       "+-------+"
      ]
     },
     "execution_count": 21,
     "metadata": {},
     "output_type": "execute_result"
    }
   ],
   "source": [
    "%%sql\n",
    "SELECT COUNT(*)\n",
    "FROM Stops\n",
    "    FULL OUTER JOIN Zips\n",
    "    ON Stops.location = Zips.location;"
   ]
  },
  {
   "cell_type": "code",
   "execution_count": 22,
   "id": "04c009dc-bb93-4502-a083-a10da2c77d18",
   "metadata": {},
   "outputs": [
    {
     "data": {
      "text/html": [
       "<span style=\"None\">Running query in &#x27;postgresql://127.0.0.1:5432/stops_lecture&#x27;</span>"
      ],
      "text/plain": [
       "Running query in 'postgresql://127.0.0.1:5432/stops_lecture'"
      ]
     },
     "metadata": {},
     "output_type": "display_data"
    },
    {
     "data": {
      "text/html": [
       "<span style=\"color: green\">1 rows affected.</span>"
      ],
      "text/plain": [
       "1 rows affected."
      ]
     },
     "metadata": {},
     "output_type": "display_data"
    },
    {
     "data": {
      "text/html": [
       "<table>\n",
       "    <thead>\n",
       "        <tr>\n",
       "            <th>count</th>\n",
       "        </tr>\n",
       "    </thead>\n",
       "    <tbody>\n",
       "        <tr>\n",
       "            <td>87115</td>\n",
       "        </tr>\n",
       "    </tbody>\n",
       "</table>"
      ],
      "text/plain": [
       "+-------+\n",
       "| count |\n",
       "+-------+\n",
       "| 87115 |\n",
       "+-------+"
      ]
     },
     "execution_count": 22,
     "metadata": {},
     "output_type": "execute_result"
    }
   ],
   "source": [
    "%%sql\n",
    "SELECT COUNT(*)\n",
    "FROM Stops\n",
    "    LEFT OUTER JOIN Zips\n",
    "    ON Stops.location = Zips.location;"
   ]
  },
  {
   "cell_type": "code",
   "execution_count": 23,
   "id": "eb6891ec-edb2-49bb-84d0-652fd40a788d",
   "metadata": {},
   "outputs": [
    {
     "data": {
      "text/html": [
       "<span style=\"None\">Running query in &#x27;postgresql://127.0.0.1:5432/stops_lecture&#x27;</span>"
      ],
      "text/plain": [
       "Running query in 'postgresql://127.0.0.1:5432/stops_lecture'"
      ]
     },
     "metadata": {},
     "output_type": "display_data"
    },
    {
     "data": {
      "text/html": [
       "<span style=\"color: green\">1 rows affected.</span>"
      ],
      "text/plain": [
       "1 rows affected."
      ]
     },
     "metadata": {},
     "output_type": "display_data"
    },
    {
     "data": {
      "text/html": [
       "<table>\n",
       "    <thead>\n",
       "        <tr>\n",
       "            <th>count</th>\n",
       "        </tr>\n",
       "    </thead>\n",
       "    <tbody>\n",
       "        <tr>\n",
       "            <td>15919</td>\n",
       "        </tr>\n",
       "    </tbody>\n",
       "</table>"
      ],
      "text/plain": [
       "+-------+\n",
       "| count |\n",
       "+-------+\n",
       "| 15919 |\n",
       "+-------+"
      ]
     },
     "execution_count": 23,
     "metadata": {},
     "output_type": "execute_result"
    }
   ],
   "source": [
    "%%sql\n",
    "SELECT COUNT(*)\n",
    "FROM Stops\n",
    "    RIGHT OUTER JOIN Zips\n",
    "    ON Stops.location = Zips.location;"
   ]
  },
  {
   "cell_type": "code",
   "execution_count": 24,
   "id": "0e03e30a-6194-414a-9a0e-82a7bf014af9",
   "metadata": {},
   "outputs": [],
   "source": [
    "%sql --close postgresql://127.0.0.1:5432/stops_lecture"
   ]
  }
 ],
 "metadata": {
  "kernelspec": {
   "display_name": "Python 3 (ipykernel)",
   "language": "python",
   "name": "python3"
  },
  "language_info": {
   "codemirror_mode": {
    "name": "ipython",
    "version": 3
   },
   "file_extension": ".py",
   "mimetype": "text/x-python",
   "name": "python",
   "nbconvert_exporter": "python",
   "pygments_lexer": "ipython3",
   "version": "3.11.0"
  }
 },
 "nbformat": 4,
 "nbformat_minor": 5
}
