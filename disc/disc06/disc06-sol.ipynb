{
 "cells": [
  {
   "cell_type": "markdown",
   "id": "665b78b2-89e5-42a7-8456-8420bfa0a5b5",
   "metadata": {},
   "source": [
    "# Discussion 05 Notebook\n",
    "\n",
    "This notebook is an accompaniment to the associated discussion worksheet handout."
   ]
  },
  {
   "cell_type": "markdown",
   "id": "5806e221-5f2b-4764-979a-32500a32d5ab",
   "metadata": {},
   "source": [
    "## Load in the IMDB Performance database\n",
    "\n",
    "This is a variation of the IMDB database with keys defined. Note that this is a pretty big database! So if you run the below lines, please also remember to delete the `imdb_perf_lecture` afterwards to save space on your limited postgreSQL server."
   ]
  },
  {
   "cell_type": "markdown",
   "id": "b5e5de78-740e-4e4d-9640-f769e7ec0cab",
   "metadata": {},
   "source": [
    "If you didn't load it in with a previous lecture, load in the `imdb_perf_lecture` database."
   ]
  },
  {
   "cell_type": "code",
   "execution_count": 8,
   "id": "8ea61b1d-de1e-455e-b294-31945f9bf983",
   "metadata": {},
   "outputs": [
    {
     "name": "stdout",
     "output_type": "stream",
     "text": [
      "Archive:  ../lecture/lec07/data/imdb_perf_lecture.zip\n"
     ]
    }
   ],
   "source": [
    "!unzip -u ../lecture/lec07/data/imdb_perf_lecture.zip -d ../lecture/lec07/data/"
   ]
  },
  {
   "cell_type": "code",
   "execution_count": 1,
   "id": "d2aea1bc-0807-4aeb-a5b8-e645609d0756",
   "metadata": {},
   "outputs": [
    {
     "name": "stdout",
     "output_type": "stream",
     "text": [
      "ERROR:  database \"imdb_perf_lecture\" is being accessed by other users\n",
      "DETAIL:  There is 1 other session using the database.\n",
      "ERROR:  database \"imdb_perf_lecture\" already exists\n",
      "SET\n",
      "SET\n",
      "SET\n",
      "SET\n",
      "SET\n",
      " set_config \n",
      "------------\n",
      " \n",
      "(1 row)\n",
      "\n",
      "SET\n",
      "SET\n",
      "SET\n",
      "SET\n",
      "SET\n",
      "SET\n",
      "psql:../lecture/lec07/data/imdb_perf_lecture.sql:30: ERROR:  relation \"actor\" already exists\n",
      "psql:../lecture/lec07/data/imdb_perf_lecture.sql:33: ERROR:  role \"yanlisa\" does not exist\n",
      "psql:../lecture/lec07/data/imdb_perf_lecture.sql:42: ERROR:  relation \"cast_info\" already exists\n",
      "psql:../lecture/lec07/data/imdb_perf_lecture.sql:45: ERROR:  role \"yanlisa\" does not exist\n",
      "psql:../lecture/lec07/data/imdb_perf_lecture.sql:56: ERROR:  relation \"movie\" already exists\n",
      "psql:../lecture/lec07/data/imdb_perf_lecture.sql:59: ERROR:  role \"yanlisa\" does not exist\n",
      "psql:../lecture/lec07/data/imdb_perf_lecture.sql:845954: ERROR:  duplicate key value violates unique constraint \"actor_pkey\"\n",
      "DETAIL:  Key (id)=(1) already exists.\n",
      "CONTEXT:  COPY actor, line 1\n",
      "psql:../lecture/lec07/data/imdb_perf_lecture.sql:3057898: FATAL:  terminating connection due to administrator command\n",
      "CONTEXT:  SQL statement \"SELECT 1 FROM ONLY \"public\".\"movie\" x WHERE \"id\" OPERATOR(pg_catalog.=) $1 FOR KEY SHARE OF x\"\n",
      "psql:../lecture/lec07/data/imdb_perf_lecture.sql:3057898: FATAL:  terminating connection due to administrator command\n",
      "CONTEXT:  SQL statement \"SELECT 1 FROM ONLY \"public\".\"movie\" x WHERE \"id\" OPERATOR(pg_catalog.=) $1 FOR KEY SHARE OF x\"\n",
      "server closed the connection unexpectedly\n",
      "\tThis probably means the server terminated abnormally\n",
      "\tbefore or while processing the request.\n",
      "psql:../lecture/lec07/data/imdb_perf_lecture.sql:3057898: fatal: connection to server was lost\n"
     ]
    }
   ],
   "source": [
    "!psql -h localhost -c 'DROP DATABASE IF EXISTS imdb_perf_lecture'\n",
    "!psql -h localhost -c 'CREATE DATABASE imdb_perf_lecture' \n",
    "!psql -h localhost -d imdb_perf_lecture -f ../lecture/lec07/data/imdb_perf_lecture.sql"
   ]
  },
  {
   "cell_type": "code",
   "execution_count": 4,
   "id": "addb4b4a-9ca7-4474-bc5f-88c670bbb50f",
   "metadata": {},
   "outputs": [],
   "source": [
    "%reload_ext sql\n",
    "%sql postgresql://127.0.0.1:5432/imdb_perf_lecture\n",
    "import pandas as pd"
   ]
  },
  {
   "cell_type": "markdown",
   "id": "ac50b45c-5826-4938-8234-a3f74cdfad0c",
   "metadata": {},
   "source": [
    "Before starting this part, review the schema of the relations in the `imdb_perf_lecture` database. Here's the printout from `psql`:\n",
    "\n",
    "```\n",
    "imdb_perf_lecture=# \\d actor\n",
    "               Table \"public.actor\"\n",
    " Column |  Type   | Collation | Nullable | Default \n",
    "--------+---------+-----------+----------+---------\n",
    " id     | integer |           | not null | \n",
    " name   | text    |           |          | \n",
    "Indexes:\n",
    "    \"actor_pkey\" PRIMARY KEY, btree (id)\n",
    "Referenced by:\n",
    "    TABLE \"cast_info\" CONSTRAINT \"cast_info_person_id_fkey\" FOREIGN KEY (person_id) REFERENCES actor(id)\n",
    "\n",
    "imdb_perf_lecture=# \\d cast_info\n",
    "               Table \"public.cast_info\"\n",
    "  Column   |  Type   | Collation | Nullable | Default \n",
    "-----------+---------+-----------+----------+---------\n",
    " person_id | integer |           |          | \n",
    " movie_id  | integer |           |          | \n",
    "Foreign-key constraints:\n",
    "    \"cast_info_movie_id_fkey\" FOREIGN KEY (movie_id) REFERENCES movie(id)\n",
    "    \"cast_info_person_id_fkey\" FOREIGN KEY (person_id) REFERENCES actor(id)\n",
    "\n",
    "imdb_perf_lecture=# \\d movie\n",
    "                    Table \"public.movie\"\n",
    "     Column      |  Type   | Collation | Nullable | Default \n",
    "-----------------+---------+-----------+----------+---------\n",
    " id              | integer |           | not null | \n",
    " title           | text    |           |          | \n",
    " year            | integer |           |          | \n",
    " runtime_minutes | integer |           |          | \n",
    "Indexes:\n",
    "    \"movie_pkey\" PRIMARY KEY, btree (id)\n",
    "Referenced by:\n",
    "    TABLE \"cast_info\" CONSTRAINT \"cast_info_movie_id_fkey\" FOREIGN KEY (movie_id) REFERENCES movie(id)\n",
    "```"
   ]
  },
  {
   "cell_type": "markdown",
   "id": "06a0adf5-ef49-40a4-8ed2-273dbccbabfc",
   "metadata": {},
   "source": [
    "# Question 1 Queries"
   ]
  },
  {
   "cell_type": "markdown",
   "id": "bc967b89-a3f9-4cb6-8844-dae770f57d08",
   "metadata": {},
   "source": [
    "This question looks at the impacts of **aggregation** and **sorting** on query performance."
   ]
  },
  {
   "cell_type": "markdown",
   "id": "575097f1-90e3-44df-8aa5-bd6c1424ec6e",
   "metadata": {},
   "source": [
    "## Question 1.1"
   ]
  },
  {
   "cell_type": "markdown",
   "id": "3cde964e-b0be-4190-b44e-c2087d2ed3c6",
   "metadata": {},
   "source": [
    "In the cell below, write a query that returns the actor names and the number of times the corresponding name appears in the `Actor` relation."
   ]
  },
  {
   "cell_type": "code",
   "execution_count": 6,
   "id": "2c52c02d-3044-4fec-9b52-44c793d321a6",
   "metadata": {},
   "outputs": [
    {
     "data": {
      "text/html": [
       "<span style=\"None\">Running query in &#x27;postgresql://127.0.0.1:5432/imdb_perf_lecture&#x27;</span>"
      ],
      "text/plain": [
       "Running query in 'postgresql://127.0.0.1:5432/imdb_perf_lecture'"
      ]
     },
     "metadata": {},
     "output_type": "display_data"
    },
    {
     "data": {
      "text/html": [
       "<span style=\"color: green\">804435 rows affected.</span>"
      ],
      "text/plain": [
       "804435 rows affected."
      ]
     },
     "metadata": {},
     "output_type": "display_data"
    },
    {
     "data": {
      "text/html": [
       "<table>\n",
       "    <thead>\n",
       "        <tr>\n",
       "            <th>count</th>\n",
       "            <th>name</th>\n",
       "        </tr>\n",
       "    </thead>\n",
       "    <tbody>\n",
       "        <tr>\n",
       "            <td>1</td>\n",
       "            <td>Angelika Bender</td>\n",
       "        </tr>\n",
       "        <tr>\n",
       "            <td>1</td>\n",
       "            <td>Claire Hackett</td>\n",
       "        </tr>\n",
       "        <tr>\n",
       "            <td>1</td>\n",
       "            <td>Amparo Azócar</td>\n",
       "        </tr>\n",
       "        <tr>\n",
       "            <td>1</td>\n",
       "            <td>Buck Adams</td>\n",
       "        </tr>\n",
       "        <tr>\n",
       "            <td>1</td>\n",
       "            <td>Bob Brady</td>\n",
       "        </tr>\n",
       "        <tr>\n",
       "            <td>1</td>\n",
       "            <td>Brigitte Boore</td>\n",
       "        </tr>\n",
       "        <tr>\n",
       "            <td>1</td>\n",
       "            <td>Aydemir Akbas</td>\n",
       "        </tr>\n",
       "        <tr>\n",
       "            <td>1</td>\n",
       "            <td>Cecile Bonnel</td>\n",
       "        </tr>\n",
       "        <tr>\n",
       "            <td>1</td>\n",
       "            <td>Claudia Becker</td>\n",
       "        </tr>\n",
       "        <tr>\n",
       "            <td>2</td>\n",
       "            <td>Mark Bailey</td>\n",
       "        </tr>\n",
       "    </tbody>\n",
       "</table>\n",
       "<span style=\"font-style:italic;text-align:center;\">Truncated to <a href=\"https://jupysql.ploomber.io/en/latest/api/configuration.html#displaylimit\">displaylimit</a> of 10.</span>"
      ],
      "text/plain": [
       "+-------+-----------------+\n",
       "| count |       name      |\n",
       "+-------+-----------------+\n",
       "|   1   | Angelika Bender |\n",
       "|   1   |  Claire Hackett |\n",
       "|   1   |  Amparo Azócar  |\n",
       "|   1   |    Buck Adams   |\n",
       "|   1   |    Bob Brady    |\n",
       "|   1   |  Brigitte Boore |\n",
       "|   1   |  Aydemir Akbas  |\n",
       "|   1   |  Cecile Bonnel  |\n",
       "|   1   |  Claudia Becker |\n",
       "|   2   |   Mark Bailey   |\n",
       "+-------+-----------------+\n",
       "Truncated to displaylimit of 10."
      ]
     },
     "execution_count": 6,
     "metadata": {},
     "output_type": "execute_result"
    }
   ],
   "source": [
    "%%sql\n",
    "-- write your query here --\n",
    "\n",
    "-- SOLUTION: delete the below before release --\n",
    "SELECT COUNT(*), name\n",
    "FROM actor\n",
    "GROUP BY name;"
   ]
  },
  {
   "cell_type": "markdown",
   "id": "9d2571e4-a467-450d-82e2-9e0101d27487",
   "metadata": {},
   "source": [
    "## Question 1.2"
   ]
  },
  {
   "cell_type": "markdown",
   "id": "98983374-8b4a-4d56-9afc-07a894ed35a2",
   "metadata": {},
   "source": [
    "Now, in the cell below, write a query that returns the actor IDs and the number of times the corresponding ID appears in the `Actor` relation."
   ]
  },
  {
   "cell_type": "code",
   "execution_count": 9,
   "id": "098c3549-d7e4-498c-b0fe-0fbf1be240b5",
   "metadata": {},
   "outputs": [
    {
     "data": {
      "text/html": [
       "<span style=\"None\">Running query in &#x27;postgresql://127.0.0.1:5432/imdb_perf_lecture&#x27;</span>"
      ],
      "text/plain": [
       "Running query in 'postgresql://127.0.0.1:5432/imdb_perf_lecture'"
      ]
     },
     "metadata": {},
     "output_type": "display_data"
    },
    {
     "data": {
      "text/html": [
       "<span style=\"color: green\">845888 rows affected.</span>"
      ],
      "text/plain": [
       "845888 rows affected."
      ]
     },
     "metadata": {},
     "output_type": "display_data"
    },
    {
     "data": {
      "text/html": [
       "<table>\n",
       "    <thead>\n",
       "        <tr>\n",
       "            <th>count</th>\n",
       "            <th>id</th>\n",
       "        </tr>\n",
       "    </thead>\n",
       "    <tbody>\n",
       "        <tr>\n",
       "            <td>1</td>\n",
       "            <td>1</td>\n",
       "        </tr>\n",
       "        <tr>\n",
       "            <td>1</td>\n",
       "            <td>2</td>\n",
       "        </tr>\n",
       "        <tr>\n",
       "            <td>1</td>\n",
       "            <td>3</td>\n",
       "        </tr>\n",
       "        <tr>\n",
       "            <td>1</td>\n",
       "            <td>4</td>\n",
       "        </tr>\n",
       "        <tr>\n",
       "            <td>1</td>\n",
       "            <td>5</td>\n",
       "        </tr>\n",
       "        <tr>\n",
       "            <td>1</td>\n",
       "            <td>6</td>\n",
       "        </tr>\n",
       "        <tr>\n",
       "            <td>1</td>\n",
       "            <td>7</td>\n",
       "        </tr>\n",
       "        <tr>\n",
       "            <td>1</td>\n",
       "            <td>8</td>\n",
       "        </tr>\n",
       "        <tr>\n",
       "            <td>1</td>\n",
       "            <td>9</td>\n",
       "        </tr>\n",
       "        <tr>\n",
       "            <td>1</td>\n",
       "            <td>10</td>\n",
       "        </tr>\n",
       "        <tr>\n",
       "            <td>1</td>\n",
       "            <td>11</td>\n",
       "        </tr>\n",
       "        <tr>\n",
       "            <td>1</td>\n",
       "            <td>12</td>\n",
       "        </tr>\n",
       "        <tr>\n",
       "            <td>1</td>\n",
       "            <td>13</td>\n",
       "        </tr>\n",
       "        <tr>\n",
       "            <td>1</td>\n",
       "            <td>14</td>\n",
       "        </tr>\n",
       "        <tr>\n",
       "            <td>1</td>\n",
       "            <td>15</td>\n",
       "        </tr>\n",
       "        <tr>\n",
       "            <td>1</td>\n",
       "            <td>17</td>\n",
       "        </tr>\n",
       "        <tr>\n",
       "            <td>1</td>\n",
       "            <td>18</td>\n",
       "        </tr>\n",
       "        <tr>\n",
       "            <td>1</td>\n",
       "            <td>19</td>\n",
       "        </tr>\n",
       "        <tr>\n",
       "            <td>1</td>\n",
       "            <td>20</td>\n",
       "        </tr>\n",
       "        <tr>\n",
       "            <td>1</td>\n",
       "            <td>21</td>\n",
       "        </tr>\n",
       "    </tbody>\n",
       "</table>\n",
       "<span style=\"font-style:italic;text-align:center;\">Truncated to <a href=\"https://jupysql.ploomber.io/en/latest/api/configuration.html#displaylimit\">displaylimit</a> of 20.</span>"
      ],
      "text/plain": [
       "+-------+----+\n",
       "| count | id |\n",
       "+-------+----+\n",
       "|   1   | 1  |\n",
       "|   1   | 2  |\n",
       "|   1   | 3  |\n",
       "|   1   | 4  |\n",
       "|   1   | 5  |\n",
       "|   1   | 6  |\n",
       "|   1   | 7  |\n",
       "|   1   | 8  |\n",
       "|   1   | 9  |\n",
       "|   1   | 10 |\n",
       "|   1   | 11 |\n",
       "|   1   | 12 |\n",
       "|   1   | 13 |\n",
       "|   1   | 14 |\n",
       "|   1   | 15 |\n",
       "|   1   | 17 |\n",
       "|   1   | 18 |\n",
       "|   1   | 19 |\n",
       "|   1   | 20 |\n",
       "|   1   | 21 |\n",
       "+-------+----+\n",
       "Truncated to displaylimit of 20."
      ]
     },
     "execution_count": 9,
     "metadata": {},
     "output_type": "execute_result"
    }
   ],
   "source": [
    "%%sql\n",
    "-- write your query here --\n",
    "\n",
    "-- SOLUTION: delete the below before release --\n",
    "SELECT COUNT(*), id\n",
    "FROM actor\n",
    "GROUP BY id;"
   ]
  },
  {
   "cell_type": "markdown",
   "id": "a056a219-676e-4ccc-bdba-85054a4a1728",
   "metadata": {},
   "source": [
    "## Question 1.3"
   ]
  },
  {
   "cell_type": "markdown",
   "id": "a951f7e6-c2fb-44a6-b9b5-8eb67867242c",
   "metadata": {},
   "source": [
    "Run `EXPLAIN ANALYZE` on your two queries above. See below for the full question."
   ]
  },
  {
   "cell_type": "markdown",
   "id": "a2e8c4ab-2171-4a40-b513-04c2680f73f6",
   "metadata": {},
   "source": [
    "If you're having trouble seeing the entirety of the query plan, you can run the following cell to set the limit on displayed rows to 20. **Careful**: Do not set this to `None` and run the actual queries; SQL will return millions of rows and crash your kernel!"
   ]
  },
  {
   "cell_type": "code",
   "execution_count": 12,
   "id": "c5838251-9ee8-46b7-b519-90ef9c52b3e3",
   "metadata": {},
   "outputs": [],
   "source": [
    "# run this cell to remove 10-row limit on display\n",
    "%config SqlMagic.displaylimit = 20"
   ]
  },
  {
   "cell_type": "code",
   "execution_count": 10,
   "id": "c00633a8-f812-4911-abdb-6b338fe080d6",
   "metadata": {},
   "outputs": [
    {
     "data": {
      "text/html": [
       "<span style=\"None\">Running query in &#x27;postgresql://127.0.0.1:5432/imdb_perf_lecture&#x27;</span>"
      ],
      "text/plain": [
       "Running query in 'postgresql://127.0.0.1:5432/imdb_perf_lecture'"
      ]
     },
     "metadata": {},
     "output_type": "display_data"
    },
    {
     "data": {
      "text/html": [
       "<span style=\"color: green\">6 rows affected.</span>"
      ],
      "text/plain": [
       "6 rows affected."
      ]
     },
     "metadata": {},
     "output_type": "display_data"
    },
    {
     "data": {
      "text/html": [
       "<table>\n",
       "    <thead>\n",
       "        <tr>\n",
       "            <th>QUERY PLAN</th>\n",
       "        </tr>\n",
       "    </thead>\n",
       "    <tbody>\n",
       "        <tr>\n",
       "            <td>HashAggregate  (cost=67965.49..83560.81 rows=732363 width=22) (actual time=376.648..801.889 rows=804435 loops=1)</td>\n",
       "        </tr>\n",
       "        <tr>\n",
       "            <td>&nbsp;&nbsp;Group Key: name</td>\n",
       "        </tr>\n",
       "        <tr>\n",
       "            <td>&nbsp;&nbsp;Planned Partitions: 32  Batches: 33  Memory Usage: 4113kB  Disk Usage: 30624kB</td>\n",
       "        </tr>\n",
       "        <tr>\n",
       "            <td>&nbsp;&nbsp;->  Seq Scan on actor  (cost=0.00..13703.21 rows=847021 width=14) (actual time=0.015..60.077 rows=845888 loops=1)</td>\n",
       "        </tr>\n",
       "        <tr>\n",
       "            <td>Planning Time: 0.069 ms</td>\n",
       "        </tr>\n",
       "        <tr>\n",
       "            <td>Execution Time: 832.037 ms</td>\n",
       "        </tr>\n",
       "    </tbody>\n",
       "</table>"
      ],
      "text/plain": [
       "+---------------------------------------------------------------------------------------------------------------------+\n",
       "|                                                      QUERY PLAN                                                     |\n",
       "+---------------------------------------------------------------------------------------------------------------------+\n",
       "|   HashAggregate  (cost=67965.49..83560.81 rows=732363 width=22) (actual time=376.648..801.889 rows=804435 loops=1)  |\n",
       "|                                                    Group Key: name                                                  |\n",
       "|                     Planned Partitions: 32  Batches: 33  Memory Usage: 4113kB  Disk Usage: 30624kB                  |\n",
       "|   ->  Seq Scan on actor  (cost=0.00..13703.21 rows=847021 width=14) (actual time=0.015..60.077 rows=845888 loops=1) |\n",
       "|                                               Planning Time: 0.069 ms                                               |\n",
       "|                                              Execution Time: 832.037 ms                                             |\n",
       "+---------------------------------------------------------------------------------------------------------------------+"
      ]
     },
     "execution_count": 10,
     "metadata": {},
     "output_type": "execute_result"
    }
   ],
   "source": [
    "%%sql\n",
    "-- write your EXPLAIN ANALYZE here --\n",
    "\n",
    "-- SOLUTION: delete the below before release --\n",
    "EXPLAIN ANALYZE \n",
    "SELECT COUNT(*), name\n",
    "FROM actor\n",
    "GROUP BY name;"
   ]
  },
  {
   "cell_type": "code",
   "execution_count": 11,
   "id": "0ed0e292-b75f-466c-8d53-2e29d511270c",
   "metadata": {},
   "outputs": [
    {
     "data": {
      "text/html": [
       "<span style=\"None\">Running query in &#x27;postgresql://127.0.0.1:5432/imdb_perf_lecture&#x27;</span>"
      ],
      "text/plain": [
       "Running query in 'postgresql://127.0.0.1:5432/imdb_perf_lecture'"
      ]
     },
     "metadata": {},
     "output_type": "display_data"
    },
    {
     "data": {
      "text/html": [
       "<span style=\"color: green\">6 rows affected.</span>"
      ],
      "text/plain": [
       "6 rows affected."
      ]
     },
     "metadata": {},
     "output_type": "display_data"
    },
    {
     "data": {
      "text/html": [
       "<table>\n",
       "    <thead>\n",
       "        <tr>\n",
       "            <th>QUERY PLAN</th>\n",
       "        </tr>\n",
       "    </thead>\n",
       "    <tbody>\n",
       "        <tr>\n",
       "            <td>GroupAggregate  (cost=0.42..34726.95 rows=847021 width=12) (actual time=0.050..260.063 rows=845888 loops=1)</td>\n",
       "        </tr>\n",
       "        <tr>\n",
       "            <td>&nbsp;&nbsp;Group Key: id</td>\n",
       "        </tr>\n",
       "        <tr>\n",
       "            <td>&nbsp;&nbsp;->  Index Only Scan using actor_pkey on actor  (cost=0.42..22021.64 rows=847021 width=4) (actual time=0.042..80.571 rows=845888 loops=1)</td>\n",
       "        </tr>\n",
       "        <tr>\n",
       "            <td>&nbsp;&nbsp;&nbsp;&nbsp;&nbsp;&nbsp;&nbsp;&nbsp;Heap Fetches: 157</td>\n",
       "        </tr>\n",
       "        <tr>\n",
       "            <td>Planning Time: 0.097 ms</td>\n",
       "        </tr>\n",
       "        <tr>\n",
       "            <td>Execution Time: 284.734 ms</td>\n",
       "        </tr>\n",
       "    </tbody>\n",
       "</table>"
      ],
      "text/plain": [
       "+--------------------------------------------------------------------------------------------------------------------------------------------+\n",
       "|                                                                 QUERY PLAN                                                                 |\n",
       "+--------------------------------------------------------------------------------------------------------------------------------------------+\n",
       "|                GroupAggregate  (cost=0.42..34726.95 rows=847021 width=12) (actual time=0.050..260.063 rows=845888 loops=1)                 |\n",
       "|                                                                Group Key: id                                                               |\n",
       "|   ->  Index Only Scan using actor_pkey on actor  (cost=0.42..22021.64 rows=847021 width=4) (actual time=0.042..80.571 rows=845888 loops=1) |\n",
       "|                                                                 Heap Fetches: 157                                                          |\n",
       "|                                                          Planning Time: 0.097 ms                                                           |\n",
       "|                                                         Execution Time: 284.734 ms                                                         |\n",
       "+--------------------------------------------------------------------------------------------------------------------------------------------+"
      ]
     },
     "execution_count": 11,
     "metadata": {},
     "output_type": "execute_result"
    }
   ],
   "source": [
    "%%sql\n",
    "-- write your EXPLAIN ANALYZE here --\n",
    "\n",
    "-- SOLUTION: delete the below before release --\n",
    "EXPLAIN ANALYZE \n",
    "SELECT COUNT(*), id\n",
    "FROM actor\n",
    "GROUP BY id;"
   ]
  },
  {
   "cell_type": "markdown",
   "id": "956803bb-31f5-42ae-819f-05b90131ec28",
   "metadata": {},
   "source": [
    "<br/><br/>\n",
    "\n",
    "**(Question 1.3, continued)**\n",
    "Why do you think the the `name` query use a Sequential Scan, whereas the `id` query use an Index Only scan?"
   ]
  },
  {
   "cell_type": "markdown",
   "id": "8e7f9566-99a2-46d4-b316-d5dd91df63b1",
   "metadata": {},
   "source": [
    "Because only the id data exists in the index, and Index Scan is less I/O-intensive than Sequential\r\n",
    "Scan when available. For the name column, Sequential Scan is the only possible way to retrieve its\r\n",
    "data"
   ]
  },
  {
   "cell_type": "markdown",
   "id": "a6cae813-3cbe-4298-bf6e-6576cd26d84b",
   "metadata": {},
   "source": [
    "## Question 1.4"
   ]
  },
  {
   "cell_type": "markdown",
   "id": "44574338-0d9d-4fc0-ae0f-b8573e544bdb",
   "metadata": {},
   "source": [
    "Now, write a command that creates an index `name_actor_index` on the `name` attribute of `actor`."
   ]
  },
  {
   "cell_type": "code",
   "execution_count": 13,
   "id": "853fbc1c-5b86-4d2f-af0b-cd003be11fb4",
   "metadata": {},
   "outputs": [
    {
     "data": {
      "text/html": [
       "<span style=\"None\">Running query in &#x27;postgresql://127.0.0.1:5432/imdb_perf_lecture&#x27;</span>"
      ],
      "text/plain": [
       "Running query in 'postgresql://127.0.0.1:5432/imdb_perf_lecture'"
      ]
     },
     "metadata": {},
     "output_type": "display_data"
    },
    {
     "data": {
      "text/html": [
       "<table>\n",
       "    <thead>\n",
       "        <tr>\n",
       "        </tr>\n",
       "    </thead>\n",
       "    <tbody>\n",
       "    </tbody>\n",
       "</table>"
      ],
      "text/plain": [
       "++\n",
       "||\n",
       "++\n",
       "++"
      ]
     },
     "execution_count": 13,
     "metadata": {},
     "output_type": "execute_result"
    }
   ],
   "source": [
    "%%sql\n",
    "-- write your EXPLAIN ANALYZE here --\n",
    "\n",
    "-- SOLUTION: delete the below before release --\n",
    "CREATE INDEX name_actor_index ON actor(name);"
   ]
  },
  {
   "cell_type": "markdown",
   "id": "2dfa221e-3906-486b-abd1-84cb0dd90008",
   "metadata": {},
   "source": [
    "**(Question 1.4, continued)**\n",
    "Now rerun your `EXPLAIN ANALYZE` of your Question 1.1 query on `name` by copying and pasting it into the cell below. See below for the discussion question."
   ]
  },
  {
   "cell_type": "code",
   "execution_count": 14,
   "id": "4312dec4-f7bf-47ac-83d4-27060f58f8d2",
   "metadata": {},
   "outputs": [
    {
     "data": {
      "text/html": [
       "<span style=\"None\">Running query in &#x27;postgresql://127.0.0.1:5432/imdb_perf_lecture&#x27;</span>"
      ],
      "text/plain": [
       "Running query in 'postgresql://127.0.0.1:5432/imdb_perf_lecture'"
      ]
     },
     "metadata": {},
     "output_type": "display_data"
    },
    {
     "data": {
      "text/html": [
       "<span style=\"color: green\">6 rows affected.</span>"
      ],
      "text/plain": [
       "6 rows affected."
      ]
     },
     "metadata": {},
     "output_type": "display_data"
    },
    {
     "data": {
      "text/html": [
       "<table>\n",
       "    <thead>\n",
       "        <tr>\n",
       "            <th>QUERY PLAN</th>\n",
       "        </tr>\n",
       "    </thead>\n",
       "    <tbody>\n",
       "        <tr>\n",
       "            <td>GroupAggregate  (cost=0.42..37772.01 rows=731383 width=22) (actual time=0.060..323.392 rows=804435 loops=1)</td>\n",
       "        </tr>\n",
       "        <tr>\n",
       "            <td>&nbsp;&nbsp;Group Key: name</td>\n",
       "        </tr>\n",
       "        <tr>\n",
       "            <td>&nbsp;&nbsp;->  Index Only Scan using name_actor_index on actor  (cost=0.42..26228.74 rows=845888 width=14) (actual time=0.052..105.058 rows=845888 loops=1)</td>\n",
       "        </tr>\n",
       "        <tr>\n",
       "            <td>&nbsp;&nbsp;&nbsp;&nbsp;&nbsp;&nbsp;&nbsp;&nbsp;Heap Fetches: 157</td>\n",
       "        </tr>\n",
       "        <tr>\n",
       "            <td>Planning Time: 0.238 ms</td>\n",
       "        </tr>\n",
       "        <tr>\n",
       "            <td>Execution Time: 346.601 ms</td>\n",
       "        </tr>\n",
       "    </tbody>\n",
       "</table>"
      ],
      "text/plain": [
       "+----------------------------------------------------------------------------------------------------------------------------------------------------+\n",
       "|                                                                     QUERY PLAN                                                                     |\n",
       "+----------------------------------------------------------------------------------------------------------------------------------------------------+\n",
       "|                    GroupAggregate  (cost=0.42..37772.01 rows=731383 width=22) (actual time=0.060..323.392 rows=804435 loops=1)                     |\n",
       "|                                                                   Group Key: name                                                                  |\n",
       "|   ->  Index Only Scan using name_actor_index on actor  (cost=0.42..26228.74 rows=845888 width=14) (actual time=0.052..105.058 rows=845888 loops=1) |\n",
       "|                                                                     Heap Fetches: 157                                                              |\n",
       "|                                                              Planning Time: 0.238 ms                                                               |\n",
       "|                                                             Execution Time: 346.601 ms                                                             |\n",
       "+----------------------------------------------------------------------------------------------------------------------------------------------------+"
      ]
     },
     "execution_count": 14,
     "metadata": {},
     "output_type": "execute_result"
    }
   ],
   "source": [
    "%%sql\n",
    "-- write your EXPLAIN ANALYZE here --\n",
    "\n",
    "-- SOLUTION: delete the below before release --\n",
    "EXPLAIN ANALYZE \n",
    "SELECT COUNT(*), name\n",
    "FROM actor\n",
    "GROUP BY name;"
   ]
  },
  {
   "cell_type": "markdown",
   "id": "d18db698-2ee6-4dcb-a6d2-0880f0491bd4",
   "metadata": {},
   "source": [
    "**(Question 1.4, continued)**\n",
    "Why does the `name` query now use an `Index Only Scan`? What index is it using?"
   ]
  },
  {
   "cell_type": "markdown",
   "id": "cb156eb3-9247-4521-a5d2-9f2c61b0c165",
   "metadata": {},
   "source": [
    "The query can now make use of the newly created name actor index index, since an Index Scan\n",
    "incurs less I/O cost than a full Sequential Scan. Notice that this is only possible because we\n",
    "already paid the I/O cost upfront when creating this index.\n"
   ]
  },
  {
   "cell_type": "markdown",
   "id": "00e265ab-cc3f-4937-8bc8-a3bdd43751d2",
   "metadata": {},
   "source": [
    "## Question 1.5"
   ]
  },
  {
   "cell_type": "markdown",
   "id": "a17b1e13-8236-4703-879e-bda62536e4d0",
   "metadata": {},
   "source": [
    "Now in the cell below, analyze the impacts of rewriting your query from Question 1.2 to return the entries sorted by ID. In other words, run an `EXPLAIN ANALYZE` on a query that returns the actor IDs (**sorted by lowest ID first**) and the number of times the corresponding ID appears in the `Actor` relation.\n",
    "\n",
    "**Discuss**: Why does this query take so much time? What is the `ORDER BY` operation doing here?"
   ]
  },
  {
   "cell_type": "markdown",
   "id": "bdb75732-bc27-4615-9b83-9b2114c8771c",
   "metadata": {},
   "source": [
    "You might be surprised to find out that this query did not take any longer than the previous query.\r\n",
    "In fact, the query plan did not even include an additional sorting step. Why? Because the B+\r\n",
    "tree index already provides ordering “for free”. When you traverse a B+ tree index to retrieve all\r\n",
    "the ID values, you already get them back in a sorted order.\r"
   ]
  },
  {
   "cell_type": "code",
   "execution_count": 16,
   "id": "fd6d92fb-75e0-4f78-819b-c578ed578ea2",
   "metadata": {},
   "outputs": [
    {
     "data": {
      "text/html": [
       "<span style=\"None\">Running query in &#x27;postgresql://127.0.0.1:5432/imdb_perf_lecture&#x27;</span>"
      ],
      "text/plain": [
       "Running query in 'postgresql://127.0.0.1:5432/imdb_perf_lecture'"
      ]
     },
     "metadata": {},
     "output_type": "display_data"
    },
    {
     "data": {
      "text/html": [
       "<span style=\"color: green\">6 rows affected.</span>"
      ],
      "text/plain": [
       "6 rows affected."
      ]
     },
     "metadata": {},
     "output_type": "display_data"
    },
    {
     "data": {
      "text/html": [
       "<table>\n",
       "    <thead>\n",
       "        <tr>\n",
       "            <th>QUERY PLAN</th>\n",
       "        </tr>\n",
       "    </thead>\n",
       "    <tbody>\n",
       "        <tr>\n",
       "            <td>GroupAggregate  (cost=0.42..34699.60 rows=845888 width=12) (actual time=0.076..264.933 rows=845888 loops=1)</td>\n",
       "        </tr>\n",
       "        <tr>\n",
       "            <td>&nbsp;&nbsp;Group Key: id</td>\n",
       "        </tr>\n",
       "        <tr>\n",
       "            <td>&nbsp;&nbsp;->  Index Only Scan using actor_pkey on actor  (cost=0.42..22011.28 rows=845888 width=4) (actual time=0.068..82.501 rows=845888 loops=1)</td>\n",
       "        </tr>\n",
       "        <tr>\n",
       "            <td>&nbsp;&nbsp;&nbsp;&nbsp;&nbsp;&nbsp;&nbsp;&nbsp;Heap Fetches: 157</td>\n",
       "        </tr>\n",
       "        <tr>\n",
       "            <td>Planning Time: 0.174 ms</td>\n",
       "        </tr>\n",
       "        <tr>\n",
       "            <td>Execution Time: 290.046 ms</td>\n",
       "        </tr>\n",
       "    </tbody>\n",
       "</table>"
      ],
      "text/plain": [
       "+--------------------------------------------------------------------------------------------------------------------------------------------+\n",
       "|                                                                 QUERY PLAN                                                                 |\n",
       "+--------------------------------------------------------------------------------------------------------------------------------------------+\n",
       "|                GroupAggregate  (cost=0.42..34699.60 rows=845888 width=12) (actual time=0.076..264.933 rows=845888 loops=1)                 |\n",
       "|                                                                Group Key: id                                                               |\n",
       "|   ->  Index Only Scan using actor_pkey on actor  (cost=0.42..22011.28 rows=845888 width=4) (actual time=0.068..82.501 rows=845888 loops=1) |\n",
       "|                                                                 Heap Fetches: 157                                                          |\n",
       "|                                                          Planning Time: 0.174 ms                                                           |\n",
       "|                                                         Execution Time: 290.046 ms                                                         |\n",
       "+--------------------------------------------------------------------------------------------------------------------------------------------+"
      ]
     },
     "execution_count": 16,
     "metadata": {},
     "output_type": "execute_result"
    }
   ],
   "source": [
    "%%sql\n",
    "-- write your query here --\n",
    "\n",
    "-- SOLUTION: delete the below before release --\n",
    "EXPLAIN ANALYZE\n",
    "SELECT COUNT(*), id\n",
    "FROM actor\n",
    "GROUP BY id\n",
    "ORDER BY id;"
   ]
  },
  {
   "cell_type": "markdown",
   "id": "1e127ae6-8224-4495-8bb4-2dd0368e0154",
   "metadata": {},
   "source": [
    "<br/><br/><br/>\n",
    "\n",
    "---\n",
    "\n",
    "# Question 2"
   ]
  },
  {
   "cell_type": "markdown",
   "id": "b9392da4-c4d2-4186-ad3e-e571455aa758",
   "metadata": {},
   "source": [
    "Before starting this question, we encourage you to delete any indexes you created above. It will help you compute consistent results with other classmates."
   ]
  },
  {
   "cell_type": "code",
   "execution_count": 17,
   "id": "04b800f8-aca9-4c21-8574-267eb2a9695c",
   "metadata": {},
   "outputs": [
    {
     "data": {
      "text/html": [
       "<span style=\"None\">Running query in &#x27;postgresql://127.0.0.1:5432/imdb_perf_lecture&#x27;</span>"
      ],
      "text/plain": [
       "Running query in 'postgresql://127.0.0.1:5432/imdb_perf_lecture'"
      ]
     },
     "metadata": {},
     "output_type": "display_data"
    },
    {
     "name": "stderr",
     "output_type": "stream",
     "text": [
      "RuntimeError: (psycopg2.errors.UndefinedObject) index \"name_actor_index\" does not exist\n",
      "\n",
      "[SQL: DROP INDEX name_actor_index;]\n",
      "(Background on this error at: https://sqlalche.me/e/20/f405)\n",
      "If you need help solving this issue, send us a message: https://ploomber.io/community\n"
     ]
    }
   ],
   "source": [
    "# just run this cell\n",
    "%sql DROP INDEX name_actor_index;"
   ]
  },
  {
   "cell_type": "markdown",
   "id": "c69c481b-1997-4370-ac7d-38fce4848bbf",
   "metadata": {},
   "source": [
    "## Question 2.1"
   ]
  },
  {
   "cell_type": "markdown",
   "id": "daf00940-df5f-4cca-8237-2339d286671b",
   "metadata": {},
   "source": [
    "Write a query that computes an inner join on `actor` and `cast_info` on the actor ID. Your query should return all attributes.\n",
    "\n",
    "Once you're comfortable that the query is working as expected, run it through `EXPLAIN ANALYZE`. **Discuss**: What kind of join is the query optimizer performing? Why might this be the case?"
   ]
  },
  {
   "cell_type": "markdown",
   "id": "32689614-1ad4-4ea2-afa7-01645b8ae3aa",
   "metadata": {},
   "source": [
    "Hash join. \n",
    "\n",
    "Here are some reasons for using hash join:\n",
    "- Join condition: This is an equi-join, which is particularly suitable for hash join. If this were\n",
    "an inequality join, hash join would not be efficient here.\n",
    "- Table sizes: If one of the tables (actor) is substantially smaller than the other (cast info),\n",
    "it can be loaded into memory and used to build a hash table, which can then be used for\n",
    "a more efficient join with the larger table. Here the smaller table actor (845,888 rows) is\n",
    "used to build the hash table. The larger table cast info (2,211,936 rows) is then scanned and\n",
    "matched against this hash table.\n"
   ]
  },
  {
   "cell_type": "code",
   "execution_count": 19,
   "id": "7358130c-71a5-45da-a817-5fcea54726f6",
   "metadata": {},
   "outputs": [
    {
     "data": {
      "text/html": [
       "<span style=\"None\">Running query in &#x27;postgresql://127.0.0.1:5432/imdb_perf_lecture&#x27;</span>"
      ],
      "text/plain": [
       "Running query in 'postgresql://127.0.0.1:5432/imdb_perf_lecture'"
      ]
     },
     "metadata": {},
     "output_type": "display_data"
    },
    {
     "data": {
      "text/html": [
       "<span style=\"color: green\">8 rows affected.</span>"
      ],
      "text/plain": [
       "8 rows affected."
      ]
     },
     "metadata": {},
     "output_type": "display_data"
    },
    {
     "data": {
      "text/html": [
       "<table>\n",
       "    <thead>\n",
       "        <tr>\n",
       "            <th>QUERY PLAN</th>\n",
       "        </tr>\n",
       "    </thead>\n",
       "    <tbody>\n",
       "        <tr>\n",
       "            <td>Hash Join  (cost=29222.48..89171.29 rows=2211784 width=26) (actual time=189.485..1588.855 rows=2211936 loops=1)</td>\n",
       "        </tr>\n",
       "        <tr>\n",
       "            <td>&nbsp;&nbsp;Hash Cond: (cast_info.person_id = actor.id)</td>\n",
       "        </tr>\n",
       "        <tr>\n",
       "            <td>&nbsp;&nbsp;->  Seq Scan on cast_info  (cost=0.00..31905.84 rows=2211784 width=8) (actual time=0.047..232.695 rows=2211936 loops=1)</td>\n",
       "        </tr>\n",
       "        <tr>\n",
       "            <td>&nbsp;&nbsp;->  Hash  (cost=13691.88..13691.88 rows=845888 width=18) (actual time=189.258..189.260 rows=845888 loops=1)</td>\n",
       "        </tr>\n",
       "        <tr>\n",
       "            <td>&nbsp;&nbsp;&nbsp;&nbsp;&nbsp;&nbsp;&nbsp;&nbsp;Buckets: 65536  Batches: 16  Memory Usage: 3114kB</td>\n",
       "        </tr>\n",
       "        <tr>\n",
       "            <td>&nbsp;&nbsp;&nbsp;&nbsp;&nbsp;&nbsp;&nbsp;&nbsp;->  Seq Scan on actor  (cost=0.00..13691.88 rows=845888 width=18) (actual time=0.004..57.367 rows=845888 loops=1)</td>\n",
       "        </tr>\n",
       "        <tr>\n",
       "            <td>Planning Time: 0.161 ms</td>\n",
       "        </tr>\n",
       "        <tr>\n",
       "            <td>Execution Time: 1655.870 ms</td>\n",
       "        </tr>\n",
       "    </tbody>\n",
       "</table>"
      ],
      "text/plain": [
       "+---------------------------------------------------------------------------------------------------------------------------+\n",
       "|                                                         QUERY PLAN                                                        |\n",
       "+---------------------------------------------------------------------------------------------------------------------------+\n",
       "|      Hash Join  (cost=29222.48..89171.29 rows=2211784 width=26) (actual time=189.485..1588.855 rows=2211936 loops=1)      |\n",
       "|                                         Hash Cond: (cast_info.person_id = actor.id)                                       |\n",
       "|   ->  Seq Scan on cast_info  (cost=0.00..31905.84 rows=2211784 width=8) (actual time=0.047..232.695 rows=2211936 loops=1) |\n",
       "|         ->  Hash  (cost=13691.88..13691.88 rows=845888 width=18) (actual time=189.258..189.260 rows=845888 loops=1)       |\n",
       "|                                         Buckets: 65536  Batches: 16  Memory Usage: 3114kB                                 |\n",
       "|         ->  Seq Scan on actor  (cost=0.00..13691.88 rows=845888 width=18) (actual time=0.004..57.367 rows=845888 loops=1) |\n",
       "|                                                  Planning Time: 0.161 ms                                                  |\n",
       "|                                                Execution Time: 1655.870 ms                                                |\n",
       "+---------------------------------------------------------------------------------------------------------------------------+"
      ]
     },
     "execution_count": 19,
     "metadata": {},
     "output_type": "execute_result"
    }
   ],
   "source": [
    "%%sql\n",
    "-- write your query here; edit to include EXPLAIN ANALYZE --\n",
    "\n",
    "-- SOLUTION: delete the below before release --\n",
    "EXPLAIN ANALYZE\n",
    "SELECT *\n",
    "FROM actor, cast_info\n",
    "WHERE actor.id = cast_info.person_id;"
   ]
  },
  {
   "cell_type": "markdown",
   "id": "170a64fa-acc5-4e58-8a7f-aad442703b50",
   "metadata": {},
   "source": [
    "<br/>\n",
    "\n",
    "---\n",
    "\n",
    "Sometimes you may prefer to adjust the PostgreSQL settings to force a specific performance of a query. \n",
    "In the remainder of this question we will explore how to specify these settings. Note that settings tweaking for a single query is **not recommended** in practice, as it affects all of your queries! However, if you know specific characteristics of how your database will be queried in general, then by all means, dive in to adjust these knobs."
   ]
  },
  {
   "cell_type": "markdown",
   "id": "7d1e879c-d7bb-4945-b7da-9d5825a50f49",
   "metadata": {},
   "source": [
    "* All runtime parameters for PostgreSQL are in one view, called `pg_settings` (Documentation 54.24 [link](https://www.postgresql.org/docs/current/view-pg-settings.html)).\n",
    "* In particular, the Planner Method Configuration (Documentation 20.7.1 [link](https://www.postgresql.org/docs/current/runtime-config-query.html#GUC-SEQ-PAGE-COST)) includes the parameter descriptions for the query optimizer.\n",
    "\n",
    "We encourage you to keep these pages up as you explore the next activity."
   ]
  },
  {
   "cell_type": "markdown",
   "id": "f274df09-1b9c-4652-8b08-25005c2f96d2",
   "metadata": {},
   "source": [
    "## Question 2.2"
   ]
  },
  {
   "cell_type": "markdown",
   "id": "208513a6-e1f3-4d4d-a68e-38573e5ee2b1",
   "metadata": {},
   "source": [
    "Run the below query. Which settings are related to selecting the type of join that the query optimizer can select?"
   ]
  },
  {
   "cell_type": "code",
   "execution_count": 21,
   "id": "09778108-7606-4ba6-b4d5-5a63bdff369a",
   "metadata": {
    "scrolled": true
   },
   "outputs": [
    {
     "data": {
      "text/html": [
       "<span style=\"None\">Running query in &#x27;postgresql://127.0.0.1:5432/imdb_perf_lecture&#x27;</span>"
      ],
      "text/plain": [
       "Running query in 'postgresql://127.0.0.1:5432/imdb_perf_lecture'"
      ]
     },
     "metadata": {},
     "output_type": "display_data"
    },
    {
     "data": {
      "text/html": [
       "<span style=\"color: green\">20 rows affected.</span>"
      ],
      "text/plain": [
       "20 rows affected."
      ]
     },
     "metadata": {},
     "output_type": "display_data"
    },
    {
     "data": {
      "text/html": [
       "<table>\n",
       "    <thead>\n",
       "        <tr>\n",
       "            <th>name</th>\n",
       "        </tr>\n",
       "    </thead>\n",
       "    <tbody>\n",
       "        <tr>\n",
       "            <td>enable_async_append</td>\n",
       "        </tr>\n",
       "        <tr>\n",
       "            <td>enable_bitmapscan</td>\n",
       "        </tr>\n",
       "        <tr>\n",
       "            <td>enable_gathermerge</td>\n",
       "        </tr>\n",
       "        <tr>\n",
       "            <td>enable_hashagg</td>\n",
       "        </tr>\n",
       "        <tr>\n",
       "            <td>enable_hashjoin</td>\n",
       "        </tr>\n",
       "        <tr>\n",
       "            <td>enable_incremental_sort</td>\n",
       "        </tr>\n",
       "        <tr>\n",
       "            <td>enable_indexonlyscan</td>\n",
       "        </tr>\n",
       "        <tr>\n",
       "            <td>enable_indexscan</td>\n",
       "        </tr>\n",
       "        <tr>\n",
       "            <td>enable_material</td>\n",
       "        </tr>\n",
       "        <tr>\n",
       "            <td>enable_memoize</td>\n",
       "        </tr>\n",
       "        <tr>\n",
       "            <td>enable_mergejoin</td>\n",
       "        </tr>\n",
       "        <tr>\n",
       "            <td>enable_nestloop</td>\n",
       "        </tr>\n",
       "        <tr>\n",
       "            <td>enable_parallel_append</td>\n",
       "        </tr>\n",
       "        <tr>\n",
       "            <td>enable_parallel_hash</td>\n",
       "        </tr>\n",
       "        <tr>\n",
       "            <td>enable_partition_pruning</td>\n",
       "        </tr>\n",
       "        <tr>\n",
       "            <td>enable_partitionwise_aggregate</td>\n",
       "        </tr>\n",
       "        <tr>\n",
       "            <td>enable_partitionwise_join</td>\n",
       "        </tr>\n",
       "        <tr>\n",
       "            <td>enable_seqscan</td>\n",
       "        </tr>\n",
       "        <tr>\n",
       "            <td>enable_sort</td>\n",
       "        </tr>\n",
       "        <tr>\n",
       "            <td>enable_tidscan</td>\n",
       "        </tr>\n",
       "    </tbody>\n",
       "</table>\n",
       "<span style=\"font-style:italic;text-align:center;\">Truncated to <a href=\"https://jupysql.ploomber.io/en/latest/api/configuration.html#displaylimit\">displaylimit</a> of 20.</span>"
      ],
      "text/plain": [
       "+--------------------------------+\n",
       "|              name              |\n",
       "+--------------------------------+\n",
       "|      enable_async_append       |\n",
       "|       enable_bitmapscan        |\n",
       "|       enable_gathermerge       |\n",
       "|         enable_hashagg         |\n",
       "|        enable_hashjoin         |\n",
       "|    enable_incremental_sort     |\n",
       "|      enable_indexonlyscan      |\n",
       "|        enable_indexscan        |\n",
       "|        enable_material         |\n",
       "|         enable_memoize         |\n",
       "|        enable_mergejoin        |\n",
       "|        enable_nestloop         |\n",
       "|     enable_parallel_append     |\n",
       "|      enable_parallel_hash      |\n",
       "|    enable_partition_pruning    |\n",
       "| enable_partitionwise_aggregate |\n",
       "|   enable_partitionwise_join    |\n",
       "|         enable_seqscan         |\n",
       "|          enable_sort           |\n",
       "|         enable_tidscan         |\n",
       "+--------------------------------+\n",
       "Truncated to displaylimit of 20."
      ]
     },
     "execution_count": 21,
     "metadata": {},
     "output_type": "execute_result"
    }
   ],
   "source": [
    "%%sql\n",
    "SELECT name\n",
    "FROM pg_settings\n",
    "WHERE name LIKE 'enable_%';"
   ]
  },
  {
   "cell_type": "markdown",
   "id": "a30e0d3e-2b91-4ae9-b725-b46ae996cbb6",
   "metadata": {},
   "source": [
    "We are interested in the following: `enable hashjoin`, `enable mergejoin`, `enable nestloop`"
   ]
  },
  {
   "cell_type": "markdown",
   "id": "c2bc3c4c-69bc-4dae-b114-e593ce4e854f",
   "metadata": {},
   "source": [
    "## Question 2.3"
   ]
  },
  {
   "cell_type": "markdown",
   "id": "a359e3ce-0117-455c-ba0e-b6c9c88394f3",
   "metadata": {},
   "source": [
    "Let's suppose we turn off hash joins as an option for the query optimizer. The syntax is included for you below."
   ]
  },
  {
   "cell_type": "code",
   "execution_count": 22,
   "id": "6b3c41be-9ffe-4a6d-ac68-c961af371e4e",
   "metadata": {},
   "outputs": [
    {
     "data": {
      "text/html": [
       "<span style=\"None\">Running query in &#x27;postgresql://127.0.0.1:5432/imdb_perf_lecture&#x27;</span>"
      ],
      "text/plain": [
       "Running query in 'postgresql://127.0.0.1:5432/imdb_perf_lecture'"
      ]
     },
     "metadata": {},
     "output_type": "display_data"
    },
    {
     "data": {
      "text/html": [
       "<table>\n",
       "    <thead>\n",
       "        <tr>\n",
       "        </tr>\n",
       "    </thead>\n",
       "    <tbody>\n",
       "    </tbody>\n",
       "</table>"
      ],
      "text/plain": [
       "++\n",
       "||\n",
       "++\n",
       "++"
      ]
     },
     "execution_count": 22,
     "metadata": {},
     "output_type": "execute_result"
    }
   ],
   "source": [
    "# just run this cell\n",
    "%sql set enable_hashjoin=false;"
   ]
  },
  {
   "cell_type": "markdown",
   "id": "0d0e0829-edc9-4d6c-8a1d-3e89b83a4691",
   "metadata": {},
   "source": [
    "Copy your `EXPLAIN ANALYZE` command from Question 2.1 and rerun it below.\n",
    "\n",
    "**Discuss**: Recall that our intial query was performed using hash joins; what is the join the query optimizer picks below? Why might this be preferred over the remaining alternatives?"
   ]
  },
  {
   "cell_type": "markdown",
   "id": "2d2293fc-59e0-4cae-b9c0-1fd08a8484bd",
   "metadata": {},
   "source": [
    "Merge join. Here are some reasons for using merge join:\n",
    "- Join condition: Merge joins are especially efficient when the join condition is an equijoin, and\n",
    "when both tables can be efficiently accessed in sorted order of the join keys.\n",
    "- Presence of Order and Indexes: There’s an index on actor.id (as shown by the Index Scan\n",
    "using actor pkey), which makes accessing rows from the actor table in sorted order efficient.\n",
    "This favors a merge join.\n",
    "- Table Sizes: Both actor and cast info have a considerable number of rows. Nested loop joins\n",
    "tend to be efficient when one of the tables is significantly smaller, allowing for rapid repeated\n",
    "lookups or scans of that table. Given the sizes of the tables, a nested loop join might have\n",
    "been seen as less efficient than a merge join."
   ]
  },
  {
   "cell_type": "code",
   "execution_count": 24,
   "id": "9fab9810-dce0-481c-bdda-0b861d97c971",
   "metadata": {},
   "outputs": [
    {
     "data": {
      "text/html": [
       "<span style=\"None\">Running query in &#x27;postgresql://127.0.0.1:5432/imdb_perf_lecture&#x27;</span>"
      ],
      "text/plain": [
       "Running query in 'postgresql://127.0.0.1:5432/imdb_perf_lecture'"
      ]
     },
     "metadata": {},
     "output_type": "display_data"
    },
    {
     "data": {
      "text/html": [
       "<span style=\"color: green\">14 rows affected.</span>"
      ],
      "text/plain": [
       "14 rows affected."
      ]
     },
     "metadata": {},
     "output_type": "display_data"
    },
    {
     "data": {
      "text/html": [
       "<table>\n",
       "    <thead>\n",
       "        <tr>\n",
       "            <th>QUERY PLAN</th>\n",
       "        </tr>\n",
       "    </thead>\n",
       "    <tbody>\n",
       "        <tr>\n",
       "            <td>Merge Join  (cost=325485.10..405625.74 rows=2211784 width=26) (actual time=971.957..2027.917 rows=2211936 loops=1)</td>\n",
       "        </tr>\n",
       "        <tr>\n",
       "            <td>&nbsp;&nbsp;Merge Cond: (actor.id = cast_info.person_id)</td>\n",
       "        </tr>\n",
       "        <tr>\n",
       "            <td>&nbsp;&nbsp;->  Index Scan using actor_pkey on actor  (cost=0.42..39336.91 rows=845888 width=18) (actual time=0.010..144.174 rows=845888 loops=1)</td>\n",
       "        </tr>\n",
       "        <tr>\n",
       "            <td>&nbsp;&nbsp;->  Materialize  (cost=325472.25..336531.17 rows=2211784 width=8) (actual time=967.461..1449.327 rows=2211936 loops=1)</td>\n",
       "        </tr>\n",
       "        <tr>\n",
       "            <td>&nbsp;&nbsp;&nbsp;&nbsp;&nbsp;&nbsp;&nbsp;&nbsp;->  Sort  (cost=325472.25..331001.71 rows=2211784 width=8) (actual time=967.450..1234.208 rows=2211936 loops=1)</td>\n",
       "        </tr>\n",
       "        <tr>\n",
       "            <td>&nbsp;&nbsp;&nbsp;&nbsp;&nbsp;&nbsp;&nbsp;&nbsp;&nbsp;&nbsp;&nbsp;&nbsp;&nbsp;&nbsp;Sort Key: cast_info.person_id</td>\n",
       "        </tr>\n",
       "        <tr>\n",
       "            <td>&nbsp;&nbsp;&nbsp;&nbsp;&nbsp;&nbsp;&nbsp;&nbsp;&nbsp;&nbsp;&nbsp;&nbsp;&nbsp;&nbsp;Sort Method: external merge  Disk: 39000kB</td>\n",
       "        </tr>\n",
       "        <tr>\n",
       "            <td>&nbsp;&nbsp;&nbsp;&nbsp;&nbsp;&nbsp;&nbsp;&nbsp;&nbsp;&nbsp;&nbsp;&nbsp;&nbsp;&nbsp;->  Seq Scan on cast_info  (cost=0.00..31905.84 rows=2211784 width=8) (actual time=0.062..166.354 rows=2211936 loops=1)</td>\n",
       "        </tr>\n",
       "        <tr>\n",
       "            <td>Planning Time: 0.164 ms</td>\n",
       "        </tr>\n",
       "        <tr>\n",
       "            <td>JIT:</td>\n",
       "        </tr>\n",
       "        <tr>\n",
       "            <td>&nbsp;&nbsp;Functions: 7</td>\n",
       "        </tr>\n",
       "        <tr>\n",
       "            <td>&nbsp;&nbsp;Options: Inlining false, Optimization false, Expressions true, Deforming true</td>\n",
       "        </tr>\n",
       "        <tr>\n",
       "            <td>&nbsp;&nbsp;Timing: Generation 0.577 ms, Inlining 0.000 ms, Optimization 0.300 ms, Emission 4.004 ms, Total 4.881 ms</td>\n",
       "        </tr>\n",
       "        <tr>\n",
       "            <td>Execution Time: 2103.191 ms</td>\n",
       "        </tr>\n",
       "    </tbody>\n",
       "</table>"
      ],
      "text/plain": [
       "+-----------------------------------------------------------------------------------------------------------------------------------------+\n",
       "|                                                                QUERY PLAN                                                               |\n",
       "+-----------------------------------------------------------------------------------------------------------------------------------------+\n",
       "|            Merge Join  (cost=325485.10..405625.74 rows=2211784 width=26) (actual time=971.957..2027.917 rows=2211936 loops=1)           |\n",
       "|                                                Merge Cond: (actor.id = cast_info.person_id)                                             |\n",
       "|   ->  Index Scan using actor_pkey on actor  (cost=0.42..39336.91 rows=845888 width=18) (actual time=0.010..144.174 rows=845888 loops=1) |\n",
       "|           ->  Materialize  (cost=325472.25..336531.17 rows=2211784 width=8) (actual time=967.461..1449.327 rows=2211936 loops=1)        |\n",
       "|                 ->  Sort  (cost=325472.25..331001.71 rows=2211784 width=8) (actual time=967.450..1234.208 rows=2211936 loops=1)         |\n",
       "|                                                             Sort Key: cast_info.person_id                                               |\n",
       "|                                                       Sort Method: external merge  Disk: 39000kB                                        |\n",
       "|                ->  Seq Scan on cast_info  (cost=0.00..31905.84 rows=2211784 width=8) (actual time=0.062..166.354 rows=2211936 loops=1)  |\n",
       "|                                                         Planning Time: 0.164 ms                                                         |\n",
       "|                                                                   JIT:                                                                  |\n",
       "|                                                                Functions: 7                                                             |\n",
       "|                               Options: Inlining false, Optimization false, Expressions true, Deforming true                             |\n",
       "|                  Timing: Generation 0.577 ms, Inlining 0.000 ms, Optimization 0.300 ms, Emission 4.004 ms, Total 4.881 ms               |\n",
       "|                                                       Execution Time: 2103.191 ms                                                       |\n",
       "+-----------------------------------------------------------------------------------------------------------------------------------------+"
      ]
     },
     "execution_count": 24,
     "metadata": {},
     "output_type": "execute_result"
    }
   ],
   "source": [
    "%%sql\n",
    "-- copy your EXPLAIN ANALYZE query from the previous part here --\n",
    "\n",
    "-- SOLUTION: delete the below before release --\n",
    "EXPLAIN ANALYZE\n",
    "SELECT *\n",
    "FROM actor, cast_info\n",
    "WHERE actor.id = cast_info.person_id;"
   ]
  },
  {
   "cell_type": "markdown",
   "id": "ad4c3725-4ebc-4a54-a947-bda16a0484b1",
   "metadata": {},
   "source": [
    "## Question 2.4"
   ]
  },
  {
   "cell_type": "markdown",
   "id": "27084c39-ec60-4947-8fc7-1e44eb005f3b",
   "metadata": {},
   "source": [
    "Next, what if we turn off the option for using the join in Question 2.3? In the cell below, replace `# YOUR CODE HERE` with the one-line SQL magic that will set the corresponding `pg_settings` entry to `false`. Feel free to refer to the sql magic in Question 2.3 and the `pg_settings` list in Question 2.2 as needed."
   ]
  },
  {
   "cell_type": "code",
   "execution_count": 26,
   "id": "5d350548-d8ff-40dd-b7a9-4409d72305be",
   "metadata": {},
   "outputs": [
    {
     "data": {
      "text/html": [
       "<span style=\"None\">Running query in &#x27;postgresql://127.0.0.1:5432/imdb_perf_lecture&#x27;</span>"
      ],
      "text/plain": [
       "Running query in 'postgresql://127.0.0.1:5432/imdb_perf_lecture'"
      ]
     },
     "metadata": {},
     "output_type": "display_data"
    },
    {
     "data": {
      "text/html": [
       "<table>\n",
       "    <thead>\n",
       "        <tr>\n",
       "        </tr>\n",
       "    </thead>\n",
       "    <tbody>\n",
       "    </tbody>\n",
       "</table>"
      ],
      "text/plain": [
       "++\n",
       "||\n",
       "++\n",
       "++"
      ]
     },
     "execution_count": 26,
     "metadata": {},
     "output_type": "execute_result"
    }
   ],
   "source": [
    "# YOUR SQL line MAGIC HERE\n",
    "%sql set enable_mergejoin=false; -- SOLUTION, delete before release"
   ]
  },
  {
   "cell_type": "markdown",
   "id": "bbea0d2a-6b37-4489-9557-14970ca9d1aa",
   "metadata": {},
   "source": [
    "Copy your `EXPLAIN ANALYZE` command from the previous parts and rerun it below. Note the selected join, as well as the significantly longer execution time!"
   ]
  },
  {
   "cell_type": "code",
   "execution_count": 27,
   "id": "98fab354-64d8-4ba8-82b1-fd9f45a32aeb",
   "metadata": {},
   "outputs": [
    {
     "data": {
      "text/html": [
       "<span style=\"None\">Running query in &#x27;postgresql://127.0.0.1:5432/imdb_perf_lecture&#x27;</span>"
      ],
      "text/plain": [
       "Running query in 'postgresql://127.0.0.1:5432/imdb_perf_lecture'"
      ]
     },
     "metadata": {},
     "output_type": "display_data"
    },
    {
     "data": {
      "text/html": [
       "<span style=\"color: green\">19 rows affected.</span>"
      ],
      "text/plain": [
       "19 rows affected."
      ]
     },
     "metadata": {},
     "output_type": "display_data"
    },
    {
     "data": {
      "text/html": [
       "<table>\n",
       "    <thead>\n",
       "        <tr>\n",
       "            <th>QUERY PLAN</th>\n",
       "        </tr>\n",
       "    </thead>\n",
       "    <tbody>\n",
       "        <tr>\n",
       "            <td>Gather  (cost=1000.43..636421.72 rows=2211784 width=26) (actual time=270.688..8079.711 rows=2211936 loops=1)</td>\n",
       "        </tr>\n",
       "        <tr>\n",
       "            <td>&nbsp;&nbsp;Workers Planned: 2</td>\n",
       "        </tr>\n",
       "        <tr>\n",
       "            <td>&nbsp;&nbsp;Workers Launched: 2</td>\n",
       "        </tr>\n",
       "        <tr>\n",
       "            <td>&nbsp;&nbsp;->  Nested Loop  (cost=0.43..414243.32 rows=921577 width=26) (actual time=336.058..6766.368 rows=737312 loops=3)</td>\n",
       "        </tr>\n",
       "        <tr>\n",
       "            <td>&nbsp;&nbsp;&nbsp;&nbsp;&nbsp;&nbsp;&nbsp;&nbsp;->  Parallel Seq Scan on cast_info  (cost=0.00..19003.77 rows=921577 width=8) (actual time=0.043..146.181 rows=737312 loops=3)</td>\n",
       "        </tr>\n",
       "        <tr>\n",
       "            <td>&nbsp;&nbsp;&nbsp;&nbsp;&nbsp;&nbsp;&nbsp;&nbsp;->  Memoize  (cost=0.43..0.47 rows=1 width=18) (actual time=0.008..0.008 rows=1 loops=2211936)</td>\n",
       "        </tr>\n",
       "        <tr>\n",
       "            <td>&nbsp;&nbsp;&nbsp;&nbsp;&nbsp;&nbsp;&nbsp;&nbsp;&nbsp;&nbsp;&nbsp;&nbsp;&nbsp;&nbsp;Cache Key: cast_info.person_id</td>\n",
       "        </tr>\n",
       "        <tr>\n",
       "            <td>&nbsp;&nbsp;&nbsp;&nbsp;&nbsp;&nbsp;&nbsp;&nbsp;&nbsp;&nbsp;&nbsp;&nbsp;&nbsp;&nbsp;Cache Mode: logical</td>\n",
       "        </tr>\n",
       "        <tr>\n",
       "            <td>&nbsp;&nbsp;&nbsp;&nbsp;&nbsp;&nbsp;&nbsp;&nbsp;&nbsp;&nbsp;&nbsp;&nbsp;&nbsp;&nbsp;Hits: 344449  Misses: 354417  Evictions: 319025  Overflows: 0  Memory Usage: 4097kB</td>\n",
       "        </tr>\n",
       "        <tr>\n",
       "            <td>&nbsp;&nbsp;&nbsp;&nbsp;&nbsp;&nbsp;&nbsp;&nbsp;&nbsp;&nbsp;&nbsp;&nbsp;&nbsp;&nbsp;Worker 0:  Hits: 376596  Misses: 388414  Evictions: 353030  Overflows: 0  Memory Usage: 4097kB</td>\n",
       "        </tr>\n",
       "        <tr>\n",
       "            <td>&nbsp;&nbsp;&nbsp;&nbsp;&nbsp;&nbsp;&nbsp;&nbsp;&nbsp;&nbsp;&nbsp;&nbsp;&nbsp;&nbsp;Worker 1:  Hits: 366064  Misses: 381996  Evictions: 346606  Overflows: 0  Memory Usage: 4097kB</td>\n",
       "        </tr>\n",
       "        <tr>\n",
       "            <td>&nbsp;&nbsp;&nbsp;&nbsp;&nbsp;&nbsp;&nbsp;&nbsp;&nbsp;&nbsp;&nbsp;&nbsp;&nbsp;&nbsp;->  Index Scan using actor_pkey on actor  (cost=0.42..0.46 rows=1 width=18) (actual time=0.011..0.011 rows=1 loops=1124827)</td>\n",
       "        </tr>\n",
       "        <tr>\n",
       "            <td>&nbsp;&nbsp;&nbsp;&nbsp;&nbsp;&nbsp;&nbsp;&nbsp;&nbsp;&nbsp;&nbsp;&nbsp;&nbsp;&nbsp;&nbsp;&nbsp;&nbsp;&nbsp;&nbsp;&nbsp;Index Cond: (id = cast_info.person_id)</td>\n",
       "        </tr>\n",
       "        <tr>\n",
       "            <td>Planning Time: 0.161 ms</td>\n",
       "        </tr>\n",
       "        <tr>\n",
       "            <td>JIT:</td>\n",
       "        </tr>\n",
       "        <tr>\n",
       "            <td>&nbsp;&nbsp;Functions: 27</td>\n",
       "        </tr>\n",
       "        <tr>\n",
       "            <td>&nbsp;&nbsp;Options: Inlining true, Optimization true, Expressions true, Deforming true</td>\n",
       "        </tr>\n",
       "        <tr>\n",
       "            <td>&nbsp;&nbsp;Timing: Generation 61.461 ms, Inlining 454.754 ms, Optimization 284.089 ms, Emission 268.398 ms, Total 1068.702 ms</td>\n",
       "        </tr>\n",
       "        <tr>\n",
       "            <td>Execution Time: 8163.854 ms</td>\n",
       "        </tr>\n",
       "    </tbody>\n",
       "</table>"
      ],
      "text/plain": [
       "+-------------------------------------------------------------------------------------------------------------------------------------------+\n",
       "|                                                                 QUERY PLAN                                                                |\n",
       "+-------------------------------------------------------------------------------------------------------------------------------------------+\n",
       "|                Gather  (cost=1000.43..636421.72 rows=2211784 width=26) (actual time=270.688..8079.711 rows=2211936 loops=1)               |\n",
       "|                                                              Workers Planned: 2                                                           |\n",
       "|                                                             Workers Launched: 2                                                           |\n",
       "|               ->  Nested Loop  (cost=0.43..414243.32 rows=921577 width=26) (actual time=336.058..6766.368 rows=737312 loops=3)            |\n",
       "|           ->  Parallel Seq Scan on cast_info  (cost=0.00..19003.77 rows=921577 width=8) (actual time=0.043..146.181 rows=737312 loops=3)  |\n",
       "|                           ->  Memoize  (cost=0.43..0.47 rows=1 width=18) (actual time=0.008..0.008 rows=1 loops=2211936)                  |\n",
       "|                                                              Cache Key: cast_info.person_id                                               |\n",
       "|                                                                   Cache Mode: logical                                                     |\n",
       "|                                   Hits: 344449  Misses: 354417  Evictions: 319025  Overflows: 0  Memory Usage: 4097kB                     |\n",
       "|                              Worker 0:  Hits: 376596  Misses: 388414  Evictions: 353030  Overflows: 0  Memory Usage: 4097kB               |\n",
       "|                              Worker 1:  Hits: 366064  Misses: 381996  Evictions: 346606  Overflows: 0  Memory Usage: 4097kB               |\n",
       "|               ->  Index Scan using actor_pkey on actor  (cost=0.42..0.46 rows=1 width=18) (actual time=0.011..0.011 rows=1 loops=1124827) |\n",
       "|                                                             Index Cond: (id = cast_info.person_id)                                        |\n",
       "|                                                          Planning Time: 0.161 ms                                                          |\n",
       "|                                                                    JIT:                                                                   |\n",
       "|                                                                Functions: 27                                                              |\n",
       "|                                 Options: Inlining true, Optimization true, Expressions true, Deforming true                               |\n",
       "|              Timing: Generation 61.461 ms, Inlining 454.754 ms, Optimization 284.089 ms, Emission 268.398 ms, Total 1068.702 ms           |\n",
       "|                                                        Execution Time: 8163.854 ms                                                        |\n",
       "+-------------------------------------------------------------------------------------------------------------------------------------------+"
      ]
     },
     "execution_count": 27,
     "metadata": {},
     "output_type": "execute_result"
    }
   ],
   "source": [
    "%%sql\n",
    "-- write your query here; edit to include EXPLAIN ANALYZE --\n",
    "\n",
    "-- SOLUTION: delete the below before release --\n",
    "EXPLAIN ANALYZE\n",
    "SELECT *\n",
    "FROM actor, cast_info\n",
    "WHERE actor.id = cast_info.person_id;"
   ]
  },
  {
   "cell_type": "markdown",
   "id": "efa97fe1-8cd2-4ae4-88b5-a4714253f3b3",
   "metadata": {},
   "source": [
    "## Question 2.5"
   ]
  },
  {
   "cell_type": "markdown",
   "id": "dea7cc8e-a4a8-4eb4-afe5-118cc51fb905",
   "metadata": {},
   "source": [
    "**Cleanup** Finally, reset the two settings you edited in Question 2.3 and 2.4 in the cell below."
   ]
  },
  {
   "cell_type": "code",
   "execution_count": 29,
   "id": "a0e5d054-1e5f-497e-bd9a-1b2829af7247",
   "metadata": {},
   "outputs": [
    {
     "data": {
      "text/html": [
       "<span style=\"None\">Running query in &#x27;postgresql://127.0.0.1:5432/imdb_perf_lecture&#x27;</span>"
      ],
      "text/plain": [
       "Running query in 'postgresql://127.0.0.1:5432/imdb_perf_lecture'"
      ]
     },
     "metadata": {},
     "output_type": "display_data"
    },
    {
     "data": {
      "text/html": [
       "<span style=\"None\">Running query in &#x27;postgresql://127.0.0.1:5432/imdb_perf_lecture&#x27;</span>"
      ],
      "text/plain": [
       "Running query in 'postgresql://127.0.0.1:5432/imdb_perf_lecture'"
      ]
     },
     "metadata": {},
     "output_type": "display_data"
    },
    {
     "data": {
      "text/html": [
       "<table>\n",
       "    <thead>\n",
       "        <tr>\n",
       "        </tr>\n",
       "    </thead>\n",
       "    <tbody>\n",
       "    </tbody>\n",
       "</table>"
      ],
      "text/plain": [
       "++\n",
       "||\n",
       "++\n",
       "++"
      ]
     },
     "execution_count": 29,
     "metadata": {},
     "output_type": "execute_result"
    }
   ],
   "source": [
    "# YOUR SQL line MAGIC HERE\n",
    "# YOUR SQL line MAGIC HERE\n",
    "%sql set enable_hashjoin=true; -- SOLUTION, delete before release\n",
    "%sql set enable_mergejoin=true; -- SOLUTION, delete before release"
   ]
  }
 ],
 "metadata": {
  "kernelspec": {
   "display_name": "Python 3 (ipykernel)",
   "language": "python",
   "name": "python3"
  },
  "language_info": {
   "codemirror_mode": {
    "name": "ipython",
    "version": 3
   },
   "file_extension": ".py",
   "mimetype": "text/x-python",
   "name": "python",
   "nbconvert_exporter": "python",
   "pygments_lexer": "ipython3",
   "version": "3.11.0"
  }
 },
 "nbformat": 4,
 "nbformat_minor": 5
}
