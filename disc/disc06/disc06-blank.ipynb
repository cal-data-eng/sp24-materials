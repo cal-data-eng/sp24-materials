{
 "cells": [
  {
   "cell_type": "markdown",
   "id": "665b78b2-89e5-42a7-8456-8420bfa0a5b5",
   "metadata": {},
   "source": [
    "# Discussion 06 Notebook\n",
    "\n",
    "This notebook is an accompaniment to the associated discussion worksheet handout."
   ]
  },
  {
   "cell_type": "markdown",
   "id": "5806e221-5f2b-4764-979a-32500a32d5ab",
   "metadata": {},
   "source": [
    "## Load in the IMDB Performance database\n",
    "\n",
    "This is a variation of the IMDB database with keys defined. Note that this is a pretty big database! So if you run the below lines, please also remember to delete the `imdb_perf_lecture` afterwards to save space on your limited postgreSQL server."
   ]
  },
  {
   "cell_type": "markdown",
   "id": "b5e5de78-740e-4e4d-9640-f769e7ec0cab",
   "metadata": {},
   "source": [
    "If you didn't load it in with a previous lecture, load in the `imdb_perf_lecture` database."
   ]
  },
  {
   "cell_type": "code",
   "execution_count": null,
   "id": "8ea61b1d-de1e-455e-b294-31945f9bf983",
   "metadata": {},
   "outputs": [],
   "source": [
    "!unzip -u ../lecture/lec07/data/imdb_perf_lecture.zip -d ../lecture/lec07/data/"
   ]
  },
  {
   "cell_type": "code",
   "execution_count": null,
   "id": "d2aea1bc-0807-4aeb-a5b8-e645609d0756",
   "metadata": {},
   "outputs": [],
   "source": [
    "!psql -h localhost -c 'DROP DATABASE IF EXISTS imdb_perf_lecture'\n",
    "!psql -h localhost -c 'CREATE DATABASE imdb_perf_lecture' \n",
    "!psql -h localhost -d imdb_perf_lecture -f ../lecture/lec07/data/imdb_perf_lecture.sql"
   ]
  },
  {
   "cell_type": "code",
   "execution_count": null,
   "id": "addb4b4a-9ca7-4474-bc5f-88c670bbb50f",
   "metadata": {},
   "outputs": [],
   "source": [
    "%reload_ext sql\n",
    "%sql postgresql://127.0.0.1:5432/imdb_perf_lecture\n",
    "import pandas as pd"
   ]
  },
  {
   "cell_type": "markdown",
   "id": "ac50b45c-5826-4938-8234-a3f74cdfad0c",
   "metadata": {},
   "source": [
    "Before starting this part, review the schema of the relations in the `imdb_perf_lecture` database. Here's the printout from `psql`:\n",
    "\n",
    "```\n",
    "imdb_perf_lecture=# \\d actor\n",
    "               Table \"public.actor\"\n",
    " Column |  Type   | Collation | Nullable | Default \n",
    "--------+---------+-----------+----------+---------\n",
    " id     | integer |           | not null | \n",
    " name   | text    |           |          | \n",
    "Indexes:\n",
    "    \"actor_pkey\" PRIMARY KEY, btree (id)\n",
    "Referenced by:\n",
    "    TABLE \"cast_info\" CONSTRAINT \"cast_info_person_id_fkey\" FOREIGN KEY (person_id) REFERENCES actor(id)\n",
    "\n",
    "imdb_perf_lecture=# \\d cast_info\n",
    "               Table \"public.cast_info\"\n",
    "  Column   |  Type   | Collation | Nullable | Default \n",
    "-----------+---------+-----------+----------+---------\n",
    " person_id | integer |           |          | \n",
    " movie_id  | integer |           |          | \n",
    "Foreign-key constraints:\n",
    "    \"cast_info_movie_id_fkey\" FOREIGN KEY (movie_id) REFERENCES movie(id)\n",
    "    \"cast_info_person_id_fkey\" FOREIGN KEY (person_id) REFERENCES actor(id)\n",
    "\n",
    "imdb_perf_lecture=# \\d movie\n",
    "                    Table \"public.movie\"\n",
    "     Column      |  Type   | Collation | Nullable | Default \n",
    "-----------------+---------+-----------+----------+---------\n",
    " id              | integer |           | not null | \n",
    " title           | text    |           |          | \n",
    " year            | integer |           |          | \n",
    " runtime_minutes | integer |           |          | \n",
    "Indexes:\n",
    "    \"movie_pkey\" PRIMARY KEY, btree (id)\n",
    "Referenced by:\n",
    "    TABLE \"cast_info\" CONSTRAINT \"cast_info_movie_id_fkey\" FOREIGN KEY (movie_id) REFERENCES movie(id)\n",
    "```"
   ]
  },
  {
   "cell_type": "markdown",
   "id": "06a0adf5-ef49-40a4-8ed2-273dbccbabfc",
   "metadata": {},
   "source": [
    "# Question 1 Queries"
   ]
  },
  {
   "cell_type": "markdown",
   "id": "bc967b89-a3f9-4cb6-8844-dae770f57d08",
   "metadata": {},
   "source": [
    "This question looks at the impacts of **aggregation** and **sorting** on query performance."
   ]
  },
  {
   "cell_type": "markdown",
   "id": "575097f1-90e3-44df-8aa5-bd6c1424ec6e",
   "metadata": {},
   "source": [
    "## Question 1.1"
   ]
  },
  {
   "cell_type": "markdown",
   "id": "3cde964e-b0be-4190-b44e-c2087d2ed3c6",
   "metadata": {},
   "source": [
    "In the cell below, write a query that returns the actor names and the number of times the corresponding name appears in the `Actor` relation."
   ]
  },
  {
   "cell_type": "code",
   "execution_count": null,
   "id": "2c52c02d-3044-4fec-9b52-44c793d321a6",
   "metadata": {},
   "outputs": [],
   "source": [
    "%%sql\n",
    "-- write your query here --\n"
   ]
  },
  {
   "cell_type": "markdown",
   "id": "9d2571e4-a467-450d-82e2-9e0101d27487",
   "metadata": {},
   "source": [
    "## Question 1.2"
   ]
  },
  {
   "cell_type": "markdown",
   "id": "98983374-8b4a-4d56-9afc-07a894ed35a2",
   "metadata": {},
   "source": [
    "Now, in the cell below, write a query that returns the actor IDs and the number of times the corresponding ID appears in the `Actor` relation."
   ]
  },
  {
   "cell_type": "code",
   "execution_count": null,
   "id": "098c3549-d7e4-498c-b0fe-0fbf1be240b5",
   "metadata": {},
   "outputs": [],
   "source": [
    "%%sql\n",
    "-- write your query here --\n"
   ]
  },
  {
   "cell_type": "markdown",
   "id": "a056a219-676e-4ccc-bdba-85054a4a1728",
   "metadata": {},
   "source": [
    "## Question 1.3"
   ]
  },
  {
   "cell_type": "markdown",
   "id": "a951f7e6-c2fb-44a6-b9b5-8eb67867242c",
   "metadata": {},
   "source": [
    "Run `EXPLAIN ANALYZE` on your two queries above. See below for the full question."
   ]
  },
  {
   "cell_type": "markdown",
   "id": "a2e8c4ab-2171-4a40-b513-04c2680f73f6",
   "metadata": {},
   "source": [
    "If you're having trouble seeing the entirety of the query plan, you can run the following cell to set the limit on displayed rows to 20. **Careful**: Do not set this to `None` and run the actual queries; SQL will return millions of rows and crash your kernel!"
   ]
  },
  {
   "cell_type": "code",
   "execution_count": null,
   "id": "c5838251-9ee8-46b7-b519-90ef9c52b3e3",
   "metadata": {},
   "outputs": [],
   "source": [
    "# run this cell to remove 10-row limit on display\n",
    "%config SqlMagic.displaylimit = 20"
   ]
  },
  {
   "cell_type": "code",
   "execution_count": null,
   "id": "c00633a8-f812-4911-abdb-6b338fe080d6",
   "metadata": {},
   "outputs": [],
   "source": [
    "%%sql\n",
    "-- write your EXPLAIN ANALYZE here --\n"
   ]
  },
  {
   "cell_type": "code",
   "execution_count": null,
   "id": "0ed0e292-b75f-466c-8d53-2e29d511270c",
   "metadata": {},
   "outputs": [],
   "source": [
    "%%sql\n",
    "-- write your EXPLAIN ANALYZE here --\n"
   ]
  },
  {
   "cell_type": "markdown",
   "id": "956803bb-31f5-42ae-819f-05b90131ec28",
   "metadata": {},
   "source": [
    "<br/><br/>\n",
    "\n",
    "**(Question 1.3, continued)**\n",
    "Why do you think the the `name` query use a Sequential Scan, whereas the `id` query use an Index Only scan?"
   ]
  },
  {
   "cell_type": "markdown",
   "id": "af6e3892-5ca8-4eba-9f35-1090dd4a173f",
   "metadata": {},
   "source": []
  },
  {
   "cell_type": "markdown",
   "id": "a6cae813-3cbe-4298-bf6e-6576cd26d84b",
   "metadata": {},
   "source": [
    "## Question 1.4"
   ]
  },
  {
   "cell_type": "markdown",
   "id": "44574338-0d9d-4fc0-ae0f-b8573e544bdb",
   "metadata": {},
   "source": [
    "Now, write a command that creates an index `name_actor_index` on the `name` attribute of `actor`."
   ]
  },
  {
   "cell_type": "code",
   "execution_count": null,
   "id": "853fbc1c-5b86-4d2f-af0b-cd003be11fb4",
   "metadata": {},
   "outputs": [],
   "source": [
    "%%sql\n",
    "-- write your EXPLAIN ANALYZE here --\n"
   ]
  },
  {
   "cell_type": "markdown",
   "id": "2dfa221e-3906-486b-abd1-84cb0dd90008",
   "metadata": {},
   "source": [
    "**(Question 1.4, continued)**\n",
    "Now rerun your `EXPLAIN ANALYZE` of your Question 1.1 query on `name` by copying and pasting it into the cell below. See below for the discussion question."
   ]
  },
  {
   "cell_type": "code",
   "execution_count": null,
   "id": "4312dec4-f7bf-47ac-83d4-27060f58f8d2",
   "metadata": {},
   "outputs": [],
   "source": [
    "%%sql\n",
    "-- write your EXPLAIN ANALYZE here --\n"
   ]
  },
  {
   "cell_type": "markdown",
   "id": "d18db698-2ee6-4dcb-a6d2-0880f0491bd4",
   "metadata": {},
   "source": [
    "**(Question 1.4, continued)**\n",
    "Why does the `name` query now use an `Index Only Scan`? What index is it using?"
   ]
  },
  {
   "cell_type": "markdown",
   "id": "c0555078-b9d4-41c3-a313-a47b979e7e66",
   "metadata": {},
   "source": []
  },
  {
   "cell_type": "markdown",
   "id": "00e265ab-cc3f-4937-8bc8-a3bdd43751d2",
   "metadata": {},
   "source": [
    "## Question 1.5"
   ]
  },
  {
   "cell_type": "markdown",
   "id": "a17b1e13-8236-4703-879e-bda62536e4d0",
   "metadata": {},
   "source": [
    "Now in the cell below, analyze the impacts of rewriting your query from Question 1.2 to return the entries sorted by ID. In other words, run an `EXPLAIN ANALYZE` on a query that returns the actor IDs (**sorted by lowest ID first**) and the number of times the corresponding ID appears in the `Actor` relation.\n",
    "\n",
    "**Discuss**: Why does this query take so much time? What is the `ORDER BY` operation doing here?"
   ]
  },
  {
   "cell_type": "code",
   "execution_count": null,
   "id": "fd6d92fb-75e0-4f78-819b-c578ed578ea2",
   "metadata": {},
   "outputs": [],
   "source": [
    "%%sql\n",
    "-- write your query here --\n"
   ]
  },
  {
   "cell_type": "markdown",
   "id": "1e127ae6-8224-4495-8bb4-2dd0368e0154",
   "metadata": {},
   "source": [
    "<br/><br/><br/>\n",
    "\n",
    "---\n",
    "\n",
    "# Question 2"
   ]
  },
  {
   "cell_type": "markdown",
   "id": "b9392da4-c4d2-4186-ad3e-e571455aa758",
   "metadata": {},
   "source": [
    "Before starting this question, we encourage you to delete any indexes you created above. It will help you compute consistent results with other classmates."
   ]
  },
  {
   "cell_type": "code",
   "execution_count": null,
   "id": "04b800f8-aca9-4c21-8574-267eb2a9695c",
   "metadata": {},
   "outputs": [],
   "source": [
    "# just run this cell\n",
    "%sql DROP INDEX name_actor_index;"
   ]
  },
  {
   "cell_type": "markdown",
   "id": "c69c481b-1997-4370-ac7d-38fce4848bbf",
   "metadata": {},
   "source": [
    "## Question 2.1"
   ]
  },
  {
   "cell_type": "markdown",
   "id": "daf00940-df5f-4cca-8237-2339d286671b",
   "metadata": {},
   "source": [
    "Write a query that computes an inner join on `actor` and `cast_info` on the actor ID. Your query should return all attributes.\n",
    "\n",
    "Once you're comfortable that the query is working as expected, run it through `EXPLAIN ANALYZE`. **Discuss**: What kind of join is the query optimizer performing? Why might this be the case?"
   ]
  },
  {
   "cell_type": "markdown",
   "id": "f0f5b517-2572-484e-bb47-3b2b28678cc3",
   "metadata": {},
   "source": []
  },
  {
   "cell_type": "code",
   "execution_count": null,
   "id": "7358130c-71a5-45da-a817-5fcea54726f6",
   "metadata": {},
   "outputs": [],
   "source": [
    "%%sql\n",
    "-- write your query here; edit to include EXPLAIN ANALYZE --\n"
   ]
  },
  {
   "cell_type": "markdown",
   "id": "170a64fa-acc5-4e58-8a7f-aad442703b50",
   "metadata": {},
   "source": [
    "<br/>\n",
    "\n",
    "---\n",
    "\n",
    "Sometimes you may prefer to adjust the PostgreSQL settings to force a specific performance of a query. \n",
    "In the remainder of this question we will explore how to specify these settings. Note that settings tweaking for a single query is **not recommended** in practice, as it affects all of your queries! However, if you know specific characteristics of how your database will be queried in general, then by all means, dive in to adjust these knobs."
   ]
  },
  {
   "cell_type": "markdown",
   "id": "7d1e879c-d7bb-4945-b7da-9d5825a50f49",
   "metadata": {},
   "source": [
    "* All runtime parameters for PostgreSQL are in one view, called `pg_settings` (Documentation 54.24 [link](https://www.postgresql.org/docs/current/view-pg-settings.html)).\n",
    "* In particular, the Planner Method Configuration (Documentation 20.7.1 [link](https://www.postgresql.org/docs/current/runtime-config-query.html#GUC-SEQ-PAGE-COST)) includes the parameter descriptions for the query optimizer.\n",
    "\n",
    "We encourage you to keep these pages up as you explore the next activity."
   ]
  },
  {
   "cell_type": "markdown",
   "id": "f274df09-1b9c-4652-8b08-25005c2f96d2",
   "metadata": {},
   "source": [
    "## Question 2.2"
   ]
  },
  {
   "cell_type": "markdown",
   "id": "208513a6-e1f3-4d4d-a68e-38573e5ee2b1",
   "metadata": {},
   "source": [
    "Run the below query. Which settings are related to selecting the type of join that the query optimizer can select?"
   ]
  },
  {
   "cell_type": "code",
   "execution_count": null,
   "id": "09778108-7606-4ba6-b4d5-5a63bdff369a",
   "metadata": {},
   "outputs": [],
   "source": [
    "%%sql\n",
    "SELECT name\n",
    "FROM pg_settings\n",
    "WHERE name LIKE 'enable_%';"
   ]
  },
  {
   "cell_type": "markdown",
   "id": "c2bc3c4c-69bc-4dae-b114-e593ce4e854f",
   "metadata": {},
   "source": [
    "## Question 2.3"
   ]
  },
  {
   "cell_type": "markdown",
   "id": "a359e3ce-0117-455c-ba0e-b6c9c88394f3",
   "metadata": {},
   "source": [
    "Let's suppose we turn off hash joins as an option for the query optimizer. The syntax is included for you below."
   ]
  },
  {
   "cell_type": "code",
   "execution_count": null,
   "id": "6b3c41be-9ffe-4a6d-ac68-c961af371e4e",
   "metadata": {},
   "outputs": [],
   "source": [
    "# just run this cell\n",
    "%sql set enable_hashjoin=false;"
   ]
  },
  {
   "cell_type": "markdown",
   "id": "0d0e0829-edc9-4d6c-8a1d-3e89b83a4691",
   "metadata": {},
   "source": [
    "Copy your `EXPLAIN ANALYZE` command from Question 2.1 and rerun it below.\n",
    "\n",
    "**Discuss**: Recall that our intial query was performed using hash joins; what is the join the query optimizer picks below? Why might this be preferred over the remaining alternatives?"
   ]
  },
  {
   "cell_type": "markdown",
   "id": "b8a8c596-06c5-47d0-8009-d27b8971574e",
   "metadata": {},
   "source": []
  },
  {
   "cell_type": "code",
   "execution_count": null,
   "id": "9fab9810-dce0-481c-bdda-0b861d97c971",
   "metadata": {},
   "outputs": [],
   "source": [
    "%%sql\n",
    "-- copy your EXPLAIN ANALYZE query from the previous part here --\n"
   ]
  },
  {
   "cell_type": "markdown",
   "id": "ad4c3725-4ebc-4a54-a947-bda16a0484b1",
   "metadata": {},
   "source": [
    "## Question 2.4"
   ]
  },
  {
   "cell_type": "markdown",
   "id": "27084c39-ec60-4947-8fc7-1e44eb005f3b",
   "metadata": {},
   "source": [
    "Next, what if we turn off the option for using the join in Question 2.3? In the cell below, replace `# YOUR CODE HERE` with the one-line SQL magic that will set the corresponding `pg_settings` entry to `false`. Feel free to refer to the sql magic in Question 2.3 and the `pg_settings` list in Question 2.2 as needed."
   ]
  },
  {
   "cell_type": "code",
   "execution_count": null,
   "id": "5d350548-d8ff-40dd-b7a9-4409d72305be",
   "metadata": {},
   "outputs": [],
   "source": [
    "# YOUR SQL line MAGIC HERE\n",
    "%sql set enable_mergejoin=false; -- SOLUTION, delete before release"
   ]
  },
  {
   "cell_type": "markdown",
   "id": "bbea0d2a-6b37-4489-9557-14970ca9d1aa",
   "metadata": {},
   "source": [
    "Copy your `EXPLAIN ANALYZE` command from the previous parts and rerun it below. Note the selected join, as well as the significantly longer execution time!"
   ]
  },
  {
   "cell_type": "code",
   "execution_count": null,
   "id": "98fab354-64d8-4ba8-82b1-fd9f45a32aeb",
   "metadata": {},
   "outputs": [],
   "source": [
    "%%sql\n",
    "-- write your query here; edit to include EXPLAIN ANALYZE --\n"
   ]
  },
  {
   "cell_type": "markdown",
   "id": "efa97fe1-8cd2-4ae4-88b5-a4714253f3b3",
   "metadata": {},
   "source": [
    "## Question 2.5"
   ]
  },
  {
   "cell_type": "markdown",
   "id": "dea7cc8e-a4a8-4eb4-afe5-118cc51fb905",
   "metadata": {},
   "source": [
    "**Cleanup** Finally, reset the two settings you edited in Question 2.3 and 2.4 in the cell below."
   ]
  },
  {
   "cell_type": "code",
   "execution_count": null,
   "id": "a0e5d054-1e5f-497e-bd9a-1b2829af7247",
   "metadata": {},
   "outputs": [],
   "source": [
    "# YOUR SQL line MAGIC HERE\n",
    "# YOUR SQL line MAGIC HERE"
   ]
  }
 ],
 "metadata": {
  "kernelspec": {
   "display_name": "Python 3 (ipykernel)",
   "language": "python",
   "name": "python3"
  },
  "language_info": {
   "codemirror_mode": {
    "name": "ipython",
    "version": 3
   },
   "file_extension": ".py",
   "mimetype": "text/x-python",
   "name": "python",
   "nbconvert_exporter": "python",
   "pygments_lexer": "ipython3",
   "version": "3.11.0"
  }
 },
 "nbformat": 4,
 "nbformat_minor": 5
}
