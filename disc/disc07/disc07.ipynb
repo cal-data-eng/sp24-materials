{
 "cells": [
  {
   "cell_type": "markdown",
   "id": "bc501253",
   "metadata": {},
   "source": [
    "# Discussion 7 Data 101/Info 258 melt() and pivot_table() demo"
   ]
  },
  {
   "cell_type": "markdown",
   "id": "93f42f6a",
   "metadata": {},
   "source": [
    "Original Data Model: __Matrix__\n",
    "* Transforming __Matrix into Relation__ using __melt()__\n",
    "* Transforming __Relation back to original Matrix__ using __pivot_table()__ "
   ]
  },
  {
   "cell_type": "markdown",
   "id": "82e569de",
   "metadata": {},
   "source": [
    "## Q11 Demo"
   ]
  },
  {
   "cell_type": "code",
   "execution_count": 8,
   "id": "a3513156",
   "metadata": {},
   "outputs": [
    {
     "name": "stdout",
     "output_type": "stream",
     "text": [
      "Original Data Frame:\n",
      "   col1  col2  col3\n",
      "0     5    10    15\n",
      "1     8    12    18\n",
      "\n",
      "Melted Data Frame:\n",
      "  variable  value\n",
      "0     col1      5\n",
      "1     col1      8\n",
      "2     col2     10\n",
      "3     col2     12\n",
      "4     col3     15\n",
      "5     col3     18\n",
      "\n",
      "Pivoted Data Frame:\n",
      "   col1  col2  col3\n",
      "0     5    10    15\n",
      "1     8    12    18\n"
     ]
    }
   ],
   "source": [
    "import pandas as pd\n",
    "\n",
    "# Create a sample data frame\n",
    "data = {\n",
    "    'col1': [5, 8],\n",
    "    'col2': [10, 12],\n",
    "    'col3': [15, 18]\n",
    "}\n",
    "\n",
    "df = pd.DataFrame(data)\n",
    "\n",
    "# Original data frame\n",
    "print(\"Original Data Frame:\")\n",
    "print(df)\n",
    "print()\n",
    "\n",
    "# Using the melt function to reshape the data\n",
    "melted_df = pd.melt(df)\n",
    "\n",
    "# Resulting data frame after melting\n",
    "print(\"Melted Data Frame:\")\n",
    "print(melted_df)\n",
    "print()\n",
    "\n",
    "# Using the pivot function to reshape the data back\n",
    "pivoted_df = melted_df.pivot_table(index=melted_df.groupby('variable').cumcount(), columns='variable', values='value', \n",
    "                                   aggfunc='first')\n",
    "\n",
    "# Rename the columns (optional)\n",
    "pivoted_df.columns.name = None\n",
    "\n",
    "# Resulting data frame after pivoting\n",
    "print(\"Pivoted Data Frame:\")\n",
    "print(pivoted_df)"
   ]
  },
  {
   "cell_type": "markdown",
   "id": "6452a602",
   "metadata": {},
   "source": [
    "## Q115 Demo - Pivoting"
   ]
  },
  {
   "cell_type": "code",
   "execution_count": 2,
   "id": "8d166525",
   "metadata": {},
   "outputs": [
    {
     "data": {
      "text/html": [
       "<div>\n",
       "<style scoped>\n",
       "    .dataframe tbody tr th:only-of-type {\n",
       "        vertical-align: middle;\n",
       "    }\n",
       "\n",
       "    .dataframe tbody tr th {\n",
       "        vertical-align: top;\n",
       "    }\n",
       "\n",
       "    .dataframe thead tr th {\n",
       "        text-align: left;\n",
       "    }\n",
       "\n",
       "    .dataframe thead tr:last-of-type th {\n",
       "        text-align: right;\n",
       "    }\n",
       "</style>\n",
       "<table border=\"1\" class=\"dataframe\">\n",
       "  <thead>\n",
       "    <tr>\n",
       "      <th></th>\n",
       "      <th colspan=\"3\" halign=\"left\">USD</th>\n",
       "    </tr>\n",
       "    <tr>\n",
       "      <th>CType</th>\n",
       "      <th>Bronze</th>\n",
       "      <th>Gold</th>\n",
       "      <th>Silver</th>\n",
       "    </tr>\n",
       "    <tr>\n",
       "      <th>Item</th>\n",
       "      <th></th>\n",
       "      <th></th>\n",
       "      <th></th>\n",
       "    </tr>\n",
       "  </thead>\n",
       "  <tbody>\n",
       "    <tr>\n",
       "      <th>Item0</th>\n",
       "      <td>2$</td>\n",
       "      <td>1$</td>\n",
       "      <td>NaN</td>\n",
       "    </tr>\n",
       "    <tr>\n",
       "      <th>Item1</th>\n",
       "      <td>NaN</td>\n",
       "      <td>3$</td>\n",
       "      <td>4$</td>\n",
       "    </tr>\n",
       "  </tbody>\n",
       "</table>\n",
       "</div>"
      ],
      "text/plain": [
       "         USD            \n",
       "CType Bronze Gold Silver\n",
       "Item                    \n",
       "Item0     2$   1$    NaN\n",
       "Item1    NaN   3$     4$"
      ]
     },
     "execution_count": 2,
     "metadata": {},
     "output_type": "execute_result"
    }
   ],
   "source": [
    "# Create a sample data frame\n",
    "data_q2_5 = {\n",
    "    'Item': ['Item0', 'Item0', 'Item1', 'Item1'],\n",
    "    'CType': ['Gold', 'Bronze', 'Gold', 'Silver'],\n",
    "    'USD': ['1$', '2$', '3$', '4$'],\n",
    "    'EUR': ['1€', '2€', '3€', '4€']\n",
    "}\n",
    "\n",
    "df_q2_5 = pd.DataFrame(data_q2_5)\n",
    "# df_q2_5\n",
    "\n",
    "# Option #1 Using .pivot\n",
    "q2_5_result = df_q2_5.pivot(index='Item', columns='CType', values=['USD'])\n",
    "q2_5_result\n",
    "\n",
    "# Option #2 Using .pivot_table - results in the same table\n",
    "# q2_5_result = df_q2_5.pivot_table(index='Item', columns='CType', values=['USD'], aggfunc='first')\n",
    "# q2_5_result"
   ]
  },
  {
   "cell_type": "markdown",
   "id": "38f36ec4",
   "metadata": {},
   "source": [
    "## Q16 Demo - Melting"
   ]
  },
  {
   "cell_type": "code",
   "execution_count": 3,
   "id": "d4233dd8",
   "metadata": {},
   "outputs": [
    {
     "data": {
      "text/html": [
       "<div>\n",
       "<style scoped>\n",
       "    .dataframe tbody tr th:only-of-type {\n",
       "        vertical-align: middle;\n",
       "    }\n",
       "\n",
       "    .dataframe tbody tr th {\n",
       "        vertical-align: top;\n",
       "    }\n",
       "\n",
       "    .dataframe thead th {\n",
       "        text-align: right;\n",
       "    }\n",
       "</style>\n",
       "<table border=\"1\" class=\"dataframe\">\n",
       "  <thead>\n",
       "    <tr style=\"text-align: right;\">\n",
       "      <th></th>\n",
       "      <th>student</th>\n",
       "      <th>school</th>\n",
       "      <th>variable</th>\n",
       "      <th>value</th>\n",
       "    </tr>\n",
       "  </thead>\n",
       "  <tbody>\n",
       "    <tr>\n",
       "      <th>0</th>\n",
       "      <td>Andy</td>\n",
       "      <td>Z</td>\n",
       "      <td>english</td>\n",
       "      <td>90</td>\n",
       "    </tr>\n",
       "    <tr>\n",
       "      <th>1</th>\n",
       "      <td>Bernie</td>\n",
       "      <td>Y</td>\n",
       "      <td>english</td>\n",
       "      <td>100</td>\n",
       "    </tr>\n",
       "    <tr>\n",
       "      <th>2</th>\n",
       "      <td>Cindy</td>\n",
       "      <td>Z</td>\n",
       "      <td>english</td>\n",
       "      <td>60</td>\n",
       "    </tr>\n",
       "    <tr>\n",
       "      <th>3</th>\n",
       "      <td>Deb</td>\n",
       "      <td>Y</td>\n",
       "      <td>english</td>\n",
       "      <td>150</td>\n",
       "    </tr>\n",
       "    <tr>\n",
       "      <th>4</th>\n",
       "      <td>Andy</td>\n",
       "      <td>Z</td>\n",
       "      <td>math</td>\n",
       "      <td>60</td>\n",
       "    </tr>\n",
       "    <tr>\n",
       "      <th>5</th>\n",
       "      <td>Bernie</td>\n",
       "      <td>Y</td>\n",
       "      <td>math</td>\n",
       "      <td>5</td>\n",
       "    </tr>\n",
       "    <tr>\n",
       "      <th>6</th>\n",
       "      <td>Cindy</td>\n",
       "      <td>Z</td>\n",
       "      <td>math</td>\n",
       "      <td>99</td>\n",
       "    </tr>\n",
       "    <tr>\n",
       "      <th>7</th>\n",
       "      <td>Deb</td>\n",
       "      <td>Y</td>\n",
       "      <td>math</td>\n",
       "      <td>4</td>\n",
       "    </tr>\n",
       "    <tr>\n",
       "      <th>8</th>\n",
       "      <td>Andy</td>\n",
       "      <td>Z</td>\n",
       "      <td>physics</td>\n",
       "      <td>80</td>\n",
       "    </tr>\n",
       "    <tr>\n",
       "      <th>9</th>\n",
       "      <td>Bernie</td>\n",
       "      <td>Y</td>\n",
       "      <td>physics</td>\n",
       "      <td>4</td>\n",
       "    </tr>\n",
       "    <tr>\n",
       "      <th>10</th>\n",
       "      <td>Cindy</td>\n",
       "      <td>Z</td>\n",
       "      <td>physics</td>\n",
       "      <td>100</td>\n",
       "    </tr>\n",
       "    <tr>\n",
       "      <th>11</th>\n",
       "      <td>Deb</td>\n",
       "      <td>Y</td>\n",
       "      <td>physics</td>\n",
       "      <td>5</td>\n",
       "    </tr>\n",
       "  </tbody>\n",
       "</table>\n",
       "</div>"
      ],
      "text/plain": [
       "   student school variable  value\n",
       "0     Andy      Z  english     90\n",
       "1   Bernie      Y  english    100\n",
       "2    Cindy      Z  english     60\n",
       "3      Deb      Y  english    150\n",
       "4     Andy      Z     math     60\n",
       "5   Bernie      Y     math      5\n",
       "6    Cindy      Z     math     99\n",
       "7      Deb      Y     math      4\n",
       "8     Andy      Z  physics     80\n",
       "9   Bernie      Y  physics      4\n",
       "10   Cindy      Z  physics    100\n",
       "11     Deb      Y  physics      5"
      ]
     },
     "execution_count": 3,
     "metadata": {},
     "output_type": "execute_result"
    }
   ],
   "source": [
    "# Create a sample data frame\n",
    "data_q2_6 = {\n",
    "    'student': ['Andy', 'Bernie', 'Cindy', 'Deb'],\n",
    "    'school': ['Z', 'Y', 'Z', 'Y'],\n",
    "    'english': [90, 100, 60, 150],\n",
    "    'math': [60, 5, 99, 4],\n",
    "    'physics': [80, 4, 100, 5]\n",
    "}\n",
    "\n",
    "df_q2_6 = pd.DataFrame(data_q2_6)\n",
    "# df_q2_6\n",
    "\n",
    "# Option #1 Using .pivot\n",
    "q2_6_result = df_q2_6.melt(id_vars = [\"student\", \"school\"], value_vars = [\"english\", \"math\", \"physics\"])\n",
    "q2_6_result"
   ]
  },
  {
   "cell_type": "code",
   "execution_count": 7,
   "id": "f6a75aad",
   "metadata": {},
   "outputs": [
    {
     "name": "stdout",
     "output_type": "stream",
     "text": [
      "Collecting word2number\n",
      "  Downloading word2number-1.1.zip (9.7 kB)\n",
      "  Preparing metadata (setup.py) ... \u001b[?25ldone\n",
      "\u001b[?25hBuilding wheels for collected packages: word2number\n",
      "  Building wheel for word2number (setup.py) ... \u001b[?25ldone\n",
      "\u001b[?25h  Created wheel for word2number: filename=word2number-1.1-py3-none-any.whl size=5566 sha256=afa01a60723b62e7730af3088151399c4fdbaf93ac5c4f87aba59469ac5c350e\n",
      "  Stored in directory: /home/jovyan/.cache/pip/wheels/a0/4a/5b/d2f2df5c344ddbecb8bea759872c207ea91d93f57fb54e816e\n",
      "Successfully built word2number\n",
      "Installing collected packages: word2number\n",
      "Successfully installed word2number-1.1\n"
     ]
    }
   ],
   "source": [
    "!pip install word2number"
   ]
  },
  {
   "cell_type": "code",
   "execution_count": 9,
   "id": "22b82c01",
   "metadata": {},
   "outputs": [
    {
     "name": "stdout",
     "output_type": "stream",
     "text": [
      "  StringNumbers  NumericValues\n",
      "0          five              5\n",
      "1           one              1\n",
      "2         three              3\n",
      "3         seven              7\n",
      "4           two              2\n"
     ]
    }
   ],
   "source": [
    "from word2number import w2n\n",
    "\n",
    "# Sample DataFrame with a column of string numbers\n",
    "data = {\n",
    "    'StringNumbers': ['five', 'one', 'three', 'seven', 'two']\n",
    "}\n",
    "\n",
    "df = pd.DataFrame(data)\n",
    "\n",
    "# Apply the word-to-number conversion using the w2n library\n",
    "df['NumericValues'] = df['StringNumbers'].apply(w2n.word_to_num)\n",
    "\n",
    "# Display the result\n",
    "print(df)"
   ]
  },
  {
   "cell_type": "markdown",
   "id": "a49b0a99",
   "metadata": {},
   "source": [
    "## Original Q11 Attempt trying to use melt() and pivot() - led to incorrect results"
   ]
  },
  {
   "cell_type": "code",
   "execution_count": 24,
   "id": "a39b8ab8",
   "metadata": {},
   "outputs": [
    {
     "name": "stdout",
     "output_type": "stream",
     "text": [
      "Original Data Frame:\n",
      "   col1  col2  col3\n",
      "0     5    10    15\n",
      "1     8    12    18\n",
      "\n",
      "Melted Data Frame:\n",
      "  variable  value\n",
      "0     col1      5\n",
      "1     col1      8\n",
      "2     col2     10\n",
      "3     col2     12\n",
      "4     col3     15\n",
      "5     col3     18\n",
      "\n",
      "Pivoted Data Frame:\n",
      "variable  col1  col2  col3\n",
      "0          5.0   NaN   NaN\n",
      "1          8.0   NaN   NaN\n",
      "2          NaN  10.0   NaN\n",
      "3          NaN  12.0   NaN\n",
      "4          NaN   NaN  15.0\n",
      "5          NaN   NaN  18.0\n"
     ]
    }
   ],
   "source": [
    "# Original data frame\n",
    "print(\"Original Data Frame:\")\n",
    "print(df)\n",
    "print()\n",
    "\n",
    "# Using the melt function to reshape the data\n",
    "melted_df = pd.melt(df)\n",
    "# melted_df = pd.melt(df, id_vars=['Date'], var_name='Fruit', value_name='Quantity')\n",
    "\n",
    "# Resulting data frame after melting\n",
    "print(\"Melted Data Frame:\")\n",
    "print(melted_df)\n",
    "print()\n",
    "\n",
    "# Using the pivot function to reshape the data back\n",
    "pivoted_df = melted_df.pivot(columns='variable', values='value')\n",
    "\n",
    "# Resulting data frame after pivoting\n",
    "print(\"Pivoted Data Frame:\")\n",
    "print(pivoted_df)"
   ]
  },
  {
   "cell_type": "code",
   "execution_count": null,
   "id": "821bf6b4",
   "metadata": {},
   "outputs": [],
   "source": []
  }
 ],
 "metadata": {
  "kernelspec": {
   "display_name": "Python 3 (ipykernel)",
   "language": "python",
   "name": "python3"
  },
  "language_info": {
   "codemirror_mode": {
    "name": "ipython",
    "version": 3
   },
   "file_extension": ".py",
   "mimetype": "text/x-python",
   "name": "python",
   "nbconvert_exporter": "python",
   "pygments_lexer": "ipython3",
   "version": "3.11.0"
  }
 },
 "nbformat": 4,
 "nbformat_minor": 5
}
