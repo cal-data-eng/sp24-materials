{
 "cells": [
  {
   "cell_type": "markdown",
   "id": "5f0e3ab0-616f-4b24-a355-9896d3014d7d",
   "metadata": {},
   "source": [
    "# Discussion 09 Notebook\n",
    "\n",
    "This notebook is an accompaniment to the associated discussion worksheet handout."
   ]
  },
  {
   "cell_type": "markdown",
   "id": "f2f3e6b0-dee8-4484-97bb-c2563fa77a92",
   "metadata": {},
   "source": [
    "# Section II: Entity Resolution"
   ]
  },
  {
   "cell_type": "markdown",
   "id": "f0e8a2a2-3c64-4ec0-997b-417bade541dd",
   "metadata": {},
   "source": [
    "## Database Setup"
   ]
  },
  {
   "cell_type": "code",
   "execution_count": null,
   "id": "1d7ff9cb-0822-4247-92ed-dd3745f2ed03",
   "metadata": {},
   "outputs": [],
   "source": [
    "!psql -h localhost -c 'DROP DATABASE IF EXISTS disc09'\n",
    "!psql -h localhost -c 'CREATE DATABASE disc09'\n",
    "\n",
    "%reload_ext sql\n",
    "%sql postgresql://127.0.0.1:5432/disc09"
   ]
  },
  {
   "cell_type": "code",
   "execution_count": null,
   "id": "57fd6aa1-48a7-41b3-ba54-425d6d7d1969",
   "metadata": {},
   "outputs": [],
   "source": [
    "!psql postgresql://127.0.0.1:5432/disc09 <disc09.sql"
   ]
  },
  {
   "cell_type": "markdown",
   "id": "ef3542f7-54f8-456f-ab8f-b09618ab3568",
   "metadata": {},
   "source": [
    "## Initial Exploration\n",
    "\n",
    "Let us first take a look at the content of the database."
   ]
  },
  {
   "cell_type": "code",
   "execution_count": null,
   "id": "8b94e810-2e2a-4c5c-9ffa-3e04af136ec9",
   "metadata": {},
   "outputs": [],
   "source": [
    "%sql SELECT * FROM albums;"
   ]
  },
  {
   "cell_type": "code",
   "execution_count": null,
   "id": "2a9c6576-3e37-48a4-907d-41c5c3239557",
   "metadata": {},
   "outputs": [],
   "source": [
    "%sql SELECT * FROM sales;"
   ]
  },
  {
   "cell_type": "markdown",
   "id": "82600402-92bb-4546-89c5-f66f8c34c73d",
   "metadata": {},
   "source": [
    "There is one significant barrier to performing data analysis: joins. Although we have cleaned data locally, within each table, we have not cleaned up the connections between these tables such as the strings we may want to join on.\n",
    "\n",
    "In our dataset, we'll notice that simply joining on equality of names will result in missing data.\n",
    "\n",
    "### 1. Let's try it out: write a query to join the tables using strict equality"
   ]
  },
  {
   "cell_type": "code",
   "execution_count": null,
   "id": "0359fd43-2c75-4be3-8892-0a7908ee1fdb",
   "metadata": {},
   "outputs": [],
   "source": [
    "%%sql\n",
    "-- your code here"
   ]
  },
  {
   "cell_type": "markdown",
   "id": "c4f41052-dc1f-4917-b752-d11ea4830fee",
   "metadata": {},
   "source": [
    "We see that we are missing a lot of data, which could cause trouble in computations later on."
   ]
  },
  {
   "cell_type": "markdown",
   "id": "822063af-e238-4147-ac24-f83cc5dab586",
   "metadata": {},
   "source": [
    "## Distance Functions on Strings\n",
    "The Levenshtein distance function can be helpful to find strings that are _similar_ but not identical. This algorithm computes the minimal number of insertions, deletions, and mutations. We can apply this to our dataset.\n",
    "\n",
    "### 2. First, let's compute the Levenshtein distance between every pair of names in the two tables, sorted by this distance."
   ]
  },
  {
   "cell_type": "code",
   "execution_count": null,
   "id": "45933004-bf6e-451d-8d17-1e30676de060",
   "metadata": {},
   "outputs": [],
   "source": [
    "%%sql\n",
    "-- your code here"
   ]
  },
  {
   "cell_type": "markdown",
   "id": "743b1b6c-e0cd-499e-80d0-52ed994a2ff5",
   "metadata": {},
   "source": [
    "You'll notice that it's a very close boundary between the strings we want to match and those we don't. In reality, a clustering-based approach would be better suited for this scenario, but let's keep going with distance since that's a lot easier to implement.\n",
    "\n",
    "We can use `< 10` as our threshold for matching strings.\n",
    "\n",
    "### 3. Create a materialized view `joined_sales` that joins the tables using Levenshtein distance\n",
    "\n",
    "Make sure to have the following columns in the view:\n",
    "- `name`: name of the album\n",
    "- `artist`: name of the artist\n",
    "- `day`: day of sales\n",
    "- `count`: number of sale"
   ]
  },
  {
   "cell_type": "code",
   "execution_count": null,
   "id": "9263de53-958e-4fcd-a92f-22a538aa9769",
   "metadata": {},
   "outputs": [],
   "source": [
    "%%sql\n",
    "-- your code here"
   ]
  },
  {
   "cell_type": "markdown",
   "id": "b483d753-873d-4693-b956-863fb54b3fcc",
   "metadata": {},
   "source": [
    "# Section III: Data Granularity"
   ]
  },
  {
   "cell_type": "markdown",
   "id": "d0f32a0e-bbd3-4c46-9a6b-8afb7027f2ed",
   "metadata": {},
   "source": [
    "## Initial Exploration"
   ]
  },
  {
   "cell_type": "code",
   "execution_count": 6,
   "id": "1eba1117-1bed-4fa9-9062-6ca16f6ca34a",
   "metadata": {},
   "outputs": [
    {
     "data": {
      "text/html": [
       "<span style=\"None\">Running query in &#x27;postgresql://127.0.0.1:5432/disc07&#x27;</span>"
      ],
      "text/plain": [
       "Running query in 'postgresql://127.0.0.1:5432/disc07'"
      ]
     },
     "metadata": {},
     "output_type": "display_data"
    },
    {
     "data": {
      "text/html": [
       "<span style=\"color: green\">5 rows affected.</span>"
      ],
      "text/plain": [
       "5 rows affected."
      ]
     },
     "metadata": {},
     "output_type": "display_data"
    },
    {
     "data": {
      "text/html": [
       "<table>\n",
       "    <thead>\n",
       "        <tr>\n",
       "            <th>tax_id</th>\n",
       "            <th>parent</th>\n",
       "            <th>rank</th>\n",
       "        </tr>\n",
       "    </thead>\n",
       "    <tbody>\n",
       "        <tr>\n",
       "            <td>1</td>\n",
       "            <td>1</td>\n",
       "            <td>no rank</td>\n",
       "        </tr>\n",
       "        <tr>\n",
       "            <td>2</td>\n",
       "            <td>131567</td>\n",
       "            <td>superkingdom</td>\n",
       "        </tr>\n",
       "        <tr>\n",
       "            <td>6</td>\n",
       "            <td>335928</td>\n",
       "            <td>genus</td>\n",
       "        </tr>\n",
       "        <tr>\n",
       "            <td>7</td>\n",
       "            <td>6</td>\n",
       "            <td>species</td>\n",
       "        </tr>\n",
       "        <tr>\n",
       "            <td>9</td>\n",
       "            <td>32199</td>\n",
       "            <td>species</td>\n",
       "        </tr>\n",
       "    </tbody>\n",
       "</table>"
      ],
      "text/plain": [
       "+--------+--------+--------------+\n",
       "| tax_id | parent |     rank     |\n",
       "+--------+--------+--------------+\n",
       "|   1    |   1    |   no rank    |\n",
       "|   2    | 131567 | superkingdom |\n",
       "|   6    | 335928 |    genus     |\n",
       "|   7    |   6    |   species    |\n",
       "|   9    | 32199  |   species    |\n",
       "+--------+--------+--------------+"
      ]
     },
     "execution_count": 6,
     "metadata": {},
     "output_type": "execute_result"
    }
   ],
   "source": [
    "%sql SELECT * FROM nodes ORDER BY tax_id LIMIT 5;"
   ]
  },
  {
   "cell_type": "code",
   "execution_count": 7,
   "id": "98701c63-d7af-472f-88c9-de61474e77f4",
   "metadata": {},
   "outputs": [
    {
     "data": {
      "text/html": [
       "<span style=\"None\">Running query in &#x27;postgresql://127.0.0.1:5432/disc07&#x27;</span>"
      ],
      "text/plain": [
       "Running query in 'postgresql://127.0.0.1:5432/disc07'"
      ]
     },
     "metadata": {},
     "output_type": "display_data"
    },
    {
     "data": {
      "text/html": [
       "<span style=\"color: green\">5 rows affected.</span>"
      ],
      "text/plain": [
       "5 rows affected."
      ]
     },
     "metadata": {},
     "output_type": "display_data"
    },
    {
     "data": {
      "text/html": [
       "<table>\n",
       "    <thead>\n",
       "        <tr>\n",
       "            <th>tax_id</th>\n",
       "            <th>name_txt</th>\n",
       "        </tr>\n",
       "    </thead>\n",
       "    <tbody>\n",
       "        <tr>\n",
       "            <td>1</td>\n",
       "            <td>all</td>\n",
       "        </tr>\n",
       "        <tr>\n",
       "            <td>1</td>\n",
       "            <td>root</td>\n",
       "        </tr>\n",
       "        <tr>\n",
       "            <td>2</td>\n",
       "            <td>Bacteria</td>\n",
       "        </tr>\n",
       "        <tr>\n",
       "            <td>2</td>\n",
       "            <td>bacteria</td>\n",
       "        </tr>\n",
       "        <tr>\n",
       "            <td>2</td>\n",
       "            <td>eubacteria</td>\n",
       "        </tr>\n",
       "    </tbody>\n",
       "</table>"
      ],
      "text/plain": [
       "+--------+------------+\n",
       "| tax_id |  name_txt  |\n",
       "+--------+------------+\n",
       "|   1    |    all     |\n",
       "|   1    |    root    |\n",
       "|   2    |  Bacteria  |\n",
       "|   2    |  bacteria  |\n",
       "|   2    | eubacteria |\n",
       "+--------+------------+"
      ]
     },
     "execution_count": 7,
     "metadata": {},
     "output_type": "execute_result"
    }
   ],
   "source": [
    "%sql SELECT * FROM names ORDER BY tax_id LIMIT 5;"
   ]
  },
  {
   "cell_type": "markdown",
   "id": "bdc24096-82ee-498e-9f9d-37f3693310ed",
   "metadata": {},
   "source": [
    "### 1. Write a SQL query to find the node representing the Animalia kingdom."
   ]
  },
  {
   "cell_type": "code",
   "execution_count": null,
   "id": "38f23678-af09-4bd5-a058-52aa0de901cf",
   "metadata": {},
   "outputs": [],
   "source": [
    "%%sql\n",
    "-- your code here"
   ]
  },
  {
   "cell_type": "markdown",
   "id": "fbde7cdc-13a0-4d6c-acab-7fe35db8c6dd",
   "metadata": {},
   "source": [
    "### 2. Let us drill down into the Animalia kingdom. First, find all children nodes of the Animalia kingdom."
   ]
  },
  {
   "cell_type": "code",
   "execution_count": null,
   "id": "7d9b7ade-4a9c-416b-84b0-c6b61f1ac239",
   "metadata": {},
   "outputs": [],
   "source": [
    "%%sql\n",
    "-- your code here"
   ]
  },
  {
   "cell_type": "markdown",
   "id": "78bfd4f7-1ea0-46fa-8a4b-eb459f8bf614",
   "metadata": {},
   "source": [
    "### 3. Next, find the names of these nodes, along with the names of their parents."
   ]
  },
  {
   "cell_type": "code",
   "execution_count": null,
   "id": "920dd493-208d-4f4b-9bb4-1c4e4b77815e",
   "metadata": {},
   "outputs": [],
   "source": [
    "%%sql\n",
    "-- your code here"
   ]
  },
  {
   "cell_type": "code",
   "execution_count": 21,
   "id": "15636f60-e9d6-42cf-abb8-6b2c73a3618c",
   "metadata": {},
   "outputs": [
    {
     "data": {
      "text/html": [
       "<span style=\"None\">Running query in &#x27;postgresql://127.0.0.1:5432/disc07&#x27;</span>"
      ],
      "text/plain": [
       "Running query in 'postgresql://127.0.0.1:5432/disc07'"
      ]
     },
     "metadata": {},
     "output_type": "display_data"
    },
    {
     "data": {
      "text/html": [
       "<span style=\"color: green\">10 rows affected.</span>"
      ],
      "text/plain": [
       "10 rows affected."
      ]
     },
     "metadata": {},
     "output_type": "display_data"
    },
    {
     "data": {
      "text/html": [
       "<table>\n",
       "    <thead>\n",
       "        <tr>\n",
       "            <th>tax_id</th>\n",
       "            <th>name_txt</th>\n",
       "        </tr>\n",
       "    </thead>\n",
       "    <tbody>\n",
       "        <tr>\n",
       "            <td>1</td>\n",
       "            <td>all</td>\n",
       "        </tr>\n",
       "        <tr>\n",
       "            <td>1</td>\n",
       "            <td>root</td>\n",
       "        </tr>\n",
       "        <tr>\n",
       "            <td>2</td>\n",
       "            <td>Bacteria</td>\n",
       "        </tr>\n",
       "        <tr>\n",
       "            <td>2</td>\n",
       "            <td>bacteria</td>\n",
       "        </tr>\n",
       "        <tr>\n",
       "            <td>2</td>\n",
       "            <td>eubacteria</td>\n",
       "        </tr>\n",
       "        <tr>\n",
       "            <td>2</td>\n",
       "            <td>Monera</td>\n",
       "        </tr>\n",
       "        <tr>\n",
       "            <td>2</td>\n",
       "            <td>Procaryotae</td>\n",
       "        </tr>\n",
       "        <tr>\n",
       "            <td>2</td>\n",
       "            <td>Prokaryotae</td>\n",
       "        </tr>\n",
       "        <tr>\n",
       "            <td>2</td>\n",
       "            <td>Prokaryota</td>\n",
       "        </tr>\n",
       "        <tr>\n",
       "            <td>2</td>\n",
       "            <td>prokaryote</td>\n",
       "        </tr>\n",
       "    </tbody>\n",
       "</table>\n",
       "<span style=\"font-style:italic;text-align:center;\">Truncated to <a href=\"https://jupysql.ploomber.io/en/latest/api/configuration.html#displaylimit\">displaylimit</a> of 10.</span>"
      ],
      "text/plain": [
       "+--------+-------------+\n",
       "| tax_id |   name_txt  |\n",
       "+--------+-------------+\n",
       "|   1    |     all     |\n",
       "|   1    |     root    |\n",
       "|   2    |   Bacteria  |\n",
       "|   2    |   bacteria  |\n",
       "|   2    |  eubacteria |\n",
       "|   2    |    Monera   |\n",
       "|   2    | Procaryotae |\n",
       "|   2    | Prokaryotae |\n",
       "|   2    |  Prokaryota |\n",
       "|   2    |  prokaryote |\n",
       "+--------+-------------+\n",
       "Truncated to displaylimit of 10."
      ]
     },
     "execution_count": 21,
     "metadata": {},
     "output_type": "execute_result"
    }
   ],
   "source": [
    "%%sql\n",
    "SELECT nodes.tax_id, name_txt\n",
    "FROM nodes, names\n",
    "WHERE nodes.tax_id = names.tax_id\n",
    "LIMIT 10;"
   ]
  },
  {
   "cell_type": "code",
   "execution_count": 12,
   "id": "4aaf19f8-4d9b-4bd0-bd0d-901d3ee7eb6d",
   "metadata": {},
   "outputs": [
    {
     "data": {
      "text/html": [
       "<span style=\"None\">Running query in &#x27;postgresql://127.0.0.1:5432/disc07&#x27;</span>"
      ],
      "text/plain": [
       "Running query in 'postgresql://127.0.0.1:5432/disc07'"
      ]
     },
     "metadata": {},
     "output_type": "display_data"
    },
    {
     "data": {
      "text/html": [
       "<span style=\"color: green\">2 rows affected.</span>"
      ],
      "text/plain": [
       "2 rows affected."
      ]
     },
     "metadata": {},
     "output_type": "display_data"
    },
    {
     "data": {
      "text/html": [
       "<table>\n",
       "    <thead>\n",
       "        <tr>\n",
       "            <th>pid</th>\n",
       "            <th>prank</th>\n",
       "            <th>json_agg</th>\n",
       "            <th>array_agg</th>\n",
       "            <th>cid</th>\n",
       "            <th>crank</th>\n",
       "            <th>json_agg_1</th>\n",
       "        </tr>\n",
       "    </thead>\n",
       "    <tbody>\n",
       "        <tr>\n",
       "            <td>33208</td>\n",
       "            <td>kingdom</td>\n",
       "            <td>['Animalia', 'animals', 'metazoans', 'Metazoa', 'multicellular animals', 'Animalia', 'animals', 'metazoans', 'Metazoa', 'multicellular animals', 'Animalia', 'animals', 'metazoans', 'Metazoa', 'multicellular animals', 'Animalia', 'animals', 'metazoans', 'Metazoa', 'multicellular animals']</td>\n",
       "            <td>['Animalia', 'animals', 'metazoans', 'Metazoa', 'multicellular animals', 'Animalia', 'animals', 'metazoans', 'Metazoa', 'multicellular animals', 'Animalia', 'animals', 'metazoans', 'Metazoa', 'multicellular animals', 'Animalia', 'animals', 'metazoans', 'Metazoa', 'multicellular animals']</td>\n",
       "            <td>6040</td>\n",
       "            <td>phylum</td>\n",
       "            <td>['Parazoa', 'Parazoa', 'Parazoa', 'Parazoa', 'Parazoa', 'Porifera', 'Porifera', 'Porifera', 'Porifera', 'Porifera', 'sponges', 'sponges', 'sponges', 'sponges', 'sponges', 'sponges', 'sponges', 'sponges', 'sponges', 'sponges']</td>\n",
       "        </tr>\n",
       "        <tr>\n",
       "            <td>33208</td>\n",
       "            <td>kingdom</td>\n",
       "            <td>['Animalia', 'animals', 'metazoans', 'Metazoa', 'multicellular animals']</td>\n",
       "            <td>['Animalia', 'animals', 'metazoans', 'Metazoa', 'multicellular animals']</td>\n",
       "            <td>6072</td>\n",
       "            <td>clade</td>\n",
       "            <td>['Eumetazoa', 'Eumetazoa', 'Eumetazoa', 'Eumetazoa', 'Eumetazoa']</td>\n",
       "        </tr>\n",
       "    </tbody>\n",
       "</table>"
      ],
      "text/plain": [
       "+-------+---------+--------------------------------------------------------------------------------------------------------------------------------------------------------------------------------------------------------------------------------------------------------------------------------------------------+--------------------------------------------------------------------------------------------------------------------------------------------------------------------------------------------------------------------------------------------------------------------------------------------------+------+--------+-----------------------------------------------------------------------------------------------------------------------------------------------------------------------------------------------------------------------------------+\n",
       "|  pid  |  prank  |                                                                                                                                             json_agg                                                                                                                                             |                                                                                                                                            array_agg                                                                                                                                             | cid  | crank  |                                                                                                             json_agg_1                                                                                                            |\n",
       "+-------+---------+--------------------------------------------------------------------------------------------------------------------------------------------------------------------------------------------------------------------------------------------------------------------------------------------------+--------------------------------------------------------------------------------------------------------------------------------------------------------------------------------------------------------------------------------------------------------------------------------------------------+------+--------+-----------------------------------------------------------------------------------------------------------------------------------------------------------------------------------------------------------------------------------+\n",
       "| 33208 | kingdom | ['Animalia', 'animals', 'metazoans', 'Metazoa', 'multicellular animals', 'Animalia', 'animals', 'metazoans', 'Metazoa', 'multicellular animals', 'Animalia', 'animals', 'metazoans', 'Metazoa', 'multicellular animals', 'Animalia', 'animals', 'metazoans', 'Metazoa', 'multicellular animals'] | ['Animalia', 'animals', 'metazoans', 'Metazoa', 'multicellular animals', 'Animalia', 'animals', 'metazoans', 'Metazoa', 'multicellular animals', 'Animalia', 'animals', 'metazoans', 'Metazoa', 'multicellular animals', 'Animalia', 'animals', 'metazoans', 'Metazoa', 'multicellular animals'] | 6040 | phylum | ['Parazoa', 'Parazoa', 'Parazoa', 'Parazoa', 'Parazoa', 'Porifera', 'Porifera', 'Porifera', 'Porifera', 'Porifera', 'sponges', 'sponges', 'sponges', 'sponges', 'sponges', 'sponges', 'sponges', 'sponges', 'sponges', 'sponges'] |\n",
       "| 33208 | kingdom |                                                                                                             ['Animalia', 'animals', 'metazoans', 'Metazoa', 'multicellular animals']                                                                                                             |                                                                                                             ['Animalia', 'animals', 'metazoans', 'Metazoa', 'multicellular animals']                                                                                                             | 6072 | clade  |                                                                                 ['Eumetazoa', 'Eumetazoa', 'Eumetazoa', 'Eumetazoa', 'Eumetazoa']                                                                                 |\n",
       "+-------+---------+--------------------------------------------------------------------------------------------------------------------------------------------------------------------------------------------------------------------------------------------------------------------------------------------------+--------------------------------------------------------------------------------------------------------------------------------------------------------------------------------------------------------------------------------------------------------------------------------------------------+------+--------+-----------------------------------------------------------------------------------------------------------------------------------------------------------------------------------------------------------------------------------+"
      ]
     },
     "execution_count": 12,
     "metadata": {},
     "output_type": "execute_result"
    }
   ],
   "source": [
    "%%sql\n",
    "WITH edges AS (\n",
    "SELECT parent.tax_id AS pid, parent.rank as prank,\n",
    "child.tax_id AS cid, child.rank as crank\n",
    "FROM nodes parent, nodes child\n",
    "WHERE child.parent = parent.tax_id\n",
    ")\n",
    "SELECT pid, edges.prank, json_agg(parent.name_txt),\n",
    "       array_agg(parent.name_txt), cid, edges.crank,\n",
    "json_agg(child.name_txt)\n",
    "FROM names parent, names child, edges\n",
    "WHERE parent.tax_id = edges.pid\n",
    "AND child.tax_id = edges.cid\n",
    "AND parent.tax_id = 33208\n",
    "GROUP BY pid, edges.prank, cid, edges.crank;"
   ]
  },
  {
   "cell_type": "markdown",
   "id": "30025ef1-babc-4acd-a47c-98c50380c0e6",
   "metadata": {},
   "source": [
    "### 4. You will find there are many synonym names for the same phylum with the same tax_id. Aggregate them up by grouping by tax_id."
   ]
  },
  {
   "cell_type": "code",
   "execution_count": null,
   "id": "8baded99-6344-402c-9e78-06def9a84dea",
   "metadata": {},
   "outputs": [],
   "source": [
    "%%sql\n",
    "-- your code here"
   ]
  },
  {
   "cell_type": "markdown",
   "id": "2860ff6f-e51c-4df8-9768-b8c5696c7238",
   "metadata": {},
   "source": [
    "### 5. Challenge: How can we drill down one more layer? What if we want to get the names of all the classes under the Animalia kingdom?"
   ]
  },
  {
   "cell_type": "code",
   "execution_count": null,
   "id": "f57d6536-f6fa-4a15-8337-856f5930e71f",
   "metadata": {},
   "outputs": [],
   "source": [
    "%%sql\n",
    "-- your code here"
   ]
  }
 ],
 "metadata": {
  "kernelspec": {
   "display_name": "Python 3 (ipykernel)",
   "language": "python",
   "name": "python3"
  },
  "language_info": {
   "codemirror_mode": {
    "name": "ipython",
    "version": 3
   },
   "file_extension": ".py",
   "mimetype": "text/x-python",
   "name": "python",
   "nbconvert_exporter": "python",
   "pygments_lexer": "ipython3",
   "version": "3.11.0"
  }
 },
 "nbformat": 4,
 "nbformat_minor": 5
}
